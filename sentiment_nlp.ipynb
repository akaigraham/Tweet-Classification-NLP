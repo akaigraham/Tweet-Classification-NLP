{
 "cells": [
  {
   "cell_type": "markdown",
   "metadata": {},
   "source": [
    "# Tweet Sentiment Classification (Module 4 Project - Kai Graham)"
   ]
  },
  {
   "cell_type": "markdown",
   "metadata": {},
   "source": [
    "## Overview of Process - CRISP-DM\n",
    "I will be following the Cross-Industry Standard Process for Data Mining (CRISP-DM), with the following iterative steps.\n",
    "1. Business Understanding\n",
    "2. Data Understanding\n",
    "3. Data Preparation\n",
    "4. Modeling\n",
    "5. Evaluation\n",
    "6. Deployment"
   ]
  },
  {
   "cell_type": "markdown",
   "metadata": {},
   "source": [
    "## 1. Business Understanding\n",
    "I will be building a classifier to sort tweets based on sentiment (positive vs. negative vs. neutral).\n",
    "\n",
    "[...] Further information needed about stakeholders, etc. "
   ]
  },
  {
   "cell_type": "markdown",
   "metadata": {},
   "source": [
    "## 2. Data Understanding\n",
    "The dataset used within this process comes from [...], obtained from [...]\n",
    "\n",
    "This section will focus on importing and exploring the data available to us as we begin to think about modeling and text processing."
   ]
  },
  {
   "cell_type": "code",
   "execution_count": 1,
   "metadata": {},
   "outputs": [],
   "source": [
    "# import necessary libraries\n",
    "import pandas as pd\n",
    "import numpy as np\n",
    "import matplotlib.pyplot as plt"
   ]
  },
  {
   "cell_type": "code",
   "execution_count": 2,
   "metadata": {},
   "outputs": [],
   "source": [
    "# set random seed\n",
    "np.random.seed(23)"
   ]
  },
  {
   "cell_type": "code",
   "execution_count": 3,
   "metadata": {},
   "outputs": [
    {
     "data": {
      "text/html": [
       "<div>\n",
       "<style scoped>\n",
       "    .dataframe tbody tr th:only-of-type {\n",
       "        vertical-align: middle;\n",
       "    }\n",
       "\n",
       "    .dataframe tbody tr th {\n",
       "        vertical-align: top;\n",
       "    }\n",
       "\n",
       "    .dataframe thead th {\n",
       "        text-align: right;\n",
       "    }\n",
       "</style>\n",
       "<table border=\"1\" class=\"dataframe\">\n",
       "  <thead>\n",
       "    <tr style=\"text-align: right;\">\n",
       "      <th></th>\n",
       "      <th>tweet_text</th>\n",
       "      <th>emotion_in_tweet_is_directed_at</th>\n",
       "      <th>is_there_an_emotion_directed_at_a_brand_or_product</th>\n",
       "    </tr>\n",
       "  </thead>\n",
       "  <tbody>\n",
       "    <tr>\n",
       "      <th>0</th>\n",
       "      <td>.@wesley83 I have a 3G iPhone. After 3 hrs twe...</td>\n",
       "      <td>iPhone</td>\n",
       "      <td>Negative emotion</td>\n",
       "    </tr>\n",
       "    <tr>\n",
       "      <th>1</th>\n",
       "      <td>@jessedee Know about @fludapp ? Awesome iPad/i...</td>\n",
       "      <td>iPad or iPhone App</td>\n",
       "      <td>Positive emotion</td>\n",
       "    </tr>\n",
       "    <tr>\n",
       "      <th>2</th>\n",
       "      <td>@swonderlin Can not wait for #iPad 2 also. The...</td>\n",
       "      <td>iPad</td>\n",
       "      <td>Positive emotion</td>\n",
       "    </tr>\n",
       "    <tr>\n",
       "      <th>3</th>\n",
       "      <td>@sxsw I hope this year's festival isn't as cra...</td>\n",
       "      <td>iPad or iPhone App</td>\n",
       "      <td>Negative emotion</td>\n",
       "    </tr>\n",
       "    <tr>\n",
       "      <th>4</th>\n",
       "      <td>@sxtxstate great stuff on Fri #SXSW: Marissa M...</td>\n",
       "      <td>Google</td>\n",
       "      <td>Positive emotion</td>\n",
       "    </tr>\n",
       "  </tbody>\n",
       "</table>\n",
       "</div>"
      ],
      "text/plain": [
       "                                          tweet_text  \\\n",
       "0  .@wesley83 I have a 3G iPhone. After 3 hrs twe...   \n",
       "1  @jessedee Know about @fludapp ? Awesome iPad/i...   \n",
       "2  @swonderlin Can not wait for #iPad 2 also. The...   \n",
       "3  @sxsw I hope this year's festival isn't as cra...   \n",
       "4  @sxtxstate great stuff on Fri #SXSW: Marissa M...   \n",
       "\n",
       "  emotion_in_tweet_is_directed_at  \\\n",
       "0                          iPhone   \n",
       "1              iPad or iPhone App   \n",
       "2                            iPad   \n",
       "3              iPad or iPhone App   \n",
       "4                          Google   \n",
       "\n",
       "  is_there_an_emotion_directed_at_a_brand_or_product  \n",
       "0                                   Negative emotion  \n",
       "1                                   Positive emotion  \n",
       "2                                   Positive emotion  \n",
       "3                                   Negative emotion  \n",
       "4                                   Positive emotion  "
      ]
     },
     "execution_count": 3,
     "metadata": {},
     "output_type": "execute_result"
    }
   ],
   "source": [
    "# load dataset and begin exploring\n",
    "df = pd.read_csv('judge-1377884607_tweet_product_company.csv', encoding='latin_1')\n",
    "df.head()"
   ]
  },
  {
   "cell_type": "code",
   "execution_count": 4,
   "metadata": {},
   "outputs": [
    {
     "name": "stdout",
     "output_type": "stream",
     "text": [
      "<class 'pandas.core.frame.DataFrame'>\n",
      "RangeIndex: 9093 entries, 0 to 9092\n",
      "Data columns (total 3 columns):\n",
      " #   Column                                              Non-Null Count  Dtype \n",
      "---  ------                                              --------------  ----- \n",
      " 0   tweet_text                                          9092 non-null   object\n",
      " 1   emotion_in_tweet_is_directed_at                     3291 non-null   object\n",
      " 2   is_there_an_emotion_directed_at_a_brand_or_product  9093 non-null   object\n",
      "dtypes: object(3)\n",
      "memory usage: 213.2+ KB\n"
     ]
    }
   ],
   "source": [
    "# more information about dataset\n",
    "df.info()"
   ]
  },
  {
   "cell_type": "markdown",
   "metadata": {},
   "source": [
    "Our dataset contains 9,093 total rows and three columns, one containing the tweet text, one containing a product / company sentiment is directed at, and the third is the sentiment."
   ]
  },
  {
   "cell_type": "code",
   "execution_count": 5,
   "metadata": {},
   "outputs": [
    {
     "data": {
      "text/html": [
       "<div>\n",
       "<style scoped>\n",
       "    .dataframe tbody tr th:only-of-type {\n",
       "        vertical-align: middle;\n",
       "    }\n",
       "\n",
       "    .dataframe tbody tr th {\n",
       "        vertical-align: top;\n",
       "    }\n",
       "\n",
       "    .dataframe thead th {\n",
       "        text-align: right;\n",
       "    }\n",
       "</style>\n",
       "<table border=\"1\" class=\"dataframe\">\n",
       "  <thead>\n",
       "    <tr style=\"text-align: right;\">\n",
       "      <th></th>\n",
       "      <th>text</th>\n",
       "      <th>product</th>\n",
       "      <th>sentiment</th>\n",
       "    </tr>\n",
       "  </thead>\n",
       "  <tbody>\n",
       "    <tr>\n",
       "      <th>0</th>\n",
       "      <td>.@wesley83 I have a 3G iPhone. After 3 hrs twe...</td>\n",
       "      <td>iPhone</td>\n",
       "      <td>Negative emotion</td>\n",
       "    </tr>\n",
       "    <tr>\n",
       "      <th>1</th>\n",
       "      <td>@jessedee Know about @fludapp ? Awesome iPad/i...</td>\n",
       "      <td>iPad or iPhone App</td>\n",
       "      <td>Positive emotion</td>\n",
       "    </tr>\n",
       "    <tr>\n",
       "      <th>2</th>\n",
       "      <td>@swonderlin Can not wait for #iPad 2 also. The...</td>\n",
       "      <td>iPad</td>\n",
       "      <td>Positive emotion</td>\n",
       "    </tr>\n",
       "    <tr>\n",
       "      <th>3</th>\n",
       "      <td>@sxsw I hope this year's festival isn't as cra...</td>\n",
       "      <td>iPad or iPhone App</td>\n",
       "      <td>Negative emotion</td>\n",
       "    </tr>\n",
       "    <tr>\n",
       "      <th>4</th>\n",
       "      <td>@sxtxstate great stuff on Fri #SXSW: Marissa M...</td>\n",
       "      <td>Google</td>\n",
       "      <td>Positive emotion</td>\n",
       "    </tr>\n",
       "  </tbody>\n",
       "</table>\n",
       "</div>"
      ],
      "text/plain": [
       "                                                text             product  \\\n",
       "0  .@wesley83 I have a 3G iPhone. After 3 hrs twe...              iPhone   \n",
       "1  @jessedee Know about @fludapp ? Awesome iPad/i...  iPad or iPhone App   \n",
       "2  @swonderlin Can not wait for #iPad 2 also. The...                iPad   \n",
       "3  @sxsw I hope this year's festival isn't as cra...  iPad or iPhone App   \n",
       "4  @sxtxstate great stuff on Fri #SXSW: Marissa M...              Google   \n",
       "\n",
       "          sentiment  \n",
       "0  Negative emotion  \n",
       "1  Positive emotion  \n",
       "2  Positive emotion  \n",
       "3  Negative emotion  \n",
       "4  Positive emotion  "
      ]
     },
     "execution_count": 5,
     "metadata": {},
     "output_type": "execute_result"
    }
   ],
   "source": [
    "# rename columns so they are easier to work with \n",
    "df.columns = ['text', 'product', 'sentiment']\n",
    "df.head()"
   ]
  },
  {
   "cell_type": "code",
   "execution_count": 6,
   "metadata": {},
   "outputs": [
    {
     "data": {
      "text/plain": [
       "text            1\n",
       "product      5802\n",
       "sentiment       0\n",
       "dtype: int64"
      ]
     },
     "execution_count": 6,
     "metadata": {},
     "output_type": "execute_result"
    }
   ],
   "source": [
    "# check for missing values\n",
    "df.isna().sum()"
   ]
  },
  {
   "cell_type": "markdown",
   "metadata": {},
   "source": [
    "While there only appears to be one missing value within the text column, there is a large number of missing values within the product column.  Start by handling the text column"
   ]
  },
  {
   "cell_type": "code",
   "execution_count": 7,
   "metadata": {},
   "outputs": [
    {
     "data": {
      "text/html": [
       "<div>\n",
       "<style scoped>\n",
       "    .dataframe tbody tr th:only-of-type {\n",
       "        vertical-align: middle;\n",
       "    }\n",
       "\n",
       "    .dataframe tbody tr th {\n",
       "        vertical-align: top;\n",
       "    }\n",
       "\n",
       "    .dataframe thead th {\n",
       "        text-align: right;\n",
       "    }\n",
       "</style>\n",
       "<table border=\"1\" class=\"dataframe\">\n",
       "  <thead>\n",
       "    <tr style=\"text-align: right;\">\n",
       "      <th></th>\n",
       "      <th>text</th>\n",
       "      <th>product</th>\n",
       "      <th>sentiment</th>\n",
       "    </tr>\n",
       "  </thead>\n",
       "  <tbody>\n",
       "    <tr>\n",
       "      <th>6</th>\n",
       "      <td>NaN</td>\n",
       "      <td>NaN</td>\n",
       "      <td>No emotion toward brand or product</td>\n",
       "    </tr>\n",
       "  </tbody>\n",
       "</table>\n",
       "</div>"
      ],
      "text/plain": [
       "  text product                           sentiment\n",
       "6  NaN     NaN  No emotion toward brand or product"
      ]
     },
     "execution_count": 7,
     "metadata": {},
     "output_type": "execute_result"
    }
   ],
   "source": [
    "# display missing entry\n",
    "df.loc[df['text'].isna()]"
   ]
  },
  {
   "cell_type": "code",
   "execution_count": 8,
   "metadata": {},
   "outputs": [
    {
     "name": "stdout",
     "output_type": "stream",
     "text": [
      "<class 'pandas.core.frame.DataFrame'>\n",
      "Int64Index: 9092 entries, 0 to 9092\n",
      "Data columns (total 3 columns):\n",
      " #   Column     Non-Null Count  Dtype \n",
      "---  ------     --------------  ----- \n",
      " 0   text       9092 non-null   object\n",
      " 1   product    3291 non-null   object\n",
      " 2   sentiment  9092 non-null   object\n",
      "dtypes: object(3)\n",
      "memory usage: 284.1+ KB\n"
     ]
    }
   ],
   "source": [
    "# drop as text is missing\n",
    "clean_df = df.dropna(subset=['text'])\n",
    "clean_df.info()"
   ]
  },
  {
   "cell_type": "code",
   "execution_count": 9,
   "metadata": {},
   "outputs": [],
   "source": [
    "# there appear to be quite a bit of missing product entries - examine further\n",
    "missing_products = df.loc[df['product'].isna()]"
   ]
  },
  {
   "cell_type": "code",
   "execution_count": 10,
   "metadata": {},
   "outputs": [
    {
     "data": {
      "text/plain": [
       "No emotion toward brand or product    5298\n",
       "Positive emotion                       306\n",
       "I can't tell                           147\n",
       "Negative emotion                        51\n",
       "Name: sentiment, dtype: int64"
      ]
     },
     "execution_count": 10,
     "metadata": {},
     "output_type": "execute_result"
    }
   ],
   "source": [
    "# sentiment counts of missing product rows\n",
    "missing_products['sentiment'].value_counts()"
   ]
  },
  {
   "cell_type": "markdown",
   "metadata": {},
   "source": [
    "Our dataset is missing just over 5,800 brand/product distinctions.  The majority of these are labeled as \"neutral sentiment\" which makes logical sense, but there are also a handful with different labels.  As our classifier is focused on classifying the sentiment of tweets and not as concerned with the products / brands within the text, we will drop the product column. "
   ]
  },
  {
   "cell_type": "code",
   "execution_count": 11,
   "metadata": {},
   "outputs": [
    {
     "name": "stdout",
     "output_type": "stream",
     "text": [
      "<class 'pandas.core.frame.DataFrame'>\n",
      "Int64Index: 9092 entries, 0 to 9092\n",
      "Data columns (total 2 columns):\n",
      " #   Column     Non-Null Count  Dtype \n",
      "---  ------     --------------  ----- \n",
      " 0   text       9092 non-null   object\n",
      " 1   sentiment  9092 non-null   object\n",
      "dtypes: object(2)\n",
      "memory usage: 213.1+ KB\n"
     ]
    }
   ],
   "source": [
    "# drop product column\n",
    "clean_df = clean_df.drop(['product'], axis=1)\n",
    "clean_df.info()"
   ]
  },
  {
   "cell_type": "code",
   "execution_count": 12,
   "metadata": {},
   "outputs": [
    {
     "data": {
      "text/plain": [
       "text         False\n",
       "sentiment    False\n",
       "dtype: bool"
      ]
     },
     "execution_count": 12,
     "metadata": {},
     "output_type": "execute_result"
    }
   ],
   "source": [
    "# check for additional missing values\n",
    "clean_df.isna().any()"
   ]
  },
  {
   "cell_type": "code",
   "execution_count": 13,
   "metadata": {},
   "outputs": [
    {
     "data": {
      "text/plain": [
       "22"
      ]
     },
     "execution_count": 13,
     "metadata": {},
     "output_type": "execute_result"
    }
   ],
   "source": [
    "# check for duplicated entries\n",
    "clean_df.duplicated().sum()"
   ]
  },
  {
   "cell_type": "code",
   "execution_count": 14,
   "metadata": {},
   "outputs": [
    {
     "data": {
      "text/plain": [
       "False"
      ]
     },
     "execution_count": 14,
     "metadata": {},
     "output_type": "execute_result"
    }
   ],
   "source": [
    "# remove duplicated values\n",
    "clean_df = clean_df.drop_duplicates()\n",
    "clean_df.duplicated().any()"
   ]
  },
  {
   "cell_type": "markdown",
   "metadata": {},
   "source": [
    "The dataset no longer contains unnecessary columns, has handled missing values, and has removed duplicate entries.  Next, further explore our dataset prior to data preprocessing and preparation for modeling. "
   ]
  },
  {
   "cell_type": "code",
   "execution_count": 15,
   "metadata": {},
   "outputs": [
    {
     "name": "stdout",
     "output_type": "stream",
     "text": [
      "<class 'pandas.core.frame.DataFrame'>\n",
      "Int64Index: 9070 entries, 0 to 9092\n",
      "Data columns (total 2 columns):\n",
      " #   Column     Non-Null Count  Dtype \n",
      "---  ------     --------------  ----- \n",
      " 0   text       9070 non-null   object\n",
      " 1   sentiment  9070 non-null   object\n",
      "dtypes: object(2)\n",
      "memory usage: 212.6+ KB\n"
     ]
    }
   ],
   "source": [
    "clean_df.info()"
   ]
  },
  {
   "cell_type": "markdown",
   "metadata": {},
   "source": [
    "Our dataset now contains 9,070 labeled tweets.  Explore breakdown of sentiment labels and start to think about if any class imbalance will need to be handled. "
   ]
  },
  {
   "cell_type": "code",
   "execution_count": 16,
   "metadata": {},
   "outputs": [
    {
     "data": {
      "text/plain": [
       "No emotion toward brand or product    5375\n",
       "Positive emotion                      2970\n",
       "Negative emotion                       569\n",
       "I can't tell                           156\n",
       "Name: sentiment, dtype: int64"
      ]
     },
     "execution_count": 16,
     "metadata": {},
     "output_type": "execute_result"
    }
   ],
   "source": [
    "# value counts of sentiment column\n",
    "clean_df['sentiment'].value_counts()"
   ]
  },
  {
   "cell_type": "code",
   "execution_count": 17,
   "metadata": {},
   "outputs": [
    {
     "data": {
      "text/plain": [
       "'Thanks to @mention for publishing the news of @mention new medical Apps at the #sxswi conf. blog {link} #sxsw #sxswh'"
      ]
     },
     "metadata": {},
     "output_type": "display_data"
    },
    {
     "data": {
      "text/plain": [
       "'\\x89ÛÏ@mention &quot;Apple has opened a pop-up store in Austin so the nerds in town for #SXSW can get their new iPads. {link} #wow'"
      ]
     },
     "metadata": {},
     "output_type": "display_data"
    },
    {
     "data": {
      "text/plain": [
       "'Just what America needs. RT @mention Google to Launch Major New Social Network Called Circles, Possibly Today {link} #sxsw'"
      ]
     },
     "metadata": {},
     "output_type": "display_data"
    },
    {
     "data": {
      "text/plain": [
       "'The queue at the Apple Store in Austin is FOUR blocks long. Crazy stuff! #sxsw'"
      ]
     },
     "metadata": {},
     "output_type": "display_data"
    },
    {
     "data": {
      "text/plain": [
       "\"Hope it's better than wave RT @mention Buzz is: Google's previewing a social networking platform at #SXSW: {link}\""
      ]
     },
     "metadata": {},
     "output_type": "display_data"
    },
    {
     "data": {
      "text/plain": [
       "'SYD #SXSW crew your iPhone extra juice pods have been procured.'"
      ]
     },
     "metadata": {},
     "output_type": "display_data"
    },
    {
     "data": {
      "text/plain": [
       "'Why Barry Diller thinks iPad only content is nuts @mention #SXSW {link}'"
      ]
     },
     "metadata": {},
     "output_type": "display_data"
    }
   ],
   "source": [
    "# examing some of the tweets labeled as \"I can't tell\" -- print first 5\n",
    "for i in list(range(7)):\n",
    "    display(clean_df.loc[clean_df['sentiment'] == \"I can't tell\"].iloc[i][0])"
   ]
  },
  {
   "cell_type": "markdown",
   "metadata": {},
   "source": [
    "After briefly reviewing some of the tweets that were labeled as \"I can't tell\", it seems there are some tweets that could fall into the netural category as well as some I see that could fall into the negative category (tweets regarding queue length as the stores).\n",
    "\n",
    "For this reason, I am choosing to drop all entries labeled as \"I can't tell\". Given that there are only ~156 of these entries, a large portion of the dataset is not being removed, and I feel comfortable with the amount of data remaining. "
   ]
  },
  {
   "cell_type": "code",
   "execution_count": 18,
   "metadata": {},
   "outputs": [
    {
     "name": "stdout",
     "output_type": "stream",
     "text": [
      "<class 'pandas.core.frame.DataFrame'>\n",
      "Int64Index: 8914 entries, 0 to 9092\n",
      "Data columns (total 2 columns):\n",
      " #   Column     Non-Null Count  Dtype \n",
      "---  ------     --------------  ----- \n",
      " 0   text       8914 non-null   object\n",
      " 1   sentiment  8914 non-null   object\n",
      "dtypes: object(2)\n",
      "memory usage: 208.9+ KB\n"
     ]
    }
   ],
   "source": [
    "# remove all I can't tell from the dataset as we don't have proper labels for these\n",
    "clean_df = clean_df.loc[clean_df['sentiment'] != \"I can't tell\"]\n",
    "clean_df.info()"
   ]
  },
  {
   "cell_type": "code",
   "execution_count": 19,
   "metadata": {},
   "outputs": [
    {
     "data": {
      "text/plain": [
       "No emotion toward brand or product    5375\n",
       "Positive emotion                      2970\n",
       "Negative emotion                       569\n",
       "Name: sentiment, dtype: int64"
      ]
     },
     "execution_count": 19,
     "metadata": {},
     "output_type": "execute_result"
    }
   ],
   "source": [
    "clean_df['sentiment'].value_counts()"
   ]
  },
  {
   "cell_type": "markdown",
   "metadata": {},
   "source": [
    "While we have handled unlabeled data (by removing), looking at the remaining value counts, we can see that the majority of tweets in our dataset are labeled as \"No emotion toward brand or product\", or in otherwords, neutral. Additionally, there are 2,970 positively labeled tweets, and only 569 negatively rated tweets.  \n",
    "\n",
    "Our dataset clearly has some class imbalanced.  This will be kept in mind and handled in the next section, data preparation. \n",
    "\n",
    "Prior to moving onto further data preparation, explore various corpus statistics, and vectorize our clean_df to get a sense of which words are most common, etc. "
   ]
  },
  {
   "cell_type": "code",
   "execution_count": 20,
   "metadata": {},
   "outputs": [],
   "source": [
    "# produce frequency distribution\n",
    "data = clean_df['text']\n",
    "labels = clean_df['sentiment']"
   ]
  },
  {
   "cell_type": "code",
   "execution_count": 41,
   "metadata": {},
   "outputs": [],
   "source": [
    "# import necessary libraries\n",
    "import nltk\n",
    "from nltk.corpus import stopwords\n",
    "from nltk import word_tokenize, FreqDist\n",
    "import string\n",
    "from nltk.collocations import *"
   ]
  },
  {
   "cell_type": "code",
   "execution_count": 22,
   "metadata": {},
   "outputs": [],
   "source": [
    "# tokenize entire text\n",
    "tokenized_tweets = list(map(nltk.word_tokenize, data))"
   ]
  },
  {
   "cell_type": "code",
   "execution_count": 23,
   "metadata": {},
   "outputs": [
    {
     "data": {
      "text/plain": [
       "13075"
      ]
     },
     "execution_count": 23,
     "metadata": {},
     "output_type": "execute_result"
    }
   ],
   "source": [
    "# total vocabulary of our dataset\n",
    "total_vocab = set()\n",
    "for tweet in tokenized_tweets:\n",
    "    total_vocab.update(tweet)\n",
    "len(total_vocab)"
   ]
  },
  {
   "cell_type": "code",
   "execution_count": 24,
   "metadata": {},
   "outputs": [
    {
     "data": {
      "text/plain": [
       "['.',\n",
       " '@',\n",
       " 'wesley83',\n",
       " 'I',\n",
       " 'have',\n",
       " 'a',\n",
       " '3G',\n",
       " 'iPhone',\n",
       " '.',\n",
       " 'After',\n",
       " '3',\n",
       " 'hrs',\n",
       " 'tweeting',\n",
       " 'at',\n",
       " '#',\n",
       " 'RISE_Austin',\n",
       " ',',\n",
       " 'it',\n",
       " 'was',\n",
       " 'dead']"
      ]
     },
     "execution_count": 24,
     "metadata": {},
     "output_type": "execute_result"
    }
   ],
   "source": [
    "# examine first 20 characters of first tokenized tweet\n",
    "tokenized_tweets[0][:20]"
   ]
  },
  {
   "cell_type": "markdown",
   "metadata": {},
   "source": [
    "There are 13,075 total unique words within our dataset, prior to removing any stopwords or punctuation.  Just from the one tweet above, we can see our dataset will benefit from removing stopwords."
   ]
  },
  {
   "cell_type": "code",
   "execution_count": 26,
   "metadata": {},
   "outputs": [
    {
     "data": {
      "text/plain": [
       "[('#', 15593),\n",
       " ('@', 7075),\n",
       " ('mention', 7005),\n",
       " ('.', 5480),\n",
       " ('SXSW', 4696),\n",
       " ('sxsw', 4432),\n",
       " ('link', 4247),\n",
       " ('}', 4234),\n",
       " ('{', 4232),\n",
       " ('the', 3855),\n",
       " ('to', 3460),\n",
       " (',', 3459),\n",
       " ('RT', 2899),\n",
       " ('at', 2808),\n",
       " (';', 2748),\n",
       " ('&', 2657),\n",
       " ('for', 2399),\n",
       " ('!', 2370),\n",
       " ('a', 2128),\n",
       " ('iPad', 2088),\n",
       " ('Google', 2077),\n",
       " (':', 2030),\n",
       " ('Apple', 1850),\n",
       " ('in', 1804),\n",
       " ('quot', 1657)]"
      ]
     },
     "execution_count": 26,
     "metadata": {},
     "output_type": "execute_result"
    }
   ],
   "source": [
    "# display frequency distribution of unprocessed dataset\n",
    "tweets_concat = []\n",
    "for tweet in tokenized_tweets:\n",
    "    tweets_concat += tweet\n",
    "    \n",
    "tweet_freqdist = FreqDist(tweets_concat)\n",
    "tweet_freqdist.most_common(25)"
   ]
  },
  {
   "cell_type": "markdown",
   "metadata": {},
   "source": [
    "Looking at the top 50 most common words in our corpus, we can see that the majority of these are stopwords or punctuation. "
   ]
  },
  {
   "cell_type": "code",
   "execution_count": 38,
   "metadata": {},
   "outputs": [],
   "source": [
    "# pull in stop words from english language and append punctuation\n",
    "stopwords_list = stopwords.words('english') + list(string.punctuation)\n",
    "stopwords_list += [\"''\", '\"\"', '...', '``']\n",
    "words_stopped = [word for word in tweets_concat if word not in stopwords_list]"
   ]
  },
  {
   "cell_type": "code",
   "execution_count": 28,
   "metadata": {},
   "outputs": [],
   "source": [
    "# remove stopwords, and process everything to lowercase\n",
    "def process_tweet(tweet):\n",
    "    tokens = nltk.word_tokenize(tweet)\n",
    "    stopwords_removed = [token.lower() for token in tokens if token.lower() not in stopwords_list]\n",
    "    return stopwords_removed"
   ]
  },
  {
   "cell_type": "code",
   "execution_count": 30,
   "metadata": {},
   "outputs": [],
   "source": [
    "processed_data = list(map(process_tweet, data))"
   ]
  },
  {
   "cell_type": "code",
   "execution_count": 33,
   "metadata": {},
   "outputs": [
    {
     "data": {
      "text/plain": [
       "[('sxsw', 9334),\n",
       " ('mention', 7006),\n",
       " ('link', 4249),\n",
       " ('rt', 2914),\n",
       " ('google', 2531),\n",
       " ('ipad', 2401),\n",
       " ('apple', 2265),\n",
       " ('quot', 1657),\n",
       " ('iphone', 1498),\n",
       " ('store', 1457),\n",
       " (\"'s\", 1216),\n",
       " ('2', 1104),\n",
       " ('new', 1074),\n",
       " ('austin', 946),\n",
       " ('amp', 827),\n",
       " ('app', 810),\n",
       " ('launch', 640),\n",
       " ('circles', 634),\n",
       " ('social', 629),\n",
       " ('android', 570),\n",
       " ('today', 565),\n",
       " (\"n't\", 468),\n",
       " ('ipad2', 454),\n",
       " ('network', 451),\n",
       " ('pop-up', 411)]"
      ]
     },
     "execution_count": 33,
     "metadata": {},
     "output_type": "execute_result"
    }
   ],
   "source": [
    "# display frequency distribution with stopwords removed and punctuation removed\n",
    "tweets_concat = []\n",
    "for tweet in processed_data:\n",
    "    tweets_concat += tweet\n",
    "    \n",
    "tweet_freqdist = FreqDist(tweets_concat)\n",
    "tweet_freqdist.most_common(25)"
   ]
  },
  {
   "cell_type": "code",
   "execution_count": 34,
   "metadata": {},
   "outputs": [
    {
     "data": {
      "text/plain": [
       "10419"
      ]
     },
     "execution_count": 34,
     "metadata": {},
     "output_type": "execute_result"
    }
   ],
   "source": [
    "# vocab size\n",
    "len(tweet_freqdist)"
   ]
  },
  {
   "cell_type": "markdown",
   "metadata": {},
   "source": [
    "There are more than 10,400 unique words remaining in our vocabulary after removing stop words and punctuation."
   ]
  },
  {
   "cell_type": "code",
   "execution_count": 36,
   "metadata": {},
   "outputs": [
    {
     "name": "stdout",
     "output_type": "stream",
     "text": [
      "Word\t\t\tNormalized Frequency\n",
      "sxsw \t\t\t 0.08194\n",
      "mention \t\t\t 0.06151\n",
      "link \t\t\t 0.0373\n",
      "rt \t\t\t 0.02558\n",
      "google \t\t\t 0.02222\n",
      "ipad \t\t\t 0.02108\n",
      "apple \t\t\t 0.01988\n",
      "quot \t\t\t 0.01455\n",
      "iphone \t\t\t 0.01315\n",
      "store \t\t\t 0.01279\n",
      "'s \t\t\t 0.01068\n",
      "2 \t\t\t 0.009692\n",
      "new \t\t\t 0.009429\n",
      "austin \t\t\t 0.008305\n",
      "amp \t\t\t 0.00726\n",
      "app \t\t\t 0.007111\n",
      "launch \t\t\t 0.005619\n",
      "circles \t\t\t 0.005566\n",
      "social \t\t\t 0.005522\n",
      "android \t\t\t 0.005004\n",
      "today \t\t\t 0.00496\n",
      "n't \t\t\t 0.004109\n",
      "ipad2 \t\t\t 0.003986\n",
      "network \t\t\t 0.003959\n",
      "pop-up \t\t\t 0.003608\n"
     ]
    }
   ],
   "source": [
    "# produce normalized word frequency\n",
    "total_word_count = sum(tweet_freqdist.values())\n",
    "top_25 = tweet_freqdist.most_common(25)\n",
    "print('Word\\t\\t\\tNormalized Frequency')\n",
    "for word in top_25:\n",
    "    normalized_frequency = word[1] / total_word_count\n",
    "    print('{} \\t\\t\\t {:.4}'.format(word[0], normalized_frequency))"
   ]
  },
  {
   "cell_type": "markdown",
   "metadata": {},
   "source": [
    "We can see that sxsw, mention, link, rt are at the top of our frequency - - These are likely related to tweet mechanics - - and can likely be removed or added to our stoplist"
   ]
  },
  {
   "cell_type": "code",
   "execution_count": 43,
   "metadata": {},
   "outputs": [
    {
     "data": {
      "text/plain": [
       "[(('rt', 'mention'), 0.02479171970608117),\n",
       " (('ipad', '2'), 0.008041506816845026),\n",
       " (('sxsw', 'link'), 0.008032727879272051),\n",
       " (('link', 'sxsw'), 0.007005592183233985),\n",
       " (('sxsw', 'rt'), 0.005592183233985023),\n",
       " (('mention', 'mention'), 0.005276141481357926),\n",
       " (('mention', 'sxsw'), 0.005144457417763302),\n",
       " (('apple', 'store'), 0.005012773354168679),\n",
       " (('link', 'rt'), 0.0044333634743523335),\n",
       " (('sxsw', 'mention'), 0.004169995347163087),\n",
       " (('mention', 'google'), 0.004126100659298212),\n",
       " (('social', 'network'), 0.0038539535945359893),\n",
       " (('new', 'social'), 0.003555469717054842),\n",
       " (('mention', 'rt'), 0.0029672808996655223),\n",
       " (('via', 'mention'), 0.0028443757736438735),\n",
       " (('store', 'sxsw'), 0.002835596836070899),\n",
       " (('sxsw', 'apple'), 0.002809260023351974),\n",
       " (('network', 'called'), 0.0027478074603411494),\n",
       " (('google', 'launch'), 0.0027214706476222246),\n",
       " (('austin', 'sxsw'), 0.00267757595975735),\n",
       " (('called', 'circles'), 0.0026424602094654503),\n",
       " (('mention', 'apple'), 0.002607344459173551),\n",
       " (('iphone', 'app'), 0.002501997208297852),\n",
       " (('major', 'new'), 0.002475660395578927),\n",
       " (('launch', 'major'), 0.0024054288949951277)]"
      ]
     },
     "execution_count": 43,
     "metadata": {},
     "output_type": "execute_result"
    }
   ],
   "source": [
    "# create bigrams to see which combinations of words are most frequent\n",
    "bigram_measures = nltk.collocations.BigramAssocMeasures()\n",
    "tweet_finder = BigramCollocationFinder.from_words(words_stopped)\n",
    "tweet_scored = tweet_finder.score_ngrams(bigram_measures.raw_freq)\n",
    "tweet_scored[:25]"
   ]
  },
  {
   "cell_type": "code",
   "execution_count": 45,
   "metadata": {},
   "outputs": [
    {
     "data": {
      "text/plain": [
       "[(('98', 'accuracy'), 14.212559713232345),\n",
       " (('jc', 'penney'), 14.212559713232345),\n",
       " (('knitted', 'staircase'), 14.212559713232345),\n",
       " (('naomi', 'campbell'), 14.212559713232345),\n",
       " (('parking', '5-10'), 14.212559713232345),\n",
       " (('pauly', 'celebs'), 14.212559713232345),\n",
       " (('alternate', 'routes'), 13.990167291895897),\n",
       " (('aron', 'pilhofer'), 13.990167291895897),\n",
       " (('charlie', 'sheen'), 13.990167291895897),\n",
       " (('follower', 'swarm'), 13.990167291895897),\n",
       " (('likeability', 'virgin'), 13.990167291895897),\n",
       " (('lynn', 'teo'), 13.990167291895897),\n",
       " (('sheen', 'goddesses'), 13.990167291895897),\n",
       " (('swarm', 'ensues'), 13.990167291895897),\n",
       " (('cameron', 'sinclair'), 13.797522213953503),\n",
       " (('elusive', \"'power\"), 13.797522213953503),\n",
       " (('zazzlsxsw', 'you\\x89ûªll'), 13.797522213953503),\n",
       " (('staircase', 'attendance'), 13.7975222139535),\n",
       " (('launchrock', 'comp'), 13.62759721251119),\n",
       " (('participating', 'launchrock'), 13.62759721251119),\n",
       " (('poked', 'liked'), 13.62759721251119),\n",
       " (('\\x89ûïcheck-in', 'offers\\x89û\\x9d'), 13.62759721251119),\n",
       " (('barton', 'hollow'), 13.627597212511187),\n",
       " (('bloody', 'banality'), 13.627597212511187),\n",
       " (('entered', 'automatically'), 13.627597212511187),\n",
       " (('khoi', 'vinh'), 13.627597212511187),\n",
       " (('acoustic', 'solo'), 13.475594119066141),\n",
       " (('kara', 'swisher'), 13.475594119066141),\n",
       " (('spilled', 'beans'), 13.475594119066141),\n",
       " (('charles', 'chen'), 13.47559411906614),\n",
       " (('agnerd', 'confession'), 13.434952134568793),\n",
       " (('trustworthiness', 'zappos'), 13.40520479117474),\n",
       " (('co', 'founder'), 13.364562806677394),\n",
       " ((\"'80s-themed\", 'costume'), 13.338090595316203),\n",
       " (('staying', 'alive'), 13.312095386783259),\n",
       " (('invite', 'follower'), 13.25320169772969),\n",
       " (('tests', '\\x89ûïcheck-in'), 13.212559713232347),\n",
       " (('5-10', 'min'), 13.212559713232345),\n",
       " (('awesomely', 'rad'), 13.212559713232345),\n",
       " (('liberty', 'and/or'), 13.212559713232345),\n",
       " (('tomo', '7pm'), 13.212559713232345),\n",
       " (('steps', 'bulletproof'), 13.142170385340947),\n",
       " (('false', 'alarm'), 13.09708249581241),\n",
       " (('josh', 'clark'), 13.09708249581241),\n",
       " (('endorsed', 'html'), 13.07505618948241),\n",
       " (('galaxy', 'ii'), 13.060556619787295),\n",
       " (('ice', 'cream'), 12.990167291895897),\n",
       " (('chris', 'sacca'), 12.890631618344983),\n",
       " (('lustre', 'pearl'), 12.890631618344983),\n",
       " (('smackdown', 'bloody'), 12.890631618344983),\n",
       " (('alive', 'indie'), 12.852663768145963),\n",
       " (('salon', 'j'), 12.852663768145963),\n",
       " (('posterous', 'joins'), 12.849989633847635),\n",
       " (('dwnld', 'groundlink'), 12.797522213953503),\n",
       " (('eats', 'bbq'), 12.797522213953503),\n",
       " (('lonely', 'planet'), 12.783716414428472),\n",
       " (('classiest', 'fascist'), 12.738628524899934),\n",
       " (('fight', 'pauly'), 12.710059372703162),\n",
       " (('touching', 'stories'), 12.71005937270316),\n",
       " (('donating', 'japanese'), 12.575129792617055),\n",
       " (('til', 'midnight'), 12.56656777911363),\n",
       " (('tim', \"o'reilly\"), 12.549594700509916),\n",
       " (('augmented', 'reality'), 12.549594700509914),\n",
       " (('pile', 'posterous'), 12.534487808119708),\n",
       " (('agencies', 'push'), 12.504740464725655),\n",
       " (('speech', 'therapy'), 12.475594119066141),\n",
       " (('ad', 'preferences'), 12.475594119066137),\n",
       " (('fires', 'shot'), 12.405204791174743),\n",
       " (('steve', 'jobs'), 12.405204791174743),\n",
       " (('holler', 'gram'), 12.405204791174738),\n",
       " (('pagemaker', 'saved'), 12.364562806677394),\n",
       " (('friendly', 'reminder'), 12.360116901646203),\n",
       " (('except', '64gig'), 12.35006323698228),\n",
       " (('1pm', 'cst'), 12.338090595316206),\n",
       " (('haha', 'awesomely'), 12.338090595316203),\n",
       " (('league', 'extraordinary'), 12.338090595316201),\n",
       " (('therapy', 'communication'), 12.282949041123743),\n",
       " (('bulletproof', 'ux'), 12.273960257896487),\n",
       " (('stay', 'tuned'), 12.273960257896487),\n",
       " (('rankings', 'advice'), 12.260088083314933),\n",
       " (('communication', 'showcased'), 12.241128865429117),\n",
       " (('7pm', 'hosted'), 12.212559713232345),\n",
       " (('elegant', 'fascist'), 12.212559713232345),\n",
       " (('stream', '+others'), 12.212559713232345),\n",
       " (('extraordinary', 'hackers'), 12.198753913707314),\n",
       " (('exclusive', 'passes'), 12.190191900203892),\n",
       " (('maggie', 'mae'), 12.153666024178778),\n",
       " (('mike', 'tyson'), 12.153666024178778),\n",
       " (('maggie', 'maes'), 12.153666024178776),\n",
       " (('4:00-7:59:59p', '03/11/11'), 12.145445517373808),\n",
       " (('hp', 'lead'), 12.142170385340947),\n",
       " (('dennis', 'crowley'), 12.125096871982006),\n",
       " (('interrupt', 'regularly'), 12.097082495812408),\n",
       " (('afford', 'attend'), 12.08131517995409),\n",
       " (('living', 'social-type'), 12.042634711790033),\n",
       " (('mark', 'belinsky'), 12.02996829995387),\n",
       " (('exhibit', 'hall'), 12.016162500428843),\n",
       " (('regularly', 'scheduled'), 11.990167291895897),\n",
       " (('vp', 'consumer'), 11.973093778536954),\n",
       " (('red', 'cross'), 11.97155161372855),\n",
       " (('belinsky', '911tweets'), 11.959578972062475),\n",
       " (('80s', 'dancing'), 11.94507940236736),\n",
       " (('dude', 'awaits'), 11.93954121882593),\n",
       " (('location-based', \"'fast\"), 11.939541218825928),\n",
       " (('york', 'times'), 11.939541218825928),\n",
       " (('likes', 'pay'), 11.890631618344983),\n",
       " (('mon', '12:30pm'), 11.890631618344983),\n",
       " (('south', 'southwest'), 11.890631618344983),\n",
       " (('sxswh', 'hcsm'), 11.862062466148213),\n",
       " (('security', 'guard'), 11.849989633847635),\n",
       " (('sacca', 'tweets'), 11.843325903566626),\n",
       " (('samsung', 'galaxy'), 11.823517422486443),\n",
       " (('barry', 'diller'), 11.7975222139535),\n",
       " (('12:00-3:59:59p', '03/14/11'), 11.753128094595048),\n",
       " (('sets', '5,000-square-foot'), 11.753128094595048),\n",
       " (('min', 'n'), 11.727132886062105),\n",
       " (('access', 'acoustic'), 11.710059372703162),\n",
       " (('now\\x89ûòand', 'probably'), 11.710059372703162),\n",
       " (('classical', 'newtwitter'), 11.70582237981669),\n",
       " (('lone', 'dude'), 11.676506812992136),\n",
       " (('times', 'endorsed'), 11.676506812992136),\n",
       " (('seo', 'sem'), 11.668239197008536),\n",
       " (('xperia', 'play'), 11.668239197008536),\n",
       " (('64gig', 'wifi'), 11.668239197008534),\n",
       " (('strategy', \"'80s-themed\"), 11.601125001149999),\n",
       " (('edchat', 'musedchat'), 11.588068848324554),\n",
       " (('\\x89ã_', 'edchat'), 11.588068848324552),\n",
       " (('juice', 'pack'), 11.582082553258822),\n",
       " (('choice', 'awards'), 11.554068177089224),\n",
       " (('concertgoers', 'launches'), 11.549594700509918),\n",
       " (('rewards', 'titles'), 11.534487808119708),\n",
       " (('groupon', 'living'), 11.528061538960273),\n",
       " (('nerds', \"'get\"), 11.517414294760764),\n",
       " (('daily', 'grape'), 11.516236103563486),\n",
       " (('stores', 'rage'), 11.512119995091254),\n",
       " (('70', 'went'), 11.512119995091252),\n",
       " (('contextual', 'discovery'), 11.48320730317601),\n",
       " (('screen', 'brightness'), 11.475594119066141),\n",
       " (('fam', 'showing'), 11.475594119066137),\n",
       " (('japanese', 'red'), 11.459652575197119),\n",
       " (('macbook', 'pro'), 11.454114391655688),\n",
       " (('mophie', 'juice'), 11.443885259338801),\n",
       " (('buyers', 'report'), 11.42828840428778),\n",
       " (('beta', 'invite'), 11.41670043001257),\n",
       " (('register', 'exclusive'), 11.367069662287971),\n",
       " (('privacybootcamp', 'startups'), 11.354578718104772),\n",
       " (('saving', 'drivers'), 11.338090595316205),\n",
       " (('something', 'ventured'), 11.338090595316205),\n",
       " (('24', 'hours'), 11.338090595316203),\n",
       " (('hot', 'spots'), 11.305669117623827),\n",
       " (('scarbrough', 'building'), 11.305669117623827),\n",
       " (('physical', 'worlds'), 11.296270419621578),\n",
       " (('city', 'end'), 11.279196906262635),\n",
       " (('150', 'million'), 11.271111895587458),\n",
       " (('fascist', 'company'), 11.269143241598712),\n",
       " (('hilton', '615ab'), 11.267701267424808),\n",
       " (('cards', 'dead'), 11.26502713312648),\n",
       " (('tweets', 'fake'), 11.25836340284547),\n",
       " (('march', '9-15'), 11.22463254553292),\n",
       " (('valid', '4:00-7:59:59p'), 11.212559713232347),\n",
       " (('valid', '8:00-11:59:59a'), 11.212559713232347),\n",
       " (('03/12/11', 'infektd'), 11.212559713232345),\n",
       " (('03/13/11', 'infektd'), 11.212559713232345),\n",
       " (('03/14/11', 'infektd'), 11.212559713232345),\n",
       " (('valid', '8:00-11:59:59p'), 11.212559713232345),\n",
       " (('able', 'afford'), 11.212559713232343),\n",
       " (('valid', '12:00-3:59:59p'), 11.212559713232343),\n",
       " (('consider', 'saving'), 11.177625923122958),\n",
       " (('convention', 'center'), 11.17078357652003),\n",
       " (('ride', 'anywhere'), 11.157277277731156),\n",
       " (('crowd', 'swarms'), 11.149549915706544),\n",
       " (('hilton', 'salon'), 11.115698173979757),\n",
       " (('qr', 'code'), 11.115698173979757),\n",
       " (('navigation', 'schemas'), 11.0992182401564),\n",
       " (('gon', 'na'), 11.097082495812408),\n",
       " (('wan', 'na'), 11.097082495812408),\n",
       " (('03/11/11', 'infektd'), 11.07505618948241),\n",
       " (('raises', 'hand'), 11.07505618948241),\n",
       " (('development', 'survive'), 11.064167873339674),\n",
       " (('codes', 'valid'), 11.063696327317862),\n",
       " (('geek', 'charlie'), 11.042634711790033),\n",
       " (('geek', 'programming'), 11.042634711790033),\n",
       " (('rather', '7'), 11.042634711790033),\n",
       " (('test', 'drive'), 11.031987467590524),\n",
       " (('festival', 'explorer'), 10.990167291895899),\n",
       " (('business', 'cards'), 10.943099038239117),\n",
       " (('six', 'lounge'), 10.93954121882593),\n",
       " (('and/or', 'tablet'), 10.939541218825928),\n",
       " (('everything', 'except'), 10.935025737703437),\n",
       " (('4g', 'cab'), 10.890631618344983),\n",
       " (('improve', 'website'), 10.871522795397278),\n",
       " (('texas', 'observer'), 10.852663768145964),\n",
       " (('fast', 'society'), 10.843325903566624),\n",
       " (('join', 'actsofsharing.com'), 10.838164198450848),\n",
       " (('24/7', 'stream'), 10.834048089978616),\n",
       " (('dead', 'send'), 10.820242290453583),\n",
       " (('wrote', 'hollergram'), 10.797522213953501),\n",
       " (('building', 'netflix'), 10.791095944794067),\n",
       " (('platform', 'concertgoers'), 10.775154400925048),\n",
       " (('website', 'rankings'), 10.761098805703629),\n",
       " (('featured', 'artists'), 10.751228561679566),\n",
       " (('hello', 'holler'), 10.74223977845231),\n",
       " (('pack', 'air'), 10.74223977845231),\n",
       " (('group', 'texting'), 10.740071941769601),\n",
       " (('caring', 'much'), 10.731433023495729),\n",
       " (('vip', 'access'), 10.710059372703164),\n",
       " (('march', '11'), 10.71005937270316),\n",
       " (('includes', 'uberguide'), 10.667936141647502),\n",
       " (('15', 'minutes'), 10.660018690203568),\n",
       " (('local', 'information'), 10.658901332429199),\n",
       " (('plenty', 'else'), 10.642243988475588),\n",
       " (('searches', 'local'), 10.641692042396976),\n",
       " (('blogger', 'interface'), 10.623595281953694),\n",
       " (('lightbox', 'photos'), 10.584174932220062),\n",
       " (('marketing', 'experts'), 10.583203093152736),\n",
       " (('fades', 'fast'), 10.580291497732834),\n",
       " (('schools', 'marketing'), 10.578041388036956),\n",
       " (('credit', 'card'), 10.540134371260848),\n",
       " (('+others', 'also'), 10.530735673258599),\n",
       " (('mistakes', 'made'), 10.517414294760766),\n",
       " (('web', 'fonts'), 10.512119995091252),\n",
       " (('sponsored', 'mashable'), 10.505967768109656),\n",
       " (('looking', 'fwd'), 10.493741465776397),\n",
       " (('directions', 'never'), 10.490093688761254),\n",
       " (('passes', 'events'), 10.482372651697203),\n",
       " (('believe', 'god'), 10.479205372618518),\n",
       " (('sold', '70'), 10.478172663167914),\n",
       " (('disaster', 'relief'), 10.459652575197119),\n",
       " (('goes', 'sale'), 10.431199999707687),\n",
       " ((\"'fast\", 'fun'), 10.40520479117474),\n",
       " (('say', 'hi'), 10.3881312778158),\n",
       " (('view', 'car'), 10.357899076396384),\n",
       " (('acc', 'ballroom'), 10.356949622567518),\n",
       " (('charge', 'anywhere'), 10.347960839340265),\n",
       " (('source', 'code'), 10.338090595316203),\n",
       " (('reality', 'contextual'), 10.327202279173466),\n",
       " (('extraordinary', 'h4ckers'), 10.267701267424806),\n",
       " (('group', 'chat'), 10.266140753437188),\n",
       " (('sure', 'donating'), 10.258363402845472),\n",
       " (('way', 'caring'), 10.25836340284547),\n",
       " (('earthquake', 'relief'), 10.25320169772969),\n",
       " (('person', 'finder'), 10.250627754065864),\n",
       " (('semantic', 'web'), 10.24908558925746),\n",
       " (('send', 'card'), 10.235279789732429),\n",
       " (('company', 'america'), 10.212559713232345),\n",
       " (('website', 'ranking'), 10.208557782674848),\n",
       " (('1', '3/10/2011'), 10.197609371766374),\n",
       " (('bought', 'lunch'), 10.182812369838294),\n",
       " (('ux', 'strategy'), 10.174424584345573),\n",
       " (('12:30pm', 'hilton'), 10.168165593873892),\n",
       " (('booth', '1415'), 10.168165593873892),\n",
       " (('booth', '437'), 10.168165593873892),\n",
       " (('fast', 'among'), 10.16525399845399),\n",
       " (('phone', 'cursor'), 10.142170385340947),\n",
       " (('bands', 'food'), 10.133608371837523),\n",
       " (('coming', 'now\\x89ûòand'), 10.125096871982006),\n",
       " (('card', 'companies'), 10.116635293233811),\n",
       " (('song', 'info'), 10.112423041946895),\n",
       " (('digital', 'magazines'), 10.106651204661189),\n",
       " (('tablets', 'call'), 10.09708249581241),\n",
       " (('customer', 'service'), 10.097082495812408),\n",
       " (('welivehere', 'gsdm'), 10.053361118383092),\n",
       " (('digital', 'delegates'), 10.032650623217412),\n",
       " (('working', 'sxflip'), 10.02556119843109),\n",
       " (('flipboard', 'developing'), 10.016162500428841),\n",
       " (('guy', 'locks'), 10.003106347603396),\n",
       " (('spearheads', 'japan'), 10.003106347603394),\n",
       " (('aquent', 'booth'), 9.99824059243158),\n",
       " (('heard', 'wknd'), 9.995328997011677),\n",
       " (('well', 'played'), 9.994467429329521),\n",
       " (('relief', 'sayin'), 9.990167291895897),\n",
       " (('nerds', 'town'), 9.955171870539694),\n",
       " (('future', 'elusive'), 9.946665653259311),\n",
       " (('started', 'working'), 9.940672300844579),\n",
       " (('looking', 'forward'), 9.93186257816828),\n",
       " (('posterous', 'events'), 9.9197779640045),\n",
       " (('100', 'outside'), 9.890631618344983),\n",
       " (('trade', 'show'), 9.867573449813301),\n",
       " (('giving', 'away'), 9.84940895561847),\n",
       " (('connect', 'digital'), 9.844383985785587),\n",
       " (('sold', 'everything'), 9.830689077888701),\n",
       " (('fan', 'bought'), 9.820242290453585),\n",
       " (('tv', 'computers'), 9.81566956066376),\n",
       " (('even', 'begins'), 9.81504712804856),\n",
       " (('designing', 'boomers'), 9.79870912890394),\n",
       " (('6th', 'st'), 9.797522213953501),\n",
       " (('confession', 'using'), 9.797522213953501),\n",
       " (('download', '20+'), 9.784698173595917),\n",
       " (('left', 'brain'), 9.781142470764644),\n",
       " (('5', 'steps'), 9.77960030595624),\n",
       " (('art', 'project'), 9.77919556614691),\n",
       " (('spy', 'game'), 9.775154400925047),\n",
       " (('hall', '3'), 9.771743772762395),\n",
       " (('big', 'boi'), 9.76409921241605),\n",
       " (('2011', 'novelty'), 9.753128094595048),\n",
       " (('make', 'splash'), 9.742239778452314),\n",
       " (('make', '20/hour'), 9.74223977845231),\n",
       " (('web', '2.0'), 9.7345124164277),\n",
       " (('dev', 'meetup'), 9.71404288662166),\n",
       " (('programming', 'big'), 9.707515684049685),\n",
       " (('design', 'principles'), 9.688997757175333),\n",
       " (('blog', 'post'), 9.687604521875464),\n",
       " (('connected', 'tv'), 9.686386543718795),\n",
       " (('million', 'miles'), 9.664123088536304),\n",
       " (('best', 'andoid'), 9.657970861554707),\n",
       " (('design', 'headaches'), 9.641692042396974),\n",
       " (('google/bing', 'q'), 9.639670044811766),\n",
       " (('street', 'view'), 9.636875026099199),\n",
       " (('rumors', 'true'), 9.623595281953694),\n",
       " (('stumbling', 'around'), 9.620933482230177),\n",
       " (('\\x89÷¼', '\\x89÷_'), 9.606286706265776),\n",
       " (('cross', 'japan'), 9.588068848324552),\n",
       " (('think', 'speak.'), 9.578353693491335),\n",
       " (('game', 'mechanics'), 9.552761979588599),\n",
       " (('screw', 'big'), 9.541706791079603),\n",
       " (('call', 'morning'), 9.541182460693717),\n",
       " (('check-in', 'rewards'), 9.534487808119708),\n",
       " (('friends', 'city'), 9.525634801565735),\n",
       " (('911tweets', 'panel'), 9.510271570698885),\n",
       " (('bing', 'smackdown'), 9.505967768109656),\n",
       " (('5', 'pm'), 9.502066330427331),\n",
       " (('developer', 'meetup'), 9.498314195566222),\n",
       " (('emc', 'booth'), 9.490093688761254),\n",
       " (('solo', 'set'), 9.486909432293974),\n",
       " (('shop', 'core'), 9.475594119066137),\n",
       " (('japan', 'disaster'), 9.472591630904617),\n",
       " (('brain', 'search'), 9.464883125963974),\n",
       " (('japan', 'earthquake'), 9.446712999079011),\n",
       " (('tech', 'bjdproductions'), 9.43495213456879),\n",
       " (('able', 'attend'), 9.425963351341538),\n",
       " (('homeless', 'guy'), 9.418143846882238),\n",
       " (('said', 'wo'), 9.3881312778158),\n",
       " (('video', 'streaming'), 9.357899076396384),\n",
       " (('among', 'digital'), 9.354578718104774),\n",
       " (('entry', 'friends'), 9.331547749449433),\n",
       " (('beans', 'next'), 9.295685029051205),\n",
       " (('got', 'ta'), 9.289727573754805),\n",
       " (('route', 'around'), 9.283898494952606),\n",
       " (('consumer', 'products'), 9.273960257896489),\n",
       " (('results', 'qagb'), 9.273960257896489),\n",
       " (('search', 'x'), 9.261349731878843),\n",
       " (('taking', 'notes'), 9.215066568842918),\n",
       " (('gearing', 'make'), 9.211725061753532),\n",
       " (('southwest', 'interactive'), 9.207559032173977),\n",
       " (('happy', 'hour'), 9.191249206986932),\n",
       " (('wifi', 'white'), 9.182812369838294),\n",
       " (('stories', 'designing'), 9.177564291876141),\n",
       " (('keep', 'track'), 9.135744116181515),\n",
       " (('marissa', 'meyer'), 9.12981928222441),\n",
       " (('5', 'blocks'), 9.125096871982004),\n",
       " (('ever', 'heard'), 9.120859879095535),\n",
       " (('money', 'japan'), 9.092373685700483),\n",
       " (('go', 'conferences'), 9.09058149691061),\n",
       " (('guy', 'kawasaki'), 9.070220543461932),\n",
       " (('ride', '10'), 9.05942995433301),\n",
       " (('never', 'seen'), 9.052688376453956),\n",
       " (('team', 'started'), 9.043242034485125),\n",
       " (('u', 'r'), 9.030662070123958),\n",
       " (('made', 'building'), 9.006108835764918),\n",
       " (('japan', 'relief'), 9.003106347603396),\n",
       " (('medical', 'apps'), 9.003106347603394),\n",
       " (('wilderness', 'downtown'), 8.983741022736465),\n",
       " (('launching', 'secret'), 8.982138918139963),\n",
       " (('video', 'ireport'), 8.968856785650484),\n",
       " (('marissa', 'mayer'), 8.956422088875291),\n",
       " (('thing', 'abt'), 8.954543382165177),\n",
       " (('tweet', 'register'), 8.952032163009127),\n",
       " (('launching', 'products'), 8.938357226112045),\n",
       " (('around', 'block'), 8.92905577759251),\n",
       " (('post', 'hootsuite'), 8.926036954476183),\n",
       " (('super', 'fast'), 8.917326485010404),\n",
       " (('gaga', 'go'), 8.912435988663331),\n",
       " (('heard', 'weekend'), 8.900811398227388),\n",
       " (('fb', 'page'), 8.891490621074075),\n",
       " (('comes', 'cool'), 8.887629130183461),\n",
       " (('chances', 'win'), 8.882069604841558),\n",
       " (('food', 'art'), 8.87985177959174),\n",
       " (('per', 'rumor'), 8.877575465519536),\n",
       " (('case', 'zazzlesxsw'), 8.860884274950932),\n",
       " (('lunch', 'everyone'), 8.852663768145963),\n",
       " (('share', 'photos'), 8.847209338053855),\n",
       " (('4', 'agileagency'), 8.843325903566626),\n",
       " (('developers', 'meetup'), 8.820242290453585),\n",
       " (('gets', 'tattoo'), 8.820242290453585),\n",
       " (('market', 'share'), 8.820242290453585),\n",
       " (('pics', 'already'), 8.817700095891134),\n",
       " (('afar', 'see'), 8.806945467840126),\n",
       " (('traffic', 'saving'), 8.787893512755725),\n",
       " (('gowalla', 'wins'), 8.785278618198754),\n",
       " (('battery', 'life'), 8.76777487055945),\n",
       " (('else', 'join'), 8.767774870559448),\n",
       " ((\"'re\", 'participating'), 8.764099212416053),\n",
       " (('5,000-square-foot', 'temporary'), 8.764099212416053),\n",
       " (('windows', 'phone'), 8.761348601400018),\n",
       " (('events', 'parties'), 8.756547615136196),\n",
       " (('may', 'preview'), 8.746766594343608),\n",
       " (('apps', 'fades'), 8.740071941769601),\n",
       " (('visit', 'fb'), 8.733228537157343),\n",
       " (('yes', 'gowalla'), 8.725572372074486),\n",
       " (('miles', 'year'), 8.708733975236596),\n",
       " (('apps', 'speech'), 8.681178252716034),\n",
       " (('6th', 'congress'), 8.670665934403075),\n",
       " (('like', 'seenocreepy'), 8.668239197008534),\n",
       " (('yes', 'rumors'), 8.662069429768328),\n",
       " (('well', 'done'), 8.66104369560433),\n",
       " (('internet', 'please'), 8.660165074967619),\n",
       " (('last', 'night'), 8.658676681060417),\n",
       " (('would', 'gone'), 8.648791434780312),\n",
       " (('chance', 'win'), 8.641755275507851),\n",
       " (('enter', 'win'), 8.641755275507851),\n",
       " (('search', 'engine'), 8.638912525739025),\n",
       " (('sampler', 'available'), 8.637650877175112),\n",
       " (('late', 'night'), 8.631897349944813),\n",
       " (('places', 'hotpot'), 8.627597212511187),\n",
       " (('right', 'brain'), 8.620677798571398),\n",
       " (('tv', 'everywhere'), 8.619272347860257),\n",
       " (('probably', 'ever'), 8.613197833450574),\n",
       " (('search', 'results'), 8.607203666011685),\n",
       " (('awards', 'thanks'), 8.60410885958882),\n",
       " (('limited', 'time'), 8.600528969313018),\n",
       " (('ipads', 'test'), 8.589043971741797),\n",
       " (('photos', 'wants'), 8.58417493222006),\n",
       " (('pi', 'day'), 8.5639025371938),\n",
       " (('open', 'til'), 8.559648365173839),\n",
       " (('smart', 'move'), 8.557207884619793),\n",
       " (('best', 'thing'), 8.54834637038021),\n",
       " (('game', 'development'), 8.527226887481463),\n",
       " (('come', 'privacybootcamp'), 8.498314195566223),\n",
       " (('smart', 'phones'), 8.498314195566222),\n",
       " (('getting', 'ready'), 8.496967769858706),\n",
       " (('already', 'gowalla'), 8.49577200100377),\n",
       " (('around', 'traffic'), 8.485773898948542),\n",
       " (('music', 'sampler'), 8.482372651697201),\n",
       " (('users', 'drive'), 8.475594119066137),\n",
       " (('second', 'day'), 8.464366863642883),\n",
       " (('see', 'agchat'), 8.444375388455418),\n",
       " (('booth', 'exhibit'), 8.431199999707685),\n",
       " (('taking', 'photos'), 8.425745569615579),\n",
       " (('vs', 'world'), 8.41814384688224),\n",
       " (('sponsored', 'cont'), 8.41670043001257),\n",
       " (('sxswi', 'classical'), 8.409504928608364),\n",
       " (('win', 'vip'), 8.396642777671318),\n",
       " (('maps', 'usage'), 8.379669699067602),\n",
       " (('costume', 'party'), 8.36706966228797),\n",
       " (('party', 'tomo'), 8.36706966228797),\n",
       " (('wonder', 'many'), 8.360810671816289),\n",
       " (('person', 'friends'), 8.35956212561903),\n",
       " (('location', 'based'), 8.356134184606816),\n",
       " (('worlds', 'mobile'), 8.34194590955977),\n",
       " (('platform', 'flipboard'), 8.327695423953827),\n",
       " (('tv', 'experience'), 8.323816464334087),\n",
       " (('bing', 'website'), 8.31693394371964),\n",
       " (('post', 'business'), 8.305669117623825),\n",
       " (('download', 'groundlink'), 8.299271346425677),\n",
       " (('one', 'lone'), 8.28182237566946),\n",
       " ((\"'re\", 'plenty'), 8.278672385245809),\n",
       " (('friends', 'house'), 8.277099965427055),\n",
       " ((\"'ve\", 'seen'), 8.276903533397222),\n",
       " (('cool', 'technology'), 8.274408369420792),\n",
       " (('version', 'flipboard'), 8.266140753437188),\n",
       " (('sets', 'temporary'), 8.243267049114612),\n",
       " (('3', 'days'), 8.208807578371237),\n",
       " (('thing', \"'ve\"), 8.204753747641385),\n",
       " (('free', 'sxswpass'), 8.201332457809091),\n",
       " (('work', '7'), 8.19019190020389),\n",
       " (('us', 'h4ckers'), 8.186087501871155),\n",
       " (('see', 'aquent'), 8.181340982621625),\n",
       " (('room', 'full'), 8.168165593873892),\n",
       " (('10:30', 'line'), 8.16816559387389),\n",
       " (('people', 'rather'), 8.148625407478248),\n",
       " (('saving', 'japan'), 8.128637229687255),\n",
       " (('join', 'us'), 8.127670815645832),\n",
       " (('left', 'white'), 8.125096871982004),\n",
       " (('others', 'pic'), 8.118042114448055),\n",
       " (('campbell', 'pop-up'), 8.11452763027182),\n",
       " (('20+', 'free'), 8.108223053417607),\n",
       " (('starting', 'tonight'), 8.101051398015354),\n",
       " (('important', 'make'), 8.098383588677589),\n",
       " (('phone', '7'), 8.083276696287378),\n",
       " (('saves', 'users'), 8.083276696287378),\n",
       " (('lt', 'lt'), 8.081560223698359),\n",
       " (('set', 'open'), 8.078758318600368),\n",
       " (('free', 'limited'), 8.075801575725233),\n",
       " (('coming', 'soon'), 8.074470798912037),\n",
       " (('love', 'story'), 8.042634711790033),\n",
       " (('ta', 'love'), 8.042634711790033),\n",
       " ((\"'ve\", 'heard'), 8.023146941151436),\n",
       " (('years', 'every'), 8.016162500428841),\n",
       " (('preview', 'big'), 8.014077465424398),\n",
       " (('apps', 'connected'), 8.003106347603396),\n",
       " (('yes', 'updated'), 8.003106347603396),\n",
       " (('industry', 'party'), 7.9771231439719585),\n",
       " (('please', 'help'), 7.970267734458194),\n",
       " (('sampler', 'itunes'), 7.95660127226258),\n",
       " (('go', 'beyond'), 7.953077973160678),\n",
       " (('free', 'parking'), 7.938298051975298),\n",
       " (('need', 'qr'), 7.931273602842328),\n",
       " (('wo', \"n't\"), 7.927157494370096),\n",
       " (('free', 'tracks'), 7.896477876280672),\n",
       " (('opens', '5'), 7.890631618344981),\n",
       " (('ca', \"n't\"), 7.889682788951436),\n",
       " (('guy', 'bought'), 7.87382333065843),\n",
       " (('lost', 'way'), 7.856264959274123),\n",
       " (('fast', 'company'), 7.843325903566628),\n",
       " (('feel', 'like'), 7.838164198450848),\n",
       " (('tonight', 'person'), 7.83559025478702),\n",
       " (('network', 'called'), 7.8317655850524766),\n",
       " (('much', 'business'), 7.824542427887209),\n",
       " (('usage', 'mobile'), 7.822763483477424),\n",
       " (('hootsuite', 'mobile'), 7.810163446697787),\n",
       " (('you\\x89ûªll', 'get'), 7.797522213953499),\n",
       " (('make', 'sure'), 7.788043468065439),\n",
       " (('6th', 'street'), 7.7651007362611235),\n",
       " (('longest', 'line'), 7.7531280945950485),\n",
       " (('gt', 'gt'), 7.750398301839475),\n",
       " (('web', 'site'), 7.746585248728277),\n",
       " (('location', 'location'), 7.7464492544744274),\n",
       " (('lt', '--'), 7.743144006022424),\n",
       " (('popup', 'shop'), 7.722686981030911),\n",
       " (('walking', 'around'), 7.696484515237353),\n",
       " (('opening', 'temporary'), 7.6948365499789375),\n",
       " (('called', \"'circles\"), 7.680658456262602),\n",
       " (('today', 'consider'), 7.65541515665095),\n",
       " (('mobile', 'accessibility'), 7.649227228482731),\n",
       " (('saw', 'someone'), 7.646928690763122),\n",
       " (('possibly', 'today'), 7.642759855844922),\n",
       " (('arduino', 'android'), 7.642704104901398),\n",
       " (('two', 'days'), 7.642704104901398),\n",
       " (('--', 'belinsky'), 7.637650877175112),\n",
       " (('anyone', 'know'), 7.6096203331850365),\n",
       " (('last', 'year'), 7.591777828890745),\n",
       " (('seen', 'two'), 7.586120576535031),\n",
       " (('know', 'little'), 7.581469292870887),\n",
       " (('mobile', 'stats'), 7.578837900591335),\n",
       " (('think', 'speak'), 7.578353693491339),\n",
       " (('looks', 'like'), 7.578041388036956),\n",
       " (('security', 'guy'), 7.570146940327289),\n",
       " ((\"n't\", 'worry'), 7.564587414985388),\n",
       " (('ai', \"n't\"), 7.5121199950912505),\n",
       " (('next', 'platform'), 7.502135906518628),\n",
       " ((\"'d\", 'love'), 7.490093688761256),\n",
       " (('circles', '______'), 7.489183183814093),\n",
       " (('circles', 'looms'), 7.489183183814093),\n",
       " (('launch', 'bit.ly/g03mzb'), 7.475594119066141),\n",
       " (('blackberry', 'follow'), 7.465325783612309),\n",
       " (('year', 'old'), 7.463621477400061),\n",
       " (('social', 'network'), 7.461699513354191),\n",
       " (('take', 'photos'), 7.460792516714779),\n",
       " (('circles', 'possibly'), 7.457334317774755),\n",
       " (('saving', 'users'), 7.4311999997076885),\n",
       " (('mobile', 'devices'), 7.426834807146282),\n",
       " (('sounds', 'like'), 7.42031168356495),\n",
       " (('--', 'gt'), 7.418599962928049),\n",
       " (('please', 'let'), 7.417873096193468),\n",
       " (('give', 'away'), 7.41670043001257),\n",
       " (('seen', 'many'), 7.4152584558386625),\n",
       " (('open', 'source'), 7.412091176759981),\n",
       " (('7', 'people'), 7.41165981331204),\n",
       " (('r', 'going'), 7.410735897147967),\n",
       " (('gets', 'better'), 7.409504928608367),\n",
       " (('mayer', 'location-based'), 7.4090265021271495),\n",
       " (('using', 'south'), 7.405204791174743),\n",
       " (('every', 'person'), 7.402630847510915),\n",
       " (('wish', 'could'), 7.394936455720915),\n",
       " (('good', 'times'), 7.389344136265448),\n",
       " (('big', 'news'), 7.383675468218545),\n",
       " (('might', 'well'), 7.380935776411597),\n",
       " (('launch', 'major'), 7.378869347604418),\n",
       " (('block', 'long'), 7.37545744778069),\n",
       " (('design', 'boomers'), 7.367069662287969),\n",
       " (('site', 'coming'), 7.35956212561903),\n",
       " (('art', 'interactive'), 7.340825563037441),\n",
       " (('giveaway', 'coming'), 7.317741949924402),\n",
       " ((\"'get\", 'social'), 7.307960929131815),\n",
       " (('live', 'video'), 7.299005387342815),\n",
       " (('year', 'including'), 7.29369647595775),\n",
       " (('bought', 'first'), 7.293199765661612),\n",
       " (('opened', 'pop-up'), 7.291405392355896),\n",
       " (('called', 'circles'), 7.2840110079955345),\n",
       " (('fast', 'fun'), 7.258363402845468),\n",
       " (('forget', 'come'), 7.246775428570258),\n",
       " (('since', \"'m\"), 7.241016159281575),\n",
       " (('streaming', 'time'), 7.2406330242266375),\n",
       " (('using', 'laptop'), 7.235279789732429),\n",
       " (('opening', 'temp'), 7.231925038099275),\n",
       " (('bands', 'want'), 7.209557225070823),\n",
       " (('maps', 'navigation'), 7.2061334440729095),\n",
       " (('and/or', 'free'), 7.201332457809091),\n",
       " (('cst', 'today'), 7.195983538013655),\n",
       " (('meet', 'guy'), 7.170216333438654),\n",
       " (('photo', 'booth'), 7.168165593873891),\n",
       " (('standing', 'line'), 7.168165593873891),\n",
       " ((\"'re\", 'launching'), 7.165461774797819),\n",
       " (('technology', 'one'), 7.146307405012976),\n",
       " (('groundlink', 'app'), 7.135744116181517),\n",
       " (('andoid', 'app'), 7.135744116181513),\n",
       " (('anyone', 'else'), 7.132186296768326),\n",
       " (('presentation', 'digital'), 7.121917961314498),\n",
       " ((\"n't\", 'forget'), 7.107729740011919),\n",
       " (('gsd', 'amp'), 7.105778694782227),\n",
       " (('wins', 'best'), 7.093186242771182),\n",
       " (('guy', 'front'), 7.064506892267536),\n",
       " (('never', 'would'), 7.063828934059156),\n",
       " (('party', 'maggie'), 7.0451415674006075),\n",
       " (('via', 'hashable'), 7.020266898761577),\n",
       " (('bad', 'news'), 7.014796958404611),\n",
       " (('designing', 'digital'), 7.01472871522015),\n",
       " (('real', 'time'), 7.003593826925785),\n",
       " (('much', 'better'), 6.98727192792532),\n",
       " (('let', 'us'), 6.986209278327214),\n",
       " (('omg', \"'m\"), 6.977981753447779),\n",
       " (('saw', 'u'), 6.971768381070387),\n",
       " (('social', 'networking'), 6.970091290375434),\n",
       " (('android', 'marketplace'), 6.96463219978876),\n",
       " (('great', 'job'), 6.9507259655085),\n",
       " (('free', 'beer'), 6.938298051975298),\n",
       " (('android', 'choice'), 6.9228120240941315),\n",
       " (('photos', 'video'), 6.922760371061029),\n",
       " (('really', 'excited'), 6.918551703802418),\n",
       " (('fun', 'future'), 6.916918309865258),\n",
       " (('let', 'know'), 6.915206690047883),\n",
       " (('open', 'popup'), 6.913285319788539),\n",
       " (('austin', 'eats'), 6.911825840614105),\n",
       " (('around', 'world'), 6.895793323460762),\n",
       " (('tries', 'launch'), 6.890631618344981),\n",
       " (('social', 'media'), 6.890552525390227),\n",
       " (('built', 'pop'), 6.889129593179753),\n",
       " (('pop-up', 'shop'), 6.867887662688695),\n",
       " (('na', 'make'), 6.849154982368823),\n",
       " (('come', 'say'), 6.843810761591989),\n",
       " (('good', 'morning'), 6.821060376690921),\n",
       " (('every', 'day'), 6.812290167063191),\n",
       " (('android', '3.0'), 6.794707198346449),\n",
       " (('q', 'amp'), 6.790905357428814),\n",
       " (('relief', \"n't\"), 6.763658762087216),\n",
       " (('go', 'home'), 6.7604328952182815),\n",
       " (('tell', 'us'), 6.738628524899934),\n",
       " (('new', 'york'), 6.7287439359680885),\n",
       " (('million', 'mobile'), 6.726395089005189),\n",
       " (('years', 'time'), 6.726059851396878),\n",
       " (('also', 'live'), 6.723380751200997),\n",
       " (('later', 'today'), 6.722529352509488),\n",
       " (('åç', 'austin'), 6.719180762671709),\n",
       " (('new', 'ubersocial'), 6.707682320440259),\n",
       " (('free', 'coffee'), 6.698832117279908),\n",
       " (('need', 'sign'), 6.6942344055414775),\n",
       " (('amp', 'physical'), 6.6907411955033815),\n",
       " (('2', 'webdoc.com'), 6.688997757175333),\n",
       " (('guy', 'gets'), 6.681178252716032),\n",
       " ((\"n't\", 'believe'), 6.679229980926513),\n",
       " (('major', 'new'), 6.6735384339446355),\n",
       " (('downtown', 'austin'), 6.667900257728011),\n",
       " (('maps', '150'), 6.664123088536304),\n",
       " (('app', 'madebymany'), 6.650317289011271),\n",
       " ((\"'google\", 'circles'), 6.641186277259143),\n",
       " (('away', '5'), 6.627597212511189),\n",
       " (('fans', 'get'), 6.627597212511189),\n",
       " (('next', 'year'), 6.60564048227249),\n",
       " (('launch', 'circus'), 6.601125001149997),\n",
       " (('line', '100'), 6.583203093152736),\n",
       " (('show', 'might'), 6.564381917507527),\n",
       " (('people', 'work'), 6.559217001725896),\n",
       " (('mae', \"'s\"), 6.549594700509916),\n",
       " (('come', 'play'), 6.538956180063568),\n",
       " (('new', 'buyers'), 6.536098858025692),\n",
       " (('next', 'week'), 6.507189134244916),\n",
       " (('good', 'idea'), 6.476496085360532),\n",
       " (('free', 'drinks'), 6.464366863642885),\n",
       " (('austin', 'tx'), 6.4593136359165975),\n",
       " (('mayer', '40'), 6.453226306037685),\n",
       " (('future', 'location'), 6.4528102040184905),\n",
       " (('80', \"'s\"), 6.442679496593403),\n",
       " (('android', 'market'), 6.436253227433969),\n",
       " (('true', 'come'), 6.4203116835649485),\n",
       " (('interactive', 'maps'), 6.414603489176992),\n",
       " (('facebook', 'twitter'), 6.3987785220153075),\n",
       " (('preview', 'major'), 6.393311993902303),\n",
       " (('heard', \"n't\"), 6.387998683262065),\n",
       " (('excited', 'see'), 6.37726119259688),\n",
       " (('waiting', 'line'), 6.374616471341316),\n",
       " (('reveal', 'new'), 6.36617385658338),\n",
       " (('team', 'android'), 6.3582507154327),\n",
       " (('technology', 'tech'), 6.354578718104776),\n",
       " (('first', 'person'), 6.335019941356235),\n",
       " ((\"'ll\", 'sell'), 6.330256321327255),\n",
       " (('get', 'lp'), 6.319474917148856),\n",
       " (('shiny', 'new'), 6.313706436689245),\n",
       " (('mobile', '150'), 6.311357589726347),\n",
       " (('might', 'win'), 6.309179936420977),\n",
       " (('sixth', 'amp'), 6.2984237727246235),\n",
       " (('locks', 'store'), 6.2887370518889885),\n",
       " (('interfaces', 'new'), 6.288171344582107),\n",
       " (('long', 'line'), 6.286810090372507),\n",
       " (('dancing', 'today'), 6.2769035333972205),\n",
       " (('center', 'w/'), 6.262052417139575),\n",
       " (('cyber', 'iphone'), 6.2487003054947525),\n",
       " (('store', 'includes'), 6.2463017855685905),\n",
       " (('pilhofer', 'new'), 6.243317108797848),\n",
       " (('soon', \"'re\"), 6.228046312175842),\n",
       " ((\"'s\", '1986'), 6.227666605622552),\n",
       " (('still', 'ipads'), 6.211620764262728),\n",
       " (('center', 'today'), 6.204753747641384),\n",
       " (('2', 'yrs'), 6.203570930005091),\n",
       " (('drivers', '2'), 6.203570930005091),\n",
       " (('hoot', 'new'), 6.198229219269308),\n",
       " (('tech', 'technology'), 6.1846537166624636),\n",
       " (('ubersocial', 'iphone'), 6.1845699680750315),\n",
       " ((\"'ve\", 'got'), 6.169988329480709),\n",
       " (('full', 'people'), 6.148625407478248),\n",
       " (('work', '4'), 6.142886185425535),\n",
       " ((\"'s\", 'continued'), 6.13455720123107),\n",
       " (('vs', 'android'), 6.13369045741354),\n",
       " (('setting', 'temporary'), 6.131830996916538),\n",
       " (('austin', 'convention'), 6.1121244910999355),\n",
       " (('amp', '80s'), 6.105778694782227),\n",
       " (('mobile', 'phones'), 6.104906712258922),\n",
       " (('2', 'takes'), 6.104035256454175),\n",
       " (('wait', 'see'), 6.103338470620352),\n",
       " (('conferences', 'quot'), 6.103164326732051),\n",
       " (('social-type', 'quot'), 6.103164326732051),\n",
       " (('mess', 'quot'), 6.103164326732049),\n",
       " (('preferences', 'quot'), 6.103164326732049),\n",
       " (('quot', 'mess'), 6.103164326732049),\n",
       " (('speak.', 'quot'), 6.103164326732047),\n",
       " (('new', 'social'), 6.093605826860788),\n",
       " (('would', 'love'), 6.075801575725233),\n",
       " (('opening', 'pop-up'), 6.068723940658693),\n",
       " (('app', 'song'), 6.065354788290117),\n",
       " (('android', 'camera'), 6.05774160418024),\n",
       " (('social', 'strategy'), 6.053147030102993),\n",
       " (('--', '--'), 6.042157708961785),\n",
       " (('quot', 'mark'), 6.036050130873509),\n",
       " (('like', 'walking'), 6.035970981509022),\n",
       " (('2.', 'quot'), 6.032774998840653),\n",
       " (('1st', 'day'), 6.013705454633321),\n",
       " (('android', 'dev'), 6.010435889401885),\n",
       " (('good', 'news'), 6.008920392067941),\n",
       " ((\"n't\", 'wait'), 6.001158075813873),\n",
       " (('pop-up', 'stores'), 5.999050412851885),\n",
       " (('coming', 'tonight'), 5.987593348232069),\n",
       " (('another', 'great'), 5.979872311168016),\n",
       " (('h4ckers', 'amp'), 5.9682751710322925),\n",
       " (('card', 'via'), 5.965819114739201),\n",
       " ((\"'s\", 'gym'), 5.96463219978876),\n",
       " (('gold', \"'s\"), 5.96463219978876),\n",
       " (('meet', 'us'), 5.96463219978876),\n",
       " (('open', 'pop-up'), 5.96175734986857),\n",
       " (('says', 'future'), 5.942913518398202),\n",
       " (('new', 'navigation'), 5.942868741320938),\n",
       " (('last', 'day'), 5.925946948858758),\n",
       " (('comes', 'w/'), 5.919164703616568),\n",
       " (('app', 'bizzy'), 5.913351694845064),\n",
       " (('store', 'downtown'), 5.901220615374047),\n",
       " (('want', 'win'), 5.887629130183459),\n",
       " (('2', 'giveaway'), 5.881642835117729),\n",
       " (('open', 'temporary'), 5.864095002392771),\n",
       " (('need', 'another'), 5.86088427495093),\n",
       " (('line', 'outside'), 5.846237498986529),\n",
       " (('us', 'booth'), 5.846237498986529),\n",
       " (('first', 'day'), 5.84421493445943),\n",
       " (('could', 'win'), 5.84205392599368),\n",
       " (('2', 'money'), 5.834848623638786),\n",
       " (('temporary', 'store'), 5.83274287838729),\n",
       " (('secret', 'new'), 5.811206096160062),\n",
       " (('look', 'around'), 5.807701993835904),\n",
       " ((\"'s\", 'rumor'), 5.799572953518261),\n",
       " ((\"n't\", 'miss'), 5.7896539706201615),\n",
       " ((\"'re\", 'giving'), 5.784277094353682),\n",
       " (('great', 'presentation'), 5.776958897771795),\n",
       " (('day', '1'), 5.771344617064276),\n",
       " (('iphone', '3gs'), 5.763273478324507),\n",
       " (('2', 'years'), 5.759387085066729),\n",
       " (('ios', 'android'), 5.7551788341598105),\n",
       " (('setting', 'pop-up'), 5.745293820606099),\n",
       " (('netflix', 'iphone'), 5.734127132664991),\n",
       " (('24/7', 'amp'), 5.727267071528498),\n",
       " (('free', 'food'), 5.723285161004448),\n",
       " (('amp', 'ride'), 5.713461272003467),\n",
       " (('digital', 'amp'), 5.707229318291951),\n",
       " (('1st', 'time'), 5.690435941666156),\n",
       " (('every', 'time'), 5.681665732038423),\n",
       " (('news', 'apps'), 5.671592203886833),\n",
       " (('anywhere', 'austin'), 5.663898327170521),\n",
       " (('iphone', 'chargers'), 5.663737804773593),\n",
       " (('really', 'want'), 5.653956783981007),\n",
       " (('geekfest', 'apple'), 5.652226879019905),\n",
       " (('apple', 'winsåê'), 5.652226879019903),\n",
       " (('apple', 'naomi'), 5.652226879019901),\n",
       " (('amp', 'congress'), 5.646347076144931),\n",
       " (('android', 'developers'), 5.6427041049014),\n",
       " (('look', 'like'), 5.6326152872778135),\n",
       " (('guy', 'next'), 5.630552179646063),\n",
       " (('able', 'get'), 5.627597212511187),\n",
       " (('updates', 'iphone'), 5.623095820276248),\n",
       " (('last', 'week'), 5.618857362947029),\n",
       " (('go', 'game'), 5.6125342001059675),\n",
       " (('android', 'vs'), 5.603175740714761),\n",
       " (('sell', 'ipad2'), 5.601739916996866),\n",
       " (('iphone', 'charger'), 5.601002049425631),\n",
       " (('indie', 'iphone'), 5.5966236089150545),\n",
       " (('amp', 'bing'), 5.595583962463039),\n",
       " (('maps', 'users'), 5.595175734818813),\n",
       " ((\"n't\", 'go'), 5.590507893775971),\n",
       " (('cab', 'austin'), 5.589897745726747),\n",
       " (('austin', 'guide'), 5.589897745726743),\n",
       " (('quot', 'groupon'), 5.588591153902289),\n",
       " (('maps', 'mobile'), 5.578837900591331),\n",
       " (('panhandling', 'ipad'), 5.568102525723086),\n",
       " (('googletv', 'ipad'), 5.568102525723084),\n",
       " (('launches', 'android'), 5.564701592900125),\n",
       " (('pop', 'shop'), 5.562039793176611),\n",
       " (('today', 'updated'), 5.5558794831000355),\n",
       " (('austin', 'texas'), 5.539857063227149),\n",
       " (('would', 'make'), 5.53836744508666),\n",
       " (('ipad', 'interfaces'), 5.529628377908445),\n",
       " (('ipad', '2s'), 5.523708406364634),\n",
       " (('apple', 'schools'), 5.522943862074936),\n",
       " (('ipad', '2.'), 5.497713197831686),\n",
       " (('google', 'tries'), 5.492030421842818),\n",
       " (('google', 'circles\\x89û\\x9d'), 5.492030421842816),\n",
       " (('looms', 'google'), 5.492030421842816),\n",
       " (('re-tweeted', 'google'), 5.492030421842816),\n",
       " (('google', 'docs'), 5.492030421842815),\n",
       " (('pop', 'store'), 5.488346077581149),\n",
       " ((\"'m\", 'going'), 5.483586462555648),\n",
       " (('apple', 'likes'), 5.4823018775775925),\n",
       " (('store', 'sixth'), 5.481382129831385),\n",
       " (('pop-up', 'store'), 5.47610718779071),\n",
       " (('tweet', 'us'), 5.475594119066141),\n",
       " (('android', 'developer'), 5.472779103459084),\n",
       " (('go', 'available'), 5.453004370026033),\n",
       " (('apple', 'opening'), 5.446642745370006),\n",
       " (('gets', 'temporary'), 5.442171117528687),\n",
       " (('social', 'important'), 5.441712318020642),\n",
       " (('free', 'march'), 5.435797711446115),\n",
       " (('novelty', 'ipad'), 5.43059900197315),\n",
       " (('apple', 'fanboy'), 5.429834457683455),\n",
       " (('love', 'music'), 5.427924867674825),\n",
       " ((\"'s\", 'ever'), 5.412091176759983),\n",
       " (('begins', 'apple'), 5.411218779516108),\n",
       " (('camera', 'app'), 5.398778522015309),\n",
       " ((\"'s\", 'rumored'), 5.397591607064866),\n",
       " (('see', 'someone'), 5.397069673677061),\n",
       " (('best', 'buy'), 5.394936455720915),\n",
       " (('ipad2', 'release'), 5.386011225941433),\n",
       " ((\"'re\", 'heading'), 5.385587589162322),\n",
       " (('lp', 'austin'), 5.381311123915328),\n",
       " (('developing', 'iphone'), 5.374231187578607),\n",
       " (('party', 'tonight'), 5.367069662287969),\n",
       " (('quot', 'gave'), 5.366198732565842),\n",
       " (('mobile', 'phone'), 5.356445479254887),\n",
       " (('week', 'popup'), 5.334581809539063),\n",
       " ((\"'m\", 'looking'), 5.329552833883229),\n",
       " (('temp', 'store'), 5.327211199703626),\n",
       " (('says', 'would'), 5.326863339892951),\n",
       " (('new', 'blog'), 5.326645492396741),\n",
       " (('many', 'people'), 5.31479827405945),\n",
       " (('showing', 'new'), 5.313706436689243),\n",
       " (('service', 'mobile'), 5.311357589726347),\n",
       " (('ipad', '2'), 5.298781857041863),\n",
       " (('us', 'know'), 5.297676326870297),\n",
       " (('selling', 'ipad2'), 5.292901821549949),\n",
       " (('store', 'handle'), 5.2887370518889885),\n",
       " (('check', 'designing'), 5.287747209626563),\n",
       " (('come', 'see'), 5.278566495485338),\n",
       " (('6th', 'amp'), 5.275703696224539),\n",
       " (('blackberry', 'amp'), 5.275703696224539),\n",
       " (('google', 'screw'), 5.269638000506369),\n",
       " (('time', 'every'), 5.266628232759578),\n",
       " (('version', 'android'), 5.240605661330051),\n",
       " ((\"n't\", 'need'), 5.237497614982246),\n",
       " (('apple', 'heads'), 5.237189379741057),\n",
       " (('austin', 'bbq'), 5.233753935501468),\n",
       " (('line', 'front'), 5.2295661385380345),\n",
       " (('maps', 'use'), 5.223875026460179),\n",
       " (('opening', 'pop'), 5.221837526820355),\n",
       " (('mobile', 'users'), 5.220383929678857),\n",
       " (('really', 'need'), 5.219553959835233),\n",
       " ((\"'ll\", 'using'), 5.2140633038227335),\n",
       " (('amp', 'wan'), 5.212693898698738),\n",
       " (('swarms', 'ipad'), 5.205532446338376),\n",
       " (('advice', 'google'), 5.202523804647834),\n",
       " (('google', 'doodles'), 5.202523804647834),\n",
       " ((\"'m\", 'sure'), 5.193710444503216),\n",
       " (('google', 'earth'), 5.192470139983909),\n",
       " (('ipad', 'envy'), 5.189590902469355),\n",
       " (('2', 'blocks'), 5.186497416646148),\n",
       " (('store', '.....'), 5.173259834469052),\n",
       " (('free', 'music'), 5.1715851144150395),\n",
       " (('really', 'cool'), 5.168529956810767),\n",
       " (('apple', 'comes'), 5.161240526507758),\n",
       " (('android', 'phone'), 5.157277277731154),\n",
       " (('mom', 'ipad'), 5.153065026444239),\n",
       " (('iphone', '4g'), 5.149164631943835),\n",
       " (('new', 'album'), 5.143781435246932),\n",
       " (('went', 'new'), 5.143781435246931),\n",
       " (('plenty', 'free'), 5.130943129917693),\n",
       " (('google', 'reveal'), 5.129460342458108),\n",
       " (('apple', 'opened'), 5.1286649229628924),\n",
       " (('win', 'free'), 5.122381116414271),\n",
       " (('google', 'maps'), 5.112182351026274),\n",
       " (('custom', 'iphone'), 5.111196781744814),\n",
       " (('google', 'analytics'), 5.1087017822913126),\n",
       " (('right', 'next'), 5.106651204661189),\n",
       " (('day', '3'), 5.104470918556501),\n",
       " (('new', 'version'), 5.104253071060294),\n",
       " (('quot', 'rewards'), 5.103164326732051),\n",
       " (('publishing', 'quot'), 5.103164326732049),\n",
       " (('quot', 'classiest'), 5.103164326732049),\n",
       " (('android', 'phones'), 5.098383588677587),\n",
       " (('40', 'google'), 5.096101745511678),\n",
       " (('wants', 'new'), 5.091314015352799),\n",
       " (('rumor', 'apple'), 5.086629703165677),\n",
       " (('iphone', 'battery'), 5.085201573211872),\n",
       " (('ipad', 'dj'), 5.0826756985528405),\n",
       " (('austin', 'pics'), 5.081750842056419),\n",
       " ((\"n't\", 'able'), 5.079160587815148),\n",
       " (('google', 'tests'), 5.0769929225639725),\n",
       " (('via', 'twitter'), 5.076850427127946),\n",
       " (('tv', 'day'), 5.067476711074301),\n",
       " (('see', 'us'), 5.029337889176576),\n",
       " (('get', 'look'), 5.024932710056575),\n",
       " (('apple', 'hp'), 5.014796958404613),\n",
       " (('want', 'talk'), 5.003106347603396),\n",
       " (('guide', 'iphone'), 4.9971615384987835),\n",
       " (('austin', 'nerds'), 4.994288000806078),\n",
       " (('iphone', 'blackberry'), 4.985665899660951),\n",
       " (('service', 'called'), 4.9802187381215095),\n",
       " (('google', 'doc'), 4.977457249013057),\n",
       " (('apple', 'elegant'), 4.974154973907266),\n",
       " (('social', 'service'), 4.970091290375432),\n",
       " (('download', 'free'), 4.966115996115057),\n",
       " (('alarm', 'google'), 4.961515705144038),\n",
       " (('google', 'doodle'), 4.961515705144038),\n",
       " (('confirmed', 'apple'), 4.951787160878812),\n",
       " (('mobile', 'future'), 4.938548325836804),\n",
       " (('google', 'connect'), 4.937441570165181),\n",
       " (('2', 'owners'), 4.923463010812355),\n",
       " (('wait', 'line'), 4.920238080430309),\n",
       " (('long', 'time'), 4.918704929339272),\n",
       " (('popup', 'store'), 4.910225428635258),\n",
       " (('amazon', 'google'), 4.90706792112166),\n",
       " (('let', \"'s\"), 4.88333209768691),\n",
       " (('line', 'block'), 4.875383844646047),\n",
       " (('store', 'sold'), 4.862472297186892),\n",
       " (('google', 'denies'), 4.839953725263124),\n",
       " (('bbq', 'iphone'), 4.833662806215907),\n",
       " (('could', \"n't\"), 4.832000261329757),\n",
       " (('gave', 'ipad'), 4.831136931556877),\n",
       " (('new', 'post'), 4.828279609519003),\n",
       " (('sxswi', '2011'), 4.824542427887209),\n",
       " (('retail', 'store'), 4.814805863556577),\n",
       " (('2', 'goes'), 4.814528639259191),\n",
       " (('driven', 'google'), 4.81395851673018),\n",
       " ((\"'s\", 'crazy'), 4.7947071983464475),\n",
       " (('iphone', 'cases'), 4.789268686857454),\n",
       " (('explanation', 'apple'), 4.7777577611037625),\n",
       " (('pls', 'rt'), 4.7741638790592305),\n",
       " (('free', 'itunes'), 4.771344617064276),\n",
       " (('apple', 'wins'), 4.750407272958807),\n",
       " (('ipad', 'design'), 4.7449802878071665),\n",
       " (('link', 'sxswcares'), 4.744614585640216),\n",
       " (('rage', 'link'), 4.744614585640216),\n",
       " (('link', 'tech_news'), 4.744614585640214),\n",
       " (('link', '\\x89ã_'), 4.744614585640214),\n",
       " (('cont', 'link'), 4.74461458564021),\n",
       " ((\"'s\", 'official'), 4.742239778452312),\n",
       " (('us', 'make'), 4.742239778452312),\n",
       " (('austin', 'atx'), 4.741900839171793),\n",
       " (('iphone', 'app'), 4.7417403167748695),\n",
       " (('iphone', 'version'), 4.739686658006892),\n",
       " (('cnn', 'launch'), 4.738628524899934),\n",
       " (('see', 'u'), 4.721909363984327),\n",
       " (('iphone', 'case'), 4.721453302629882),\n",
       " (('google', 'latitude'), 4.714422843179262),\n",
       " (('google', 'reader'), 4.714422843179262),\n",
       " (('app', 'updates'), 4.702784708905407),\n",
       " (('apple', 'setting'), 4.69803056863303),\n",
       " (('apple', 'sets'), 4.695295600911788),\n",
       " (('designing', 'ipad'), 4.687684141475756),\n",
       " (('google', 'circle'), 4.6846754997852145),\n",
       " (('austin', 'details'), 4.681528221192311),\n",
       " ((\"'s\", 'marissa'), 4.677751052000598),\n",
       " (('google', 'searches'), 4.668908183926897),\n",
       " (('great', 'panel'), 4.667227457114992),\n",
       " (('know', 'think'), 4.663470307129289),\n",
       " (('tech_news', 'apple'), 4.652226879019903),\n",
       " (('google', 'calendar'), 4.644033515287868),\n",
       " ((\"'ll\", 'need'), 4.640596441939405),\n",
       " (('mayer', 'says'), 4.637650877175114),\n",
       " (('store', 'near'), 4.625772039166559),\n",
       " (('n', 'quot'), 4.617737499561809),\n",
       " (('use', 'mobile'), 4.60807512181643),\n",
       " (('new', 'ipads'), 4.607728535006725),\n",
       " (('verizon', 'iphone'), 4.604844115720027),\n",
       " (('app', 'soon'), 4.599691215941306),\n",
       " (('apple', 'set'), 4.594279529810624),\n",
       " (('guide', 'austin'), 4.589897745726743),\n",
       " (('ur', 'iphone'), 4.58573529277232),\n",
       " (('today', 'share'), 4.585025828759555),\n",
       " ...]"
      ]
     },
     "execution_count": 45,
     "metadata": {},
     "output_type": "execute_result"
    }
   ],
   "source": [
    "# evaluate mutual information scores\n",
    "tweet_pmi_finder = BigramCollocationFinder.from_words(words_stopped)\n",
    "tweet_pmi_finder.apply_freq_filter(5)\n",
    "tweet_pmi_scored = tweet_pmi_finder.score_ngrams(bigram_measures.pmi)\n",
    "tweet_pmi_scored"
   ]
  },
  {
   "cell_type": "markdown",
   "metadata": {},
   "source": [
    "Now that there is a solid understanding of our dataset and initial corpus statistics, we can move on to further data preparation. "
   ]
  },
  {
   "cell_type": "markdown",
   "metadata": {},
   "source": [
    "## 3. Data Preparation"
   ]
  },
  {
   "cell_type": "code",
   "execution_count": null,
   "metadata": {},
   "outputs": [],
   "source": []
  },
  {
   "cell_type": "code",
   "execution_count": null,
   "metadata": {},
   "outputs": [],
   "source": []
  },
  {
   "cell_type": "code",
   "execution_count": null,
   "metadata": {},
   "outputs": [],
   "source": []
  },
  {
   "cell_type": "code",
   "execution_count": null,
   "metadata": {},
   "outputs": [],
   "source": []
  },
  {
   "cell_type": "code",
   "execution_count": null,
   "metadata": {},
   "outputs": [],
   "source": []
  },
  {
   "cell_type": "code",
   "execution_count": null,
   "metadata": {},
   "outputs": [],
   "source": []
  },
  {
   "cell_type": "code",
   "execution_count": null,
   "metadata": {},
   "outputs": [],
   "source": []
  },
  {
   "cell_type": "code",
   "execution_count": null,
   "metadata": {},
   "outputs": [],
   "source": []
  },
  {
   "cell_type": "code",
   "execution_count": null,
   "metadata": {},
   "outputs": [],
   "source": []
  },
  {
   "cell_type": "code",
   "execution_count": null,
   "metadata": {},
   "outputs": [],
   "source": []
  },
  {
   "cell_type": "code",
   "execution_count": 49,
   "metadata": {},
   "outputs": [],
   "source": [
    "# handle class imbalance"
   ]
  },
  {
   "cell_type": "code",
   "execution_count": 52,
   "metadata": {},
   "outputs": [],
   "source": [
    "# experiment with bigrams and other feature engineering"
   ]
  },
  {
   "cell_type": "code",
   "execution_count": 53,
   "metadata": {},
   "outputs": [
    {
     "ename": "NameError",
     "evalue": "name 'binary_clean_df' is not defined",
     "output_type": "error",
     "traceback": [
      "\u001b[0;31m---------------------------------------------------------------------------\u001b[0m",
      "\u001b[0;31mNameError\u001b[0m                                 Traceback (most recent call last)",
      "\u001b[0;32m<ipython-input-53-dec67916671e>\u001b[0m in \u001b[0;36m<module>\u001b[0;34m\u001b[0m\n\u001b[1;32m      1\u001b[0m \u001b[0;31m# split dataset into train and test set\u001b[0m\u001b[0;34m\u001b[0m\u001b[0;34m\u001b[0m\u001b[0;34m\u001b[0m\u001b[0m\n\u001b[1;32m      2\u001b[0m \u001b[0;32mfrom\u001b[0m \u001b[0msklearn\u001b[0m\u001b[0;34m.\u001b[0m\u001b[0mmodel_selection\u001b[0m \u001b[0;32mimport\u001b[0m \u001b[0mtrain_test_split\u001b[0m\u001b[0;34m\u001b[0m\u001b[0;34m\u001b[0m\u001b[0m\n\u001b[0;32m----> 3\u001b[0;31m \u001b[0mtrain_df\u001b[0m\u001b[0;34m,\u001b[0m \u001b[0mtest_df\u001b[0m \u001b[0;34m=\u001b[0m \u001b[0mtrain_test_split\u001b[0m\u001b[0;34m(\u001b[0m\u001b[0mbinary_clean_df\u001b[0m\u001b[0;34m,\u001b[0m \u001b[0mrandom_state\u001b[0m\u001b[0;34m=\u001b[0m\u001b[0mSEED\u001b[0m\u001b[0;34m)\u001b[0m\u001b[0;34m\u001b[0m\u001b[0;34m\u001b[0m\u001b[0m\n\u001b[0m",
      "\u001b[0;31mNameError\u001b[0m: name 'binary_clean_df' is not defined"
     ]
    }
   ],
   "source": [
    "# split dataset into train and test set\n",
    "from sklearn.model_selection import train_test_split\n",
    "train_df, test_df = train_test_split(binary_clean_df, random_state=SEED)"
   ]
  },
  {
   "cell_type": "code",
   "execution_count": 85,
   "metadata": {},
   "outputs": [],
   "source": [
    "# split into data and target\n",
    "train_data = train_df['text']\n",
    "train_target = train_df['emotion']\n",
    "\n",
    "test_data = test_df['text']\n",
    "test_target = test_df['emotion']"
   ]
  },
  {
   "cell_type": "code",
   "execution_count": 72,
   "metadata": {},
   "outputs": [],
   "source": [
    "# pull in stop words from english language\n",
    "stopwords_list = stopwords.words('english') + list(string.punctuation)\n",
    "stopwords_list += [\"''\", '\"\"', '...', '``']"
   ]
  },
  {
   "cell_type": "code",
   "execution_count": 73,
   "metadata": {},
   "outputs": [],
   "source": [
    "# create function to process a single tweet\n",
    "def process_tweet(tweet):\n",
    "    \"\"\"\n",
    "    Input: tweet of type str\n",
    "    Function tokenizes tweet using function from nltk\n",
    "    Lowercase every token, remove any stopwords found in stopwords_list from the tokenized article, \n",
    "    and return the results\n",
    "    \"\"\"\n",
    "    tokens = nltk.word_tokenize(tweet)\n",
    "    stopwords_removed = [token.lower() for token in tokens if token.lower() not in stopwords_list]\n",
    "    return stopwords_removed"
   ]
  },
  {
   "cell_type": "code",
   "execution_count": 74,
   "metadata": {},
   "outputs": [],
   "source": [
    "# use map function to call process_tweet on our data\n",
    "processed_data = list(map(process_tweet, train_data))"
   ]
  },
  {
   "cell_type": "code",
   "execution_count": 75,
   "metadata": {},
   "outputs": [
    {
     "data": {
      "text/plain": [
       "['google',\n",
       " 'crisis',\n",
       " 'response',\n",
       " 'site',\n",
       " 'w/',\n",
       " 'good',\n",
       " 'info',\n",
       " 'japanese',\n",
       " 'earthquake/tsunami',\n",
       " 'link',\n",
       " 'sxsw',\n",
       " 'sxswi']"
      ]
     },
     "execution_count": 75,
     "metadata": {},
     "output_type": "execute_result"
    }
   ],
   "source": [
    "processed_data[0]"
   ]
  },
  {
   "cell_type": "code",
   "execution_count": 76,
   "metadata": {},
   "outputs": [
    {
     "data": {
      "text/plain": [
       "7684    #Google Crisis Response has a site up w/ good ...\n",
       "9063    @mention You should get the iPad 2  to save yo...\n",
       "8457    It was either go to #SXSW or wait in line and ...\n",
       "2040    Sweet... Apple listened to us!  A temp Apple S...\n",
       "285     At #SXSW, Apple schools the marketing experts ...\n",
       "Name: text, dtype: object"
      ]
     },
     "execution_count": 76,
     "metadata": {},
     "output_type": "execute_result"
    }
   ],
   "source": [
    "train_data.head()"
   ]
  },
  {
   "cell_type": "code",
   "execution_count": 77,
   "metadata": {},
   "outputs": [],
   "source": [
    "# looks like our tokenizing worked properly, as well as the removal of some stop words"
   ]
  },
  {
   "cell_type": "code",
   "execution_count": 78,
   "metadata": {},
   "outputs": [
    {
     "data": {
      "text/plain": [
       "5376"
      ]
     },
     "execution_count": 78,
     "metadata": {},
     "output_type": "execute_result"
    }
   ],
   "source": [
    "# get total vocabulary size of our training set\n",
    "total_vocab = set()\n",
    "for tweet in processed_data:\n",
    "    total_vocab.update(tweet)\n",
    "len(total_vocab)"
   ]
  },
  {
   "cell_type": "code",
   "execution_count": 79,
   "metadata": {},
   "outputs": [],
   "source": [
    "# total number of unique words in our training set is 5374"
   ]
  },
  {
   "cell_type": "code",
   "execution_count": 81,
   "metadata": {},
   "outputs": [
    {
     "data": {
      "text/plain": [
       "[('sxsw', 2758),\n",
       " ('mention', 1878),\n",
       " ('link', 989),\n",
       " ('ipad', 891),\n",
       " ('rt', 810),\n",
       " ('apple', 769),\n",
       " ('google', 656),\n",
       " ('iphone', 514),\n",
       " ('quot', 479),\n",
       " ('store', 424),\n",
       " ('2', 418),\n",
       " (\"'s\", 412),\n",
       " ('app', 325),\n",
       " ('new', 295),\n",
       " ('austin', 241),\n",
       " ('android', 174),\n",
       " (\"n't\", 172),\n",
       " ('amp', 169),\n",
       " ('ipad2', 166),\n",
       " ('launch', 135),\n",
       " ('get', 134),\n",
       " ('pop-up', 121),\n",
       " ('one', 120),\n",
       " ('time', 116),\n",
       " ('social', 113),\n",
       " ('great', 112),\n",
       " ('circles', 111),\n",
       " ('party', 107),\n",
       " ('today', 101),\n",
       " ('line', 100),\n",
       " ('like', 100),\n",
       " ('free', 100),\n",
       " ('via', 97),\n",
       " (\"'m\", 97),\n",
       " ('cool', 96),\n",
       " ('apps', 89),\n",
       " ('people', 87),\n",
       " ('maps', 87),\n",
       " ('day', 87),\n",
       " ('go', 83),\n",
       " ('good', 79),\n",
       " ('sxswi', 79),\n",
       " ('got', 77),\n",
       " ('love', 75),\n",
       " ('mobile', 75),\n",
       " ('network', 72),\n",
       " ('awesome', 71),\n",
       " ('opening', 70),\n",
       " ('temporary', 68),\n",
       " (\"'re\", 67),\n",
       " ('w/', 66),\n",
       " ('see', 66),\n",
       " ('check', 65),\n",
       " ('downtown', 64),\n",
       " ('need', 64),\n",
       " ('\\x89ûï', 59),\n",
       " ('thanks', 58),\n",
       " ('first', 58),\n",
       " ('best', 58),\n",
       " ('called', 57),\n",
       " ('going', 56),\n",
       " ('popup', 55),\n",
       " ('design', 54),\n",
       " ('major', 54),\n",
       " ('come', 53),\n",
       " ('open', 51),\n",
       " ('users', 51),\n",
       " ('next', 51),\n",
       " ('mayer', 50),\n",
       " ('around', 50),\n",
       " ('use', 49),\n",
       " ('ever', 49),\n",
       " ('even', 49),\n",
       " (\"'ve\", 48),\n",
       " ('think', 47),\n",
       " (\"'ll\", 47),\n",
       " ('heard', 46),\n",
       " ('want', 46),\n",
       " ('news', 45),\n",
       " ('win', 45),\n",
       " ('really', 45),\n",
       " ('us', 44),\n",
       " ('would', 44),\n",
       " ('know', 43),\n",
       " ('fun', 43),\n",
       " ('using', 42),\n",
       " ('coming', 41),\n",
       " ('tech', 41),\n",
       " ('nice', 40),\n",
       " ('big', 40),\n",
       " ('marissa', 40),\n",
       " ('technology', 40),\n",
       " ('could', 40),\n",
       " ('right', 39),\n",
       " ('4', 38),\n",
       " ('pop', 38),\n",
       " ('comes', 38),\n",
       " ('still', 38),\n",
       " ('game', 38),\n",
       " ('case', 38),\n",
       " ('video', 38),\n",
       " ('panel', 38),\n",
       " ('team', 38),\n",
       " ('set', 37),\n",
       " ('gt', 36),\n",
       " ('shop', 36),\n",
       " ('talk', 36),\n",
       " ('better', 36),\n",
       " ('possibly', 36),\n",
       " ('phone', 36),\n",
       " ('search', 35),\n",
       " ('smart', 35),\n",
       " ('work', 34),\n",
       " ('wow', 34),\n",
       " ('much', 34),\n",
       " ('wait', 33),\n",
       " ('year', 33),\n",
       " ('wins', 33),\n",
       " ('way', 33),\n",
       " ('thing', 33),\n",
       " ('buy', 32),\n",
       " ('ipads', 32),\n",
       " ('everyone', 32),\n",
       " ('music', 32),\n",
       " ('marketing', 31),\n",
       " ('away', 31),\n",
       " ('yes', 31),\n",
       " ('week', 31),\n",
       " ('make', 31),\n",
       " ('--', 31),\n",
       " ('also', 30),\n",
       " ('..', 30),\n",
       " ('looking', 30),\n",
       " ('back', 29),\n",
       " ('fast', 29),\n",
       " ('already', 29),\n",
       " ('may', 29),\n",
       " ('web', 29),\n",
       " ('rumor', 29),\n",
       " ('every', 29),\n",
       " ('well', 29),\n",
       " ('live', 28),\n",
       " ('session', 28),\n",
       " ('getting', 28),\n",
       " ('says', 27),\n",
       " ('booth', 27),\n",
       " ('look', 27),\n",
       " ('tonight', 27),\n",
       " ('begins', 27),\n",
       " ('last', 27),\n",
       " ('temp', 26),\n",
       " ('conferences', 26),\n",
       " ('looks', 26),\n",
       " ('amazing', 26),\n",
       " ('download', 26),\n",
       " ('hey', 26),\n",
       " ('made', 26),\n",
       " ('giving', 25),\n",
       " ('guy', 25),\n",
       " ('tomorrow', 25),\n",
       " ('excited', 25),\n",
       " ('1', 25),\n",
       " ('tapworthy', 25),\n",
       " ('product', 25),\n",
       " ('sxsw\\x89û\\x9d', 25),\n",
       " ('interactive', 25),\n",
       " ('ready', 25),\n",
       " ('keep', 25),\n",
       " ('winning', 24),\n",
       " ('3', 24),\n",
       " ('long', 24),\n",
       " ('show', 24),\n",
       " ('ca', 24),\n",
       " ('info', 23),\n",
       " ('u', 23),\n",
       " ('tweet', 23),\n",
       " ('far', 23),\n",
       " ('years', 23),\n",
       " ('action', 23),\n",
       " ('tv', 23),\n",
       " ('available', 23),\n",
       " ('white', 22),\n",
       " ('2011', 22),\n",
       " ('itunes', 22),\n",
       " ('oh', 22),\n",
       " ('many', 22),\n",
       " ('pretty', 22),\n",
       " ('take', 22),\n",
       " ('company', 22),\n",
       " ('bing', 22),\n",
       " ('makes', 22),\n",
       " ('traffic', 22),\n",
       " ('future', 22),\n",
       " ('lt', 21),\n",
       " ('digital', 21),\n",
       " ('market', 21),\n",
       " ('world', 21),\n",
       " ('attendees', 21),\n",
       " ('twitter', 21),\n",
       " ('release', 21)]"
      ]
     },
     "execution_count": 81,
     "metadata": {},
     "output_type": "execute_result"
    }
   ],
   "source": [
    "# create frequency distribution to see which words appear the most\n",
    "tweets_concat = []\n",
    "for tweet in processed_data:\n",
    "    tweets_concat += tweet\n",
    "    \n",
    "tweet_freqdist = FreqDist(tweets_concat)\n",
    "tweet_freqdist.most_common(200)"
   ]
  },
  {
   "cell_type": "markdown",
   "metadata": {},
   "source": [
    "Given this is a frequency distribution across both of our sentiments (positive and negative), it is likely that the words presented above are the least important, as they are shared among both classses.  Knowing this, we will try to focus on words that appear frequently in one class but not the other"
   ]
  },
  {
   "cell_type": "code",
   "execution_count": 82,
   "metadata": {},
   "outputs": [],
   "source": [
    "# vectorize with TF-IDF"
   ]
  },
  {
   "cell_type": "code",
   "execution_count": 84,
   "metadata": {},
   "outputs": [],
   "source": [
    "# import proper libraries\n",
    "from sklearn.feature_extraction.text import TfidfVectorizer"
   ]
  },
  {
   "cell_type": "code",
   "execution_count": 86,
   "metadata": {},
   "outputs": [],
   "source": [
    "# instantiate vectorizer\n",
    "vectorizer = TfidfVectorizer()\n",
    "\n",
    "# vectorize train and test data\n",
    "tf_idf_data_train = vectorizer.fit_transform(train_data)\n",
    "tf_idf_data_test = vectorizer.transform(test_data)"
   ]
  },
  {
   "cell_type": "code",
   "execution_count": 88,
   "metadata": {},
   "outputs": [
    {
     "data": {
      "text/plain": [
       "(2654, 5199)"
      ]
     },
     "execution_count": 88,
     "metadata": {},
     "output_type": "execute_result"
    }
   ],
   "source": [
    "# look at shape of our vectorized data\n",
    "tf_idf_data_train.shape"
   ]
  },
  {
   "cell_type": "markdown",
   "metadata": {},
   "source": [
    "Our vectorized data contains 2,654 tweets, with 5,199 unique words in the vocabulary.  The vast majority of these columns for any given tweet will be zero, since every article contains a small subset of the total vocabulary"
   ]
  },
  {
   "cell_type": "code",
   "execution_count": 89,
   "metadata": {},
   "outputs": [
    {
     "name": "stdout",
     "output_type": "stream",
     "text": [
      "Average Number of Non-Zero Elements in Vectorized Tweets: 16.66164280331575\n",
      "Percentage of columns containing 0: 0.9967952216189044\n"
     ]
    }
   ],
   "source": [
    "# display number of non-zero columns in the vectors\n",
    "non_zero_cols = tf_idf_data_train.nnz / float(tf_idf_data_train.shape[0])\n",
    "print(f'Average Number of Non-Zero Elements in Vectorized Tweets: {non_zero_cols}')\n",
    "\n",
    "percent_sparse = 1 - (non_zero_cols / float(tf_idf_data_train.shape[1]))\n",
    "print(f'Percentage of columns containing 0: {percent_sparse}')"
   ]
  },
  {
   "cell_type": "markdown",
   "metadata": {},
   "source": [
    "As we can see above the average tweet contains ~16 non-zero columns. "
   ]
  },
  {
   "cell_type": "markdown",
   "metadata": {},
   "source": [
    "## Modeling"
   ]
  },
  {
   "cell_type": "code",
   "execution_count": 90,
   "metadata": {},
   "outputs": [],
   "source": [
    "# import necessary libraries\n",
    "from sklearn.metrics import accuracy_score\n",
    "from sklearn.ensemble import RandomForestClassifier\n",
    "from sklearn.naive_bayes import MultinomialNB"
   ]
  },
  {
   "cell_type": "code",
   "execution_count": 93,
   "metadata": {},
   "outputs": [],
   "source": [
    "# instantiate initial models\n",
    "nb_classifier = MultinomialNB()\n",
    "rf_classifier = RandomForestClassifier(n_estimators=100)"
   ]
  },
  {
   "cell_type": "code",
   "execution_count": 95,
   "metadata": {},
   "outputs": [],
   "source": [
    "# fit naive bayes model\n",
    "nb_classifier.fit(tf_idf_data_train, train_target)\n",
    "nb_train_preds = nb_classifier.predict(tf_idf_data_train)\n",
    "nb_test_preds = nb_classifier.predict(tf_idf_data_test)"
   ]
  },
  {
   "cell_type": "code",
   "execution_count": 96,
   "metadata": {},
   "outputs": [],
   "source": [
    "# fit random forest classifier\n",
    "rf_classifier.fit(tf_idf_data_train, train_target)\n",
    "rf_train_preds = rf_classifier.predict(tf_idf_data_train)\n",
    "rf_test_preds = rf_classifier.predict(tf_idf_data_test)"
   ]
  },
  {
   "cell_type": "code",
   "execution_count": 99,
   "metadata": {},
   "outputs": [],
   "source": [
    "# print results\n",
    "nb_train_score = accuracy_score(train_target, nb_train_preds)\n",
    "nb_test_score = accuracy_score(test_target, nb_test_preds)\n",
    "rf_train_score = accuracy_score(train_target, rf_train_preds)\n",
    "rf_test_score = accuracy_score(test_target, rf_test_preds)"
   ]
  },
  {
   "cell_type": "code",
   "execution_count": 100,
   "metadata": {},
   "outputs": [
    {
     "name": "stdout",
     "output_type": "stream",
     "text": [
      "Multinomial Naive Bayes\n",
      "Training Accuracy: 0.8497 \t\t Testing Accuracy: 0.8418\n",
      "\n",
      "----------------------------------------------------------------------\n",
      "\n",
      "Random Forest\n",
      "Training Accuracy: 1.0 \t\t Testing Accuracy: 0.8655\n"
     ]
    }
   ],
   "source": [
    "print(\"Multinomial Naive Bayes\")\n",
    "print(\"Training Accuracy: {:.4} \\t\\t Testing Accuracy: {:.4}\".format(nb_train_score, nb_test_score))\n",
    "print(\"\")\n",
    "print('-'*70)\n",
    "print(\"\")\n",
    "print('Random Forest')\n",
    "print(\"Training Accuracy: {:.4} \\t\\t Testing Accuracy: {:.4}\".format(rf_train_score, rf_test_score))"
   ]
  },
  {
   "cell_type": "code",
   "execution_count": 101,
   "metadata": {},
   "outputs": [],
   "source": [
    "# think about further lemmatizing, n-grams, etc."
   ]
  },
  {
   "cell_type": "markdown",
   "metadata": {},
   "source": [
    "## 3. Data Preparation"
   ]
  },
  {
   "cell_type": "markdown",
   "metadata": {},
   "source": [
    "## 4. Modeling\n",
    "This is a classification task, aimed at classifying tweets based on their sentiment.  As a result, we will iterate through a number of potential models / hyperparameters to arrive at the optimal model for our task.\n",
    "\n",
    "Following metrics will be generated to help evaluate models:\n",
    "* Accuracy: total number of correct predictions out of total observations\n",
    "* Recall: number of true positives out of actual total positives.\n",
    "* Precision: number of true positives out of predicted positives.\n",
    "* F1 Score: harmonic mean of precision and recall. "
   ]
  },
  {
   "cell_type": "code",
   "execution_count": null,
   "metadata": {},
   "outputs": [],
   "source": []
  }
 ],
 "metadata": {
  "kernelspec": {
   "display_name": "Python 3",
   "language": "python",
   "name": "python3"
  },
  "language_info": {
   "codemirror_mode": {
    "name": "ipython",
    "version": 3
   },
   "file_extension": ".py",
   "mimetype": "text/x-python",
   "name": "python",
   "nbconvert_exporter": "python",
   "pygments_lexer": "ipython3",
   "version": "3.8.5"
  }
 },
 "nbformat": 4,
 "nbformat_minor": 4
}
