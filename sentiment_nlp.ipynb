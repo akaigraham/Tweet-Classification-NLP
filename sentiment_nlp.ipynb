{
 "cells": [
  {
   "cell_type": "markdown",
   "metadata": {},
   "source": [
    "# Tweet Sentiment Classification"
   ]
  },
  {
   "cell_type": "markdown",
   "metadata": {},
   "source": [
    "# Overview of Process (CRISP-DM)\n",
    "I will be following the Cross-Industry Standard Process for Data Mining to build a classifier that will determine the sentiment of tweets.  The CRISP-DM process includes the following key steps:\n",
    "1. Business Understanding\n",
    "2. Data Understanding\n",
    "3. Data Preparation\n",
    "4. Modeling\n",
    "5. Evaluation"
   ]
  },
  {
   "cell_type": "markdown",
   "metadata": {},
   "source": [
    "# 1. Business Understanding\n",
    "The overall goal of this process is to create a classifier that can label tweets based on their sentiment (positive, negative, or neutral).  This classifier will be created in the context of tracking public sentiment surrounding various product releases / events. Stakeholders for this project are likely product managers / investor and public relations professionals who are invested in how the public is feeling towards newly released products, and various other business proceedings. In conjunction with other tools, companies could use this classifier to create a sentiment score based on a certain number of recent tweets, and track that over time to monitor changes in sentiment over time. Additionally, companies could pull down a batch of tweets at certain times, filtered for various products or topics. If a broad enough sample is used, it could likely help provide good insight into whether consumers are feeling neutral, positive, or negative towards recent releases. \n",
    "\n",
    "According to https://www.internetlivestats.com/twitter-statistics/, there are over 500 million tweets sent per day.  Harnessing public sentiment from this amount of data would undoubtedly be helpful for tech companies looking to track how the public is feeling towards them.  This classifier would likely be a valuable tool to complement public product reviews. "
   ]
  },
  {
   "cell_type": "markdown",
   "metadata": {},
   "source": [
    "# 2. Data Understanding"
   ]
  },
  {
   "cell_type": "markdown",
   "metadata": {},
   "source": [
    "The main dataset used throughout this data science process will be coming from CrowdFlower via the following url: `https://data.world/crowdflower/brands-and-product-emotions`. \n",
    "\n",
    "The following summary of the dataset is provided on CrowdFlower:\n",
    "\n",
    "*Contributors evaluated tweets about multiple brands and products. The crowd was asked if the tweet expressed positive, negative, or no emotion towards a brand and/or product. If some emotion was expressed they were also asked to say which brand or product was the target of that emotion.*\n",
    "\n",
    "As the dataset contains labels classifying the tweet as positive, negative, or neutral, along with detailed tweet text, the dataset available is a good match for our business goals. "
   ]
  },
  {
   "cell_type": "code",
   "execution_count": 1,
   "metadata": {},
   "outputs": [
    {
     "name": "stderr",
     "output_type": "stream",
     "text": [
      "Using TensorFlow backend.\n"
     ]
    }
   ],
   "source": [
    "# import necessary libraries\n",
    "import pandas as pd\n",
    "import numpy as np\n",
    "import matplotlib.pyplot as plt\n",
    "%matplotlib inline\n",
    "import seaborn as sns\n",
    "import nltk\n",
    "from nltk.corpus import stopwords\n",
    "from nltk.collocations import *\n",
    "from nltk.stem.wordnet import WordNetLemmatizer\n",
    "import string\n",
    "import re\n",
    "from sklearn.metrics import accuracy_score, precision_score, recall_score, f1_score\n",
    "from sklearn.ensemble import RandomForestClassifier\n",
    "from sklearn.model_selection import train_test_split, GridSearchCV, RandomizedSearchCV \n",
    "from sklearn.model_selection import cross_val_score, StratifiedKFold\n",
    "from sklearn.feature_extraction.text import TfidfVectorizer, CountVectorizer\n",
    "from sklearn.feature_selection import SelectKBest, f_classif\n",
    "from sklearn.svm import LinearSVC\n",
    "from imblearn.over_sampling import SMOTE\n",
    "from keras.preprocessing.sequence import pad_sequences\n",
    "from keras.layers import Input, Dense, LSTM, Embedding, Dropout, Activation, Bidirectional, GlobalMaxPool1D\n",
    "from keras.models import Sequential\n",
    "from keras import initializers, regularizers, constraints, optimizers, layers\n",
    "import tensorflow"
   ]
  },
  {
   "cell_type": "code",
   "execution_count": 2,
   "metadata": {},
   "outputs": [],
   "source": [
    "# set style of visualizations\n",
    "plt.style.use('ggplot')"
   ]
  },
  {
   "cell_type": "code",
   "execution_count": 3,
   "metadata": {},
   "outputs": [],
   "source": [
    "# failure to specify 'latin1' encoding results in errors\n",
    "# error_df = pd.read_csv('judge-1377884607_tweet_product_company.csv')\n",
    "# error_df.head()"
   ]
  },
  {
   "cell_type": "code",
   "execution_count": 4,
   "metadata": {},
   "outputs": [],
   "source": [
    "# load dataset\n",
    "raw_df = pd.read_csv('data/raw_tweets.csv', encoding='latin_1')"
   ]
  },
  {
   "cell_type": "code",
   "execution_count": 5,
   "metadata": {},
   "outputs": [
    {
     "data": {
      "text/html": [
       "<div>\n",
       "<style scoped>\n",
       "    .dataframe tbody tr th:only-of-type {\n",
       "        vertical-align: middle;\n",
       "    }\n",
       "\n",
       "    .dataframe tbody tr th {\n",
       "        vertical-align: top;\n",
       "    }\n",
       "\n",
       "    .dataframe thead th {\n",
       "        text-align: right;\n",
       "    }\n",
       "</style>\n",
       "<table border=\"1\" class=\"dataframe\">\n",
       "  <thead>\n",
       "    <tr style=\"text-align: right;\">\n",
       "      <th></th>\n",
       "      <th>tweet_text</th>\n",
       "      <th>emotion_in_tweet_is_directed_at</th>\n",
       "      <th>is_there_an_emotion_directed_at_a_brand_or_product</th>\n",
       "    </tr>\n",
       "  </thead>\n",
       "  <tbody>\n",
       "    <tr>\n",
       "      <th>0</th>\n",
       "      <td>.@wesley83 I have a 3G iPhone. After 3 hrs twe...</td>\n",
       "      <td>iPhone</td>\n",
       "      <td>Negative emotion</td>\n",
       "    </tr>\n",
       "    <tr>\n",
       "      <th>1</th>\n",
       "      <td>@jessedee Know about @fludapp ? Awesome iPad/i...</td>\n",
       "      <td>iPad or iPhone App</td>\n",
       "      <td>Positive emotion</td>\n",
       "    </tr>\n",
       "    <tr>\n",
       "      <th>2</th>\n",
       "      <td>@swonderlin Can not wait for #iPad 2 also. The...</td>\n",
       "      <td>iPad</td>\n",
       "      <td>Positive emotion</td>\n",
       "    </tr>\n",
       "    <tr>\n",
       "      <th>3</th>\n",
       "      <td>@sxsw I hope this year's festival isn't as cra...</td>\n",
       "      <td>iPad or iPhone App</td>\n",
       "      <td>Negative emotion</td>\n",
       "    </tr>\n",
       "    <tr>\n",
       "      <th>4</th>\n",
       "      <td>@sxtxstate great stuff on Fri #SXSW: Marissa M...</td>\n",
       "      <td>Google</td>\n",
       "      <td>Positive emotion</td>\n",
       "    </tr>\n",
       "  </tbody>\n",
       "</table>\n",
       "</div>"
      ],
      "text/plain": [
       "                                          tweet_text  \\\n",
       "0  .@wesley83 I have a 3G iPhone. After 3 hrs twe...   \n",
       "1  @jessedee Know about @fludapp ? Awesome iPad/i...   \n",
       "2  @swonderlin Can not wait for #iPad 2 also. The...   \n",
       "3  @sxsw I hope this year's festival isn't as cra...   \n",
       "4  @sxtxstate great stuff on Fri #SXSW: Marissa M...   \n",
       "\n",
       "  emotion_in_tweet_is_directed_at  \\\n",
       "0                          iPhone   \n",
       "1              iPad or iPhone App   \n",
       "2                            iPad   \n",
       "3              iPad or iPhone App   \n",
       "4                          Google   \n",
       "\n",
       "  is_there_an_emotion_directed_at_a_brand_or_product  \n",
       "0                                   Negative emotion  \n",
       "1                                   Positive emotion  \n",
       "2                                   Positive emotion  \n",
       "3                                   Negative emotion  \n",
       "4                                   Positive emotion  "
      ]
     },
     "execution_count": 5,
     "metadata": {},
     "output_type": "execute_result"
    }
   ],
   "source": [
    "# print first rows of dataset to ensure loaded correctly\n",
    "raw_df.head()"
   ]
  },
  {
   "cell_type": "code",
   "execution_count": 6,
   "metadata": {},
   "outputs": [
    {
     "name": "stdout",
     "output_type": "stream",
     "text": [
      "<class 'pandas.core.frame.DataFrame'>\n",
      "RangeIndex: 9093 entries, 0 to 9092\n",
      "Data columns (total 3 columns):\n",
      " #   Column                                              Non-Null Count  Dtype \n",
      "---  ------                                              --------------  ----- \n",
      " 0   tweet_text                                          9092 non-null   object\n",
      " 1   emotion_in_tweet_is_directed_at                     3291 non-null   object\n",
      " 2   is_there_an_emotion_directed_at_a_brand_or_product  9093 non-null   object\n",
      "dtypes: object(3)\n",
      "memory usage: 213.2+ KB\n"
     ]
    }
   ],
   "source": [
    "# show info of df\n",
    "raw_df.info()"
   ]
  },
  {
   "cell_type": "markdown",
   "metadata": {},
   "source": [
    "Looking at the above outputs, we can see that there are a total of 9,093 entries in our dataset, with a total of three columns.  Raw text from tweets is held in the `tweet_text` column; sentiment is held in the `is_there_an_emotion_directed_at_a_brand_or_product`; and the item of emotion direction is held in the `emotion_in_tweet_is_directed_at` column.  \n",
    "\n",
    "The datset occupies just over 213.2 KB of storage.\n",
    "\n",
    "From first glance, we can likely drop the `emotion_in_tweet_is_directed_at` column as we are more interested in whether sentiment in a given tweet is positive, neutral, or negative based on the text.  Main predictors we will use is processed features derived from the `tweet_text` column.\n",
    "\n",
    "Our target variable, which can also be thought of as our class labels are held in the `is_there_an_emotion_directed_at_a_brand_or_product` column.  "
   ]
  },
  {
   "cell_type": "code",
   "execution_count": 7,
   "metadata": {},
   "outputs": [
    {
     "data": {
      "text/plain": [
       "iPad                               946\n",
       "Apple                              661\n",
       "iPad or iPhone App                 470\n",
       "Google                             430\n",
       "iPhone                             297\n",
       "Other Google product or service    293\n",
       "Android App                         81\n",
       "Android                             78\n",
       "Other Apple product or service      35\n",
       "Name: emotion_in_tweet_is_directed_at, dtype: int64"
      ]
     },
     "metadata": {},
     "output_type": "display_data"
    },
    {
     "data": {
      "text/plain": [
       "No emotion toward brand or product    5389\n",
       "Positive emotion                      2978\n",
       "Negative emotion                       570\n",
       "I can't tell                           156\n",
       "Name: is_there_an_emotion_directed_at_a_brand_or_product, dtype: int64"
      ]
     },
     "metadata": {},
     "output_type": "display_data"
    }
   ],
   "source": [
    "# display value counts\n",
    "display(raw_df['emotion_in_tweet_is_directed_at'].value_counts())\n",
    "display(raw_df['is_there_an_emotion_directed_at_a_brand_or_product'].value_counts())"
   ]
  },
  {
   "cell_type": "markdown",
   "metadata": {},
   "source": [
    "Unsurprising given the origin of our dataset, the products identified are either Apple or Google products.  Looking at sentiment, the majority of entries seem to fall under a neutral sentiment ('No emotion toward brand or product'), with the next largest group being tagged as 'Positive emotion'.  There is some clear class imbalance present with only 570 entries belonging to the 'Negative emotion' class. The lack of negative sentiment labels is likely a weakness of this dataset. "
   ]
  },
  {
   "cell_type": "code",
   "execution_count": 8,
   "metadata": {},
   "outputs": [
    {
     "data": {
      "text/html": [
       "<div>\n",
       "<style scoped>\n",
       "    .dataframe tbody tr th:only-of-type {\n",
       "        vertical-align: middle;\n",
       "    }\n",
       "\n",
       "    .dataframe tbody tr th {\n",
       "        vertical-align: top;\n",
       "    }\n",
       "\n",
       "    .dataframe thead th {\n",
       "        text-align: right;\n",
       "    }\n",
       "</style>\n",
       "<table border=\"1\" class=\"dataframe\">\n",
       "  <thead>\n",
       "    <tr style=\"text-align: right;\">\n",
       "      <th></th>\n",
       "      <th>text</th>\n",
       "      <th>product_brand</th>\n",
       "      <th>sentiment</th>\n",
       "    </tr>\n",
       "  </thead>\n",
       "  <tbody>\n",
       "    <tr>\n",
       "      <th>0</th>\n",
       "      <td>.@wesley83 I have a 3G iPhone. After 3 hrs twe...</td>\n",
       "      <td>iPhone</td>\n",
       "      <td>Negative emotion</td>\n",
       "    </tr>\n",
       "    <tr>\n",
       "      <th>1</th>\n",
       "      <td>@jessedee Know about @fludapp ? Awesome iPad/i...</td>\n",
       "      <td>iPad or iPhone App</td>\n",
       "      <td>Positive emotion</td>\n",
       "    </tr>\n",
       "    <tr>\n",
       "      <th>2</th>\n",
       "      <td>@swonderlin Can not wait for #iPad 2 also. The...</td>\n",
       "      <td>iPad</td>\n",
       "      <td>Positive emotion</td>\n",
       "    </tr>\n",
       "    <tr>\n",
       "      <th>3</th>\n",
       "      <td>@sxsw I hope this year's festival isn't as cra...</td>\n",
       "      <td>iPad or iPhone App</td>\n",
       "      <td>Negative emotion</td>\n",
       "    </tr>\n",
       "    <tr>\n",
       "      <th>4</th>\n",
       "      <td>@sxtxstate great stuff on Fri #SXSW: Marissa M...</td>\n",
       "      <td>Google</td>\n",
       "      <td>Positive emotion</td>\n",
       "    </tr>\n",
       "  </tbody>\n",
       "</table>\n",
       "</div>"
      ],
      "text/plain": [
       "                                                text       product_brand  \\\n",
       "0  .@wesley83 I have a 3G iPhone. After 3 hrs twe...              iPhone   \n",
       "1  @jessedee Know about @fludapp ? Awesome iPad/i...  iPad or iPhone App   \n",
       "2  @swonderlin Can not wait for #iPad 2 also. The...                iPad   \n",
       "3  @sxsw I hope this year's festival isn't as cra...  iPad or iPhone App   \n",
       "4  @sxtxstate great stuff on Fri #SXSW: Marissa M...              Google   \n",
       "\n",
       "          sentiment  \n",
       "0  Negative emotion  \n",
       "1  Positive emotion  \n",
       "2  Positive emotion  \n",
       "3  Negative emotion  \n",
       "4  Positive emotion  "
      ]
     },
     "execution_count": 8,
     "metadata": {},
     "output_type": "execute_result"
    }
   ],
   "source": [
    "# rename columns so easier to work with\n",
    "df = raw_df.copy()\n",
    "df.columns = ['text', 'product_brand', 'sentiment']\n",
    "df.head()"
   ]
  },
  {
   "cell_type": "code",
   "execution_count": 9,
   "metadata": {},
   "outputs": [
    {
     "data": {
      "text/plain": [
       "text                1\n",
       "product_brand    5802\n",
       "sentiment           0\n",
       "dtype: int64"
      ]
     },
     "execution_count": 9,
     "metadata": {},
     "output_type": "execute_result"
    }
   ],
   "source": [
    "# explore potential missing values\n",
    "df.isna().sum()"
   ]
  },
  {
   "cell_type": "markdown",
   "metadata": {},
   "source": [
    "We see that there is only one missing value in the text column, 0 in the sentiment column, and a large number (5802) in the product_brand column.  Given we are planning to work the majority of the time with the text and sentiment columns, this will not likely pose a large issue. "
   ]
  },
  {
   "cell_type": "code",
   "execution_count": 10,
   "metadata": {},
   "outputs": [
    {
     "data": {
      "text/html": [
       "<div>\n",
       "<style scoped>\n",
       "    .dataframe tbody tr th:only-of-type {\n",
       "        vertical-align: middle;\n",
       "    }\n",
       "\n",
       "    .dataframe tbody tr th {\n",
       "        vertical-align: top;\n",
       "    }\n",
       "\n",
       "    .dataframe thead th {\n",
       "        text-align: right;\n",
       "    }\n",
       "</style>\n",
       "<table border=\"1\" class=\"dataframe\">\n",
       "  <thead>\n",
       "    <tr style=\"text-align: right;\">\n",
       "      <th></th>\n",
       "      <th>text</th>\n",
       "      <th>product_brand</th>\n",
       "      <th>sentiment</th>\n",
       "    </tr>\n",
       "  </thead>\n",
       "  <tbody>\n",
       "    <tr>\n",
       "      <th>6</th>\n",
       "      <td>NaN</td>\n",
       "      <td>NaN</td>\n",
       "      <td>No emotion toward brand or product</td>\n",
       "    </tr>\n",
       "  </tbody>\n",
       "</table>\n",
       "</div>"
      ],
      "text/plain": [
       "  text product_brand                           sentiment\n",
       "6  NaN           NaN  No emotion toward brand or product"
      ]
     },
     "execution_count": 10,
     "metadata": {},
     "output_type": "execute_result"
    }
   ],
   "source": [
    "# display missing value in the text column\n",
    "df.loc[df['text'].isna()]"
   ]
  },
  {
   "cell_type": "code",
   "execution_count": 11,
   "metadata": {},
   "outputs": [
    {
     "data": {
      "text/html": [
       "<div>\n",
       "<style scoped>\n",
       "    .dataframe tbody tr th:only-of-type {\n",
       "        vertical-align: middle;\n",
       "    }\n",
       "\n",
       "    .dataframe tbody tr th {\n",
       "        vertical-align: top;\n",
       "    }\n",
       "\n",
       "    .dataframe thead th {\n",
       "        text-align: right;\n",
       "    }\n",
       "</style>\n",
       "<table border=\"1\" class=\"dataframe\">\n",
       "  <thead>\n",
       "    <tr style=\"text-align: right;\">\n",
       "      <th></th>\n",
       "      <th>text</th>\n",
       "      <th>product_brand</th>\n",
       "      <th>sentiment</th>\n",
       "    </tr>\n",
       "  </thead>\n",
       "  <tbody>\n",
       "    <tr>\n",
       "      <th>5</th>\n",
       "      <td>@teachntech00 New iPad Apps For #SpeechTherapy...</td>\n",
       "      <td>NaN</td>\n",
       "      <td>No emotion toward brand or product</td>\n",
       "    </tr>\n",
       "    <tr>\n",
       "      <th>6</th>\n",
       "      <td>NaN</td>\n",
       "      <td>NaN</td>\n",
       "      <td>No emotion toward brand or product</td>\n",
       "    </tr>\n",
       "    <tr>\n",
       "      <th>16</th>\n",
       "      <td>Holler Gram for iPad on the iTunes App Store -...</td>\n",
       "      <td>NaN</td>\n",
       "      <td>No emotion toward brand or product</td>\n",
       "    </tr>\n",
       "    <tr>\n",
       "      <th>32</th>\n",
       "      <td>Attn: All  #SXSW frineds, @mention Register fo...</td>\n",
       "      <td>NaN</td>\n",
       "      <td>No emotion toward brand or product</td>\n",
       "    </tr>\n",
       "    <tr>\n",
       "      <th>33</th>\n",
       "      <td>Anyone at  #sxsw want to sell their old iPad?</td>\n",
       "      <td>NaN</td>\n",
       "      <td>No emotion toward brand or product</td>\n",
       "    </tr>\n",
       "    <tr>\n",
       "      <th>...</th>\n",
       "      <td>...</td>\n",
       "      <td>...</td>\n",
       "      <td>...</td>\n",
       "    </tr>\n",
       "    <tr>\n",
       "      <th>9087</th>\n",
       "      <td>@mention Yup, but I don't have a third app yet...</td>\n",
       "      <td>NaN</td>\n",
       "      <td>No emotion toward brand or product</td>\n",
       "    </tr>\n",
       "    <tr>\n",
       "      <th>9089</th>\n",
       "      <td>Wave, buzz... RT @mention We interrupt your re...</td>\n",
       "      <td>NaN</td>\n",
       "      <td>No emotion toward brand or product</td>\n",
       "    </tr>\n",
       "    <tr>\n",
       "      <th>9090</th>\n",
       "      <td>Google's Zeiger, a physician never reported po...</td>\n",
       "      <td>NaN</td>\n",
       "      <td>No emotion toward brand or product</td>\n",
       "    </tr>\n",
       "    <tr>\n",
       "      <th>9091</th>\n",
       "      <td>Some Verizon iPhone customers complained their...</td>\n",
       "      <td>NaN</td>\n",
       "      <td>No emotion toward brand or product</td>\n",
       "    </tr>\n",
       "    <tr>\n",
       "      <th>9092</th>\n",
       "      <td>Ï¡Ïàü_ÊÎÒ£Áââ_£â_ÛâRT @...</td>\n",
       "      <td>NaN</td>\n",
       "      <td>No emotion toward brand or product</td>\n",
       "    </tr>\n",
       "  </tbody>\n",
       "</table>\n",
       "<p>5802 rows × 3 columns</p>\n",
       "</div>"
      ],
      "text/plain": [
       "                                                   text product_brand  \\\n",
       "5     @teachntech00 New iPad Apps For #SpeechTherapy...           NaN   \n",
       "6                                                   NaN           NaN   \n",
       "16    Holler Gram for iPad on the iTunes App Store -...           NaN   \n",
       "32    Attn: All  #SXSW frineds, @mention Register fo...           NaN   \n",
       "33        Anyone at  #sxsw want to sell their old iPad?           NaN   \n",
       "...                                                 ...           ...   \n",
       "9087  @mention Yup, but I don't have a third app yet...           NaN   \n",
       "9089  Wave, buzz... RT @mention We interrupt your re...           NaN   \n",
       "9090  Google's Zeiger, a physician never reported po...           NaN   \n",
       "9091  Some Verizon iPhone customers complained their...           NaN   \n",
       "9092  Ï¡Ïàü_ÊÎÒ£Áââ_£â_ÛâRT @...           NaN   \n",
       "\n",
       "                               sentiment  \n",
       "5     No emotion toward brand or product  \n",
       "6     No emotion toward brand or product  \n",
       "16    No emotion toward brand or product  \n",
       "32    No emotion toward brand or product  \n",
       "33    No emotion toward brand or product  \n",
       "...                                  ...  \n",
       "9087  No emotion toward brand or product  \n",
       "9089  No emotion toward brand or product  \n",
       "9090  No emotion toward brand or product  \n",
       "9091  No emotion toward brand or product  \n",
       "9092  No emotion toward brand or product  \n",
       "\n",
       "[5802 rows x 3 columns]"
      ]
     },
     "execution_count": 11,
     "metadata": {},
     "output_type": "execute_result"
    }
   ],
   "source": [
    "# display missing values in the product_brand column\n",
    "df.loc[df['product_brand'].isna()]"
   ]
  },
  {
   "cell_type": "code",
   "execution_count": 12,
   "metadata": {},
   "outputs": [
    {
     "data": {
      "text/plain": [
       "No emotion toward brand or product    5298\n",
       "Positive emotion                       306\n",
       "I can't tell                           147\n",
       "Negative emotion                        51\n",
       "Name: sentiment, dtype: int64"
      ]
     },
     "execution_count": 12,
     "metadata": {},
     "output_type": "execute_result"
    }
   ],
   "source": [
    "# display sentiment breakdowns of missing product_brand entries\n",
    "df.loc[df['product_brand'].isna()]['sentiment'].value_counts()"
   ]
  },
  {
   "cell_type": "markdown",
   "metadata": {},
   "source": [
    "We see that the majority of missing product_brand values are also labeled as no emotion twoard brand or product, which makes sense as a lot of the neutral-labeled tweets may not be directed at a specific brand or product, and therefore would be missing a product_brand tagging.  Additionally, this column will not be used in our process of tweet classification. \n",
    "\n",
    "Drop unnecessary columns and handle missing value for additional EDA."
   ]
  },
  {
   "cell_type": "code",
   "execution_count": 13,
   "metadata": {},
   "outputs": [
    {
     "name": "stdout",
     "output_type": "stream",
     "text": [
      "<class 'pandas.core.frame.DataFrame'>\n",
      "Int64Index: 9092 entries, 0 to 9092\n",
      "Data columns (total 2 columns):\n",
      " #   Column     Non-Null Count  Dtype \n",
      "---  ------     --------------  ----- \n",
      " 0   text       9092 non-null   object\n",
      " 1   sentiment  9092 non-null   object\n",
      "dtypes: object(2)\n",
      "memory usage: 213.1+ KB\n"
     ]
    }
   ],
   "source": [
    "# drop product_brand column\n",
    "clean_df = df.drop(['product_brand'], axis=1)\n",
    "\n",
    "# handle missing values\n",
    "clean_df = clean_df.dropna(subset=['text'])\n",
    "clean_df.info()"
   ]
  },
  {
   "cell_type": "code",
   "execution_count": 14,
   "metadata": {},
   "outputs": [
    {
     "data": {
      "text/plain": [
       "'Thanks to @mention for publishing the news of @mention new medical Apps at the #sxswi conf. blog {link} #sxsw #sxswh'"
      ]
     },
     "metadata": {},
     "output_type": "display_data"
    },
    {
     "data": {
      "text/plain": [
       "'\\x89ÛÏ@mention &quot;Apple has opened a pop-up store in Austin so the nerds in town for #SXSW can get their new iPads. {link} #wow'"
      ]
     },
     "metadata": {},
     "output_type": "display_data"
    },
    {
     "data": {
      "text/plain": [
       "'Just what America needs. RT @mention Google to Launch Major New Social Network Called Circles, Possibly Today {link} #sxsw'"
      ]
     },
     "metadata": {},
     "output_type": "display_data"
    },
    {
     "data": {
      "text/plain": [
       "'The queue at the Apple Store in Austin is FOUR blocks long. Crazy stuff! #sxsw'"
      ]
     },
     "metadata": {},
     "output_type": "display_data"
    },
    {
     "data": {
      "text/plain": [
       "\"Hope it's better than wave RT @mention Buzz is: Google's previewing a social networking platform at #SXSW: {link}\""
      ]
     },
     "metadata": {},
     "output_type": "display_data"
    },
    {
     "data": {
      "text/plain": [
       "'SYD #SXSW crew your iPhone extra juice pods have been procured.'"
      ]
     },
     "metadata": {},
     "output_type": "display_data"
    },
    {
     "data": {
      "text/plain": [
       "'Why Barry Diller thinks iPad only content is nuts @mention #SXSW {link}'"
      ]
     },
     "metadata": {},
     "output_type": "display_data"
    },
    {
     "data": {
      "text/plain": [
       "'Gave into extreme temptation at #SXSW and bought an iPad 2... #impulse'"
      ]
     },
     "metadata": {},
     "output_type": "display_data"
    },
    {
     "data": {
      "text/plain": [
       "'Catch 22\\x89Û_ I mean iPad 2 at #SXSW : {link}'"
      ]
     },
     "metadata": {},
     "output_type": "display_data"
    },
    {
     "data": {
      "text/plain": [
       "'Forgot my iPhone for #sxsw. Android only. Knife to a gun fight'"
      ]
     },
     "metadata": {},
     "output_type": "display_data"
    }
   ],
   "source": [
    "# further examine tweets labeled as \"I can't tell\"\n",
    "for i in range(10):\n",
    "    display(clean_df.loc[clean_df['sentiment'] == \"I can't tell\"].iloc[i][0])"
   ]
  },
  {
   "cell_type": "markdown",
   "metadata": {},
   "source": [
    "Looking at a sample of the tweets labeled as \"I can't tell\", there is no clear class label that each should belong to.  Given this, and the small number of tweets with this class distinction, they will be removed from the dataset. "
   ]
  },
  {
   "cell_type": "code",
   "execution_count": 15,
   "metadata": {},
   "outputs": [],
   "source": [
    "# separate dataset into tweets and class_labels\n",
    "tweets = clean_df['text']\n",
    "class_labels = clean_df['sentiment']"
   ]
  },
  {
   "cell_type": "code",
   "execution_count": 16,
   "metadata": {},
   "outputs": [
    {
     "name": "stdout",
     "output_type": "stream",
     "text": [
      "13212\n"
     ]
    }
   ],
   "source": [
    "# tokenize tweets and print the total vocabulary size of our dataset\n",
    "tokenized = list(map(nltk.word_tokenize, tweets.dropna())) \n",
    "raw_tweet_vocab = set()\n",
    "for tweet in tokenized:\n",
    "    raw_tweet_vocab.update(tweet)\n",
    "print(len(raw_tweet_vocab))"
   ]
  },
  {
   "cell_type": "markdown",
   "metadata": {},
   "source": [
    "Looking at the text within the tweets, there is a total vocabulary size of just over 13,200."
   ]
  },
  {
   "cell_type": "code",
   "execution_count": 17,
   "metadata": {},
   "outputs": [
    {
     "data": {
      "text/plain": [
       "24.41"
      ]
     },
     "execution_count": 17,
     "metadata": {},
     "output_type": "execute_result"
    }
   ],
   "source": [
    "# print average tweet size\n",
    "mean_tweet_size = []\n",
    "for tweet in tokenized:\n",
    "    mean_tweet_size.append(len(tweet))\n",
    "round(np.mean(mean_tweet_size), 2)"
   ]
  },
  {
   "cell_type": "markdown",
   "metadata": {},
   "source": [
    "The average tweet size within the dataset is just over 24 words. "
   ]
  },
  {
   "cell_type": "code",
   "execution_count": 18,
   "metadata": {},
   "outputs": [
    {
     "data": {
      "text/plain": [
       "[('#', 15875),\n",
       " ('@', 7194),\n",
       " ('mention', 7123),\n",
       " ('.', 5601),\n",
       " ('SXSW', 4787),\n",
       " ('sxsw', 4523),\n",
       " ('link', 4311),\n",
       " ('}', 4298),\n",
       " ('{', 4296),\n",
       " ('the', 3928),\n",
       " (',', 3533),\n",
       " ('to', 3521),\n",
       " ('RT', 2947),\n",
       " ('at', 2859),\n",
       " (';', 2800),\n",
       " ('&', 2707),\n",
       " ('for', 2440),\n",
       " ('!', 2398),\n",
       " ('a', 2174),\n",
       " ('Google', 2136),\n",
       " ('iPad', 2129),\n",
       " (':', 2075),\n",
       " ('Apple', 1882),\n",
       " ('in', 1833),\n",
       " ('quot', 1696)]"
      ]
     },
     "execution_count": 18,
     "metadata": {},
     "output_type": "execute_result"
    }
   ],
   "source": [
    "# display frequency distribution of raw dataset\n",
    "tweets_concat = []\n",
    "for tweet in tokenized:\n",
    "    tweets_concat += tweet\n",
    "    \n",
    "# display the 15 most common words\n",
    "unprocessed_freq_dist = nltk.FreqDist(tweets_concat)\n",
    "unprocessed_freq_dist.most_common(25)"
   ]
  },
  {
   "cell_type": "code",
   "execution_count": 19,
   "metadata": {},
   "outputs": [
    {
     "data": {
      "image/png": "[encoded data removed]",
      "text/plain": [
       "<Figure size 720x360 with 1 Axes>"
      ]
     },
     "metadata": {},
     "output_type": "display_data"
    }
   ],
   "source": [
    "# visualize frequency distribution\n",
    "top_20 = pd.DataFrame(unprocessed_freq_dist.most_common(20), columns=['token', 'freq'])\n",
    "plt.figure(figsize=(10, 5))\n",
    "sns.barplot(x=top_20['token'], y=top_20['freq'], color='royalblue')\n",
    "plt.xlabel('Word')\n",
    "plt.ylabel('Frequency')\n",
    "plt.title('Most Common Words in Dataset')\n",
    "plt.show()"
   ]
  },
  {
   "cell_type": "markdown",
   "metadata": {},
   "source": [
    "From first glance, we can see a number of the top appearing words / tokens are stopwords or punctuation.  Not surprising given our dataset, we also see the most common tokens are related to twitter tweet structure, with `#` and `@` along with others standing out.\n",
    "\n",
    "Before moving on with the data preparation stage, it will be helpful to understand the most common words in our dataset, excluding these unhelpful stopwords.  Remove stopwords, and reproduce frequency distributions by class label to see if any tokens start to stand out. "
   ]
  },
  {
   "cell_type": "markdown",
   "metadata": {},
   "source": [
    "## Stopwords"
   ]
  },
  {
   "cell_type": "code",
   "execution_count": 20,
   "metadata": {},
   "outputs": [],
   "source": [
    "# set up initial stopwords list\n",
    "stopwords_list = stopwords.words('english') + list(string.punctuation)\n",
    "stopwords_list += [\"''\", '\"\"', '...', '``']\n",
    "stopwords_list += ['mention', 'sxsw', 'link', 'rt', 'quot', 'google', \n",
    "                   'apple', 'iphone', 'android', 'ipad', 'ipad2', \n",
    "                   'store', 'app', 'new', \"n't\", \"'s\"]"
   ]
  },
  {
   "cell_type": "markdown",
   "metadata": {},
   "source": [
    "We have leveraged stopwords from NLTK, but there are likely some words being included in this stoplist that we don't want removed from our tweets.  The best step to identify these, is to review the stopwords list, and manually remove any words that should not be included."
   ]
  },
  {
   "cell_type": "code",
   "execution_count": 21,
   "metadata": {},
   "outputs": [
    {
     "name": "stdout",
     "output_type": "stream",
     "text": [
      "['i', 'me', 'my', 'myself', 'we', 'our', 'ours', 'ourselves', 'you', \"you're\", \"you've\", \"you'll\", \"you'd\", 'your', 'yours', 'yourself', 'yourselves', 'he', 'him', 'his', 'himself', 'she', \"she's\", 'her', 'hers', 'herself', 'it', \"it's\", 'its', 'itself', 'they', 'them', 'their', 'theirs', 'themselves', 'what', 'which', 'who', 'whom', 'this', 'that', \"that'll\", 'these', 'those', 'am', 'is', 'are', 'was', 'were', 'be', 'been', 'being', 'have', 'has', 'had', 'having', 'do', 'does', 'did', 'doing', 'a', 'an', 'the', 'and', 'but', 'if', 'or', 'because', 'as', 'until', 'while', 'of', 'at', 'by', 'for', 'with', 'about', 'against', 'between', 'into', 'through', 'during', 'before', 'after', 'above', 'below', 'to', 'from', 'up', 'down', 'in', 'out', 'on', 'off', 'over', 'under', 'again', 'further', 'then', 'once', 'here', 'there', 'when', 'where', 'why', 'how', 'all', 'any', 'both', 'each', 'few', 'more', 'most', 'other', 'some', 'such', 'no', 'nor', 'not', 'only', 'own', 'same', 'so', 'than', 'too', 'very', 's', 't', 'can', 'will', 'just', 'don', \"don't\", 'should', \"should've\", 'now', 'd', 'll', 'm', 'o', 're', 've', 'y', 'ain', 'aren', \"aren't\", 'couldn', \"couldn't\", 'didn', \"didn't\", 'doesn', \"doesn't\", 'hadn', \"hadn't\", 'hasn', \"hasn't\", 'haven', \"haven't\", 'isn', \"isn't\", 'ma', 'mightn', \"mightn't\", 'mustn', \"mustn't\", 'needn', \"needn't\", 'shan', \"shan't\", 'shouldn', \"shouldn't\", 'wasn', \"wasn't\", 'weren', \"weren't\", 'won', \"won't\", 'wouldn', \"wouldn't\", '!', '\"', '#', '$', '%', '&', \"'\", '(', ')', '*', '+', ',', '-', '.', '/', ':', ';', '<', '=', '>', '?', '@', '[', '\\\\', ']', '^', '_', '`', '{', '|', '}', '~', \"''\", '\"\"', '...', '``', 'mention', 'sxsw', 'link', 'rt', 'quot', 'google', 'apple', 'iphone', 'android', 'ipad', 'ipad2', 'store', 'app', 'new', \"n't\", \"'s\"]\n"
     ]
    }
   ],
   "source": [
    "# preview stopwords list\n",
    "print(stopwords_list)"
   ]
  },
  {
   "cell_type": "code",
   "execution_count": 22,
   "metadata": {},
   "outputs": [],
   "source": [
    "# words that should be excluded from stopwords\n",
    "drop_from_stopwords = [\"against\", \"no\", \"nor\", \"no\", \"don't\", \"should\",\n",
    "                       \"should've\", \"aren't\", \"couldn't\", \"doesn't\", \"hadn't\",\n",
    "                       \"hasn't\", \"haven't\", \"isn't\", \"shan't\", \"shouldn't\",\n",
    "                       \"wasn't\", \"weren't\", \"won't\", \"wouldn't\", \"wouldn\",\n",
    "                       \"won\", \"weren\", \"wasn\", \"shouldn\", \"shan\", \"needn't\", \n",
    "                       \"needn\", \"mustn't\", \"mustn\", \"isn\", \"haven\", \"hasn\",\n",
    "                       \"hadn\", \"doesn\", \"didn't\", \"didn\", \"couldn\", \"aren\", \"ain\"]\n",
    "\n",
    "# create new stopwords list exluding the above\n",
    "stopwords_list = [word for word in stopwords_list if word not in drop_from_stopwords]"
   ]
  },
  {
   "cell_type": "markdown",
   "metadata": {},
   "source": [
    "With the stopwords list setup, we can move forward with dropping stopwords from our tweets and reproducing frequency distributions to see the most common words.  It will also be helpful to compare the most common words for different sentiment class labels. "
   ]
  },
  {
   "cell_type": "code",
   "execution_count": 23,
   "metadata": {},
   "outputs": [],
   "source": [
    "# separate datasets based on class label\n",
    "neutral_tweets = clean_df.loc[clean_df['sentiment'] == 'No emotion toward brand or product']\n",
    "positive_tweets = clean_df.loc[clean_df['sentiment'] == 'Positive emotion']\n",
    "negative_tweets = clean_df.loc[clean_df['sentiment'] == 'Negative emotion']\n",
    "ambig_tweets = clean_df.loc[clean_df['sentiment'] == \"I can't tell\"]\n",
    "all_tweets = clean_df.copy()"
   ]
  },
  {
   "cell_type": "markdown",
   "metadata": {},
   "source": [
    "To make things easier, and to minimize the amount of code that needs to be reproduced below, I've written a few functions to help with the processing and visualization of tweet data.  These functions help produce the most frequent words, bigrams, and mutual information scores to help inform the modeling process. "
   ]
  },
  {
   "cell_type": "markdown",
   "metadata": {},
   "source": [
    "## Functions to Assist in EDA"
   ]
  },
  {
   "cell_type": "code",
   "execution_count": 24,
   "metadata": {},
   "outputs": [],
   "source": [
    "def initial_tweet_process(tweet, stopwords_list):\n",
    "    \"\"\"\n",
    "    Function to intially process a tweet to assist in EDA / data understanding. \n",
    "    Input: tweet of type string, stopwords_list of words to remove\n",
    "    Returns: tokenized tweet, converted to lowercase, with all stopwords removed\n",
    "    \"\"\"\n",
    "    # tokenize\n",
    "    tokens = nltk.word_tokenize(tweet)\n",
    "    \n",
    "    # lemmatize\n",
    "    lemmatizer = WordNetLemmatizer()\n",
    "    tokens = [lemmatizer.lemmatize(token) for token in tokens]\n",
    "    \n",
    "    # remove stopwords and lowercase\n",
    "    stopwords_removed = [token.lower() for token in tokens if token.lower() not in stopwords_list]\n",
    "    \n",
    "    # return processed tweet\n",
    "    return stopwords_removed"
   ]
  },
  {
   "cell_type": "code",
   "execution_count": 25,
   "metadata": {},
   "outputs": [],
   "source": [
    "def concat_tweets(tweets):\n",
    "    \"\"\"\n",
    "    Function to concatenate a list of tweets into one piece of text.\n",
    "    Input: tweets (list of tweets)\n",
    "    Returns: concatenated tweet string\n",
    "    \"\"\"\n",
    "    tweets_concat = []\n",
    "    for tweet in tweets:\n",
    "        tweets_concat += tweet\n",
    "    return tweets_concat"
   ]
  },
  {
   "cell_type": "code",
   "execution_count": 26,
   "metadata": {},
   "outputs": [],
   "source": [
    "def process_concat(raw_text, stopwords_list):\n",
    "    \"\"\"\n",
    "    Function to process and return concatenated tweets.  Takes raw text, and stopwords. \n",
    "    Returns: concatenated tweets\n",
    "    \"\"\"\n",
    "    processed_text = raw_text.apply(lambda x: initial_tweet_process(x, stopwords_list))\n",
    "    return concat_tweets(list(processed_text))"
   ]
  },
  {
   "cell_type": "code",
   "execution_count": 27,
   "metadata": {},
   "outputs": [],
   "source": [
    "def print_normalized_word_freq(freq_dist, n=15):\n",
    "    \"\"\"\n",
    "    Print a normalized frequency distribution from a given distribution. Returns top n results. \n",
    "    \"\"\"\n",
    "    total_word_count = sum(freq_dist.values())\n",
    "    top = freq_dist.most_common(n)\n",
    "    \n",
    "    print('Word\\t\\t\\tNormalized Frequency')\n",
    "    for word in top:\n",
    "        normalized_freq = word[1] / total_word_count\n",
    "        print('{} \\t\\t\\t {:.4}'.format(word[0], normalized_freq))\n",
    "    \n",
    "    return None"
   ]
  },
  {
   "cell_type": "code",
   "execution_count": 28,
   "metadata": {},
   "outputs": [],
   "source": [
    "def print_bigrams(tweets_concat, n=15):\n",
    "    \"\"\"\n",
    "    Function takes concatenated tweets and prints most common bigrams\n",
    "    \"\"\"\n",
    "    bigram_measures = nltk.collocations.BigramAssocMeasures()\n",
    "    finder = BigramCollocationFinder.from_words(tweets_concat)\n",
    "    tweet_scored = finder.score_ngrams(bigram_measures.raw_freq)\n",
    "    display(tweet_scored[:n])\n",
    "    return tweet_scored"
   ]
  },
  {
   "cell_type": "code",
   "execution_count": 29,
   "metadata": {},
   "outputs": [],
   "source": [
    "def display_pmi(tweets_concat, freq_filter=10, n=15):\n",
    "    \"\"\"\n",
    "    Function that takes concatenated tweets and a freq_filter number. Displays PMI scores. \n",
    "    \"\"\"\n",
    "    bigram_measures = nltk.collocations.BigramAssocMeasures()\n",
    "    tweet_pmi_finder = BigramCollocationFinder.from_words(tweets_concat)\n",
    "    tweet_pmi_finder.apply_freq_filter(freq_filter)\n",
    "    tweet_pmi_scored = tweet_pmi_finder.score_ngrams(bigram_measures.pmi)\n",
    "    display(tweet_pmi_scored[:n])\n",
    "    return tweet_pmi_scored"
   ]
  },
  {
   "cell_type": "markdown",
   "metadata": {},
   "source": [
    "## Produce Additional Corpus Statistics\n",
    "Now we will apply the functions written above to our separated datasets. This should help inform differences between tweets with different sentiment labels.  Hopefully, this starts to shed some light on which features may be helpful for text classification."
   ]
  },
  {
   "cell_type": "code",
   "execution_count": 30,
   "metadata": {},
   "outputs": [],
   "source": [
    "# process and concat datasets\n",
    "concat_neutral = process_concat(neutral_tweets['text'], stopwords_list)\n",
    "concat_positive = process_concat(positive_tweets['text'], stopwords_list)\n",
    "concat_negative = process_concat(negative_tweets['text'], stopwords_list)\n",
    "concat_ambig = process_concat(ambig_tweets['text'], stopwords_list)\n",
    "concat_all = process_concat(all_tweets['text'], stopwords_list)"
   ]
  },
  {
   "cell_type": "code",
   "execution_count": 31,
   "metadata": {},
   "outputs": [],
   "source": [
    "# produce freq dists\n",
    "freqdist_neutral = nltk.FreqDist(concat_neutral)\n",
    "freqdist_positive = nltk.FreqDist(concat_positive)\n",
    "freqdist_negative = nltk.FreqDist(concat_negative)\n",
    "freqdist_ambig = nltk.FreqDist(concat_ambig)\n",
    "freqdist_all = nltk.FreqDist(concat_all)"
   ]
  },
  {
   "cell_type": "code",
   "execution_count": 32,
   "metadata": {},
   "outputs": [
    {
     "name": "stdout",
     "output_type": "stream",
     "text": [
      "Top Neutral Words\n"
     ]
    },
    {
     "data": {
      "text/plain": [
       "[('austin', 631),\n",
       " ('amp', 601),\n",
       " ('2', 569),\n",
       " ('social', 481),\n",
       " ('launch', 478),\n",
       " ('today', 441),\n",
       " ('circles', 437),\n",
       " ('network', 357),\n",
       " ('called', 277),\n",
       " ('via', 271),\n",
       " ('line', 269),\n",
       " ('free', 260),\n",
       " ('pop-up', 249),\n",
       " ('party', 234),\n",
       " ('mobile', 231)]"
      ]
     },
     "execution_count": 32,
     "metadata": {},
     "output_type": "execute_result"
    }
   ],
   "source": [
    "# display top neutral words\n",
    "print('Top Neutral Words')\n",
    "neutral_top_15 = freqdist_neutral.most_common(15)\n",
    "neutral_top_15"
   ]
  },
  {
   "cell_type": "code",
   "execution_count": 33,
   "metadata": {},
   "outputs": [
    {
     "name": "stdout",
     "output_type": "stream",
     "text": [
      "Top Positive Words\n"
     ]
    },
    {
     "data": {
      "text/plain": [
       "[('2', 503),\n",
       " ('austin', 294),\n",
       " ('amp', 211),\n",
       " ('get', 174),\n",
       " ('launch', 169),\n",
       " ('pop-up', 151),\n",
       " ('one', 149),\n",
       " ('party', 146),\n",
       " ('line', 142),\n",
       " ('great', 137),\n",
       " ('time', 136),\n",
       " ('free', 125),\n",
       " ('social', 124),\n",
       " ('via', 120),\n",
       " ('cool', 120)]"
      ]
     },
     "execution_count": 33,
     "metadata": {},
     "output_type": "execute_result"
    }
   ],
   "source": [
    "# display top positive words\n",
    "print('Top Positive Words')\n",
    "positive_top_15 = freqdist_positive.most_common(15)\n",
    "positive_top_15"
   ]
  },
  {
   "cell_type": "code",
   "execution_count": 34,
   "metadata": {},
   "outputs": [
    {
     "name": "stdout",
     "output_type": "stream",
     "text": [
      "Top Negative Words\n"
     ]
    },
    {
     "data": {
      "text/plain": [
       "[('2', 65),\n",
       " ('like', 42),\n",
       " ('no', 41),\n",
       " ('need', 35),\n",
       " ('circles', 32),\n",
       " ('social', 31),\n",
       " ('apps', 30),\n",
       " ('people', 29),\n",
       " ('design', 28),\n",
       " ('ha', 28),\n",
       " ('wa', 26),\n",
       " ('get', 25),\n",
       " ('austin', 24),\n",
       " ('one', 23),\n",
       " ('amp', 22)]"
      ]
     },
     "execution_count": 34,
     "metadata": {},
     "output_type": "execute_result"
    }
   ],
   "source": [
    "# display negative words\n",
    "print('Top Negative Words')\n",
    "negative_top_15 = freqdist_negative.most_common(15)\n",
    "negative_top_15"
   ]
  },
  {
   "cell_type": "code",
   "execution_count": 35,
   "metadata": {},
   "outputs": [
    {
     "name": "stdout",
     "output_type": "stream",
     "text": [
      "Top Ambiguous Words\n"
     ]
    },
    {
     "data": {
      "text/plain": [
       "[('2', 19),\n",
       " ('austin', 16),\n",
       " ('circles', 16),\n",
       " ('social', 12),\n",
       " ('like', 11),\n",
       " ('go', 10),\n",
       " ('pop-up', 9),\n",
       " ('product', 9),\n",
       " ('line', 9),\n",
       " ('today', 8),\n",
       " ('via', 8),\n",
       " ('game', 8),\n",
       " ('network', 7),\n",
       " ('called', 7),\n",
       " ('think', 7)]"
      ]
     },
     "execution_count": 35,
     "metadata": {},
     "output_type": "execute_result"
    }
   ],
   "source": [
    "print('Top Ambiguous Words')\n",
    "ambig_top_15 = freqdist_ambig.most_common(15)\n",
    "ambig_top_15"
   ]
  },
  {
   "cell_type": "code",
   "execution_count": 36,
   "metadata": {},
   "outputs": [
    {
     "name": "stdout",
     "output_type": "stream",
     "text": [
      "Top Words from All Tweets\n"
     ]
    },
    {
     "data": {
      "text/plain": [
       "[('2', 1156),\n",
       " ('austin', 965),\n",
       " ('amp', 836),\n",
       " ('launch', 675),\n",
       " ('social', 648),\n",
       " ('circles', 591),\n",
       " ('today', 580),\n",
       " ('network', 472),\n",
       " ('line', 440),\n",
       " ('get', 425),\n",
       " ('pop-up', 422),\n",
       " ('via', 413),\n",
       " ('party', 390),\n",
       " ('free', 387),\n",
       " ('called', 361)]"
      ]
     },
     "execution_count": 36,
     "metadata": {},
     "output_type": "execute_result"
    }
   ],
   "source": [
    "# display top all \n",
    "print('Top Words from All Tweets')\n",
    "all_top_15 = freqdist_all.most_common(15)\n",
    "all_top_15"
   ]
  },
  {
   "cell_type": "code",
   "execution_count": 37,
   "metadata": {},
   "outputs": [
    {
     "data": {
      "image/png": "[encoded data removed]",
      "text/plain": [
       "<Figure size 1440x576 with 4 Axes>"
      ]
     },
     "metadata": {},
     "output_type": "display_data"
    }
   ],
   "source": [
    "# visualize with subplots\n",
    "fig, axes = plt.subplots(2, 2, figsize=(20, 8))\n",
    "freq_dists = [neutral_top_15, positive_top_15, negative_top_15, ambig_top_15]\n",
    "labels = ['Top 15 (Neutral)', 'Top 15 (Positive)', 'Top 15 (Negative)', 'Top 15 (Ambiguous)']\n",
    "for idx, ax in enumerate(axes.flat):\n",
    "    sns.barplot(data=pd.DataFrame(freq_dists[idx], columns=['token', 'count']),\n",
    "                x='token',\n",
    "                y='count',\n",
    "                ax=ax,\n",
    "                color='royalblue')\n",
    "    ax.set_title(labels[idx])\n",
    "plt.tight_layout()"
   ]
  },
  {
   "cell_type": "markdown",
   "metadata": {},
   "source": [
    "Comparing the top words by class label, we start to see that positive and neutral tweets actually share many of the same tokens.  There are some differences starting to show.  For example, `free` and`great` are within the top 15 of positive tweets, but not within the top 15 of negative tweets. \n",
    "\n",
    "Move forward with producing bigrams - looking at word pairings may provide additioanl insight the top tokens does not provide."
   ]
  },
  {
   "cell_type": "code",
   "execution_count": 38,
   "metadata": {},
   "outputs": [
    {
     "name": "stdout",
     "output_type": "stream",
     "text": [
      "Neutral Bigrams:\n"
     ]
    },
    {
     "data": {
      "text/plain": [
       "[(('social', 'network'), 0.00778593162699123),\n",
       " (('called', 'circles'), 0.005705208519778056),\n",
       " (('network', 'called'), 0.005638088419545374),\n",
       " (('major', 'social'), 0.005034007517451226),\n",
       " (('launch', 'major'), 0.004855020583497405),\n",
       " (('possibly', 'today'), 0.0041614462144263465),\n",
       " (('circles', 'possibly'), 0.0041390728476821195),\n",
       " (('downtown', 'austin'), 0.0026176839090746376),\n",
       " (('marissa', 'mayer'), 0.0024610703418650438),\n",
       " (('2', 'launch'), 0.0018569894397708966),\n",
       " (('opening', 'temporary'), 0.001700375872561303),\n",
       " (('pop-up', 'austin'), 0.001566135672095937),\n",
       " (('austin', '2'), 0.0013871487381421157),\n",
       " (('temporary', 'downtown'), 0.0013871487381421157),\n",
       " (('launch', 'social'), 0.0012081618041882942)]"
      ]
     },
     "metadata": {},
     "output_type": "display_data"
    },
    {
     "name": "stdout",
     "output_type": "stream",
     "text": [
      "Positive Bigrams\n"
     ]
    },
    {
     "data": {
      "text/plain": [
       "[(('social', 'network'), 0.003408505410011494),\n",
       " (('downtown', 'austin'), 0.0028536324362886923),\n",
       " (('network', 'called'), 0.002259125678728548),\n",
       " (('called', 'circles'), 0.002219491894891205),\n",
       " (('marissa', 'mayer'), 0.002219491894891205),\n",
       " (('2', 'launch'), 0.0021402243272165195),\n",
       " (('launch', 'major'), 0.0021402243272165195),\n",
       " (('major', 'social'), 0.0021402243272165195),\n",
       " (('opening', 'temporary'), 0.001704252705005747),\n",
       " (('possibly', 'today'), 0.001624985137331061),\n",
       " (('circles', 'possibly'), 0.001585351353493718),\n",
       " (('temporary', 'downtown'), 0.001506083785819032),\n",
       " (('no', 'one'), 0.0014664500019816891),\n",
       " (('even', 'begins'), 0.0014268162181443461),\n",
       " (('cool', 'technology'), 0.0013475486504696604)]"
      ]
     },
     "metadata": {},
     "output_type": "display_data"
    },
    {
     "name": "stdout",
     "output_type": "stream",
     "text": [
      "Negative Bigrams\n"
     ]
    },
    {
     "data": {
      "text/plain": [
       "[(('social', 'network'), 0.002699575780948708),\n",
       " (('news', 'apps'), 0.002506748939452372),\n",
       " (('fascist', 'company'), 0.0023139220979560356),\n",
       " (('major', 'social'), 0.0023139220979560356),\n",
       " (('called', 'circles'), 0.0021210952564596993),\n",
       " (('network', 'called'), 0.0021210952564596993),\n",
       " (('company', 'america'), 0.0019282684149633628),\n",
       " (('design', 'headaches'), 0.0019282684149633628),\n",
       " (('launch', 'major'), 0.0019282684149633628),\n",
       " (('apps', 'fade'), 0.0017354415734670266),\n",
       " (('fade', 'fast'), 0.0017354415734670266),\n",
       " (('fast', 'among'), 0.0017354415734670266),\n",
       " (('novelty', 'news'), 0.0017354415734670266),\n",
       " ((\"'ve\", 'heard'), 0.0015426147319706903),\n",
       " (('2', 'money'), 0.0015426147319706903)]"
      ]
     },
     "metadata": {},
     "output_type": "display_data"
    },
    {
     "name": "stdout",
     "output_type": "stream",
     "text": [
      "Ambiguous Bigrams\n"
     ]
    },
    {
     "data": {
      "text/plain": [
       "[(('social', 'network'), 0.005255255255255256),\n",
       " (('called', 'circles'), 0.0045045045045045045),\n",
       " (('network', 'called'), 0.0045045045045045045),\n",
       " (('circles', 'possibly'), 0.003003003003003003),\n",
       " (('launch', 'social'), 0.003003003003003003),\n",
       " ((\"'re\", 'going'), 0.0015015015015015015),\n",
       " (('2', 'austin'), 0.0015015015015015015),\n",
       " (('ai', 'profile'), 0.0015015015015015015),\n",
       " (('another', 'one'), 0.0015015015015015015),\n",
       " (('austin', 'via'), 0.0015015015015015015),\n",
       " (('barry', 'diller'), 0.0015015015015015015),\n",
       " (('becomes', 'ai'), 0.0015015015015015015),\n",
       " (('circles', '______'), 0.0015015015015015015),\n",
       " (('control', 'identity'), 0.0015015015015015015),\n",
       " (('facebook', 'becomes'), 0.0015015015015015015)]"
      ]
     },
     "metadata": {},
     "output_type": "display_data"
    }
   ],
   "source": [
    "# print bigrams\n",
    "print('Neutral Bigrams:')\n",
    "neutral_bigrams = print_bigrams(concat_neutral)\n",
    "\n",
    "print('Positive Bigrams')\n",
    "positive_bigrams = print_bigrams(concat_positive)\n",
    "\n",
    "print('Negative Bigrams')\n",
    "negative_bigrams = print_bigrams(concat_negative)\n",
    "\n",
    "print('Ambiguous Bigrams')\n",
    "ambig_bigrams = print_bigrams(concat_ambig)"
   ]
  },
  {
   "cell_type": "code",
   "execution_count": 39,
   "metadata": {},
   "outputs": [
    {
     "data": {
      "image/png": "[encoded data removed]",
      "text/plain": [
       "<Figure size 1440x720 with 4 Axes>"
      ]
     },
     "metadata": {},
     "output_type": "display_data"
    }
   ],
   "source": [
    "# pull out top n bigrams\n",
    "top_n = 15\n",
    "top_neutral_bigrams = pd.DataFrame(neutral_bigrams[:top_n], columns=['bigram', 'score'])\n",
    "top_positive_bigrams = pd.DataFrame(positive_bigrams[:top_n], columns=['bigram', 'score'])\n",
    "top_negative_bigrams = pd.DataFrame(negative_bigrams[:top_n], columns=['bigram', 'score'])\n",
    "top_ambig_bigrams = pd.DataFrame(ambig_bigrams[:top_n], columns=['bigram', 'score'])\n",
    "\n",
    "# visualize\n",
    "fig, axes = plt.subplots(2, 2, figsize=(20, 10))\n",
    "bigrams = [top_neutral_bigrams, top_positive_bigrams, top_negative_bigrams, top_ambig_bigrams]\n",
    "labels = ['Top 15 (Neutral)', 'Top 15 (Positive)', 'Top 15 (Negative)', 'Top 15 (Ambiguous)']\n",
    "for idx, ax in enumerate(axes.flat):\n",
    "    sns.barplot(data=bigrams[idx],\n",
    "                y='bigram',\n",
    "                x='score',\n",
    "                ax=ax,\n",
    "                color='royalblue')\n",
    "    ax.set_title(labels[idx])\n",
    "plt.tight_layout()"
   ]
  },
  {
   "cell_type": "markdown",
   "metadata": {},
   "source": [
    "Reviewing the top bigrams for each class, we see similarities to the token frequency distribution.  There are shared common pairings for each class, but again, we are starting to see differences emerge between the positive and negative tweets:\n",
    "* Standouts in the positive tweets include: (launch, major) and (cool, technology)\n",
    "* Standouts in the negative tweets include: (design, headaches) and (fascist, company)\n",
    "\n",
    "Move forward with pointwise mutual information scores to try and find additional insight. "
   ]
  },
  {
   "cell_type": "code",
   "execution_count": 40,
   "metadata": {},
   "outputs": [
    {
     "name": "stdout",
     "output_type": "stream",
     "text": [
      "Neutral PMI:\n"
     ]
    },
    {
     "data": {
      "text/plain": [
       "[(('lonely', 'planet'), 11.988426486316731),\n",
       " (('speak.', 'mark'), 11.988426486316731),\n",
       " (('speech', 'therapy'), 11.747418386812937),\n",
       " (('augmented', 'reality'), 11.640503182896424),\n",
       " (('therapy', 'communication'), 11.609914863063002),\n",
       " (('communication', 'showcased'), 11.54096750934551),\n",
       " (('dwnld', 'groundlink'), 11.54096750934551),\n",
       " (('mark', 'belinsky'), 11.50299965914649),\n",
       " (('barry', 'diller'), 11.44785810495403),\n",
       " (('league', 'extraordinary'), 11.447858104954026),\n",
       " (('social-type', 'rewards'), 11.277933103511717),\n",
       " (('south', 'southwest'), 11.125930010066666),\n",
       " (('mike', 'tyson'), 11.125930010066664),\n",
       " (('exhibit', 'hall'), 11.05554068217527),\n",
       " (('interrupt', 'regularly'), 11.055540682175268)]"
      ]
     },
     "metadata": {},
     "output_type": "display_data"
    },
    {
     "name": "stdout",
     "output_type": "stream",
     "text": [
      "Positive PMI:\n"
     ]
    },
    {
     "data": {
      "text/plain": [
       "[(('speak.', 'mark'), 11.03794726573905),\n",
       " (('belinsky', '911tweets'), 10.912416383655192),\n",
       " (('mark', 'belinsky'), 10.912416383655192),\n",
       " (('holler', 'gram'), 10.622909766460207),\n",
       " (('physical', 'worlds'), 10.59048828876783),\n",
       " (('gon', 'na'), 10.535446925209865),\n",
       " (('choice', 'awards'), 10.300981671572842),\n",
       " (('convention', 'center'), 10.255339006017131),\n",
       " (('includes', 'uberguide'), 10.163478147822909),\n",
       " (('ubersocial', 'includes'), 10.093088819931511),\n",
       " (('connect', 'digital'), 9.908664248794082),\n",
       " (('uberguide', 'sponsored'), 9.690023962318744),\n",
       " (('song', 'info'), 9.600541953431753),\n",
       " (('core', 'action'), 9.50051313510048),\n",
       " (('looking', 'forward'), 9.365521923767556)]"
      ]
     },
     "metadata": {},
     "output_type": "display_data"
    },
    {
     "name": "stdout",
     "output_type": "stream",
     "text": [
      "Negative PMI:\n"
     ]
    },
    {
     "data": {
      "text/plain": [
       "[(('fascist', 'company'), 8.310659147459244),\n",
       " (('company', 'america'), 8.270017162961896),\n",
       " (('network', 'called'), 8.01193555009916),\n",
       " (('design', 'headaches'), 7.53305156879569),\n",
       " (('launch', 'major'), 7.395548045045755),\n",
       " (('major', 'social'), 7.163817759129973),\n",
       " (('social', 'network'), 7.106102261273685),\n",
       " (('called', 'circles'), 7.099398391349499),\n",
       " (('news', 'apps'), 6.964030611943556)]"
      ]
     },
     "metadata": {},
     "output_type": "display_data"
    }
   ],
   "source": [
    "# print PMI scores\n",
    "print('Neutral PMI:')\n",
    "neutral_pmi = display_pmi(concat_neutral)\n",
    "print('Positive PMI:')\n",
    "positive_pmi = display_pmi(concat_positive)\n",
    "print('Negative PMI:')\n",
    "negative_pmi = display_pmi(concat_negative)"
   ]
  },
  {
   "cell_type": "code",
   "execution_count": 41,
   "metadata": {},
   "outputs": [
    {
     "data": {
      "image/png": "[encoded data removed]",
      "text/plain": [
       "<Figure size 1440x720 with 3 Axes>"
      ]
     },
     "metadata": {},
     "output_type": "display_data"
    }
   ],
   "source": [
    "# pull out top n pmi scores\n",
    "top_n = 15\n",
    "top_neutral_pmi = pd.DataFrame(neutral_pmi[:top_n], columns=['word combo', 'score'])\n",
    "top_positive_pmi = pd.DataFrame(positive_pmi[:top_n], columns=['word combo', 'score'])\n",
    "top_negative_pmi = pd.DataFrame(negative_pmi[:top_n], columns=['word combo', 'score'])\n",
    "\n",
    "# visualize\n",
    "fig, axes = plt.subplots(3, 1, figsize=(20, 10))\n",
    "pmis = [top_neutral_pmi, top_positive_pmi, top_negative_pmi]\n",
    "labels = ['Top 15 (Neutral)', 'Top 15 (Positive)', 'Top 15 (Negative)', 'Top 15 (Ambiguous)']\n",
    "for idx, ax in enumerate(axes.flat):\n",
    "    sns.barplot(data=pmis[idx],\n",
    "                y='word combo',\n",
    "                x='score',\n",
    "                ax=ax,\n",
    "                color='royalblue')\n",
    "    ax.set_title(labels[idx])\n",
    "plt.tight_layout()"
   ]
  },
  {
   "cell_type": "markdown",
   "metadata": {},
   "source": [
    "PMI makes use of bigrams.  PMI is a statistical measure from information theory that generally measures the mutual dependence between two words.  This means, PMI is measuring how much information the bigram itself contains by computing the dependence between the two words in the bigram. \n",
    "\n",
    "Looking at PMI scores, we can see some further trends standing out.  Some word combinations within the positive dataset that stand out include: (choice, awards), (uberguide, sponsored), (looking, forward).  Some word combinations that stood out within the negative set included: (fascist, company) and (design, headaches).  \n",
    "\n",
    "Now that we have a good sense of our data and the distribution, we can move on to the data preparation phase"
   ]
  },
  {
   "cell_type": "code",
   "execution_count": 46,
   "metadata": {},
   "outputs": [
    {
     "data": {
      "image/png": "[encoded data removed]",
      "text/plain": [
       "<Figure size 432x288 with 1 Axes>"
      ]
     },
     "metadata": {},
     "output_type": "display_data"
    }
   ],
   "source": [
    "# generate wordcloud for all tweets\n",
    "from wordcloud import WordCloud\n",
    "word_cloud_text = \" \".join(concat_all)\n",
    "word_cloud = WordCloud(collocations=False, background_color='white').generate(word_cloud_text)\n",
    "plt.imshow(word_cloud, interpolation='bilinear')\n",
    "plt.axis('off')\n",
    "plt.show()"
   ]
  },
  {
   "cell_type": "code",
   "execution_count": 48,
   "metadata": {},
   "outputs": [],
   "source": [
    "# generate wordcloud for positive and negative tweets\n",
    "word_cloud_positive = \" \".join(concat_positive)\n",
    "word_cloud_negative = \" \".join(concat_negative)\n",
    "neg_word_cloud = WordCloud(collocations=False, \n",
    "                           background_color='white').generate(word_cloud_positive)\n",
    "pos_word_cloud = WordCloud(collocations=False, \n",
    "                           background_color='white').generate(word_cloud_negative)"
   ]
  },
  {
   "cell_type": "code",
   "execution_count": 49,
   "metadata": {},
   "outputs": [
    {
     "data": {
      "image/png": "[encoded data removed]",
      "text/plain": [
       "<Figure size 432x288 with 1 Axes>"
      ]
     },
     "metadata": {},
     "output_type": "display_data"
    }
   ],
   "source": [
    "# positive word cloud\n",
    "plt.imshow(pos_word_cloud, interpolation='bilinear')\n",
    "plt.axis('off')\n",
    "plt.show()"
   ]
  },
  {
   "cell_type": "code",
   "execution_count": 50,
   "metadata": {},
   "outputs": [
    {
     "data": {
      "image/png": "[encoded data removed]",
      "text/plain": [
       "<Figure size 432x288 with 1 Axes>"
      ]
     },
     "metadata": {},
     "output_type": "display_data"
    }
   ],
   "source": [
    "# negative word cloud\n",
    "plt.imshow(neg_word_cloud, interpolation='bilinear')\n",
    "plt.axis('off')\n",
    "plt.show()"
   ]
  },
  {
   "cell_type": "markdown",
   "metadata": {},
   "source": [
    "# 3. Data Preparation\n",
    "Leverage information learned during data understanding phase to preprocess dataset and prepare data for modeling. "
   ]
  },
  {
   "cell_type": "code",
   "execution_count": 158,
   "metadata": {},
   "outputs": [],
   "source": [
    "# set seed for reproducibility\n",
    "SEED = 1"
   ]
  },
  {
   "cell_type": "code",
   "execution_count": 159,
   "metadata": {},
   "outputs": [
    {
     "name": "stdout",
     "output_type": "stream",
     "text": [
      "<class 'pandas.core.frame.DataFrame'>\n",
      "RangeIndex: 9093 entries, 0 to 9092\n",
      "Data columns (total 3 columns):\n",
      " #   Column                                              Non-Null Count  Dtype \n",
      "---  ------                                              --------------  ----- \n",
      " 0   tweet_text                                          9092 non-null   object\n",
      " 1   emotion_in_tweet_is_directed_at                     3291 non-null   object\n",
      " 2   is_there_an_emotion_directed_at_a_brand_or_product  9093 non-null   object\n",
      "dtypes: object(3)\n",
      "memory usage: 213.2+ KB\n"
     ]
    }
   ],
   "source": [
    "raw_df.info()"
   ]
  },
  {
   "cell_type": "code",
   "execution_count": 160,
   "metadata": {},
   "outputs": [],
   "source": [
    "# pull in copy of dataset\n",
    "clean_df = raw_df.copy()\n",
    "\n",
    "# relabel columns\n",
    "clean_df.columns = ['text', 'product_brand', 'sentiment']\n",
    "\n",
    "# drop product_brand column, handle missing values and duplicates\n",
    "clean_df = clean_df.drop('product_brand', axis=1)\n",
    "clean_df = clean_df.dropna()\n",
    "clean_df = clean_df.drop_duplicates()\n",
    "\n",
    "# remove ambiguous tweets\n",
    "clean_df = clean_df.loc[clean_df['sentiment'] != \"I can't tell\"]"
   ]
  },
  {
   "cell_type": "code",
   "execution_count": 161,
   "metadata": {},
   "outputs": [],
   "source": [
    "# separate dataset into text and class_labels\n",
    "text = clean_df['text']\n",
    "class_labels = clean_df['sentiment']"
   ]
  },
  {
   "cell_type": "code",
   "execution_count": 163,
   "metadata": {},
   "outputs": [],
   "source": [
    "# split tweets and labels into train and test sets for validation purposes\n",
    "X_train, X_test, y_train, y_test = train_test_split(text, \n",
    "                                                    class_labels, \n",
    "                                                    stratify=class_labels, # keep target split\n",
    "                                                    random_state=SEED)"
   ]
  },
  {
   "cell_type": "code",
   "execution_count": 166,
   "metadata": {},
   "outputs": [],
   "source": [
    "# pull in updated stopwords\n",
    "updated_stopwords = stopwords_list.copy()"
   ]
  },
  {
   "cell_type": "code",
   "execution_count": 232,
   "metadata": {},
   "outputs": [],
   "source": [
    "def preprocess_tweet(tweet, stopwords_list):\n",
    "    \"\"\"\n",
    "    Function to preprocess a tweet. \n",
    "    Takes: tweet, stopwords list\n",
    "    Returns: processed tweet with stopwords removed, lemmatized, and converted to lowercase\n",
    "    \"\"\"\n",
    "    # remove apostrophes and excess white space\n",
    "    processed = re.sub(\"\\'\", '', tweet) \n",
    "    processed = re.sub('\\s+', ' ', processed)\n",
    "    \n",
    "    # tokenize tweet\n",
    "    tokens = nltk.word_tokenize(processed) # tokenize\n",
    "    \n",
    "    # lemmatize tokens\n",
    "    lemmatizer = WordNetLemmatizer()\n",
    "    lemmatized_tokens = [lemmatizer.lemmatize(token) for token in tokens]\n",
    "    \n",
    "    stopwords_removed = [token.lower() for token in lemmatized_tokens if token.lower() not in stopwords_list]\n",
    "    return ' '.join(stopwords_removed)"
   ]
  },
  {
   "cell_type": "code",
   "execution_count": 233,
   "metadata": {},
   "outputs": [],
   "source": [
    "# preprocess train and test sets\n",
    "X_train_preprocessed = X_train.apply(lambda x: preprocess_tweet(x, updated_stopwords))\n",
    "X_test_preprocessed = X_test.apply(lambda x: preprocess_tweet(x, updated_stopwords))"
   ]
  },
  {
   "cell_type": "markdown",
   "metadata": {},
   "source": [
    "Now that we have split our data into train and test sets, as well as, preprocessed both train and test sets, we are ready to vectorize our data.  We expect TF-IDF vectorizer to work better for text classification given inverse document frequency, but we will move forward with comparing multiple vectorization strategies."
   ]
  },
  {
   "cell_type": "code",
   "execution_count": 169,
   "metadata": {},
   "outputs": [],
   "source": [
    "# create vectorizers with unigram and bigrams\n",
    "count_vectorizer = CountVectorizer(ngram_range=(1,2), analyzer='word') # use unigrams and ngrams\n",
    "tfidf_vectorizer = TfidfVectorizer(ngram_range=(1,2), analyzer='word') # use unigrams and ngrams\n",
    "\n",
    "# fit to preprocessed data\n",
    "X_train_count = count_vectorizer.fit_transform(X_train_preprocessed)\n",
    "X_test_count = count_vectorizer.transform(X_test_preprocessed) \n",
    "X_train_tfidf = tfidf_vectorizer.fit_transform(X_train_preprocessed) \n",
    "X_test_tfidf = tfidf_vectorizer.transform(X_test_preprocessed) "
   ]
  },
  {
   "cell_type": "markdown",
   "metadata": {},
   "source": [
    "### Word Embeddings"
   ]
  },
  {
   "cell_type": "code",
   "execution_count": 170,
   "metadata": {},
   "outputs": [
    {
     "name": "stdout",
     "output_type": "stream",
     "text": [
      "There are 8955 unique tokens in the processed training set.\n"
     ]
    }
   ],
   "source": [
    "# tokenize datasets\n",
    "tokenized_X_train = X_train_preprocessed.map(nltk.word_tokenize).values\n",
    "tokenized_X_test = X_test_preprocessed.map(nltk.word_tokenize).values\n",
    "\n",
    "# get total training vocabulary size\n",
    "total_train_vocab = set(word for tweet in tokenized_X_train for word in tweet)\n",
    "train_vocab_size = len(total_train_vocab)\n",
    "print(f'There are {train_vocab_size} unique tokens in the processed training set.')"
   ]
  },
  {
   "cell_type": "markdown",
   "metadata": {},
   "source": [
    "We will take advantage of Global Vectors for Word Representation (GloVe). For more information please visit https://nlp.stanford.edu/projects/glove/"
   ]
  },
  {
   "cell_type": "code",
   "execution_count": 171,
   "metadata": {},
   "outputs": [],
   "source": [
    "def glove_vectors(vocab):\n",
    "    \"\"\"\n",
    "    Returns appropriate vectors from GloVe file.\n",
    "    Input: vocabulary set to use.\n",
    "    \"\"\"\n",
    "    glove = {}\n",
    "    with open('data/glove.6B.50d.txt', 'rb') as f:\n",
    "        for line in f:\n",
    "            parts = line.split()\n",
    "            word = parts[0].decode('utf-8')\n",
    "            if word in vocab:\n",
    "                vector = np.array(parts[1:], dtype=np.float32)\n",
    "                glove[word] = vector\n",
    "    return glove"
   ]
  },
  {
   "cell_type": "code",
   "execution_count": 172,
   "metadata": {},
   "outputs": [],
   "source": [
    "glove = glove_vectors(total_train_vocab)"
   ]
  },
  {
   "cell_type": "code",
   "execution_count": 173,
   "metadata": {},
   "outputs": [],
   "source": [
    "class W2vVectorizer(object):\n",
    "    \n",
    "    def __init__(self, w2v):\n",
    "        # Takes in a dictionary of words and vectors as input\n",
    "        self.w2v = w2v\n",
    "        if len(w2v) == 0:\n",
    "            self.dimensions = 0\n",
    "        else:\n",
    "            self.dimensions = len(w2v[next(iter(glove))])\n",
    "    \n",
    "    # Note: Even though it doesn't do anything, it's required that this object implement a fit method or else\n",
    "    # it can't be used in a scikit-learn pipeline  \n",
    "    def fit(self, X, y):\n",
    "        return self\n",
    "            \n",
    "    def transform(self, X):\n",
    "        return np.array([\n",
    "            np.mean([self.w2v[w] for w in words if w in self.w2v]\n",
    "                   or [np.zeros(self.dimensions)], axis=0) for words in X])"
   ]
  },
  {
   "cell_type": "code",
   "execution_count": 174,
   "metadata": {},
   "outputs": [],
   "source": [
    "# instantiate vectorizer objects with glove\n",
    "w2v_vectorizer = W2vVectorizer(glove)\n",
    "\n",
    "# transform training and testing data\n",
    "X_train_w2v = w2v_vectorizer.transform(tokenized_X_train)\n",
    "X_test_w2v = w2v_vectorizer.transform(tokenized_X_test)"
   ]
  },
  {
   "cell_type": "markdown",
   "metadata": {},
   "source": [
    "Now that we have vectorized our datasets, we are ready to move on to the modeling stage."
   ]
  },
  {
   "cell_type": "markdown",
   "metadata": {},
   "source": [
    "# 4. Modeling"
   ]
  },
  {
   "cell_type": "markdown",
   "metadata": {},
   "source": [
    "This is a classification task, tasked with classifying the sentiment of tweets based on the text within the tweet. Three primary models will be relied on for classification:\n",
    "1. Random Forests\n",
    "2. Linear SVM\n",
    "3. Neural Networks\n",
    "\n",
    "Overfitting will be addressed thru hyperparameter tuning and dropout layers in the case of neural networks.  \n",
    "\n",
    "This is a multi-class classification problem, with three available class labels (Neutral, Positive, or Negative). As a result, the performance metric we will focus on throughout this process will be accuracy. We are not too concerned about the ramifications of false positives or false negatives.  For this reason accuracy will be our selected perforamnce metric."
   ]
  },
  {
   "cell_type": "markdown",
   "metadata": {},
   "source": [
    "### Random Forest"
   ]
  },
  {
   "cell_type": "code",
   "execution_count": 175,
   "metadata": {},
   "outputs": [
    {
     "data": {
      "text/plain": [
       "RandomForestClassifier(class_weight='balanced', n_jobs=-1, random_state=1)"
      ]
     },
     "execution_count": 175,
     "metadata": {},
     "output_type": "execute_result"
    }
   ],
   "source": [
    "# instantiate random forest classifiers, with balanced class_weight\n",
    "rf_count = RandomForestClassifier(random_state=SEED, n_jobs=-1, class_weight='balanced')\n",
    "rf_tfidf = RandomForestClassifier(random_state=SEED, n_jobs=-1, class_weight='balanced')\n",
    "rf_w2v = RandomForestClassifier(random_state=SEED, n_jobs=-1, class_weight='balanced')\n",
    "\n",
    "# fit to training sets\n",
    "rf_count.fit(X_train_count, y_train)\n",
    "rf_tfidf.fit(X_train_tfidf, y_train)\n",
    "rf_w2v.fit(X_train_w2v, y_train)"
   ]
  },
  {
   "cell_type": "code",
   "execution_count": 176,
   "metadata": {},
   "outputs": [
    {
     "name": "stdout",
     "output_type": "stream",
     "text": [
      "Count Vectorized Train Score: 0.9603590127150337\n",
      "Count Vectorized Test Score: 0.6841633019291162\n",
      "--------\n",
      "TF-IDF Vectorized Train Score: 0.9603590127150337\n",
      "TF-IDF Vectorized Test Score: 0.6774338268281741\n",
      "--------\n",
      "Word2Vec Vectorized Train Score: 0.9542258788332086\n",
      "Word2Vec Vectorized Test Score: 0.6532077164647824\n"
     ]
    }
   ],
   "source": [
    "# Count Vectorized\n",
    "count_train_score = rf_count.score(X_train_count, y_train)\n",
    "count_test_score = rf_count.score(X_test_count, y_test)\n",
    "print(f'Count Vectorized Train Score: {count_train_score}')\n",
    "print(f'Count Vectorized Test Score: {count_test_score}')\n",
    "print('--------')\n",
    "\n",
    "# TF-IDF Vectorized\n",
    "tfidf_train_score = rf_tfidf.score(X_train_tfidf, y_train)\n",
    "tfidf_test_score = rf_tfidf.score(X_test_tfidf, y_test)\n",
    "print(f'TF-IDF Vectorized Train Score: {tfidf_train_score}')\n",
    "print(f'TF-IDF Vectorized Test Score: {tfidf_test_score}')\n",
    "print('--------')\n",
    "\n",
    "# W2V Vectorized\n",
    "w2v_train_score = rf_w2v.score(X_train_w2v, y_train)\n",
    "w2v_test_score = rf_w2v.score(X_test_w2v, y_test)\n",
    "print(f'Word2Vec Vectorized Train Score: {w2v_train_score}')\n",
    "print(f'Word2Vec Vectorized Test Score: {w2v_test_score}')"
   ]
  },
  {
   "cell_type": "markdown",
   "metadata": {},
   "source": [
    "Reviewing baseline random model scores for our three vectorized datasets (count, tf-idf, and word2vec using glove), we can see that results are fairly consistent across our vectorization methods. Further, looking at our high training set accuracy score vs. test scores, shows we are likely overfitting slightly to the training data.  \n",
    "\n",
    "Address overfitting thru hyperparameter tuning. "
   ]
  },
  {
   "cell_type": "markdown",
   "metadata": {},
   "source": [
    "#### Random Forest - Count Vectorized\n",
    "Tune hyperparams with grid search"
   ]
  },
  {
   "cell_type": "code",
   "execution_count": 177,
   "metadata": {},
   "outputs": [],
   "source": [
    "# set params\n",
    "grid_search_params = {\n",
    "    'min_samples_split': [4, 5],\n",
    "    'min_samples_leaf': [3, 4],\n",
    "    'max_depth': [25, 50, 75],\n",
    "    'max_features': ['auto', 'sqrt'],\n",
    "    'bootstrap': [True, False],\n",
    "    'criterion': ['entropy', 'gini']\n",
    "}\n",
    "\n",
    "# instantiate classifier\n",
    "rf_classifier = RandomForestClassifier(n_jobs=-1, random_state=SEED, class_weight='balanced', n_estimators=100)\n",
    "\n",
    "# instantiate grid search\n",
    "rf_gs_count = GridSearchCV(estimator=rf_classifier, \n",
    "                           param_grid=grid_search_params, \n",
    "                           cv=3, \n",
    "                           scoring='accuracy', \n",
    "                           return_train_score=True,\n",
    "                           verbose=1)"
   ]
  },
  {
   "cell_type": "code",
   "execution_count": 178,
   "metadata": {},
   "outputs": [
    {
     "name": "stdout",
     "output_type": "stream",
     "text": [
      "Fitting 3 folds for each of 96 candidates, totalling 288 fits\n"
     ]
    },
    {
     "data": {
      "text/plain": [
       "GridSearchCV(cv=3,\n",
       "             estimator=RandomForestClassifier(class_weight='balanced',\n",
       "                                              n_jobs=-1, random_state=1),\n",
       "             param_grid={'bootstrap': [True, False],\n",
       "                         'criterion': ['entropy', 'gini'],\n",
       "                         'max_depth': [25, 50, 75],\n",
       "                         'max_features': ['auto', 'sqrt'],\n",
       "                         'min_samples_leaf': [3, 4],\n",
       "                         'min_samples_split': [4, 5]},\n",
       "             return_train_score=True, scoring='accuracy', verbose=1)"
      ]
     },
     "execution_count": 178,
     "metadata": {},
     "output_type": "execute_result"
    }
   ],
   "source": [
    "# fit to count vectorized\n",
    "rf_gs_count.fit(X_train_count, y_train)"
   ]
  },
  {
   "cell_type": "code",
   "execution_count": 179,
   "metadata": {},
   "outputs": [
    {
     "name": "stdout",
     "output_type": "stream",
     "text": [
      "Random Search Train Accuracy (Count Vect.): 0.6569277336296059\n",
      "Random Search Test Accuracy (Count Vect.): 0.5664255019721268\n"
     ]
    },
    {
     "data": {
      "text/plain": [
       "{'bootstrap': True,\n",
       " 'criterion': 'gini',\n",
       " 'max_depth': 75,\n",
       " 'max_features': 'auto',\n",
       " 'min_samples_leaf': 3,\n",
       " 'min_samples_split': 4}"
      ]
     },
     "execution_count": 179,
     "metadata": {},
     "output_type": "execute_result"
    }
   ],
   "source": [
    "# print count-vectorized results\n",
    "mean_train_score_count = np.mean(rf_gs_count.cv_results_['mean_train_score'])\n",
    "mean_test_score_count = np.mean(rf_gs_count.cv_results_['mean_test_score'])\n",
    "print(f'Random Search Train Accuracy (Count Vect.): {mean_train_score_count}')\n",
    "print(f'Random Search Test Accuracy (Count Vect.): {mean_test_score_count}')\n",
    "\n",
    "# display best params\n",
    "rf_gs_count.best_params_"
   ]
  },
  {
   "cell_type": "markdown",
   "metadata": {},
   "source": [
    "We have successfully addressed overfitting, as evidenced by closeness of training and testing accuracy. Fit model with these params and reprint training and testing scores. "
   ]
  },
  {
   "cell_type": "code",
   "execution_count": 180,
   "metadata": {},
   "outputs": [
    {
     "name": "stdout",
     "output_type": "stream",
     "text": [
      "Best Tuned Random Forest (Count Vectorized) Test Accuracy: 0.6034096007178107\n",
      "Best Tuned Random Forest (Count Vectorized) Train Accuracy: 0.6864622288706058\n"
     ]
    }
   ],
   "source": [
    "# run best count-vect model with these params\n",
    "best_rf_count = RandomForestClassifier(class_weight='balanced', n_jobs=-1, random_state=SEED,\n",
    "                                       bootstrap=True,\n",
    "                                       criterion='gini',\n",
    "                                       max_depth=75,\n",
    "                                       max_features='auto',\n",
    "                                       min_samples_leaf=3,\n",
    "                                       min_samples_split=4)\n",
    "\n",
    "# fit to count vect data\n",
    "best_rf_count.fit(X_train_count, y_train)\n",
    "\n",
    "# print testing score\n",
    "print(f'Best Tuned Random Forest (Count Vectorized) Test Accuracy: {best_rf_count.score(X_test_count, y_test)}')\n",
    "print(f'Best Tuned Random Forest (Count Vectorized) Train Accuracy: {best_rf_count.score(X_train_count, y_train)}')"
   ]
  },
  {
   "cell_type": "markdown",
   "metadata": {},
   "source": [
    "Looking at the best identified tuned random forest model on our count vectorized data, we see overfitting has largely been addressed, but model performance is not looking great with testing accuracy scores coming in close to ~61%."
   ]
  },
  {
   "cell_type": "markdown",
   "metadata": {},
   "source": [
    "#### Random Forest - TF-IDF Vectorized"
   ]
  },
  {
   "cell_type": "markdown",
   "metadata": {},
   "source": [
    "Use grid search to tune params.  Still need to address overfitting identified in baseline models."
   ]
  },
  {
   "cell_type": "code",
   "execution_count": 181,
   "metadata": {},
   "outputs": [],
   "source": [
    "# similar to count vectorized, run refined grid search and try to further address overfitting\n",
    "grid_search_params = {\n",
    "    'min_samples_split': [4, 5],\n",
    "    'min_samples_leaf': [3, 4],\n",
    "    'max_depth': [25, 50, 75],\n",
    "    'max_features': ['auto', 'sqrt'],\n",
    "    'bootstrap': [True, False],\n",
    "    'criterion': ['entropy', 'gini']\n",
    "}\n",
    "\n",
    "# instantiate classifier\n",
    "rf_classifier = RandomForestClassifier(n_jobs=-1, random_state=SEED, class_weight='balanced', n_estimators=100)\n",
    "\n",
    "# instantiate grid search\n",
    "rf_gs_tfidf = GridSearchCV(estimator=rf_classifier, \n",
    "                           param_grid=grid_search_params, \n",
    "                           cv=3, \n",
    "                           scoring='accuracy', \n",
    "                           return_train_score=True,\n",
    "                           verbose=1)"
   ]
  },
  {
   "cell_type": "code",
   "execution_count": 182,
   "metadata": {},
   "outputs": [
    {
     "name": "stdout",
     "output_type": "stream",
     "text": [
      "Fitting 3 folds for each of 96 candidates, totalling 288 fits\n"
     ]
    },
    {
     "data": {
      "text/plain": [
       "GridSearchCV(cv=3,\n",
       "             estimator=RandomForestClassifier(class_weight='balanced',\n",
       "                                              n_jobs=-1, random_state=1),\n",
       "             param_grid={'bootstrap': [True, False],\n",
       "                         'criterion': ['entropy', 'gini'],\n",
       "                         'max_depth': [25, 50, 75],\n",
       "                         'max_features': ['auto', 'sqrt'],\n",
       "                         'min_samples_leaf': [3, 4],\n",
       "                         'min_samples_split': [4, 5]},\n",
       "             return_train_score=True, scoring='accuracy', verbose=1)"
      ]
     },
     "execution_count": 182,
     "metadata": {},
     "output_type": "execute_result"
    }
   ],
   "source": [
    "# fit to training data\n",
    "rf_gs_tfidf.fit(X_train_tfidf, y_train)"
   ]
  },
  {
   "cell_type": "code",
   "execution_count": 183,
   "metadata": {},
   "outputs": [
    {
     "name": "stdout",
     "output_type": "stream",
     "text": [
      "Grid Search Train Accuracy (TF-IDF): 0.6794782382274563\n",
      "Grid Search Test Accuracy (TF-IDF): 0.5674538847046132\n"
     ]
    },
    {
     "data": {
      "text/plain": [
       "{'bootstrap': True,\n",
       " 'criterion': 'gini',\n",
       " 'max_depth': 75,\n",
       " 'max_features': 'auto',\n",
       " 'min_samples_leaf': 3,\n",
       " 'min_samples_split': 4}"
      ]
     },
     "execution_count": 183,
     "metadata": {},
     "output_type": "execute_result"
    }
   ],
   "source": [
    "# print search results\n",
    "mean_train_score_tfidf = np.mean(rf_gs_tfidf.cv_results_['mean_train_score']) \n",
    "mean_test_score_tfidf = np.mean(rf_gs_tfidf.cv_results_['mean_test_score'])\n",
    "print(f'Grid Search Train Accuracy (TF-IDF): {mean_train_score_tfidf}')\n",
    "print(f'Grid Search Test Accuracy (TF-IDF): {mean_test_score_tfidf}')\n",
    "\n",
    "# display best params\n",
    "rf_gs_tfidf.best_params_"
   ]
  },
  {
   "cell_type": "markdown",
   "metadata": {},
   "source": [
    "Similar to count vectorized data, we see overfitting has been addressed through tuning of hyperparams.  Move forward with fitting a model with these params and refitting to training data. "
   ]
  },
  {
   "cell_type": "code",
   "execution_count": 184,
   "metadata": {},
   "outputs": [
    {
     "name": "stdout",
     "output_type": "stream",
     "text": [
      "Best Tuned Random Forest (TF-IDF Vectorized) Test Accuracy: 0.6038582323912068\n",
      "Best Tuned Random Forest (TF-IDF Vectorized) Train Accuracy: 0.7205684367988033\n"
     ]
    }
   ],
   "source": [
    "# run best tfidf model with identified params\n",
    "best_rf_tfidf = RandomForestClassifier(random_state=SEED, n_jobs=-1, class_weight='balanced', n_estimators=100,\n",
    "                                       min_samples_split=4, \n",
    "                                       min_samples_leaf=3,\n",
    "                                       max_depth=75,\n",
    "                                       max_features='auto',\n",
    "                                       bootstrap=True,\n",
    "                                       criterion='gini')\n",
    "\n",
    "# fit to tfidf vectorized\n",
    "best_rf_tfidf.fit(X_train_tfidf, y_train)\n",
    "\n",
    "# print testing score\n",
    "print(f'Best Tuned Random Forest (TF-IDF Vectorized) Test Accuracy: {best_rf_tfidf.score(X_test_tfidf, y_test)}')\n",
    "print(f'Best Tuned Random Forest (TF-IDF Vectorized) Train Accuracy: {best_rf_tfidf.score(X_train_tfidf, y_train)}')"
   ]
  },
  {
   "cell_type": "markdown",
   "metadata": {},
   "source": [
    "Looking at the best identified tuned random forest results on the TF-IDF vectorized dataset, we can see results are similar to those seen with count vectorized data.  Although we have addressed overfitting to training data that was present in our baselines, accuracy scores are still hovering around 60%. Move forward with next vectorization strategy"
   ]
  },
  {
   "cell_type": "markdown",
   "metadata": {},
   "source": [
    "#### Random Forest - Word2Vec Vectorized"
   ]
  },
  {
   "cell_type": "code",
   "execution_count": 185,
   "metadata": {},
   "outputs": [],
   "source": [
    "# further refine with grid search and further address overfitting\n",
    "rf_params_w2v = {\n",
    "    'min_samples_split': [5, 6],\n",
    "    'min_samples_leaf': [3, 4],\n",
    "    'max_depth': [3, 4, 5],\n",
    "    'max_features': ['auto', 'sqrt'],\n",
    "    'bootstrap': [True, False],\n",
    "    'criterion': ['entropy', 'gini']\n",
    "}\n",
    "\n",
    "# instantiate classifier\n",
    "rf_classifier = RandomForestClassifier(n_jobs=-1, random_state=SEED, class_weight='balanced', n_estimators=100)\n",
    "\n",
    "# instantiate grid search\n",
    "rf_gs_w2v = GridSearchCV(estimator=rf_classifier, \n",
    "                           param_grid=rf_params_w2v, \n",
    "                           cv=3, \n",
    "                           scoring='accuracy', \n",
    "                           return_train_score=True,\n",
    "                           verbose=1)"
   ]
  },
  {
   "cell_type": "code",
   "execution_count": 186,
   "metadata": {},
   "outputs": [
    {
     "name": "stdout",
     "output_type": "stream",
     "text": [
      "Fitting 3 folds for each of 96 candidates, totalling 288 fits\n"
     ]
    },
    {
     "data": {
      "text/plain": [
       "GridSearchCV(cv=3,\n",
       "             estimator=RandomForestClassifier(class_weight='balanced',\n",
       "                                              n_jobs=-1, random_state=1),\n",
       "             param_grid={'bootstrap': [True, False],\n",
       "                         'criterion': ['entropy', 'gini'],\n",
       "                         'max_depth': [3, 4, 5],\n",
       "                         'max_features': ['auto', 'sqrt'],\n",
       "                         'min_samples_leaf': [3, 4],\n",
       "                         'min_samples_split': [5, 6]},\n",
       "             return_train_score=True, scoring='accuracy', verbose=1)"
      ]
     },
     "execution_count": 186,
     "metadata": {},
     "output_type": "execute_result"
    }
   ],
   "source": [
    "rf_gs_w2v.fit(X_train_w2v, y_train)"
   ]
  },
  {
   "cell_type": "code",
   "execution_count": 187,
   "metadata": {},
   "outputs": [
    {
     "name": "stdout",
     "output_type": "stream",
     "text": [
      "Grid Search Train Accuracy (word2vec): 0.5583360842021649\n",
      "Grid Search Test Accuracy (word2vec): 0.4926826550877991\n"
     ]
    },
    {
     "data": {
      "text/plain": [
       "{'bootstrap': True,\n",
       " 'criterion': 'gini',\n",
       " 'max_depth': 5,\n",
       " 'max_features': 'auto',\n",
       " 'min_samples_leaf': 4,\n",
       " 'min_samples_split': 5}"
      ]
     },
     "execution_count": 187,
     "metadata": {},
     "output_type": "execute_result"
    }
   ],
   "source": [
    "# print word2vec vectorized grid search results\n",
    "mean_train_score_w2v = np.mean(rf_gs_w2v.cv_results_['mean_train_score']) \n",
    "mean_test_score_w2v = np.mean(rf_gs_w2v.cv_results_['mean_test_score'])\n",
    "print(f'Grid Search Train Accuracy (word2vec): {mean_train_score_w2v}')\n",
    "print(f'Grid Search Test Accuracy (word2vec): {mean_test_score_w2v}')\n",
    "\n",
    "# display best params\n",
    "rf_gs_w2v.best_params_"
   ]
  },
  {
   "cell_type": "markdown",
   "metadata": {},
   "source": [
    "While overfitting has been addressed, overall model performance is notably worse than count and TF-IDF vectorized data.  Save a version of this as the best random forest we saw with w2v.  Given low performance, this model will most likely not be selected. "
   ]
  },
  {
   "cell_type": "code",
   "execution_count": 188,
   "metadata": {},
   "outputs": [
    {
     "name": "stdout",
     "output_type": "stream",
     "text": [
      "Best Tuned Random Forest (Word2Vec) Test Accuracy: 0.4997756841633019\n",
      "Best Tuned Random Forest (Word2Vec) Train Accuracy: 0.581600598354525\n"
     ]
    }
   ],
   "source": [
    "# fit model using best found params for w2v data\n",
    "best_rf_w2v = RandomForestClassifier(random_state=SEED, class_weight='balanced', n_jobs=-1,\n",
    "                                     n_estimators=75, bootstrap=True, criterion='gini', \n",
    "                                     max_depth=5, max_features='auto', min_samples_leaf=3, \n",
    "                                     min_samples_split=5)\n",
    "\n",
    "best_rf_w2v.fit(X_train_w2v, y_train)\n",
    "\n",
    "# print testing score\n",
    "print(f'Best Tuned Random Forest (Word2Vec) Test Accuracy: {best_rf_w2v.score(X_test_w2v, y_test)}')\n",
    "print(f'Best Tuned Random Forest (Word2Vec) Train Accuracy: {best_rf_w2v.score(X_train_w2v, y_train)}')"
   ]
  },
  {
   "cell_type": "markdown",
   "metadata": {},
   "source": [
    "Using our word2vec vectorized data, we can see that overfitting has largely been addressed, but results are weaker than both count and TF-IDF vectorized data, with testing accuracy coming in around ~50%.  "
   ]
  },
  {
   "cell_type": "markdown",
   "metadata": {},
   "source": [
    "### Linear SVM"
   ]
  },
  {
   "cell_type": "markdown",
   "metadata": {},
   "source": [
    "Move on to modeling with LinearSVC classifier.  "
   ]
  },
  {
   "cell_type": "code",
   "execution_count": 189,
   "metadata": {},
   "outputs": [
    {
     "data": {
      "text/plain": [
       "LinearSVC(class_weight='balanced', max_iter=5000, random_state=1)"
      ]
     },
     "execution_count": 189,
     "metadata": {},
     "output_type": "execute_result"
    }
   ],
   "source": [
    "# create linear SVC\n",
    "svc_count = LinearSVC(random_state=SEED, class_weight='balanced', max_iter=5000)\n",
    "svc_tfidf = LinearSVC(random_state=SEED, class_weight='balanced', max_iter=5000)\n",
    "svc_w2v = LinearSVC(random_state=SEED, class_weight='balanced', max_iter=5000)\n",
    "\n",
    "# fit to training sets\n",
    "svc_count.fit(X_train_count, y_train)\n",
    "svc_tfidf.fit(X_train_tfidf, y_train)\n",
    "svc_w2v.fit(X_train_w2v, y_train)"
   ]
  },
  {
   "cell_type": "code",
   "execution_count": 190,
   "metadata": {},
   "outputs": [
    {
     "name": "stdout",
     "output_type": "stream",
     "text": [
      "Count Vectorized Train Score: 0.9603590127150337\n",
      "Count Vectorized Test Score: 0.6810228802153432\n",
      "-----\n",
      "TF-IDF Vectorized Train Score: 0.9542258788332086\n",
      "TF-IDF Vectorized Test Score: 0.6877523553162853\n",
      "-----\n",
      "Word2Vect Vectorized Train Score: 0.5973074046372475\n",
      "Word2Vect Vectorized Test Score: 0.582323912068192\n"
     ]
    }
   ],
   "source": [
    "# Count Vectorized\n",
    "count_train_score = svc_count.score(X_train_count, y_train)\n",
    "count_test_score = svc_count.score(X_test_count, y_test)\n",
    "print(f'Count Vectorized Train Score: {count_train_score}')\n",
    "print(f'Count Vectorized Test Score: {count_test_score}')\n",
    "print('-----')\n",
    "\n",
    "# TF-IDF Vectorized\n",
    "tfidf_train_score = svc_tfidf.score(X_train_tfidf, y_train)\n",
    "tfidf_test_score = svc_tfidf.score(X_test_tfidf, y_test)\n",
    "print(f'TF-IDF Vectorized Train Score: {tfidf_train_score}')\n",
    "print(f'TF-IDF Vectorized Test Score: {tfidf_test_score}')\n",
    "print('-----')\n",
    "\n",
    "# Word2Vec Vectorized\n",
    "w2v_train_score = svc_w2v.score(X_train_w2v, y_train)\n",
    "w2v_test_score = svc_w2v.score(X_test_w2v, y_test)\n",
    "print(f'Word2Vect Vectorized Train Score: {w2v_train_score}')\n",
    "print(f'Word2Vect Vectorized Test Score: {w2v_test_score}')"
   ]
  },
  {
   "cell_type": "markdown",
   "metadata": {},
   "source": [
    "Looking at baseline LinearSVC results we can see that, similar to initial random forest models, we are overfitting to training data, except with word2vec vectorized data.  Move forward with hyperparameter tuning to try and improve results / address overfitting"
   ]
  },
  {
   "cell_type": "markdown",
   "metadata": {},
   "source": [
    "#### LinearSVC - Count Vectorized"
   ]
  },
  {
   "cell_type": "code",
   "execution_count": 191,
   "metadata": {},
   "outputs": [],
   "source": [
    "# set params for grid search\n",
    "svc_params = {\n",
    "    'C': [0.00001, 0.0001, .001],\n",
    "    'loss': ['hinge', 'squared_hinge']\n",
    "}"
   ]
  },
  {
   "cell_type": "code",
   "execution_count": 192,
   "metadata": {},
   "outputs": [],
   "source": [
    "# grid search \n",
    "svc_classifier = LinearSVC(random_state=SEED, class_weight='balanced', max_iter=10000)\n",
    "svc_gs_count = GridSearchCV(svc_classifier,\n",
    "                            svc_params,\n",
    "                            return_train_score=True,\n",
    "                            scoring='accuracy',\n",
    "                            verbose=1)"
   ]
  },
  {
   "cell_type": "code",
   "execution_count": 193,
   "metadata": {},
   "outputs": [
    {
     "name": "stdout",
     "output_type": "stream",
     "text": [
      "Fitting 5 folds for each of 6 candidates, totalling 30 fits\n"
     ]
    },
    {
     "data": {
      "text/plain": [
       "GridSearchCV(estimator=LinearSVC(class_weight='balanced', max_iter=10000,\n",
       "                                 random_state=1),\n",
       "             param_grid={'C': [1e-05, 0.0001, 0.001],\n",
       "                         'loss': ['hinge', 'squared_hinge']},\n",
       "             return_train_score=True, scoring='accuracy', verbose=1)"
      ]
     },
     "execution_count": 193,
     "metadata": {},
     "output_type": "execute_result"
    }
   ],
   "source": [
    "# fit to training data\n",
    "svc_gs_count.fit(X_train_count, y_train)"
   ]
  },
  {
   "cell_type": "code",
   "execution_count": 194,
   "metadata": {},
   "outputs": [
    {
     "name": "stdout",
     "output_type": "stream",
     "text": [
      "Grid Search Train Accuracy (Count Vect.): 0.6210732984293194\n",
      "Grid Search Test Accuracy (Count Vect.): 0.6109947643979058\n"
     ]
    },
    {
     "data": {
      "text/plain": [
       "{'C': 0.001, 'loss': 'squared_hinge'}"
      ]
     },
     "execution_count": 194,
     "metadata": {},
     "output_type": "execute_result"
    }
   ],
   "source": [
    "# print count-vectorized grid-search results\n",
    "mean_train_score_count = np.mean(svc_gs_count.cv_results_['mean_train_score'])\n",
    "mean_test_score_count = np.mean(svc_gs_count.cv_results_['mean_test_score'])\n",
    "print(f'Grid Search Train Accuracy (Count Vect.): {mean_train_score_count}')\n",
    "print(f'Grid Search Test Accuracy (Count Vect.): {mean_test_score_count}')\n",
    "\n",
    "# display best params\n",
    "svc_gs_count.best_params_"
   ]
  },
  {
   "cell_type": "markdown",
   "metadata": {},
   "source": [
    "Through tuning, we have addressed overfitting, move forward with fitting a model with the identified params and fit to full training set."
   ]
  },
  {
   "cell_type": "code",
   "execution_count": 195,
   "metadata": {},
   "outputs": [
    {
     "name": "stdout",
     "output_type": "stream",
     "text": [
      "Best Tuned Linear SVC (Count) Test Accuracy: 0.6532077164647824\n",
      "Best Tuned Linear SVC (Count) Train Accuracy: 0.7130890052356021\n"
     ]
    }
   ],
   "source": [
    "# best count svc\n",
    "best_svc_count = LinearSVC(random_state=SEED, class_weight='balanced', max_iter=10000,\n",
    "                           C=0.001, loss='squared_hinge')\n",
    "\n",
    "best_svc_count.fit(X_train_count, y_train)\n",
    "\n",
    "# print testing score\n",
    "print(f'Best Tuned Linear SVC (Count) Test Accuracy: {best_svc_count.score(X_test_count, y_test)}')\n",
    "print(f'Best Tuned Linear SVC (Count) Train Accuracy: {best_svc_count.score(X_train_count, y_train)}')"
   ]
  },
  {
   "cell_type": "markdown",
   "metadata": {},
   "source": [
    "Best identified LinearSVC test accuracy coming in around 66%, and training accuracy around 71%. Fairly strong results with quick runtimes.  Strong contender for best model so far. "
   ]
  },
  {
   "cell_type": "markdown",
   "metadata": {},
   "source": [
    "#### Linear SVC (TF-IDF)"
   ]
  },
  {
   "cell_type": "code",
   "execution_count": 196,
   "metadata": {},
   "outputs": [
    {
     "data": {
      "text/plain": [
       "GridSearchCV(estimator=LinearSVC(class_weight='balanced', max_iter=10000,\n",
       "                                 random_state=1),\n",
       "             param_grid={'C': [0.0001, 0.001, 0.01],\n",
       "                         'loss': ['hinge', 'squared_hinge']},\n",
       "             return_train_score=True, scoring='accuracy')"
      ]
     },
     "execution_count": 196,
     "metadata": {},
     "output_type": "execute_result"
    }
   ],
   "source": [
    "# failing to converge, try with tfidf vectorized data\n",
    "# set params\n",
    "svc_params = {\n",
    "    'C': [0.0001, .001, 0.01],\n",
    "    'loss': ['hinge', 'squared_hinge']\n",
    "}\n",
    "\n",
    "# grid search \n",
    "svc_classifier = LinearSVC(random_state=SEED, class_weight='balanced', max_iter=10000)\n",
    "svc_gs_tfidf = GridSearchCV(svc_classifier,\n",
    "                            svc_params,\n",
    "                            return_train_score=True,\n",
    "                            scoring='accuracy')\n",
    "\n",
    "svc_gs_tfidf.fit(X_train_tfidf, y_train)"
   ]
  },
  {
   "cell_type": "code",
   "execution_count": 197,
   "metadata": {},
   "outputs": [
    {
     "name": "stdout",
     "output_type": "stream",
     "text": [
      "Grid Search Train Accuracy (TF-IDF): 0.650392670157068\n",
      "Grid Search Test Accuracy (TF-IDF): 0.6146347544253303\n"
     ]
    },
    {
     "data": {
      "text/plain": [
       "{'C': 0.01, 'loss': 'hinge'}"
      ]
     },
     "execution_count": 197,
     "metadata": {},
     "output_type": "execute_result"
    }
   ],
   "source": [
    "# print tfidf-vectorized grid search results\n",
    "mean_train_score_tfidf = np.mean(svc_gs_tfidf.cv_results_['mean_train_score']) \n",
    "mean_test_score_tfidf = np.mean(svc_gs_tfidf.cv_results_['mean_test_score'])\n",
    "print(f'Grid Search Train Accuracy (TF-IDF): {mean_train_score_tfidf}')\n",
    "print(f'Grid Search Test Accuracy (TF-IDF): {mean_test_score_tfidf}')\n",
    "\n",
    "# display best params\n",
    "svc_gs_tfidf.best_params_"
   ]
  },
  {
   "cell_type": "markdown",
   "metadata": {},
   "source": [
    "Again given similarities in testing and training data, we have likely addressed overfitting.  However, results are not looking great, especially when compared to strong results seen from count vectorized data. "
   ]
  },
  {
   "cell_type": "code",
   "execution_count": 198,
   "metadata": {},
   "outputs": [
    {
     "name": "stdout",
     "output_type": "stream",
     "text": [
      "Best Tuned Linear SVC (TF-IDF) Test Accuracy: 0.6249439210408255\n",
      "Best Tuned Linear SVC (TF-IDF) Train Accuracy: 0.6260284218399401\n"
     ]
    }
   ],
   "source": [
    "# fit best svc for tfidf\n",
    "best_svc_tfidf = LinearSVC(random_state=SEED, class_weight='balanced', max_iter=10000,\n",
    "                           C=0.01, loss='squared_hinge')\n",
    "\n",
    "best_svc_tfidf.fit(X_train_tfidf, y_train)\n",
    "\n",
    "# print testing score\n",
    "print(f'Best Tuned Linear SVC (TF-IDF) Test Accuracy: {best_svc_tfidf.score(X_test_tfidf, y_test)}')\n",
    "print(f'Best Tuned Linear SVC (TF-IDF) Train Accuracy: {best_svc_tfidf.score(X_train_tfidf, y_train)}')"
   ]
  },
  {
   "cell_type": "markdown",
   "metadata": {},
   "source": [
    "Best identified Linear SVC with TF-IDF vectorization found testing score around 63% and training score around 63%. Performance is fairly strong, with overfitting being addressed.  Still underperforming count vectorized.  Move on to Word2Vec vectorization."
   ]
  },
  {
   "cell_type": "markdown",
   "metadata": {},
   "source": [
    "#### LinearSVC (Word2Vec)"
   ]
  },
  {
   "cell_type": "code",
   "execution_count": 199,
   "metadata": {},
   "outputs": [
    {
     "name": "stdout",
     "output_type": "stream",
     "text": [
      "Fitting 5 folds for each of 6 candidates, totalling 30 fits\n"
     ]
    },
    {
     "name": "stderr",
     "output_type": "stream",
     "text": [
      "/Users/addingtongraham/opt/anaconda3/envs/keras-env/lib/python3.6/site-packages/sklearn/svm/_base.py:986: ConvergenceWarning: Liblinear failed to converge, increase the number of iterations.\n",
      "  \"the number of iterations.\", ConvergenceWarning)\n",
      "/Users/addingtongraham/opt/anaconda3/envs/keras-env/lib/python3.6/site-packages/sklearn/svm/_base.py:986: ConvergenceWarning: Liblinear failed to converge, increase the number of iterations.\n",
      "  \"the number of iterations.\", ConvergenceWarning)\n",
      "/Users/addingtongraham/opt/anaconda3/envs/keras-env/lib/python3.6/site-packages/sklearn/svm/_base.py:986: ConvergenceWarning: Liblinear failed to converge, increase the number of iterations.\n",
      "  \"the number of iterations.\", ConvergenceWarning)\n",
      "/Users/addingtongraham/opt/anaconda3/envs/keras-env/lib/python3.6/site-packages/sklearn/svm/_base.py:986: ConvergenceWarning: Liblinear failed to converge, increase the number of iterations.\n",
      "  \"the number of iterations.\", ConvergenceWarning)\n",
      "/Users/addingtongraham/opt/anaconda3/envs/keras-env/lib/python3.6/site-packages/sklearn/svm/_base.py:986: ConvergenceWarning: Liblinear failed to converge, increase the number of iterations.\n",
      "  \"the number of iterations.\", ConvergenceWarning)\n"
     ]
    },
    {
     "data": {
      "text/plain": [
       "GridSearchCV(estimator=LinearSVC(class_weight='balanced', max_iter=10000,\n",
       "                                 random_state=1),\n",
       "             param_grid={'C': [0.01, 0.1, 1],\n",
       "                         'loss': ['hinge', 'squared_hinge']},\n",
       "             return_train_score=True, scoring='accuracy', verbose=1)"
      ]
     },
     "execution_count": 199,
     "metadata": {},
     "output_type": "execute_result"
    }
   ],
   "source": [
    "svc_params = {\n",
    "    'C': [0.01, 0.1, 1],\n",
    "    'loss': ['hinge', 'squared_hinge']\n",
    "}\n",
    "\n",
    "# grid search \n",
    "svc_classifier = LinearSVC(random_state=SEED, class_weight='balanced', max_iter=10000)\n",
    "svc_gs_w2v = GridSearchCV(svc_classifier,\n",
    "                          svc_params,\n",
    "                          return_train_score=True,\n",
    "                          scoring='accuracy',\n",
    "                          verbose=1)\n",
    "\n",
    "# fit to tfidf data\n",
    "svc_gs_w2v.fit(X_train_w2v, y_train)"
   ]
  },
  {
   "cell_type": "code",
   "execution_count": 200,
   "metadata": {},
   "outputs": [
    {
     "name": "stdout",
     "output_type": "stream",
     "text": [
      "Grid Search Train Accuracy (Word2Vec): 0.5868922961854898\n",
      "Grid Search Test Accuracy (Word2Vec): 0.5784841685365245\n"
     ]
    },
    {
     "data": {
      "text/plain": [
       "{'C': 0.01, 'loss': 'squared_hinge'}"
      ]
     },
     "execution_count": 200,
     "metadata": {},
     "output_type": "execute_result"
    }
   ],
   "source": [
    "# print tfidf-vectorized grid search results\n",
    "mean_train_score_w2v = np.mean(svc_gs_w2v.cv_results_['mean_train_score']) \n",
    "mean_test_score_w2v = np.mean(svc_gs_w2v.cv_results_['mean_test_score'])\n",
    "print(f'Grid Search Train Accuracy (Word2Vec): {mean_train_score_w2v}')\n",
    "print(f'Grid Search Test Accuracy (Word2Vec): {mean_test_score_w2v}')\n",
    "\n",
    "# display best params\n",
    "svc_gs_w2v.best_params_"
   ]
  },
  {
   "cell_type": "markdown",
   "metadata": {},
   "source": [
    "Minimal overfitting, params have not changed since baseline, although performance is fairly low.  "
   ]
  },
  {
   "cell_type": "code",
   "execution_count": 201,
   "metadata": {},
   "outputs": [
    {
     "name": "stdout",
     "output_type": "stream",
     "text": [
      "Best Tuned Linear SVC (Word2Vec) Test Accuracy: 0.582323912068192\n",
      "Best Tuned Linear SVC (Word2Vec) Train Accuracy: 0.5973074046372475\n"
     ]
    }
   ],
   "source": [
    "# run best svc with w2v\n",
    "best_svc_w2v = LinearSVC(random_state=SEED,\n",
    "                         class_weight='balanced',\n",
    "                         max_iter=10000,\n",
    "                         C=1,\n",
    "                         loss='squared_hinge')\n",
    "\n",
    "best_svc_w2v.fit(X_train_w2v, y_train)\n",
    "\n",
    "# print testing score\n",
    "print(f'Best Tuned Linear SVC (Word2Vec) Test Accuracy: {best_svc_w2v.score(X_test_w2v, y_test)}')\n",
    "print(f'Best Tuned Linear SVC (Word2Vec) Train Accuracy: {best_svc_w2v.score(X_train_w2v, y_train)}')"
   ]
  },
  {
   "cell_type": "markdown",
   "metadata": {},
   "source": [
    "Best identified tuned LinearSVC using word2vec data is not changed from baseline and is still showing ~59% accuracy score.  This is performing worse than the other two vectorization methods. Move forward with Neural Network Modeling."
   ]
  },
  {
   "cell_type": "markdown",
   "metadata": {},
   "source": [
    "### Neural Networks"
   ]
  },
  {
   "cell_type": "code",
   "execution_count": 202,
   "metadata": {},
   "outputs": [],
   "source": [
    "# set random states for neural network reproducibility\n",
    "import tensorflow\n",
    "tensorflow.random.set_seed(SEED)"
   ]
  },
  {
   "cell_type": "code",
   "execution_count": 203,
   "metadata": {},
   "outputs": [],
   "source": [
    "# convert labels to one-hot encoded format\n",
    "y_train_encoded = pd.get_dummies(y_train).values\n",
    "y_test_encoded = pd.get_dummies(y_test).values"
   ]
  },
  {
   "cell_type": "code",
   "execution_count": 204,
   "metadata": {},
   "outputs": [],
   "source": [
    "# set up last layer of neural network for multi-class classification with 3 labels\n",
    "last_layer_activation = 'softmax' \n",
    "last_layer_units = 3"
   ]
  },
  {
   "cell_type": "markdown",
   "metadata": {},
   "source": [
    "#### N-Gram Model"
   ]
  },
  {
   "cell_type": "code",
   "execution_count": 205,
   "metadata": {},
   "outputs": [],
   "source": [
    "def build_ngram_model(input_shape, last_units, last_activation):\n",
    "    \"\"\"\n",
    "    builds and compiles model based on input params.\n",
    "    returns model.\n",
    "    \"\"\"\n",
    "    \n",
    "    # build model\n",
    "    model = Sequential()\n",
    "    model.add(Dropout(rate=0.5, input_shape=input_shape))\n",
    "    model.add(Dense(units=50, activation='relu'))\n",
    "    model.add(Dropout(rate=0.5))\n",
    "    model.add(Dense(units=50, activation='relu'))\n",
    "    model.add(Dropout(rate=0.5))\n",
    "    model.add(Dense(units=last_units, activation=last_activation))\n",
    "    \n",
    "    # compile model\n",
    "    model.compile(loss='categorical_crossentropy',\n",
    "                  optimizer='adam',\n",
    "                  metrics=['accuracy'])\n",
    "    \n",
    "    # display model summary\n",
    "    display(model.summary())\n",
    "    \n",
    "    return model"
   ]
  },
  {
   "cell_type": "markdown",
   "metadata": {},
   "source": [
    "#### N-Gram Neural Network (Count)"
   ]
  },
  {
   "cell_type": "code",
   "execution_count": 206,
   "metadata": {},
   "outputs": [
    {
     "name": "stdout",
     "output_type": "stream",
     "text": [
      "Model: \"sequential_1\"\n",
      "_________________________________________________________________\n",
      "Layer (type)                 Output Shape              Param #   \n",
      "=================================================================\n",
      "dropout_1 (Dropout)          (None, 38310)             0         \n",
      "_________________________________________________________________\n",
      "dense_1 (Dense)              (None, 50)                1915550   \n",
      "_________________________________________________________________\n",
      "dropout_2 (Dropout)          (None, 50)                0         \n",
      "_________________________________________________________________\n",
      "dense_2 (Dense)              (None, 50)                2550      \n",
      "_________________________________________________________________\n",
      "dropout_3 (Dropout)          (None, 50)                0         \n",
      "_________________________________________________________________\n",
      "dense_3 (Dense)              (None, 3)                 153       \n",
      "=================================================================\n",
      "Total params: 1,918,253\n",
      "Trainable params: 1,918,253\n",
      "Non-trainable params: 0\n",
      "_________________________________________________________________\n"
     ]
    },
    {
     "data": {
      "text/plain": [
       "None"
      ]
     },
     "metadata": {},
     "output_type": "display_data"
    }
   ],
   "source": [
    "# build and compile\n",
    "count_model = build_ngram_model(input_shape=X_train_count.shape[1:],\n",
    "                                last_units=last_layer_units,\n",
    "                                last_activation=last_layer_activation)"
   ]
  },
  {
   "cell_type": "code",
   "execution_count": 207,
   "metadata": {},
   "outputs": [
    {
     "name": "stdout",
     "output_type": "stream",
     "text": [
      "Train on 5348 samples, validate on 1337 samples\n",
      "Epoch 1/10\n",
      "5348/5348 [==============================] - 7s 1ms/step - loss: 1.0133 - accuracy: 0.4921 - val_loss: 0.8731 - val_accuracy: 0.6028\n",
      "Epoch 2/10\n",
      "5348/5348 [==============================] - 7s 1ms/step - loss: 0.8270 - accuracy: 0.6055 - val_loss: 0.7935 - val_accuracy: 0.6156\n",
      "Epoch 3/10\n",
      "5348/5348 [==============================] - 7s 1ms/step - loss: 0.7371 - accuracy: 0.6644 - val_loss: 0.7558 - val_accuracy: 0.6492\n",
      "Epoch 4/10\n",
      "5348/5348 [==============================] - 7s 1ms/step - loss: 0.6190 - accuracy: 0.7377 - val_loss: 0.7505 - val_accuracy: 0.6612\n",
      "Epoch 5/10\n",
      "5348/5348 [==============================] - 7s 1ms/step - loss: 0.5155 - accuracy: 0.7913 - val_loss: 0.7815 - val_accuracy: 0.6589\n",
      "Epoch 6/10\n",
      "5348/5348 [==============================] - 7s 1ms/step - loss: 0.4335 - accuracy: 0.8398 - val_loss: 0.8275 - val_accuracy: 0.6440\n",
      "Epoch 7/10\n",
      "5348/5348 [==============================] - 6s 1ms/step - loss: 0.3601 - accuracy: 0.8652 - val_loss: 0.8855 - val_accuracy: 0.6500\n",
      "Epoch 8/10\n",
      "5348/5348 [==============================] - 6s 1ms/step - loss: 0.3234 - accuracy: 0.8859 - val_loss: 0.9143 - val_accuracy: 0.6500\n",
      "Epoch 9/10\n",
      "5348/5348 [==============================] - 6s 1ms/step - loss: 0.2880 - accuracy: 0.8955 - val_loss: 0.9562 - val_accuracy: 0.6455\n",
      "Epoch 10/10\n",
      "5348/5348 [==============================] - 6s 1ms/step - loss: 0.2646 - accuracy: 0.9095 - val_loss: 0.9884 - val_accuracy: 0.6477\n"
     ]
    },
    {
     "data": {
      "text/plain": [
       "<keras.callbacks.callbacks.History at 0x7fbec1a9c160>"
      ]
     },
     "execution_count": 207,
     "metadata": {},
     "output_type": "execute_result"
    }
   ],
   "source": [
    "# fit to count vectorized\n",
    "count_model.fit(X_train_count, y_train_encoded, \n",
    "                epochs=10,\n",
    "                batch_size=100,\n",
    "                validation_split=0.2)"
   ]
  },
  {
   "cell_type": "markdown",
   "metadata": {},
   "source": [
    "Looking at the neural network we can see that after epoch 4, the model starts overfitting to the training data.  Stopping after epoch 3 will help control overfitting to training data. "
   ]
  },
  {
   "cell_type": "code",
   "execution_count": 208,
   "metadata": {},
   "outputs": [
    {
     "name": "stdout",
     "output_type": "stream",
     "text": [
      "Model: \"sequential_2\"\n",
      "_________________________________________________________________\n",
      "Layer (type)                 Output Shape              Param #   \n",
      "=================================================================\n",
      "dropout_4 (Dropout)          (None, 38310)             0         \n",
      "_________________________________________________________________\n",
      "dense_4 (Dense)              (None, 50)                1915550   \n",
      "_________________________________________________________________\n",
      "dropout_5 (Dropout)          (None, 50)                0         \n",
      "_________________________________________________________________\n",
      "dense_5 (Dense)              (None, 50)                2550      \n",
      "_________________________________________________________________\n",
      "dropout_6 (Dropout)          (None, 50)                0         \n",
      "_________________________________________________________________\n",
      "dense_6 (Dense)              (None, 3)                 153       \n",
      "=================================================================\n",
      "Total params: 1,918,253\n",
      "Trainable params: 1,918,253\n",
      "Non-trainable params: 0\n",
      "_________________________________________________________________\n"
     ]
    },
    {
     "data": {
      "text/plain": [
       "None"
      ]
     },
     "metadata": {},
     "output_type": "display_data"
    },
    {
     "name": "stdout",
     "output_type": "stream",
     "text": [
      "Train on 5348 samples, validate on 1337 samples\n",
      "Epoch 1/3\n",
      "5348/5348 [==============================] - 7s 1ms/step - loss: 0.9383 - accuracy: 0.5946 - val_loss: 0.8222 - val_accuracy: 0.6028\n",
      "Epoch 2/3\n",
      "5348/5348 [==============================] - 7s 1ms/step - loss: 0.7838 - accuracy: 0.6243 - val_loss: 0.7790 - val_accuracy: 0.6290\n",
      "Epoch 3/3\n",
      "5348/5348 [==============================] - 7s 1ms/step - loss: 0.6740 - accuracy: 0.7107 - val_loss: 0.7514 - val_accuracy: 0.6657\n"
     ]
    },
    {
     "data": {
      "text/plain": [
       "<keras.callbacks.callbacks.History at 0x7fbeb6453c50>"
      ]
     },
     "execution_count": 208,
     "metadata": {},
     "output_type": "execute_result"
    }
   ],
   "source": [
    "# build and compile\n",
    "count_model = build_ngram_model(input_shape=X_train_count.shape[1:],\n",
    "                                last_units=last_layer_units,\n",
    "                                last_activation=last_layer_activation)\n",
    "\n",
    "# train with 3 epochs\n",
    "count_model.fit(X_train_count, y_train_encoded, \n",
    "                epochs=3,\n",
    "                batch_size=100,\n",
    "                validation_split=0.2)"
   ]
  },
  {
   "cell_type": "code",
   "execution_count": 209,
   "metadata": {},
   "outputs": [
    {
     "name": "stdout",
     "output_type": "stream",
     "text": [
      "Train Accuracy (Neural Network / Count Vectorized): 0.8077785968780518\n",
      "Test Accuracy (Neural Network / Count Vectorized): 0.6554508805274963\n"
     ]
    }
   ],
   "source": [
    "_, nn_count_train_score = count_model.evaluate(X_train_count, y_train_encoded, verbose=0)\n",
    "_, nn_count_test_score = count_model.evaluate(X_test_count, y_test_encoded, verbose=0)\n",
    "\n",
    "print(f'Train Accuracy (Neural Network / Count Vectorized): {nn_count_train_score}')\n",
    "print(f'Test Accuracy (Neural Network / Count Vectorized): {nn_count_test_score}')"
   ]
  },
  {
   "cell_type": "markdown",
   "metadata": {},
   "source": [
    "With ~67% testing accuracy and 77% training accuracy, this model is our best performer yet.  Given fairly similar testing and training scores, our model is not likely overfitting to the training set much."
   ]
  },
  {
   "cell_type": "markdown",
   "metadata": {},
   "source": [
    "#### N-Gram Neural Network (TF-IDF)"
   ]
  },
  {
   "cell_type": "code",
   "execution_count": 210,
   "metadata": {},
   "outputs": [
    {
     "name": "stdout",
     "output_type": "stream",
     "text": [
      "Model: \"sequential_3\"\n",
      "_________________________________________________________________\n",
      "Layer (type)                 Output Shape              Param #   \n",
      "=================================================================\n",
      "dropout_7 (Dropout)          (None, 38310)             0         \n",
      "_________________________________________________________________\n",
      "dense_7 (Dense)              (None, 50)                1915550   \n",
      "_________________________________________________________________\n",
      "dropout_8 (Dropout)          (None, 50)                0         \n",
      "_________________________________________________________________\n",
      "dense_8 (Dense)              (None, 50)                2550      \n",
      "_________________________________________________________________\n",
      "dropout_9 (Dropout)          (None, 50)                0         \n",
      "_________________________________________________________________\n",
      "dense_9 (Dense)              (None, 3)                 153       \n",
      "=================================================================\n",
      "Total params: 1,918,253\n",
      "Trainable params: 1,918,253\n",
      "Non-trainable params: 0\n",
      "_________________________________________________________________\n"
     ]
    },
    {
     "data": {
      "text/plain": [
       "None"
      ]
     },
     "metadata": {},
     "output_type": "display_data"
    }
   ],
   "source": [
    "# build and compile\n",
    "tfidf_model = build_ngram_model(input_shape=X_train_tfidf.shape[1:],\n",
    "                                last_units=last_layer_units,\n",
    "                                last_activation=last_layer_activation)"
   ]
  },
  {
   "cell_type": "code",
   "execution_count": 211,
   "metadata": {},
   "outputs": [
    {
     "name": "stdout",
     "output_type": "stream",
     "text": [
      "Train on 5348 samples, validate on 1337 samples\n",
      "Epoch 1/10\n",
      "5348/5348 [==============================] - 7s 1ms/step - loss: 1.0244 - accuracy: 0.5808 - val_loss: 0.9023 - val_accuracy: 0.6028\n",
      "Epoch 2/10\n",
      "5348/5348 [==============================] - 6s 1ms/step - loss: 0.8508 - accuracy: 0.6028 - val_loss: 0.8206 - val_accuracy: 0.6028\n",
      "Epoch 3/10\n",
      "5348/5348 [==============================] - 7s 1ms/step - loss: 0.7924 - accuracy: 0.6073 - val_loss: 0.7954 - val_accuracy: 0.6111\n",
      "Epoch 4/10\n",
      "5348/5348 [==============================] - 7s 1ms/step - loss: 0.7074 - accuracy: 0.6636 - val_loss: 0.7610 - val_accuracy: 0.6440\n",
      "Epoch 5/10\n",
      "5348/5348 [==============================] - 6s 1ms/step - loss: 0.5860 - accuracy: 0.7691 - val_loss: 0.7471 - val_accuracy: 0.6522\n",
      "Epoch 6/10\n",
      "5348/5348 [==============================] - 7s 1ms/step - loss: 0.4771 - accuracy: 0.8160 - val_loss: 0.7713 - val_accuracy: 0.6492\n",
      "Epoch 7/10\n",
      "5348/5348 [==============================] - 7s 1ms/step - loss: 0.3723 - accuracy: 0.8672 - val_loss: 0.8077 - val_accuracy: 0.6432\n",
      "Epoch 8/10\n",
      "5348/5348 [==============================] - 6s 1ms/step - loss: 0.3237 - accuracy: 0.8872 - val_loss: 0.8468 - val_accuracy: 0.6425\n",
      "Epoch 9/10\n",
      "5348/5348 [==============================] - 6s 1ms/step - loss: 0.2825 - accuracy: 0.9037 - val_loss: 0.8746 - val_accuracy: 0.6402\n",
      "Epoch 10/10\n",
      "5348/5348 [==============================] - 8s 1ms/step - loss: 0.2508 - accuracy: 0.9145 - val_loss: 0.9133 - val_accuracy: 0.6447\n"
     ]
    },
    {
     "data": {
      "text/plain": [
       "<keras.callbacks.callbacks.History at 0x7fbee404fc88>"
      ]
     },
     "execution_count": 211,
     "metadata": {},
     "output_type": "execute_result"
    }
   ],
   "source": [
    "# fit to tfidf vectorized\n",
    "tfidf_model.fit(X_train_tfidf, y_train_encoded, \n",
    "                epochs=10,\n",
    "                batch_size=100,\n",
    "                validation_split=0.2)"
   ]
  },
  {
   "cell_type": "markdown",
   "metadata": {},
   "source": [
    "Similar to count vectorized data, overfitting starts occuring after epoch 3."
   ]
  },
  {
   "cell_type": "code",
   "execution_count": 212,
   "metadata": {},
   "outputs": [
    {
     "name": "stdout",
     "output_type": "stream",
     "text": [
      "Model: \"sequential_4\"\n",
      "_________________________________________________________________\n",
      "Layer (type)                 Output Shape              Param #   \n",
      "=================================================================\n",
      "dropout_10 (Dropout)         (None, 38310)             0         \n",
      "_________________________________________________________________\n",
      "dense_10 (Dense)             (None, 50)                1915550   \n",
      "_________________________________________________________________\n",
      "dropout_11 (Dropout)         (None, 50)                0         \n",
      "_________________________________________________________________\n",
      "dense_11 (Dense)             (None, 50)                2550      \n",
      "_________________________________________________________________\n",
      "dropout_12 (Dropout)         (None, 50)                0         \n",
      "_________________________________________________________________\n",
      "dense_12 (Dense)             (None, 3)                 153       \n",
      "=================================================================\n",
      "Total params: 1,918,253\n",
      "Trainable params: 1,918,253\n",
      "Non-trainable params: 0\n",
      "_________________________________________________________________\n"
     ]
    },
    {
     "data": {
      "text/plain": [
       "None"
      ]
     },
     "metadata": {},
     "output_type": "display_data"
    },
    {
     "name": "stdout",
     "output_type": "stream",
     "text": [
      "Train on 5348 samples, validate on 1337 samples\n",
      "Epoch 1/3\n",
      "5348/5348 [==============================] - 7s 1ms/step - loss: 0.9854 - accuracy: 0.5851 - val_loss: 0.8517 - val_accuracy: 0.6028\n",
      "Epoch 2/3\n",
      "5348/5348 [==============================] - 6s 1ms/step - loss: 0.8319 - accuracy: 0.6034 - val_loss: 0.8126 - val_accuracy: 0.6028\n",
      "Epoch 3/3\n",
      "5348/5348 [==============================] - 6s 1ms/step - loss: 0.7635 - accuracy: 0.6247 - val_loss: 0.7791 - val_accuracy: 0.6223\n"
     ]
    },
    {
     "data": {
      "text/plain": [
       "<keras.callbacks.callbacks.History at 0x7fbe72205860>"
      ]
     },
     "execution_count": 212,
     "metadata": {},
     "output_type": "execute_result"
    }
   ],
   "source": [
    "# build and compile with 3 epochs\n",
    "count_model = build_ngram_model(input_shape=X_train_tfidf.shape[1:],\n",
    "                                last_units=last_layer_units,\n",
    "                                last_activation=last_layer_activation)\n",
    "\n",
    "# train with 3 epochs\n",
    "count_model.fit(X_train_tfidf, \n",
    "                y_train_encoded, \n",
    "                epochs=3,\n",
    "                batch_size=100,\n",
    "                validation_split=0.2)"
   ]
  },
  {
   "cell_type": "code",
   "execution_count": 213,
   "metadata": {},
   "outputs": [
    {
     "name": "stdout",
     "output_type": "stream",
     "text": [
      "Train Accuracy (Neural Network / TF-IDF Vectorized): 0.8943904042243958\n",
      "Test Accuracy (Neural Network / TF-IDF Vectorized): 0.6617317199707031\n"
     ]
    }
   ],
   "source": [
    "_, nn_tfidf_train_score = tfidf_model.evaluate(X_train_tfidf, y_train_encoded, verbose=0)\n",
    "_, nn_tfidf_test_score = tfidf_model.evaluate(X_test_tfidf, y_test_encoded, verbose=0)\n",
    "\n",
    "print(f'Train Accuracy (Neural Network / TF-IDF Vectorized): {nn_tfidf_train_score}')\n",
    "print(f'Test Accuracy (Neural Network / TF-IDF Vectorized): {nn_tfidf_test_score}')"
   ]
  },
  {
   "cell_type": "markdown",
   "metadata": {},
   "source": [
    "Looking at the results on the TF-IDF vectorized dataset, we see similar testing set results, but more levels of overfitting present to the training data. Try on W2V data"
   ]
  },
  {
   "cell_type": "markdown",
   "metadata": {},
   "source": [
    "#### N-Gram Neural Network (Word2Vec)"
   ]
  },
  {
   "cell_type": "code",
   "execution_count": 214,
   "metadata": {},
   "outputs": [
    {
     "name": "stdout",
     "output_type": "stream",
     "text": [
      "Model: \"sequential_5\"\n",
      "_________________________________________________________________\n",
      "Layer (type)                 Output Shape              Param #   \n",
      "=================================================================\n",
      "dropout_13 (Dropout)         (None, 50)                0         \n",
      "_________________________________________________________________\n",
      "dense_13 (Dense)             (None, 50)                2550      \n",
      "_________________________________________________________________\n",
      "dropout_14 (Dropout)         (None, 50)                0         \n",
      "_________________________________________________________________\n",
      "dense_14 (Dense)             (None, 50)                2550      \n",
      "_________________________________________________________________\n",
      "dropout_15 (Dropout)         (None, 50)                0         \n",
      "_________________________________________________________________\n",
      "dense_15 (Dense)             (None, 3)                 153       \n",
      "=================================================================\n",
      "Total params: 5,253\n",
      "Trainable params: 5,253\n",
      "Non-trainable params: 0\n",
      "_________________________________________________________________\n"
     ]
    },
    {
     "data": {
      "text/plain": [
       "None"
      ]
     },
     "metadata": {},
     "output_type": "display_data"
    }
   ],
   "source": [
    "# build and compile\n",
    "w2v_model = build_ngram_model(input_shape=X_train_w2v.shape[1:],\n",
    "                                last_units=last_layer_units,\n",
    "                                last_activation=last_layer_activation)"
   ]
  },
  {
   "cell_type": "code",
   "execution_count": 215,
   "metadata": {},
   "outputs": [
    {
     "name": "stdout",
     "output_type": "stream",
     "text": [
      "Train on 5348 samples, validate on 1337 samples\n",
      "Epoch 1/100\n",
      "5348/5348 [==============================] - 1s 168us/step - loss: 1.0303 - accuracy: 0.5127 - val_loss: 0.8817 - val_accuracy: 0.6021\n",
      "Epoch 2/100\n",
      "5348/5348 [==============================] - 0s 62us/step - loss: 0.9058 - accuracy: 0.5677 - val_loss: 0.8681 - val_accuracy: 0.6028\n",
      "Epoch 3/100\n",
      "5348/5348 [==============================] - 0s 57us/step - loss: 0.8840 - accuracy: 0.5802 - val_loss: 0.8577 - val_accuracy: 0.6028\n",
      "Epoch 4/100\n",
      "5348/5348 [==============================] - 0s 55us/step - loss: 0.8721 - accuracy: 0.5918 - val_loss: 0.8561 - val_accuracy: 0.6028\n",
      "Epoch 5/100\n",
      "5348/5348 [==============================] - 0s 54us/step - loss: 0.8641 - accuracy: 0.5926 - val_loss: 0.8519 - val_accuracy: 0.6028\n",
      "Epoch 6/100\n",
      "5348/5348 [==============================] - 0s 57us/step - loss: 0.8562 - accuracy: 0.5980 - val_loss: 0.8484 - val_accuracy: 0.6028\n",
      "Epoch 7/100\n",
      "5348/5348 [==============================] - 0s 54us/step - loss: 0.8514 - accuracy: 0.5974 - val_loss: 0.8495 - val_accuracy: 0.6028\n",
      "Epoch 8/100\n",
      "5348/5348 [==============================] - 0s 54us/step - loss: 0.8483 - accuracy: 0.6010 - val_loss: 0.8405 - val_accuracy: 0.6028\n",
      "Epoch 9/100\n",
      "5348/5348 [==============================] - 0s 54us/step - loss: 0.8493 - accuracy: 0.6006 - val_loss: 0.8374 - val_accuracy: 0.6028\n",
      "Epoch 10/100\n",
      "5348/5348 [==============================] - 0s 55us/step - loss: 0.8405 - accuracy: 0.6030 - val_loss: 0.8366 - val_accuracy: 0.6028\n",
      "Epoch 11/100\n",
      "5348/5348 [==============================] - 0s 55us/step - loss: 0.8373 - accuracy: 0.6034 - val_loss: 0.8309 - val_accuracy: 0.6028\n",
      "Epoch 12/100\n",
      "5348/5348 [==============================] - 0s 65us/step - loss: 0.8365 - accuracy: 0.5997 - val_loss: 0.8324 - val_accuracy: 0.6028\n",
      "Epoch 13/100\n",
      "5348/5348 [==============================] - 0s 60us/step - loss: 0.8324 - accuracy: 0.6047 - val_loss: 0.8333 - val_accuracy: 0.6028\n",
      "Epoch 14/100\n",
      "5348/5348 [==============================] - 0s 64us/step - loss: 0.8310 - accuracy: 0.6008 - val_loss: 0.8269 - val_accuracy: 0.6028\n",
      "Epoch 15/100\n",
      "5348/5348 [==============================] - 0s 62us/step - loss: 0.8302 - accuracy: 0.6017 - val_loss: 0.8302 - val_accuracy: 0.6028\n",
      "Epoch 16/100\n",
      "5348/5348 [==============================] - 0s 68us/step - loss: 0.8329 - accuracy: 0.6004 - val_loss: 0.8258 - val_accuracy: 0.6028\n",
      "Epoch 17/100\n",
      "5348/5348 [==============================] - 0s 66us/step - loss: 0.8358 - accuracy: 0.6040 - val_loss: 0.8264 - val_accuracy: 0.6028\n",
      "Epoch 18/100\n",
      "5348/5348 [==============================] - 0s 66us/step - loss: 0.8235 - accuracy: 0.6042 - val_loss: 0.8212 - val_accuracy: 0.6028\n",
      "Epoch 19/100\n",
      "5348/5348 [==============================] - 0s 68us/step - loss: 0.8280 - accuracy: 0.6028 - val_loss: 0.8211 - val_accuracy: 0.6028\n",
      "Epoch 20/100\n",
      "5348/5348 [==============================] - 0s 56us/step - loss: 0.8318 - accuracy: 0.6040 - val_loss: 0.8243 - val_accuracy: 0.6028\n",
      "Epoch 21/100\n",
      "5348/5348 [==============================] - 0s 63us/step - loss: 0.8256 - accuracy: 0.6019 - val_loss: 0.8176 - val_accuracy: 0.6028\n",
      "Epoch 22/100\n",
      "5348/5348 [==============================] - 0s 60us/step - loss: 0.8213 - accuracy: 0.6036 - val_loss: 0.8175 - val_accuracy: 0.6028\n",
      "Epoch 23/100\n",
      "5348/5348 [==============================] - 0s 68us/step - loss: 0.8290 - accuracy: 0.6006 - val_loss: 0.8174 - val_accuracy: 0.6028\n",
      "Epoch 24/100\n",
      "5348/5348 [==============================] - 0s 65us/step - loss: 0.8203 - accuracy: 0.6047 - val_loss: 0.8159 - val_accuracy: 0.6028\n",
      "Epoch 25/100\n",
      "5348/5348 [==============================] - 0s 58us/step - loss: 0.8207 - accuracy: 0.6034 - val_loss: 0.8113 - val_accuracy: 0.6028\n",
      "Epoch 26/100\n",
      "5348/5348 [==============================] - 0s 65us/step - loss: 0.8196 - accuracy: 0.6058 - val_loss: 0.8116 - val_accuracy: 0.6028\n",
      "Epoch 27/100\n",
      "5348/5348 [==============================] - 0s 58us/step - loss: 0.8188 - accuracy: 0.6036 - val_loss: 0.8122 - val_accuracy: 0.6028\n",
      "Epoch 28/100\n",
      "5348/5348 [==============================] - 0s 57us/step - loss: 0.8238 - accuracy: 0.6038 - val_loss: 0.8119 - val_accuracy: 0.6043\n",
      "Epoch 29/100\n",
      "5348/5348 [==============================] - 0s 57us/step - loss: 0.8219 - accuracy: 0.6045 - val_loss: 0.8110 - val_accuracy: 0.6028\n",
      "Epoch 30/100\n",
      "5348/5348 [==============================] - 0s 63us/step - loss: 0.8171 - accuracy: 0.6038 - val_loss: 0.8120 - val_accuracy: 0.6028\n",
      "Epoch 31/100\n",
      "5348/5348 [==============================] - 0s 60us/step - loss: 0.8212 - accuracy: 0.6000 - val_loss: 0.8122 - val_accuracy: 0.6028\n",
      "Epoch 32/100\n",
      "5348/5348 [==============================] - 0s 58us/step - loss: 0.8145 - accuracy: 0.6042 - val_loss: 0.8095 - val_accuracy: 0.6028\n",
      "Epoch 33/100\n",
      "5348/5348 [==============================] - 0s 64us/step - loss: 0.8204 - accuracy: 0.6028 - val_loss: 0.8117 - val_accuracy: 0.6028\n",
      "Epoch 34/100\n",
      "5348/5348 [==============================] - 0s 57us/step - loss: 0.8183 - accuracy: 0.6032 - val_loss: 0.8103 - val_accuracy: 0.6036\n",
      "Epoch 35/100\n",
      "5348/5348 [==============================] - 0s 63us/step - loss: 0.8211 - accuracy: 0.6028 - val_loss: 0.8111 - val_accuracy: 0.6028\n",
      "Epoch 36/100\n",
      "5348/5348 [==============================] - 0s 59us/step - loss: 0.8194 - accuracy: 0.6068 - val_loss: 0.8074 - val_accuracy: 0.6028\n",
      "Epoch 37/100\n",
      "5348/5348 [==============================] - 0s 63us/step - loss: 0.8188 - accuracy: 0.6077 - val_loss: 0.8136 - val_accuracy: 0.6028\n",
      "Epoch 38/100\n",
      "5348/5348 [==============================] - 0s 67us/step - loss: 0.8176 - accuracy: 0.6070 - val_loss: 0.8090 - val_accuracy: 0.6043\n",
      "Epoch 39/100\n",
      "5348/5348 [==============================] - 0s 57us/step - loss: 0.8159 - accuracy: 0.6036 - val_loss: 0.8060 - val_accuracy: 0.6036\n",
      "Epoch 40/100\n",
      "5348/5348 [==============================] - 0s 64us/step - loss: 0.8112 - accuracy: 0.6019 - val_loss: 0.8071 - val_accuracy: 0.6036\n",
      "Epoch 41/100\n",
      "5348/5348 [==============================] - 0s 66us/step - loss: 0.8173 - accuracy: 0.6017 - val_loss: 0.8082 - val_accuracy: 0.6036\n",
      "Epoch 42/100\n",
      "5348/5348 [==============================] - 0s 59us/step - loss: 0.8172 - accuracy: 0.6034 - val_loss: 0.8066 - val_accuracy: 0.6028\n",
      "Epoch 43/100\n",
      "5348/5348 [==============================] - 0s 60us/step - loss: 0.8119 - accuracy: 0.6071 - val_loss: 0.8057 - val_accuracy: 0.6036\n",
      "Epoch 44/100\n",
      "5348/5348 [==============================] - 0s 67us/step - loss: 0.8114 - accuracy: 0.6043 - val_loss: 0.8028 - val_accuracy: 0.6036\n",
      "Epoch 45/100\n",
      "5348/5348 [==============================] - 0s 60us/step - loss: 0.8148 - accuracy: 0.6043 - val_loss: 0.8040 - val_accuracy: 0.6043\n",
      "Epoch 46/100\n",
      "5348/5348 [==============================] - 0s 59us/step - loss: 0.8143 - accuracy: 0.6030 - val_loss: 0.8053 - val_accuracy: 0.6036\n",
      "Epoch 47/100\n",
      "5348/5348 [==============================] - 0s 60us/step - loss: 0.8147 - accuracy: 0.6049 - val_loss: 0.8070 - val_accuracy: 0.6043\n",
      "Epoch 48/100\n",
      "5348/5348 [==============================] - 0s 65us/step - loss: 0.8116 - accuracy: 0.6079 - val_loss: 0.8065 - val_accuracy: 0.6126\n",
      "Epoch 49/100\n",
      "5348/5348 [==============================] - 0s 65us/step - loss: 0.8135 - accuracy: 0.6094 - val_loss: 0.8056 - val_accuracy: 0.6066\n",
      "Epoch 50/100\n",
      "5348/5348 [==============================] - 0s 65us/step - loss: 0.8116 - accuracy: 0.6043 - val_loss: 0.8038 - val_accuracy: 0.6036\n",
      "Epoch 51/100\n",
      "5348/5348 [==============================] - 0s 66us/step - loss: 0.8147 - accuracy: 0.6070 - val_loss: 0.8071 - val_accuracy: 0.6133\n",
      "Epoch 52/100\n",
      "5348/5348 [==============================] - 0s 65us/step - loss: 0.8134 - accuracy: 0.6060 - val_loss: 0.8055 - val_accuracy: 0.6111\n",
      "Epoch 53/100\n",
      "5348/5348 [==============================] - 0s 65us/step - loss: 0.8129 - accuracy: 0.6079 - val_loss: 0.8045 - val_accuracy: 0.6103\n",
      "Epoch 54/100\n",
      "5348/5348 [==============================] - 0s 62us/step - loss: 0.8149 - accuracy: 0.6088 - val_loss: 0.8045 - val_accuracy: 0.6081\n",
      "Epoch 55/100\n",
      "5348/5348 [==============================] - 0s 64us/step - loss: 0.8057 - accuracy: 0.6101 - val_loss: 0.8014 - val_accuracy: 0.6141\n",
      "Epoch 56/100\n",
      "5348/5348 [==============================] - 0s 65us/step - loss: 0.8125 - accuracy: 0.5987 - val_loss: 0.8052 - val_accuracy: 0.6118\n",
      "Epoch 57/100\n",
      "5348/5348 [==============================] - 0s 65us/step - loss: 0.8133 - accuracy: 0.6051 - val_loss: 0.8034 - val_accuracy: 0.6051\n",
      "Epoch 58/100\n",
      "5348/5348 [==============================] - 0s 61us/step - loss: 0.8096 - accuracy: 0.6043 - val_loss: 0.8023 - val_accuracy: 0.6051\n",
      "Epoch 59/100\n",
      "5348/5348 [==============================] - 0s 62us/step - loss: 0.8068 - accuracy: 0.6055 - val_loss: 0.8045 - val_accuracy: 0.6111\n",
      "Epoch 60/100\n",
      "5348/5348 [==============================] - 0s 61us/step - loss: 0.8129 - accuracy: 0.6019 - val_loss: 0.8059 - val_accuracy: 0.6043\n",
      "Epoch 61/100\n",
      "5348/5348 [==============================] - 0s 57us/step - loss: 0.8063 - accuracy: 0.6071 - val_loss: 0.8002 - val_accuracy: 0.6043\n",
      "Epoch 62/100\n",
      "5348/5348 [==============================] - 0s 63us/step - loss: 0.8124 - accuracy: 0.6053 - val_loss: 0.8039 - val_accuracy: 0.6043\n",
      "Epoch 63/100\n",
      "5348/5348 [==============================] - 0s 65us/step - loss: 0.8118 - accuracy: 0.6056 - val_loss: 0.8046 - val_accuracy: 0.6126\n",
      "Epoch 64/100\n",
      "5348/5348 [==============================] - 0s 69us/step - loss: 0.8074 - accuracy: 0.6043 - val_loss: 0.8006 - val_accuracy: 0.6096\n",
      "Epoch 65/100\n",
      "5348/5348 [==============================] - 0s 65us/step - loss: 0.8045 - accuracy: 0.6126 - val_loss: 0.8021 - val_accuracy: 0.6148\n",
      "Epoch 66/100\n",
      "5348/5348 [==============================] - 0s 67us/step - loss: 0.8096 - accuracy: 0.6071 - val_loss: 0.8007 - val_accuracy: 0.6118\n",
      "Epoch 67/100\n",
      "5348/5348 [==============================] - 0s 62us/step - loss: 0.8095 - accuracy: 0.6066 - val_loss: 0.8028 - val_accuracy: 0.6088\n",
      "Epoch 68/100\n",
      "5348/5348 [==============================] - 0s 58us/step - loss: 0.8076 - accuracy: 0.6086 - val_loss: 0.8036 - val_accuracy: 0.6103\n",
      "Epoch 69/100\n",
      "5348/5348 [==============================] - 0s 57us/step - loss: 0.8089 - accuracy: 0.6015 - val_loss: 0.8019 - val_accuracy: 0.6088\n",
      "Epoch 70/100\n",
      "5348/5348 [==============================] - 0s 65us/step - loss: 0.8059 - accuracy: 0.6077 - val_loss: 0.8011 - val_accuracy: 0.6096\n",
      "Epoch 71/100\n",
      "5348/5348 [==============================] - 0s 62us/step - loss: 0.8116 - accuracy: 0.6075 - val_loss: 0.7995 - val_accuracy: 0.6088\n",
      "Epoch 72/100\n",
      "5348/5348 [==============================] - 0s 62us/step - loss: 0.8090 - accuracy: 0.6088 - val_loss: 0.7996 - val_accuracy: 0.6073\n",
      "Epoch 73/100\n",
      "5348/5348 [==============================] - 0s 61us/step - loss: 0.8080 - accuracy: 0.6071 - val_loss: 0.8002 - val_accuracy: 0.6148\n",
      "Epoch 74/100\n",
      "5348/5348 [==============================] - 0s 57us/step - loss: 0.8098 - accuracy: 0.6023 - val_loss: 0.8030 - val_accuracy: 0.6118\n",
      "Epoch 75/100\n",
      "5348/5348 [==============================] - 0s 55us/step - loss: 0.8110 - accuracy: 0.6047 - val_loss: 0.8040 - val_accuracy: 0.6118\n",
      "Epoch 76/100\n",
      "5348/5348 [==============================] - 0s 57us/step - loss: 0.8010 - accuracy: 0.6113 - val_loss: 0.8003 - val_accuracy: 0.6126\n",
      "Epoch 77/100\n",
      "5348/5348 [==============================] - 0s 55us/step - loss: 0.8023 - accuracy: 0.6103 - val_loss: 0.7995 - val_accuracy: 0.6193\n",
      "Epoch 78/100\n",
      "5348/5348 [==============================] - 0s 56us/step - loss: 0.8081 - accuracy: 0.6133 - val_loss: 0.7974 - val_accuracy: 0.6148\n",
      "Epoch 79/100\n",
      "5348/5348 [==============================] - 0s 56us/step - loss: 0.8012 - accuracy: 0.6144 - val_loss: 0.7963 - val_accuracy: 0.6133\n",
      "Epoch 80/100\n",
      "5348/5348 [==============================] - 0s 55us/step - loss: 0.8050 - accuracy: 0.6066 - val_loss: 0.8004 - val_accuracy: 0.6141\n",
      "Epoch 81/100\n",
      "5348/5348 [==============================] - 0s 56us/step - loss: 0.8115 - accuracy: 0.6126 - val_loss: 0.8053 - val_accuracy: 0.6163\n",
      "Epoch 82/100\n",
      "5348/5348 [==============================] - 0s 56us/step - loss: 0.7995 - accuracy: 0.6060 - val_loss: 0.7965 - val_accuracy: 0.6088\n",
      "Epoch 83/100\n",
      "5348/5348 [==============================] - 0s 56us/step - loss: 0.8093 - accuracy: 0.6085 - val_loss: 0.7988 - val_accuracy: 0.6088\n",
      "Epoch 84/100\n",
      "5348/5348 [==============================] - 0s 55us/step - loss: 0.8056 - accuracy: 0.6088 - val_loss: 0.7989 - val_accuracy: 0.6148\n",
      "Epoch 85/100\n",
      "5348/5348 [==============================] - 0s 57us/step - loss: 0.8112 - accuracy: 0.6099 - val_loss: 0.8020 - val_accuracy: 0.6111\n",
      "Epoch 86/100\n",
      "5348/5348 [==============================] - 0s 56us/step - loss: 0.8064 - accuracy: 0.6042 - val_loss: 0.7984 - val_accuracy: 0.6103\n",
      "Epoch 87/100\n",
      "5348/5348 [==============================] - 0s 55us/step - loss: 0.8024 - accuracy: 0.6064 - val_loss: 0.8003 - val_accuracy: 0.6103\n",
      "Epoch 88/100\n",
      "5348/5348 [==============================] - 0s 56us/step - loss: 0.8045 - accuracy: 0.6098 - val_loss: 0.8008 - val_accuracy: 0.6133\n",
      "Epoch 89/100\n",
      "5348/5348 [==============================] - 0s 55us/step - loss: 0.8100 - accuracy: 0.6034 - val_loss: 0.8011 - val_accuracy: 0.6081\n",
      "Epoch 90/100\n",
      "5348/5348 [==============================] - 0s 56us/step - loss: 0.8036 - accuracy: 0.6083 - val_loss: 0.8015 - val_accuracy: 0.6141\n",
      "Epoch 91/100\n",
      "5348/5348 [==============================] - 0s 55us/step - loss: 0.8025 - accuracy: 0.6062 - val_loss: 0.7972 - val_accuracy: 0.6148\n",
      "Epoch 92/100\n",
      "5348/5348 [==============================] - 0s 57us/step - loss: 0.8058 - accuracy: 0.6105 - val_loss: 0.8055 - val_accuracy: 0.6156\n",
      "Epoch 93/100\n",
      "5348/5348 [==============================] - 0s 56us/step - loss: 0.8076 - accuracy: 0.6090 - val_loss: 0.7993 - val_accuracy: 0.6141\n",
      "Epoch 94/100\n",
      "5348/5348 [==============================] - 0s 57us/step - loss: 0.8054 - accuracy: 0.6027 - val_loss: 0.7994 - val_accuracy: 0.6126\n",
      "Epoch 95/100\n",
      "5348/5348 [==============================] - 0s 56us/step - loss: 0.8018 - accuracy: 0.6122 - val_loss: 0.7983 - val_accuracy: 0.6156\n",
      "Epoch 96/100\n",
      "5348/5348 [==============================] - 0s 56us/step - loss: 0.8000 - accuracy: 0.6073 - val_loss: 0.7994 - val_accuracy: 0.6126\n",
      "Epoch 97/100\n",
      "5348/5348 [==============================] - 0s 56us/step - loss: 0.8096 - accuracy: 0.6036 - val_loss: 0.7999 - val_accuracy: 0.6133\n",
      "Epoch 98/100\n",
      "5348/5348 [==============================] - 0s 56us/step - loss: 0.8022 - accuracy: 0.6185 - val_loss: 0.7968 - val_accuracy: 0.6178\n",
      "Epoch 99/100\n",
      "5348/5348 [==============================] - 0s 57us/step - loss: 0.8056 - accuracy: 0.6036 - val_loss: 0.7968 - val_accuracy: 0.6118\n",
      "Epoch 100/100\n",
      "5348/5348 [==============================] - 0s 55us/step - loss: 0.8036 - accuracy: 0.6081 - val_loss: 0.7981 - val_accuracy: 0.6118\n"
     ]
    },
    {
     "data": {
      "text/plain": [
       "<keras.callbacks.callbacks.History at 0x7fbed4407780>"
      ]
     },
     "execution_count": 215,
     "metadata": {},
     "output_type": "execute_result"
    }
   ],
   "source": [
    "# fit to w2v vectorized\n",
    "w2v_model.fit(X_train_w2v, y_train_encoded, \n",
    "                epochs=100,\n",
    "                batch_size=100,\n",
    "                validation_split=0.2)"
   ]
  },
  {
   "cell_type": "markdown",
   "metadata": {},
   "source": [
    "word2vec vectorized is not overfitting as badly, but results are not as strong as other neural nets run so far, with testing accuracy coming in around ~60%."
   ]
  },
  {
   "cell_type": "code",
   "execution_count": 216,
   "metadata": {},
   "outputs": [
    {
     "name": "stdout",
     "output_type": "stream",
     "text": [
      "Train Accuracy (Neural Network / TF-IDF Vectorized): 0.6094240546226501\n",
      "Test Accuracy (Neural Network / TF-IDF Vectorized): 0.6065500378608704\n"
     ]
    }
   ],
   "source": [
    "_, nn_w2v_train_score = w2v_model.evaluate(X_train_w2v, y_train_encoded, verbose=0)\n",
    "_, nn_w2v_test_score = w2v_model.evaluate(X_test_w2v, y_test_encoded, verbose=0)\n",
    "\n",
    "print(f'Train Accuracy (Neural Network / TF-IDF Vectorized): {nn_w2v_train_score}')\n",
    "print(f'Test Accuracy (Neural Network / TF-IDF Vectorized): {nn_w2v_test_score}')"
   ]
  },
  {
   "cell_type": "markdown",
   "metadata": {},
   "source": [
    "Minimal levels of overfitting present and decently strong results with testing accuracy over 62%.  May be possible to improve results with additional data or more epochs, despite already using a large number. Performance is under other methods identified. "
   ]
  },
  {
   "cell_type": "code",
   "execution_count": 217,
   "metadata": {},
   "outputs": [],
   "source": [
    "# look at gensim for visualization and embedding layers. "
   ]
  },
  {
   "cell_type": "markdown",
   "metadata": {},
   "source": [
    "# 5. Evaluation"
   ]
  },
  {
   "cell_type": "markdown",
   "metadata": {},
   "source": [
    "Now that all models have been run, we can summarize results and run on full dataset. \n",
    "\n",
    "To start, summarize best identified scores from models run."
   ]
  },
  {
   "cell_type": "code",
   "execution_count": 218,
   "metadata": {},
   "outputs": [
    {
     "name": "stdout",
     "output_type": "stream",
     "text": [
      "Best Tuned Random Forest (Count Vectorized) Test Accuracy: 0.6034096007178107\n",
      "Best Tuned Random Forest (Count Vectorized) Train Accuracy: 0.6864622288706058\n",
      "Best Tuned Random Forest (TF-IDF Vectorized) Test Accuracy: 0.6038582323912068\n",
      "Best Tuned Random Forest (TF-IDF Vectorized) Train Accuracy: 0.7205684367988033\n",
      "Best Tuned Random Forest (Word2Vec) Test Accuracy: 0.4997756841633019\n",
      "Best Tuned Random Forest (Word2Vec) Train Accuracy: 0.581600598354525\n",
      "Best Tuned LinearSVC (Count) Test Accuracy: 0.6532077164647824\n",
      "Best Tuned LinearSVC (Count) Train Accuracy: 0.7130890052356021\n",
      "Best Tuned LinearSVC (TF-IDF) Test Accuracy: 0.6249439210408255\n",
      "Best Tuned LinearSVC (TF-IDF) Train Accuracy: 0.6260284218399401\n",
      "Best Tuned LinearSVC (w2v) Test Accuracy: 0.582323912068192\n",
      "Best Tuned LinearSVC (w2v) Train Accuracy: 0.5973074046372475\n",
      "Best Neural Network (Count) Test Accuracy: 0.6554508805274963\n",
      "Best Neural Network (Count) Train Accuracy: 0.8077785968780518\n",
      "Best Neural Network (TF-IDF) Test Accuracy: 0.6617317199707031\n",
      "Best Neural Network (TF-IDF) Train Accuracy: 0.8943904042243958\n",
      "Best Neural Network (Word2Vec) Test Accuracy: 0.6065500378608704\n",
      "Best Neural Network (Word2Vec) Train Accuracy: 0.6094240546226501\n"
     ]
    }
   ],
   "source": [
    "# summarize training and test scores for all models run:\n",
    "best_rf_models = [best_rf_count, best_rf_tfidf, best_rf_w2v]\n",
    "best_svc_models = [best_svc_count, best_svc_tfidf, best_svc_w2v]\n",
    "print(f'Best Tuned Random Forest (Count Vectorized) Test Accuracy: {best_rf_count.score(X_test_count, y_test)}')\n",
    "print(f'Best Tuned Random Forest (Count Vectorized) Train Accuracy: {best_rf_count.score(X_train_count, y_train)}')\n",
    "print(f'Best Tuned Random Forest (TF-IDF Vectorized) Test Accuracy: {best_rf_tfidf.score(X_test_tfidf, y_test)}')\n",
    "print(f'Best Tuned Random Forest (TF-IDF Vectorized) Train Accuracy: {best_rf_tfidf.score(X_train_tfidf, y_train)}')\n",
    "print(f'Best Tuned Random Forest (Word2Vec) Test Accuracy: {best_rf_w2v.score(X_test_w2v, y_test)}')\n",
    "print(f'Best Tuned Random Forest (Word2Vec) Train Accuracy: {best_rf_w2v.score(X_train_w2v, y_train)}')\n",
    "print(f'Best Tuned LinearSVC (Count) Test Accuracy: {best_svc_count.score(X_test_count, y_test)}')\n",
    "print(f'Best Tuned LinearSVC (Count) Train Accuracy: {best_svc_count.score(X_train_count, y_train)}')\n",
    "print(f'Best Tuned LinearSVC (TF-IDF) Test Accuracy: {best_svc_tfidf.score(X_test_tfidf, y_test)}')\n",
    "print(f'Best Tuned LinearSVC (TF-IDF) Train Accuracy: {best_svc_tfidf.score(X_train_tfidf, y_train)}')\n",
    "print(f'Best Tuned LinearSVC (w2v) Test Accuracy: {best_svc_w2v.score(X_test_w2v, y_test)}')\n",
    "print(f'Best Tuned LinearSVC (w2v) Train Accuracy: {best_svc_w2v.score(X_train_w2v, y_train)}')\n",
    "print(f'Best Neural Network (Count) Test Accuracy: {nn_count_test_score}')\n",
    "print(f'Best Neural Network (Count) Train Accuracy: {nn_count_train_score}')\n",
    "print(f'Best Neural Network (TF-IDF) Test Accuracy: {nn_tfidf_test_score}')\n",
    "print(f'Best Neural Network (TF-IDF) Train Accuracy: {nn_tfidf_train_score}')\n",
    "print(f'Best Neural Network (Word2Vec) Test Accuracy: {nn_w2v_test_score}')\n",
    "print(f'Best Neural Network (Word2Vec) Train Accuracy: {nn_w2v_train_score}')"
   ]
  },
  {
   "cell_type": "code",
   "execution_count": 219,
   "metadata": {},
   "outputs": [],
   "source": [
    "score_list = [best_rf_count.score(X_test_count, y_test),\n",
    "              best_rf_tfidf.score(X_test_tfidf, y_test),\n",
    "              best_rf_w2v.score(X_test_w2v, y_test),\n",
    "              best_svc_count.score(X_test_count, y_test),\n",
    "              best_svc_tfidf.score(X_test_tfidf, y_test),\n",
    "              best_svc_w2v.score(X_test_w2v, y_test),\n",
    "              nn_count_test_score,\n",
    "              nn_tfidf_test_score,\n",
    "              nn_w2v_test_score]"
   ]
  },
  {
   "cell_type": "code",
   "execution_count": 220,
   "metadata": {},
   "outputs": [
    {
     "data": {
      "image/png": "[encoded data removed]",
      "text/plain": [
       "<Figure size 1080x360 with 1 Axes>"
      ]
     },
     "metadata": {},
     "output_type": "display_data"
    }
   ],
   "source": [
    "# visualize testing scores\n",
    "test_labels = pd.Series(['RF (Count)',\n",
    "                         'RF (TF-IDF)',\n",
    "                         'RF (Word2Vec)',\n",
    "                         'LinearSVC (Count)',\n",
    "                         'LinearSVC (TF-IDF)',\n",
    "                         'LinearSVC (Word2Vec)',\n",
    "                         'Neural Net (Count)',\n",
    "                         'Neural Net (TF-IDF)',\n",
    "                         'Neural Net (Word2Vec)'])\n",
    "\n",
    "test_acc = pd.Series(score_list)\n",
    "\n",
    "plt.figure(figsize=(15, 5))\n",
    "ax = sns.barplot(x=test_labels, y=test_acc, color='grey')\n",
    "plt.tight_layout()\n",
    "plt.title('Test Scores by Model and Vectorization Strategy')\n",
    "plt.xlabel('Model(Vectorization))')\n",
    "plt.ylabel('Accuracy Score')\n",
    "\n",
    "# highlight the model/vectorization strategy with highest testing accuracy\n",
    "max_height = max(score_list)\n",
    "for bar in ax.patches:\n",
    "    if bar.get_height() == max_height:\n",
    "        bar.set_color('purple')\n",
    "    else:\n",
    "        bar.set_color('grey')\n",
    "        \n",
    "plt.show()"
   ]
  },
  {
   "cell_type": "markdown",
   "metadata": {},
   "source": [
    "Looking at the comparison of accuracy scores between our different model, it appears using a neural network with count vectorized data is producing the best results.  Additionally, when considering training times, LinearSVC performed the best, with Neural Networks coming second.  Random Forest training times, including grid search seemed to take the longest, especially when including a large number of grid search params. Despite longer training time than LinearSVC, training time is not large enough to offset gains in performance. \n",
    "\n",
    "Now run model on full training / test set with this model. Then run on full dataset."
   ]
  },
  {
   "cell_type": "code",
   "execution_count": 221,
   "metadata": {},
   "outputs": [
    {
     "name": "stdout",
     "output_type": "stream",
     "text": [
      "Model: \"sequential_6\"\n",
      "_________________________________________________________________\n",
      "Layer (type)                 Output Shape              Param #   \n",
      "=================================================================\n",
      "dropout_16 (Dropout)         (None, 38310)             0         \n",
      "_________________________________________________________________\n",
      "dense_16 (Dense)             (None, 50)                1915550   \n",
      "_________________________________________________________________\n",
      "dropout_17 (Dropout)         (None, 50)                0         \n",
      "_________________________________________________________________\n",
      "dense_17 (Dense)             (None, 50)                2550      \n",
      "_________________________________________________________________\n",
      "dropout_18 (Dropout)         (None, 50)                0         \n",
      "_________________________________________________________________\n",
      "dense_18 (Dense)             (None, 3)                 153       \n",
      "=================================================================\n",
      "Total params: 1,918,253\n",
      "Trainable params: 1,918,253\n",
      "Non-trainable params: 0\n",
      "_________________________________________________________________\n"
     ]
    },
    {
     "data": {
      "text/plain": [
       "None"
      ]
     },
     "metadata": {},
     "output_type": "display_data"
    },
    {
     "name": "stdout",
     "output_type": "stream",
     "text": [
      "Train on 5348 samples, validate on 1337 samples\n",
      "Epoch 1/3\n",
      "5348/5348 [==============================] - 7s 1ms/step - loss: 0.9697 - accuracy: 0.5746 - val_loss: 0.8382 - val_accuracy: 0.6073\n",
      "Epoch 2/3\n",
      "5348/5348 [==============================] - 6s 1ms/step - loss: 0.8082 - accuracy: 0.6184 - val_loss: 0.7828 - val_accuracy: 0.6208\n",
      "Epoch 3/3\n",
      "5348/5348 [==============================] - 6s 1ms/step - loss: 0.6952 - accuracy: 0.6904 - val_loss: 0.7568 - val_accuracy: 0.6612\n"
     ]
    },
    {
     "data": {
      "text/plain": [
       "<keras.callbacks.callbacks.History at 0x7fbed48a2f60>"
      ]
     },
     "execution_count": 221,
     "metadata": {},
     "output_type": "execute_result"
    }
   ],
   "source": [
    "# build model\n",
    "best_model = build_ngram_model(input_shape=X_train_count.shape[1:],\n",
    "                                last_units=last_layer_units,\n",
    "                                last_activation=last_layer_activation)\n",
    "\n",
    "# train with 3 epochs\n",
    "best_model.fit(X_train_count, y_train_encoded, \n",
    "                epochs=3,\n",
    "                batch_size=100,\n",
    "                validation_split=0.2)"
   ]
  },
  {
   "cell_type": "code",
   "execution_count": 222,
   "metadata": {},
   "outputs": [
    {
     "name": "stdout",
     "output_type": "stream",
     "text": [
      "Train Accuracy (Neural Network / Count Vectorized): 0.7839940190315247\n",
      "Test Accuracy (Neural Network / Count Vectorized): 0.6612830758094788\n"
     ]
    }
   ],
   "source": [
    "_, best_train_score = best_model.evaluate(X_train_count, y_train_encoded, verbose=0)\n",
    "_, best_test_score = best_model.evaluate(X_test_count, y_test_encoded, verbose=0)\n",
    "\n",
    "print(f'Train Accuracy (Neural Network / Count Vectorized): {best_train_score}')\n",
    "print(f'Test Accuracy (Neural Network / Count Vectorized): {best_test_score}')"
   ]
  },
  {
   "cell_type": "code",
   "execution_count": 223,
   "metadata": {},
   "outputs": [],
   "source": [
    "# maybe print classification report "
   ]
  },
  {
   "cell_type": "markdown",
   "metadata": {},
   "source": [
    "Looking at the final best model selected, the neural network vectorized using count data, we see a testing score of 67%.  Looking at the training score of ~77%, we see we are not overfitting that much to the training set.  When considering a balanced set with simple model that could achieve ~33% accuracy with three classes to choose from, our model is vastly outperforming that.  Also, when considering our specific case of imbalanced data, we know that the neutral class takes up roughly ~60% of the entire dataset. In that case, a simple model could achieve up to ~60% accuracy score.  Even in this scenario, our best identified model is outperforming this 60%.  \n",
    "\n",
    "When considering these results in the real world, our classifier should correctly be able to identify whether a tweet is negative, positive, or neutral about 67% of the time.  These results are somewhat strong, but given the initial class imbalance and lack of negative class entries, we would likely hope to achieve more data in the future to further improve results. \n",
    "\n",
    "In conclusion, stakeholders using our classifier would be able to correctly classify ~67% of the tweets seen. "
   ]
  },
  {
   "cell_type": "code",
   "execution_count": 224,
   "metadata": {},
   "outputs": [],
   "source": [
    "# save model using pickle\n",
    "import pickle\n",
    "with open('best.pickle', 'wb') as f:\n",
    "    pickle.dump(best_model, f)"
   ]
  },
  {
   "cell_type": "code",
   "execution_count": 225,
   "metadata": {},
   "outputs": [],
   "source": [
    "# load model\n",
    "with open('best.pickle', 'rb') as file:\n",
    "    best_model_2 = pickle.load(file)"
   ]
  }
 ],
 "metadata": {
  "kernelspec": {
   "display_name": "Python 3",
   "language": "python",
   "name": "python3"
  },
  "language_info": {
   "codemirror_mode": {
    "name": "ipython",
    "version": 3
   },
   "file_extension": ".py",
   "mimetype": "text/x-python",
   "name": "python",
   "nbconvert_exporter": "python",
   "pygments_lexer": "ipython3",
   "version": "3.6.13"
  }
 },
 "nbformat": 4,
 "nbformat_minor": 4
}
