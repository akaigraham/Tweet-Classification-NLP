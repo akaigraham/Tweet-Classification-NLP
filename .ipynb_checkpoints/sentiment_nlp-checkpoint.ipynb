{
 "cells": [
  {
   "cell_type": "markdown",
   "metadata": {},
   "source": [
    "# Tweet Sentiment Classification\n",
    "### Module 4 Project - Kai Graham"
   ]
  },
  {
   "cell_type": "markdown",
   "metadata": {},
   "source": [
    "# Overview of Process (CRISP-DM)\n",
    "I will be following the Cross-Industry Standard Process for Data Mining to build a classifier that will determine the sentiment of tweets.  The CRISP-DM process includes the following key steps:\n",
    "1. Business Understanding\n",
    "2. Data Understanding\n",
    "3. Data Preparation\n",
    "4. Modeling\n",
    "5. Evaluation\n",
    "6. Deployment"
   ]
  },
  {
   "cell_type": "markdown",
   "metadata": {},
   "source": [
    "# 1. Business Understanding\n",
    "* Who are the stakeholders?\n",
    "* What Business Problems will this solve?\n",
    "* What problems are inside scope of this problem?\n",
    "* What problems are outside scope?\n",
    "* What data sources are available to us?\n",
    "* Timeline of project / deadlines?\n",
    "* Do stakeholders from different parts of the company all agree?\n",
    "\n",
    "My overall goal is to create a classifier that will successfully classify a tweet based on its sentiment into one of the following classes: positive sentiment, negative sentiment, or neutral sentiment.  Given data is limited to tweets related to Apple / Google products, the biggest stakeholders for this project are likely Google and Apple themselves.  Product managers / other managers within the company could use a tool like this to track public sentiment surrounding various product launches / software updates.  While out of the specific scope of this project, combining with time series metrics, the Company could track increases or changes to sentiment based on tweet classification. "
   ]
  },
  {
   "cell_type": "markdown",
   "metadata": {},
   "source": [
    "# 2. Data Understanding\n",
    "* What data is available to us, where does it live?\n",
    "* What is our target?\n",
    "* What predictors are available?\n",
    "* What is distribution of data?\n",
    "* EDA to show most common words and other corpus statistics.  Will require some initial processing."
   ]
  },
  {
   "cell_type": "markdown",
   "metadata": {},
   "source": [
    "The main dataset used throughout this data science process will be coming from CrowdFlower via the following url: `https://data.world/crowdflower/brands-and-product-emotions`. \n",
    "\n",
    "The following summary of the dataset is provided on CrowdFlower:\n",
    "\n",
    "*Contributors evaluated tweets about multiple brands and products. The crowd was asked if the tweet expressed positive, negative, or no emotion towards a brand and/or product. If some emotion was expressed they were also asked to say which brand or product was the target of that emotion.*"
   ]
  },
  {
   "cell_type": "code",
   "execution_count": 54,
   "metadata": {},
   "outputs": [],
   "source": [
    "# import necessary libraries\n",
    "import pandas as pd\n",
    "import numpy as np\n",
    "import matplotlib.pyplot as plt\n",
    "%matplotlib inline\n",
    "import seaborn as sns\n",
    "import nltk\n",
    "from nltk.corpus import stopwords\n",
    "from nltk.collocations import *\n",
    "import string\n",
    "import re\n",
    "from sklearn.metrics import accuracy_score, precision_score, recall_score, f1_score\n",
    "from sklearn.ensemble import RandomForestClassifier\n",
    "from sklearn.model_selection import train_test_split, GridSearchCV, cross_val_score, StratifiedKFold\n",
    "from sklearn.feature_extraction.text import TfidfVectorizer, CountVectorizer\n",
    "from sklearn.feature_selection import SelectKBest, f_classif\n",
    "from sklearn.svm import LinearSVC\n",
    "from imblearn.over_sampling import SMOTE"
   ]
  },
  {
   "cell_type": "code",
   "execution_count": 2,
   "metadata": {},
   "outputs": [],
   "source": [
    "# failure to specify 'latin1' encoding results in errors\n",
    "# error_df = pd.read_csv('judge-1377884607_tweet_product_company.csv')\n",
    "# error_df.head()"
   ]
  },
  {
   "cell_type": "code",
   "execution_count": 3,
   "metadata": {},
   "outputs": [],
   "source": [
    "# load dataset\n",
    "raw_df = pd.read_csv('judge-1377884607_tweet_product_company.csv', encoding='latin_1')"
   ]
  },
  {
   "cell_type": "code",
   "execution_count": 4,
   "metadata": {},
   "outputs": [
    {
     "data": {
      "text/html": [
       "<div>\n",
       "<style scoped>\n",
       "    .dataframe tbody tr th:only-of-type {\n",
       "        vertical-align: middle;\n",
       "    }\n",
       "\n",
       "    .dataframe tbody tr th {\n",
       "        vertical-align: top;\n",
       "    }\n",
       "\n",
       "    .dataframe thead th {\n",
       "        text-align: right;\n",
       "    }\n",
       "</style>\n",
       "<table border=\"1\" class=\"dataframe\">\n",
       "  <thead>\n",
       "    <tr style=\"text-align: right;\">\n",
       "      <th></th>\n",
       "      <th>tweet_text</th>\n",
       "      <th>emotion_in_tweet_is_directed_at</th>\n",
       "      <th>is_there_an_emotion_directed_at_a_brand_or_product</th>\n",
       "    </tr>\n",
       "  </thead>\n",
       "  <tbody>\n",
       "    <tr>\n",
       "      <th>0</th>\n",
       "      <td>.@wesley83 I have a 3G iPhone. After 3 hrs twe...</td>\n",
       "      <td>iPhone</td>\n",
       "      <td>Negative emotion</td>\n",
       "    </tr>\n",
       "    <tr>\n",
       "      <th>1</th>\n",
       "      <td>@jessedee Know about @fludapp ? Awesome iPad/i...</td>\n",
       "      <td>iPad or iPhone App</td>\n",
       "      <td>Positive emotion</td>\n",
       "    </tr>\n",
       "    <tr>\n",
       "      <th>2</th>\n",
       "      <td>@swonderlin Can not wait for #iPad 2 also. The...</td>\n",
       "      <td>iPad</td>\n",
       "      <td>Positive emotion</td>\n",
       "    </tr>\n",
       "    <tr>\n",
       "      <th>3</th>\n",
       "      <td>@sxsw I hope this year's festival isn't as cra...</td>\n",
       "      <td>iPad or iPhone App</td>\n",
       "      <td>Negative emotion</td>\n",
       "    </tr>\n",
       "    <tr>\n",
       "      <th>4</th>\n",
       "      <td>@sxtxstate great stuff on Fri #SXSW: Marissa M...</td>\n",
       "      <td>Google</td>\n",
       "      <td>Positive emotion</td>\n",
       "    </tr>\n",
       "  </tbody>\n",
       "</table>\n",
       "</div>"
      ],
      "text/plain": [
       "                                          tweet_text  \\\n",
       "0  .@wesley83 I have a 3G iPhone. After 3 hrs twe...   \n",
       "1  @jessedee Know about @fludapp ? Awesome iPad/i...   \n",
       "2  @swonderlin Can not wait for #iPad 2 also. The...   \n",
       "3  @sxsw I hope this year's festival isn't as cra...   \n",
       "4  @sxtxstate great stuff on Fri #SXSW: Marissa M...   \n",
       "\n",
       "  emotion_in_tweet_is_directed_at  \\\n",
       "0                          iPhone   \n",
       "1              iPad or iPhone App   \n",
       "2                            iPad   \n",
       "3              iPad or iPhone App   \n",
       "4                          Google   \n",
       "\n",
       "  is_there_an_emotion_directed_at_a_brand_or_product  \n",
       "0                                   Negative emotion  \n",
       "1                                   Positive emotion  \n",
       "2                                   Positive emotion  \n",
       "3                                   Negative emotion  \n",
       "4                                   Positive emotion  "
      ]
     },
     "execution_count": 4,
     "metadata": {},
     "output_type": "execute_result"
    }
   ],
   "source": [
    "# print first rows of dataset\n",
    "raw_df.head()"
   ]
  },
  {
   "cell_type": "code",
   "execution_count": 5,
   "metadata": {},
   "outputs": [
    {
     "name": "stdout",
     "output_type": "stream",
     "text": [
      "<class 'pandas.core.frame.DataFrame'>\n",
      "RangeIndex: 9093 entries, 0 to 9092\n",
      "Data columns (total 3 columns):\n",
      " #   Column                                              Non-Null Count  Dtype \n",
      "---  ------                                              --------------  ----- \n",
      " 0   tweet_text                                          9092 non-null   object\n",
      " 1   emotion_in_tweet_is_directed_at                     3291 non-null   object\n",
      " 2   is_there_an_emotion_directed_at_a_brand_or_product  9093 non-null   object\n",
      "dtypes: object(3)\n",
      "memory usage: 213.2+ KB\n"
     ]
    }
   ],
   "source": [
    "# show info of df\n",
    "raw_df.info()"
   ]
  },
  {
   "cell_type": "markdown",
   "metadata": {},
   "source": [
    "Looking at the above outputs, we can see that there are a total of 9,093 entries in our dataset, with a total of three columns.  Raw text from tweets is held in the `tweet_text` column; sentiment is held in the `is_there_an_emotion_directed_at_a_brand_or_product`; and the item of emotion direction is held in the `emotion_in_tweet_is_directed_at` column.  \n",
    "\n",
    "From first glance, we can likely drop the `emotion_in_tweet_is_directed_at` column as we are more interested in whether sentiment in a given tweet is positive, neutral, or negative based on the text.  Main predictors we will use is processed features derived from the `tweet_text` column.\n",
    "\n",
    "Our target variable, which can also be though of as our class labels are held in the `is_there_an_emotion_directed_at_a_brand_or_product` column.  "
   ]
  },
  {
   "cell_type": "code",
   "execution_count": 6,
   "metadata": {},
   "outputs": [
    {
     "data": {
      "text/plain": [
       "iPad                               946\n",
       "Apple                              661\n",
       "iPad or iPhone App                 470\n",
       "Google                             430\n",
       "iPhone                             297\n",
       "Other Google product or service    293\n",
       "Android App                         81\n",
       "Android                             78\n",
       "Other Apple product or service      35\n",
       "Name: emotion_in_tweet_is_directed_at, dtype: int64"
      ]
     },
     "metadata": {},
     "output_type": "display_data"
    },
    {
     "data": {
      "text/plain": [
       "No emotion toward brand or product    5389\n",
       "Positive emotion                      2978\n",
       "Negative emotion                       570\n",
       "I can't tell                           156\n",
       "Name: is_there_an_emotion_directed_at_a_brand_or_product, dtype: int64"
      ]
     },
     "metadata": {},
     "output_type": "display_data"
    }
   ],
   "source": [
    "# display value counts\n",
    "display(raw_df['emotion_in_tweet_is_directed_at'].value_counts())\n",
    "display(raw_df['is_there_an_emotion_directed_at_a_brand_or_product'].value_counts())"
   ]
  },
  {
   "cell_type": "markdown",
   "metadata": {},
   "source": [
    "Unsurprising given the origin of our dataset, the products identfied are either Apple or Google products.  Looking at sentiment, the majority of entries seem to fall under a neutral sentiment ('No emotion toward brand or product'), with the next largest group being tagged as 'Positive emotion'.  There is some clear class imbalance present with only 570 entries belonging to the 'Negative emotion' class. "
   ]
  },
  {
   "cell_type": "code",
   "execution_count": 7,
   "metadata": {},
   "outputs": [
    {
     "data": {
      "text/html": [
       "<div>\n",
       "<style scoped>\n",
       "    .dataframe tbody tr th:only-of-type {\n",
       "        vertical-align: middle;\n",
       "    }\n",
       "\n",
       "    .dataframe tbody tr th {\n",
       "        vertical-align: top;\n",
       "    }\n",
       "\n",
       "    .dataframe thead th {\n",
       "        text-align: right;\n",
       "    }\n",
       "</style>\n",
       "<table border=\"1\" class=\"dataframe\">\n",
       "  <thead>\n",
       "    <tr style=\"text-align: right;\">\n",
       "      <th></th>\n",
       "      <th>text</th>\n",
       "      <th>product_brand</th>\n",
       "      <th>sentiment</th>\n",
       "    </tr>\n",
       "  </thead>\n",
       "  <tbody>\n",
       "    <tr>\n",
       "      <th>0</th>\n",
       "      <td>.@wesley83 I have a 3G iPhone. After 3 hrs twe...</td>\n",
       "      <td>iPhone</td>\n",
       "      <td>Negative emotion</td>\n",
       "    </tr>\n",
       "    <tr>\n",
       "      <th>1</th>\n",
       "      <td>@jessedee Know about @fludapp ? Awesome iPad/i...</td>\n",
       "      <td>iPad or iPhone App</td>\n",
       "      <td>Positive emotion</td>\n",
       "    </tr>\n",
       "    <tr>\n",
       "      <th>2</th>\n",
       "      <td>@swonderlin Can not wait for #iPad 2 also. The...</td>\n",
       "      <td>iPad</td>\n",
       "      <td>Positive emotion</td>\n",
       "    </tr>\n",
       "    <tr>\n",
       "      <th>3</th>\n",
       "      <td>@sxsw I hope this year's festival isn't as cra...</td>\n",
       "      <td>iPad or iPhone App</td>\n",
       "      <td>Negative emotion</td>\n",
       "    </tr>\n",
       "    <tr>\n",
       "      <th>4</th>\n",
       "      <td>@sxtxstate great stuff on Fri #SXSW: Marissa M...</td>\n",
       "      <td>Google</td>\n",
       "      <td>Positive emotion</td>\n",
       "    </tr>\n",
       "  </tbody>\n",
       "</table>\n",
       "</div>"
      ],
      "text/plain": [
       "                                                text       product_brand  \\\n",
       "0  .@wesley83 I have a 3G iPhone. After 3 hrs twe...              iPhone   \n",
       "1  @jessedee Know about @fludapp ? Awesome iPad/i...  iPad or iPhone App   \n",
       "2  @swonderlin Can not wait for #iPad 2 also. The...                iPad   \n",
       "3  @sxsw I hope this year's festival isn't as cra...  iPad or iPhone App   \n",
       "4  @sxtxstate great stuff on Fri #SXSW: Marissa M...              Google   \n",
       "\n",
       "          sentiment  \n",
       "0  Negative emotion  \n",
       "1  Positive emotion  \n",
       "2  Positive emotion  \n",
       "3  Negative emotion  \n",
       "4  Positive emotion  "
      ]
     },
     "execution_count": 7,
     "metadata": {},
     "output_type": "execute_result"
    }
   ],
   "source": [
    "# rename columns so easier to work with\n",
    "df = raw_df.copy()\n",
    "df.columns = ['text', 'product_brand', 'sentiment']\n",
    "df.head()"
   ]
  },
  {
   "cell_type": "code",
   "execution_count": 8,
   "metadata": {},
   "outputs": [
    {
     "data": {
      "text/plain": [
       "text                1\n",
       "product_brand    5802\n",
       "sentiment           0\n",
       "dtype: int64"
      ]
     },
     "execution_count": 8,
     "metadata": {},
     "output_type": "execute_result"
    }
   ],
   "source": [
    "# explore potential missing values\n",
    "df.isna().sum()"
   ]
  },
  {
   "cell_type": "markdown",
   "metadata": {},
   "source": [
    "We see that there is only one missing value in the text column, 0 in the sentiment column, and a large number (5802) in the product_brand column.  Given we are planning to work the majority of the time with the text and sentiment columns, this will not likely pose a large issue. "
   ]
  },
  {
   "cell_type": "code",
   "execution_count": 9,
   "metadata": {},
   "outputs": [
    {
     "data": {
      "text/html": [
       "<div>\n",
       "<style scoped>\n",
       "    .dataframe tbody tr th:only-of-type {\n",
       "        vertical-align: middle;\n",
       "    }\n",
       "\n",
       "    .dataframe tbody tr th {\n",
       "        vertical-align: top;\n",
       "    }\n",
       "\n",
       "    .dataframe thead th {\n",
       "        text-align: right;\n",
       "    }\n",
       "</style>\n",
       "<table border=\"1\" class=\"dataframe\">\n",
       "  <thead>\n",
       "    <tr style=\"text-align: right;\">\n",
       "      <th></th>\n",
       "      <th>text</th>\n",
       "      <th>product_brand</th>\n",
       "      <th>sentiment</th>\n",
       "    </tr>\n",
       "  </thead>\n",
       "  <tbody>\n",
       "    <tr>\n",
       "      <th>6</th>\n",
       "      <td>NaN</td>\n",
       "      <td>NaN</td>\n",
       "      <td>No emotion toward brand or product</td>\n",
       "    </tr>\n",
       "  </tbody>\n",
       "</table>\n",
       "</div>"
      ],
      "text/plain": [
       "  text product_brand                           sentiment\n",
       "6  NaN           NaN  No emotion toward brand or product"
      ]
     },
     "execution_count": 9,
     "metadata": {},
     "output_type": "execute_result"
    }
   ],
   "source": [
    "# display missing value in the text column\n",
    "df.loc[df['text'].isna()]"
   ]
  },
  {
   "cell_type": "code",
   "execution_count": 10,
   "metadata": {},
   "outputs": [
    {
     "data": {
      "text/html": [
       "<div>\n",
       "<style scoped>\n",
       "    .dataframe tbody tr th:only-of-type {\n",
       "        vertical-align: middle;\n",
       "    }\n",
       "\n",
       "    .dataframe tbody tr th {\n",
       "        vertical-align: top;\n",
       "    }\n",
       "\n",
       "    .dataframe thead th {\n",
       "        text-align: right;\n",
       "    }\n",
       "</style>\n",
       "<table border=\"1\" class=\"dataframe\">\n",
       "  <thead>\n",
       "    <tr style=\"text-align: right;\">\n",
       "      <th></th>\n",
       "      <th>text</th>\n",
       "      <th>product_brand</th>\n",
       "      <th>sentiment</th>\n",
       "    </tr>\n",
       "  </thead>\n",
       "  <tbody>\n",
       "    <tr>\n",
       "      <th>5</th>\n",
       "      <td>@teachntech00 New iPad Apps For #SpeechTherapy...</td>\n",
       "      <td>NaN</td>\n",
       "      <td>No emotion toward brand or product</td>\n",
       "    </tr>\n",
       "    <tr>\n",
       "      <th>6</th>\n",
       "      <td>NaN</td>\n",
       "      <td>NaN</td>\n",
       "      <td>No emotion toward brand or product</td>\n",
       "    </tr>\n",
       "    <tr>\n",
       "      <th>16</th>\n",
       "      <td>Holler Gram for iPad on the iTunes App Store -...</td>\n",
       "      <td>NaN</td>\n",
       "      <td>No emotion toward brand or product</td>\n",
       "    </tr>\n",
       "    <tr>\n",
       "      <th>32</th>\n",
       "      <td>Attn: All  #SXSW frineds, @mention Register fo...</td>\n",
       "      <td>NaN</td>\n",
       "      <td>No emotion toward brand or product</td>\n",
       "    </tr>\n",
       "    <tr>\n",
       "      <th>33</th>\n",
       "      <td>Anyone at  #sxsw want to sell their old iPad?</td>\n",
       "      <td>NaN</td>\n",
       "      <td>No emotion toward brand or product</td>\n",
       "    </tr>\n",
       "    <tr>\n",
       "      <th>...</th>\n",
       "      <td>...</td>\n",
       "      <td>...</td>\n",
       "      <td>...</td>\n",
       "    </tr>\n",
       "    <tr>\n",
       "      <th>9087</th>\n",
       "      <td>@mention Yup, but I don't have a third app yet...</td>\n",
       "      <td>NaN</td>\n",
       "      <td>No emotion toward brand or product</td>\n",
       "    </tr>\n",
       "    <tr>\n",
       "      <th>9089</th>\n",
       "      <td>Wave, buzz... RT @mention We interrupt your re...</td>\n",
       "      <td>NaN</td>\n",
       "      <td>No emotion toward brand or product</td>\n",
       "    </tr>\n",
       "    <tr>\n",
       "      <th>9090</th>\n",
       "      <td>Google's Zeiger, a physician never reported po...</td>\n",
       "      <td>NaN</td>\n",
       "      <td>No emotion toward brand or product</td>\n",
       "    </tr>\n",
       "    <tr>\n",
       "      <th>9091</th>\n",
       "      <td>Some Verizon iPhone customers complained their...</td>\n",
       "      <td>NaN</td>\n",
       "      <td>No emotion toward brand or product</td>\n",
       "    </tr>\n",
       "    <tr>\n",
       "      <th>9092</th>\n",
       "      <td>Ï¡Ïàü_ÊÎÒ£Áââ_£â_ÛâRT @...</td>\n",
       "      <td>NaN</td>\n",
       "      <td>No emotion toward brand or product</td>\n",
       "    </tr>\n",
       "  </tbody>\n",
       "</table>\n",
       "<p>5802 rows × 3 columns</p>\n",
       "</div>"
      ],
      "text/plain": [
       "                                                   text product_brand  \\\n",
       "5     @teachntech00 New iPad Apps For #SpeechTherapy...           NaN   \n",
       "6                                                   NaN           NaN   \n",
       "16    Holler Gram for iPad on the iTunes App Store -...           NaN   \n",
       "32    Attn: All  #SXSW frineds, @mention Register fo...           NaN   \n",
       "33        Anyone at  #sxsw want to sell their old iPad?           NaN   \n",
       "...                                                 ...           ...   \n",
       "9087  @mention Yup, but I don't have a third app yet...           NaN   \n",
       "9089  Wave, buzz... RT @mention We interrupt your re...           NaN   \n",
       "9090  Google's Zeiger, a physician never reported po...           NaN   \n",
       "9091  Some Verizon iPhone customers complained their...           NaN   \n",
       "9092  Ï¡Ïàü_ÊÎÒ£Áââ_£â_ÛâRT @...           NaN   \n",
       "\n",
       "                               sentiment  \n",
       "5     No emotion toward brand or product  \n",
       "6     No emotion toward brand or product  \n",
       "16    No emotion toward brand or product  \n",
       "32    No emotion toward brand or product  \n",
       "33    No emotion toward brand or product  \n",
       "...                                  ...  \n",
       "9087  No emotion toward brand or product  \n",
       "9089  No emotion toward brand or product  \n",
       "9090  No emotion toward brand or product  \n",
       "9091  No emotion toward brand or product  \n",
       "9092  No emotion toward brand or product  \n",
       "\n",
       "[5802 rows x 3 columns]"
      ]
     },
     "execution_count": 10,
     "metadata": {},
     "output_type": "execute_result"
    }
   ],
   "source": [
    "# display missing values in the product_brand column\n",
    "df.loc[df['product_brand'].isna()]"
   ]
  },
  {
   "cell_type": "code",
   "execution_count": 11,
   "metadata": {},
   "outputs": [
    {
     "data": {
      "text/plain": [
       "No emotion toward brand or product    5298\n",
       "Positive emotion                       306\n",
       "I can't tell                           147\n",
       "Negative emotion                        51\n",
       "Name: sentiment, dtype: int64"
      ]
     },
     "execution_count": 11,
     "metadata": {},
     "output_type": "execute_result"
    }
   ],
   "source": [
    "# display sentiment breakdowns of missing product_brand entries\n",
    "df.loc[df['product_brand'].isna()]['sentiment'].value_counts()"
   ]
  },
  {
   "cell_type": "markdown",
   "metadata": {},
   "source": [
    "We see that the majority of missing product_brand values are also labeled as no emotion twoard brand or product, which makes sense as a lot of the neutral-labeled tweets may not be directed at a specific brand or product, and therefore would be missing a product_brand tagging.  Additionally, this column will not be used in our process of tweet classification. \n",
    "\n",
    "Drop unnecessary columns and handle missing value for additional EDA."
   ]
  },
  {
   "cell_type": "code",
   "execution_count": 12,
   "metadata": {},
   "outputs": [
    {
     "name": "stdout",
     "output_type": "stream",
     "text": [
      "<class 'pandas.core.frame.DataFrame'>\n",
      "Int64Index: 9092 entries, 0 to 9092\n",
      "Data columns (total 2 columns):\n",
      " #   Column     Non-Null Count  Dtype \n",
      "---  ------     --------------  ----- \n",
      " 0   text       9092 non-null   object\n",
      " 1   sentiment  9092 non-null   object\n",
      "dtypes: object(2)\n",
      "memory usage: 213.1+ KB\n"
     ]
    }
   ],
   "source": [
    "# drop product_brand column\n",
    "clean_df = df.drop(['product_brand'], axis=1)\n",
    "\n",
    "# handle missing values\n",
    "clean_df = clean_df.dropna(subset=['text'])\n",
    "clean_df.info()"
   ]
  },
  {
   "cell_type": "code",
   "execution_count": 13,
   "metadata": {},
   "outputs": [
    {
     "data": {
      "text/plain": [
       "'Thanks to @mention for publishing the news of @mention new medical Apps at the #sxswi conf. blog {link} #sxsw #sxswh'"
      ]
     },
     "metadata": {},
     "output_type": "display_data"
    },
    {
     "data": {
      "text/plain": [
       "'\\x89ÛÏ@mention &quot;Apple has opened a pop-up store in Austin so the nerds in town for #SXSW can get their new iPads. {link} #wow'"
      ]
     },
     "metadata": {},
     "output_type": "display_data"
    },
    {
     "data": {
      "text/plain": [
       "'Just what America needs. RT @mention Google to Launch Major New Social Network Called Circles, Possibly Today {link} #sxsw'"
      ]
     },
     "metadata": {},
     "output_type": "display_data"
    },
    {
     "data": {
      "text/plain": [
       "'The queue at the Apple Store in Austin is FOUR blocks long. Crazy stuff! #sxsw'"
      ]
     },
     "metadata": {},
     "output_type": "display_data"
    },
    {
     "data": {
      "text/plain": [
       "\"Hope it's better than wave RT @mention Buzz is: Google's previewing a social networking platform at #SXSW: {link}\""
      ]
     },
     "metadata": {},
     "output_type": "display_data"
    },
    {
     "data": {
      "text/plain": [
       "'SYD #SXSW crew your iPhone extra juice pods have been procured.'"
      ]
     },
     "metadata": {},
     "output_type": "display_data"
    },
    {
     "data": {
      "text/plain": [
       "'Why Barry Diller thinks iPad only content is nuts @mention #SXSW {link}'"
      ]
     },
     "metadata": {},
     "output_type": "display_data"
    },
    {
     "data": {
      "text/plain": [
       "'Gave into extreme temptation at #SXSW and bought an iPad 2... #impulse'"
      ]
     },
     "metadata": {},
     "output_type": "display_data"
    },
    {
     "data": {
      "text/plain": [
       "'Catch 22\\x89Û_ I mean iPad 2 at #SXSW : {link}'"
      ]
     },
     "metadata": {},
     "output_type": "display_data"
    },
    {
     "data": {
      "text/plain": [
       "'Forgot my iPhone for #sxsw. Android only. Knife to a gun fight'"
      ]
     },
     "metadata": {},
     "output_type": "display_data"
    }
   ],
   "source": [
    "# further examine tweets labeled as \"I can't tell\"\n",
    "for i in range(10):\n",
    "    display(clean_df.loc[clean_df['sentiment'] == \"I can't tell\"].iloc[i][0])"
   ]
  },
  {
   "cell_type": "markdown",
   "metadata": {},
   "source": [
    "Looking at a sample of the tweets labeled as \"I can't tell\", there is no clear class label that each should belong to.  Given this, and the small number of tweets with this class distinction, they will be removed from the dataset. "
   ]
  },
  {
   "cell_type": "code",
   "execution_count": 14,
   "metadata": {},
   "outputs": [],
   "source": [
    "# separate dataset into tweets and class_labels for additional EDA\n",
    "tweets = clean_df['text']\n",
    "class_labels = clean_df['sentiment']"
   ]
  },
  {
   "cell_type": "code",
   "execution_count": 15,
   "metadata": {},
   "outputs": [
    {
     "name": "stdout",
     "output_type": "stream",
     "text": [
      "13212\n"
     ]
    }
   ],
   "source": [
    "# tokenize tweets and print the total vocabulary size of our dataset\n",
    "tokenized = list(map(nltk.word_tokenize, tweets.dropna())) \n",
    "raw_tweet_vocab = set()\n",
    "for tweet in tokenized:\n",
    "    raw_tweet_vocab.update(tweet)\n",
    "print(len(raw_tweet_vocab))"
   ]
  },
  {
   "cell_type": "markdown",
   "metadata": {},
   "source": [
    "Looking at the text within the tweets, there is a total vocabulary size of just over 13,200."
   ]
  },
  {
   "cell_type": "code",
   "execution_count": 16,
   "metadata": {},
   "outputs": [
    {
     "data": {
      "text/plain": [
       "24.414980202375716"
      ]
     },
     "execution_count": 16,
     "metadata": {},
     "output_type": "execute_result"
    }
   ],
   "source": [
    "# print average tweet size\n",
    "mean_tweet_size = []\n",
    "for tweet in tokenized:\n",
    "    mean_tweet_size.append(len(tweet))\n",
    "np.mean(mean_tweet_size)"
   ]
  },
  {
   "cell_type": "markdown",
   "metadata": {},
   "source": [
    "The average tweet size within the dataset is just over 24 words. "
   ]
  },
  {
   "cell_type": "code",
   "execution_count": 17,
   "metadata": {},
   "outputs": [
    {
     "data": {
      "text/plain": [
       "[('#', 15875),\n",
       " ('@', 7194),\n",
       " ('mention', 7123),\n",
       " ('.', 5601),\n",
       " ('SXSW', 4787),\n",
       " ('sxsw', 4523),\n",
       " ('link', 4311),\n",
       " ('}', 4298),\n",
       " ('{', 4296),\n",
       " ('the', 3928),\n",
       " (',', 3533),\n",
       " ('to', 3521),\n",
       " ('RT', 2947),\n",
       " ('at', 2859),\n",
       " (';', 2800)]"
      ]
     },
     "execution_count": 17,
     "metadata": {},
     "output_type": "execute_result"
    }
   ],
   "source": [
    "# display frequency distribution of raw dataset\n",
    "tweets_concat = []\n",
    "for tweet in tokenized:\n",
    "    tweets_concat += tweet\n",
    "    \n",
    "# display the 15 most common words\n",
    "unprocessed_freq_dist = nltk.FreqDist(tweets_concat)\n",
    "unprocessed_freq_dist.most_common(15)"
   ]
  },
  {
   "cell_type": "markdown",
   "metadata": {},
   "source": [
    "From first glance, we can see a number of the top appear words / tokens are stopwords or punctuation.  For additional EDA processed, we will try removing stopwords to see if additional information can be extracted from the data."
   ]
  },
  {
   "cell_type": "code",
   "execution_count": 18,
   "metadata": {},
   "outputs": [],
   "source": [
    "def initial_tweet_process(tweet, stopwords_list):\n",
    "    \"\"\"\n",
    "    Function to intially process a tweet to assist in EDA / data understanding. \n",
    "    Input: tweet of type string, stopwords_list of words to remove\n",
    "    Returns: tokenized tweet, converted to lowercase, with all stopwords removed\n",
    "    \"\"\"\n",
    "    # tokenize\n",
    "    tokens = nltk.word_tokenize(tweet)\n",
    "    \n",
    "    # remove stopwords and lowercase\n",
    "    stopwords_removed = [token.lower() for token in tokens if token.lower() not in stopwords_list]\n",
    "    \n",
    "    # return processed tweet\n",
    "    return stopwords_removed"
   ]
  },
  {
   "cell_type": "code",
   "execution_count": 19,
   "metadata": {},
   "outputs": [],
   "source": [
    "# set up initial stopwords list\n",
    "stopwords_list = stopwords.words('english') + list(string.punctuation)\n",
    "stopwords_list += [\"''\", '\"\"', '...', '``']"
   ]
  },
  {
   "cell_type": "code",
   "execution_count": 20,
   "metadata": {},
   "outputs": [],
   "source": [
    "# separate dataset based on class label\n",
    "neutral_tweets = clean_df.loc[clean_df['sentiment'] == 'No emotion toward brand or product']\n",
    "positive_tweets = clean_df.loc[clean_df['sentiment'] == 'Positive emotion']\n",
    "negative_tweets = clean_df.loc[clean_df['sentiment'] == 'Negative emotion']\n",
    "ambig_tweets = clean_df.loc[clean_df['sentiment'] == \"I can't tell\"]"
   ]
  },
  {
   "cell_type": "code",
   "execution_count": 21,
   "metadata": {},
   "outputs": [],
   "source": [
    "# process the four datasets\n",
    "processed_neutral = neutral_tweets['text'].apply(lambda x: initial_tweet_process(x, stopwords_list))\n",
    "processed_positive = positive_tweets['text'].apply(lambda x: initial_tweet_process(x, stopwords_list))\n",
    "processed_negative = negative_tweets['text'].apply(lambda x: initial_tweet_process(x, stopwords_list))\n",
    "processed_ambig = ambig_tweets['text'].apply(lambda x: initial_tweet_process(x, stopwords_list))"
   ]
  },
  {
   "cell_type": "code",
   "execution_count": 22,
   "metadata": {},
   "outputs": [],
   "source": [
    "def concat_tweets(tweets):\n",
    "    \"\"\"\n",
    "    Function to concatenate a list of tweets into one piece of text.\n",
    "    Input: tweets (list of tweets)\n",
    "    Returns: concatenated tweet string\n",
    "    \"\"\"\n",
    "    tweets_concat = []\n",
    "    for tweet in tweets:\n",
    "        tweets_concat += tweet\n",
    "    return tweets_concat"
   ]
  },
  {
   "cell_type": "code",
   "execution_count": 23,
   "metadata": {},
   "outputs": [],
   "source": [
    "# concatenate the four datasets\n",
    "concat_neutral = concat_tweets(list(processed_neutral))\n",
    "concat_positive = concat_tweets(list(processed_positive))\n",
    "concat_negative = concat_tweets(list(processed_negative))\n",
    "concat_ambig = concat_tweets(list(processed_ambig))\n",
    "\n",
    "# produce frequency distributions for four datasets\n",
    "freqdist_neutral = nltk.FreqDist(concat_neutral)\n",
    "freqdist_positive = nltk.FreqDist(concat_positive)\n",
    "freqdist_negative = nltk.FreqDist(concat_negative)\n",
    "freqdist_ambig = nltk.FreqDist(concat_ambig)"
   ]
  },
  {
   "cell_type": "code",
   "execution_count": 24,
   "metadata": {},
   "outputs": [
    {
     "name": "stdout",
     "output_type": "stream",
     "text": [
      "Top Neutral Words\n"
     ]
    },
    {
     "data": {
      "text/plain": [
       "[('sxsw', 5671),\n",
       " ('mention', 4513),\n",
       " ('link', 2946),\n",
       " ('rt', 1853),\n",
       " ('google', 1683),\n",
       " ('apple', 1223),\n",
       " ('ipad', 1212),\n",
       " ('quot', 1018),\n",
       " ('store', 867),\n",
       " ('iphone', 815),\n",
       " ('new', 678),\n",
       " (\"'s\", 648),\n",
       " ('austin', 630),\n",
       " ('amp', 601),\n",
       " ('2', 550)]"
      ]
     },
     "execution_count": 24,
     "metadata": {},
     "output_type": "execute_result"
    }
   ],
   "source": [
    "# display top neutral words\n",
    "print('Top Neutral Words')\n",
    "freqdist_neutral.most_common(15)"
   ]
  },
  {
   "cell_type": "code",
   "execution_count": 25,
   "metadata": {},
   "outputs": [
    {
     "name": "stdout",
     "output_type": "stream",
     "text": [
      "Top Positive Words\n"
     ]
    },
    {
     "data": {
      "text/plain": [
       "[('sxsw', 3105),\n",
       " ('mention', 2194),\n",
       " ('link', 1217),\n",
       " ('ipad', 1003),\n",
       " ('rt', 937),\n",
       " ('apple', 925),\n",
       " ('google', 716),\n",
       " ('store', 545),\n",
       " ('iphone', 523),\n",
       " (\"'s\", 493),\n",
       " ('2', 490),\n",
       " ('quot', 464),\n",
       " ('app', 396),\n",
       " ('new', 360),\n",
       " ('austin', 294)]"
      ]
     },
     "execution_count": 25,
     "metadata": {},
     "output_type": "execute_result"
    }
   ],
   "source": [
    "# display top positive words\n",
    "print('Top Positive Words')\n",
    "freqdist_positive.most_common(15)"
   ]
  },
  {
   "cell_type": "code",
   "execution_count": 26,
   "metadata": {},
   "outputs": [
    {
     "name": "stdout",
     "output_type": "stream",
     "text": [
      "Top Negative Words\n"
     ]
    },
    {
     "data": {
      "text/plain": [
       "[('sxsw', 581),\n",
       " ('mention', 313),\n",
       " ('ipad', 188),\n",
       " ('quot', 175),\n",
       " ('iphone', 162),\n",
       " ('google', 145),\n",
       " ('rt', 138),\n",
       " ('apple', 120),\n",
       " ('link', 102),\n",
       " (\"n't\", 87),\n",
       " (\"'s\", 77),\n",
       " ('2', 64),\n",
       " ('app', 60),\n",
       " ('store', 46),\n",
       " ('new', 43)]"
      ]
     },
     "execution_count": 26,
     "metadata": {},
     "output_type": "execute_result"
    }
   ],
   "source": [
    "# display negative words\n",
    "print('Top Negative Words')\n",
    "freqdist_negative.most_common(15)"
   ]
  },
  {
   "cell_type": "code",
   "execution_count": 27,
   "metadata": {},
   "outputs": [
    {
     "name": "stdout",
     "output_type": "stream",
     "text": [
      "Top Ambiguous Words\n"
     ]
    },
    {
     "data": {
      "text/plain": [
       "[('sxsw', 159),\n",
       " ('mention', 104),\n",
       " ('google', 51),\n",
       " ('link', 48),\n",
       " ('ipad', 43),\n",
       " ('quot', 39),\n",
       " ('apple', 37),\n",
       " ('rt', 34),\n",
       " ('iphone', 32),\n",
       " ('store', 22),\n",
       " (\"'s\", 19),\n",
       " ('2', 18),\n",
       " ('circles', 17),\n",
       " ('austin', 16),\n",
       " (\"n't\", 14)]"
      ]
     },
     "execution_count": 27,
     "metadata": {},
     "output_type": "execute_result"
    }
   ],
   "source": [
    "print('Top Ambiguous Words')\n",
    "freqdist_ambig.most_common(15)"
   ]
  },
  {
   "cell_type": "markdown",
   "metadata": {},
   "source": [
    "Comparing the top words found in positive, neutral, negative, and ambiguous tweets shows that the same words are common across all classes.  Some of these words include `sxsw`, `mention`, `google`, `link`, `rt`, `quot`.  Adding some of these words to our stopwords list may help."
   ]
  },
  {
   "cell_type": "code",
   "execution_count": 28,
   "metadata": {},
   "outputs": [],
   "source": [
    "# create additional stopwords\n",
    "additional_stopwords = ['sxsw', 'mention', 'link', 'rt', 'quot']"
   ]
  },
  {
   "cell_type": "code",
   "execution_count": 29,
   "metadata": {},
   "outputs": [],
   "source": [
    "def print_normalized_word_freq(freq_dist, n=15):\n",
    "    \"\"\"\n",
    "    Print a normalized frequency distribution from a given distribution. Returns top n results. \n",
    "    \"\"\"\n",
    "    total_word_count = sum(freq_dist.values())\n",
    "    top = freq_dist.most_common(n)\n",
    "    \n",
    "    print('Word\\t\\t\\tNormalized Frequency')\n",
    "    for word in top:\n",
    "        normalized_freq = word[1] / total_word_count\n",
    "        print('{} \\t\\t\\t {:.4}'.format(word[0], normalized_freq))\n",
    "    \n",
    "    return None"
   ]
  },
  {
   "cell_type": "code",
   "execution_count": 30,
   "metadata": {},
   "outputs": [
    {
     "name": "stdout",
     "output_type": "stream",
     "text": [
      "Word\t\t\tNormalized Frequency\n",
      "sxsw \t\t\t 0.08271\n",
      "mention \t\t\t 0.06582\n",
      "link \t\t\t 0.04297\n",
      "rt \t\t\t 0.02703\n",
      "google \t\t\t 0.02455\n",
      "apple \t\t\t 0.01784\n",
      "ipad \t\t\t 0.01768\n",
      "quot \t\t\t 0.01485\n",
      "store \t\t\t 0.01265\n",
      "iphone \t\t\t 0.01189\n",
      "new \t\t\t 0.009889\n",
      "'s \t\t\t 0.009451\n",
      "austin \t\t\t 0.009189\n",
      "amp \t\t\t 0.008766\n",
      "2 \t\t\t 0.008022\n"
     ]
    }
   ],
   "source": [
    "# neutral normalized frequency\n",
    "print_normalized_word_freq(freqdist_neutral)"
   ]
  },
  {
   "cell_type": "code",
   "execution_count": 31,
   "metadata": {},
   "outputs": [
    {
     "name": "stdout",
     "output_type": "stream",
     "text": [
      "Word\t\t\tNormalized Frequency\n",
      "sxsw \t\t\t 0.08106\n",
      "mention \t\t\t 0.05728\n",
      "link \t\t\t 0.03177\n",
      "ipad \t\t\t 0.02619\n",
      "rt \t\t\t 0.02446\n",
      "apple \t\t\t 0.02415\n",
      "google \t\t\t 0.01869\n",
      "store \t\t\t 0.01423\n",
      "iphone \t\t\t 0.01365\n",
      "'s \t\t\t 0.01287\n",
      "2 \t\t\t 0.01279\n",
      "quot \t\t\t 0.01211\n",
      "app \t\t\t 0.01034\n",
      "new \t\t\t 0.009399\n",
      "austin \t\t\t 0.007676\n"
     ]
    }
   ],
   "source": [
    "# positive normalized frequency\n",
    "print_normalized_word_freq(freqdist_positive)"
   ]
  },
  {
   "cell_type": "code",
   "execution_count": 32,
   "metadata": {},
   "outputs": [
    {
     "name": "stdout",
     "output_type": "stream",
     "text": [
      "Word\t\t\tNormalized Frequency\n",
      "sxsw \t\t\t 0.07918\n",
      "mention \t\t\t 0.04265\n",
      "ipad \t\t\t 0.02562\n",
      "quot \t\t\t 0.02385\n",
      "iphone \t\t\t 0.02208\n",
      "google \t\t\t 0.01976\n",
      "rt \t\t\t 0.01881\n",
      "apple \t\t\t 0.01635\n",
      "link \t\t\t 0.0139\n",
      "n't \t\t\t 0.01186\n",
      "'s \t\t\t 0.01049\n",
      "2 \t\t\t 0.008722\n",
      "app \t\t\t 0.008177\n",
      "store \t\t\t 0.006269\n",
      "new \t\t\t 0.00586\n"
     ]
    }
   ],
   "source": [
    "# negative normalized frequency\n",
    "print_normalized_word_freq(freqdist_negative)"
   ]
  },
  {
   "cell_type": "code",
   "execution_count": 33,
   "metadata": {},
   "outputs": [
    {
     "name": "stdout",
     "output_type": "stream",
     "text": [
      "Word\t\t\tNormalized Frequency\n",
      "sxsw \t\t\t 0.08213\n",
      "mention \t\t\t 0.05372\n",
      "google \t\t\t 0.02634\n",
      "link \t\t\t 0.02479\n",
      "ipad \t\t\t 0.02221\n",
      "quot \t\t\t 0.02014\n",
      "apple \t\t\t 0.01911\n",
      "rt \t\t\t 0.01756\n",
      "iphone \t\t\t 0.01653\n",
      "store \t\t\t 0.01136\n",
      "'s \t\t\t 0.009814\n",
      "2 \t\t\t 0.009298\n",
      "circles \t\t\t 0.008781\n",
      "austin \t\t\t 0.008264\n",
      "n't \t\t\t 0.007231\n"
     ]
    }
   ],
   "source": [
    "# ambig normalized frequency\n",
    "print_normalized_word_freq(freqdist_ambig)"
   ]
  },
  {
   "cell_type": "code",
   "execution_count": 34,
   "metadata": {},
   "outputs": [],
   "source": [
    "def print_bigrams(tweets_concat, n=15):\n",
    "    \"\"\"\n",
    "    Function takes concatenated tweets and prints most common bigrams\n",
    "    \"\"\"\n",
    "    bigram_measures = nltk.collocations.BigramAssocMeasures()\n",
    "    finder = BigramCollocationFinder.from_words(tweets_concat)\n",
    "    tweet_scored = finder.score_ngrams(bigram_measures.raw_freq)\n",
    "    display(tweet_scored[:n])\n",
    "    return None"
   ]
  },
  {
   "cell_type": "code",
   "execution_count": 35,
   "metadata": {},
   "outputs": [
    {
     "data": {
      "text/plain": [
       "[(('rt', 'mention'), 0.026210236140079637),\n",
       " (('link', 'sxsw'), 0.008853429792447602),\n",
       " (('sxsw', 'link'), 0.008503376555184435),\n",
       " (('ipad', '2'), 0.006490570440921223),\n",
       " (('mention', 'mention'), 0.00631554382228964),\n",
       " (('sxsw', 'rt'), 0.005761292863289625),\n",
       " (('link', 'rt'), 0.005119528594973819),\n",
       " (('mention', 'google'), 0.005119528594973819),\n",
       " (('social', 'network'), 0.005075771940315923),\n",
       " (('apple', 'store'), 0.004871574218579076),\n",
       " (('mention', 'sxsw'), 0.004856988667026443),\n",
       " (('new', 'social'), 0.004652790945289596),\n",
       " (('sxsw', 'mention'), 0.004448593223552749),\n",
       " (('network', 'called'), 0.0036755589912632544),\n",
       " (('called', 'circles'), 0.003515117924184303)]"
      ]
     },
     "metadata": {},
     "output_type": "display_data"
    }
   ],
   "source": [
    "# neutral bigrams\n",
    "print_bigrams(concat_neutral)"
   ]
  },
  {
   "cell_type": "code",
   "execution_count": 36,
   "metadata": {},
   "outputs": [
    {
     "data": {
      "text/plain": [
       "[(('rt', 'mention'), 0.023627392110278568),\n",
       " (('ipad', '2'), 0.01099130616400804),\n",
       " (('sxsw', 'link'), 0.008067253217763621),\n",
       " (('mention', 'sxsw'), 0.005691460198940031),\n",
       " (('apple', 'store'), 0.005587029736574159),\n",
       " (('sxsw', 'rt'), 0.005117092655927734),\n",
       " (('link', 'sxsw'), 0.004856016500013054),\n",
       " (('link', 'rt'), 0.0038378194919458006),\n",
       " (('mention', 'mention'), 0.0038117118763543326),\n",
       " (('sxsw', 'mention'), 0.0035767433360311203),\n",
       " (('iphone', 'app'), 0.0034984204892567162),\n",
       " (('sxsw', 'apple'), 0.003211236717750568),\n",
       " (('store', 'sxsw'), 0.0030545910242017597),\n",
       " (('mention', 'google'), 0.0027935148682870794),\n",
       " (('austin', 'sxsw'), 0.002636869174738271)]"
      ]
     },
     "metadata": {},
     "output_type": "display_data"
    }
   ],
   "source": [
    "# positive bigrams\n",
    "print_bigrams(concat_positive)"
   ]
  },
  {
   "cell_type": "code",
   "execution_count": 37,
   "metadata": {},
   "outputs": [
    {
     "data": {
      "text/plain": [
       "[(('rt', 'mention'), 0.018669937312619244),\n",
       " (('sxsw', 'rt'), 0.007358953393295176),\n",
       " (('ipad', '2'), 0.00681384573453257),\n",
       " (('mention', 'sxsw'), 0.0046334150994821474),\n",
       " (('link', 'sxsw'), 0.003952030526028891),\n",
       " (('sxsw', 'mention'), 0.003679476696647588),\n",
       " (('apple', 'store'), 0.003270645952575634),\n",
       " (('sxsw', 'link'), 0.003270645952575634),\n",
       " (('iphone', 'app'), 0.002998092123194331),\n",
       " (('mention', 'google'), 0.002998092123194331),\n",
       " (('mention', 'mention'), 0.0028618152085036794),\n",
       " (('sxsw', 'iphone'), 0.002725538293813028),\n",
       " (('ipad', 'design'), 0.0025892613791223765),\n",
       " (('sxsw', 'ipad'), 0.0025892613791223765),\n",
       " (('sxsw', 'quot'), 0.0024529844644317253)]"
      ]
     },
     "metadata": {},
     "output_type": "display_data"
    }
   ],
   "source": [
    "# negative bigrams\n",
    "print_bigrams(concat_negative)"
   ]
  },
  {
   "cell_type": "code",
   "execution_count": 38,
   "metadata": {},
   "outputs": [
    {
     "data": {
      "text/plain": [
       "[(('rt', 'mention'), 0.017045454545454544),\n",
       " (('sxsw', 'link'), 0.00878099173553719),\n",
       " (('ipad', '2'), 0.008264462809917356),\n",
       " (('apple', 'store'), 0.006714876033057851),\n",
       " (('mention', 'mention'), 0.006714876033057851),\n",
       " (('link', 'sxsw'), 0.005681818181818182),\n",
       " (('sxsw', 'mention'), 0.005681818181818182),\n",
       " (('sxsw', 'rt'), 0.005165289256198347),\n",
       " (('mention', 'sxsw'), 0.004132231404958678),\n",
       " (('google', 'circles'), 0.003615702479338843),\n",
       " (('mention', 'google'), 0.003615702479338843),\n",
       " (('social', 'network'), 0.003615702479338843),\n",
       " (('austin', 'sxsw'), 0.0030991735537190084),\n",
       " (('called', 'circles'), 0.0030991735537190084),\n",
       " (('network', 'called'), 0.0030991735537190084)]"
      ]
     },
     "metadata": {},
     "output_type": "display_data"
    }
   ],
   "source": [
    "# ambiguous bigrams\n",
    "print_bigrams(concat_ambig)"
   ]
  },
  {
   "cell_type": "markdown",
   "metadata": {},
   "source": [
    "Similar to the frequency distributions, we see a number of the same results showing up commonly among the different class labels.  We will move on to show the PMI for each class."
   ]
  },
  {
   "cell_type": "code",
   "execution_count": 39,
   "metadata": {},
   "outputs": [],
   "source": [
    "def display_pmi(tweets_concat, freq_filter=10):\n",
    "    \"\"\"\n",
    "    Function that takes concatenated tweets and a freq_filter number. Displays PMI scores. \n",
    "    \"\"\"\n",
    "    bigram_measures = nltk.collocations.BigramAssocMeasures()\n",
    "    tweet_pmi_finder = BigramCollocationFinder.from_words(tweets_concat)\n",
    "    tweet_pmi_finder.apply_freq_filter(freq_filter)\n",
    "    tweet_pmi_scored = tweet_pmi_finder.score_ngrams(bigram_measures.pmi)\n",
    "    display(tweet_pmi_scored)\n",
    "    return None"
   ]
  },
  {
   "cell_type": "code",
   "execution_count": 40,
   "metadata": {},
   "outputs": [
    {
     "data": {
      "text/plain": [
       "[(('lonely', 'planet'), 12.605668913018919),\n",
       " (('speech', 'therapy'), 12.364660813515124),\n",
       " (('augmented', 'reality'), 12.257745609598611),\n",
       " (('mark', 'belinsky'), 12.257745609598611),\n",
       " (('therapy', 'communication'), 12.22715728976519),\n",
       " (('communication', 'showcased'), 12.158209936047697),\n",
       " (('dwnld', 'groundlink'), 12.158209936047697),\n",
       " (('barry', 'diller'), 12.065100531656217),\n",
       " (('league', 'extraordinary'), 12.065100531656213),\n",
       " (('south', 'southwest'), 11.743172436768853),\n",
       " (('mike', 'tyson'), 11.743172436768852),\n",
       " (('exhibit', 'hall'), 11.672783108877457),\n",
       " (('interrupt', 'regularly'), 11.672783108877455),\n",
       " (('regularly', 'scheduled'), 11.672783108877455),\n",
       " (('afford', 'attend'), 11.643636763217938),\n",
       " (('living', 'social-type'), 11.60566891301892),\n",
       " (('red', 'cross'), 11.541538575599205),\n",
       " (('consider', 'saving'), 11.512318436684211),\n",
       " (('schools', 'marketing'), 11.404035051849268),\n",
       " (('marketing', 'experts'), 11.27850416976541),\n",
       " (('150', 'million'), 11.241978293740296),\n",
       " (('convention', 'center'), 11.207119536528644),\n",
       " (('groupon', 'living'), 11.165096321632936),\n",
       " (('contextual', 'discovery'), 11.149221152820443),\n",
       " (('geek', 'programming'), 11.065100531656217),\n",
       " (('gon', 'na'), 10.977637690405876),\n",
       " (('wan', 'na'), 10.977637690405876),\n",
       " (('able', 'afford'), 10.935817514711248),\n",
       " (('physical', 'worlds'), 10.935817514711248),\n",
       " (('classical', 'newtwitter'), 10.931834000792751),\n",
       " (('navigation', 'schemas'), 10.916237145741734),\n",
       " (('business', 'cards'), 10.87810201685496),\n",
       " (('\\x89ã_', 'edchat'), 10.81717301821263),\n",
       " (('edchat', 'musedchat'), 10.817173018212628),\n",
       " (('includes', 'uberguide'), 10.573247435326541),\n",
       " (('03/12/11', 'infektd'), 10.541538575599203),\n",
       " (('03/14/11', 'infektd'), 10.541538575599203),\n",
       " (('valid', '4:00-7:59:59p'), 10.51051167997858),\n",
       " (('valid', '12:00-3:59:59p'), 10.510511679978578),\n",
       " (('sponsored', 'mashable'), 10.435743911576607),\n",
       " (('03/11/11', 'infektd'), 10.404035051849268),\n",
       " (('plenty', 'else'), 10.397827677450321),\n",
       " (('codes', 'valid'), 10.361648294064096),\n",
       " (('featured', 'artists'), 10.358831734712927),\n",
       " (('searches', 'local'), 10.33174619104239),\n",
       " (('local', 'information'), 10.257745609598611),\n",
       " (('hall', '3'), 10.158209936047697),\n",
       " (('giving', 'away'), 10.066002497950608),\n",
       " (('earthquake', 'relief'), 10.020706412297761),\n",
       " (('design', 'headaches'), 9.977637690405876),\n",
       " (('booth', '437'), 9.956576074878045),\n",
       " (('digital', 'magazines'), 9.884528286014394),\n",
       " (('website', 'ranking'), 9.881369730688872),\n",
       " (('think', 'speak.'), 9.707548527038133),\n",
       " (('programming', 'big'), 9.672783108877455),\n",
       " (('connect', 'digital'), 9.610534668190734),\n",
       " (('trade', 'show'), 9.58225224858775),\n",
       " (('download', '20+'), 9.568674705536717),\n",
       " (('shop', 'core'), 9.375242295336971),\n",
       " (('brain', 'search'), 9.333781500631153),\n",
       " (('blog', 'post'), 9.300228940920125),\n",
       " (('designing', 'boomers'), 9.26839285379812),\n",
       " (('around', 'block'), 9.25292322614177),\n",
       " (('best', 'thing'), 9.20811484187401),\n",
       " (('japan', 'earthquake'), 9.17270950574281),\n",
       " (('getting', 'ready'), 9.073321038461184),\n",
       " ((\"'ve\", 'heard'), 9.061348396795108),\n",
       " (('apps', 'speech'), 9.055908107375496),\n",
       " (('wonder', 'many'), 8.994711203764819),\n",
       " (('maps', 'usage'), 8.959715782408615),\n",
       " (('saving', 'japan'), 8.917895606713985),\n",
       " (('sampler', 'available'), 8.91028242260411),\n",
       " (('money', 'japan'), 8.905822774413412),\n",
       " (('thing', \"'ve\"), 8.798313990961313),\n",
       " (('launching', 'products'), 8.77903788932586),\n",
       " (('marissa', 'mayer'), 8.77215150374062),\n",
       " (('else', 'join'), 8.7319451813456),\n",
       " (('last', 'night'), 8.731199795102778),\n",
       " (('post', 'hootsuite'), 8.609773311351656),\n",
       " (('chance', 'win'), 8.578806960668441),\n",
       " (('japan', 'relief'), 8.481324945885502),\n",
       " (('6th', 'congress'), 8.430507263210458),\n",
       " (('looks', 'like'), 8.298808266220497),\n",
       " (('join', 'us'), 8.279064330922084),\n",
       " (('make', 'sure'), 8.270684665306112),\n",
       " (('wo', \"n't\"), 8.225896743559272),\n",
       " (('worlds', 'mobile'), 8.225896743559272),\n",
       " (('sets', 'temporary'), 8.22027090417995),\n",
       " (('sxswi', 'classical'), 8.219610480711841),\n",
       " ((\"'re\", 'plenty'), 8.202773131138228),\n",
       " (('ca', \"n't\"), 8.186368379372636),\n",
       " (('music', 'sampler'), 8.184205144580643),\n",
       " (('industry', 'party'), 8.133335267408668),\n",
       " (('set', 'open'), 7.969906405290528),\n",
       " (('20+', 'free'), 7.949623314236279),\n",
       " (('6th', 'street'), 7.920952165147327),\n",
       " (('free', 'tracks'), 7.8822680464345165),\n",
       " (('hootsuite', 'mobile'), 7.747849446754627),\n",
       " (('usage', 'mobile'), 7.71893675483939),\n",
       " (('--', 'gt'), 7.701330792557757),\n",
       " (('popup', 'shop'), 7.696282304606328),\n",
       " (('big', 'news'), 7.663445244298119),\n",
       " ((\"n't\", 'forget'), 7.6409342428381155),\n",
       " (('last', 'year'), 7.639115396112059),\n",
       " (('groundlink', 'app'), 7.59342531726417),\n",
       " (('location', 'location'), 7.591169343323804),\n",
       " (('anyone', 'know'), 7.575754290937118),\n",
       " (('opening', 'temporary'), 7.554388408075226),\n",
       " (('gt', 'gt'), 7.517884651461827),\n",
       " (('network', 'called'), 7.456963074714899),\n",
       " (('opening', 'temp'), 7.396215547389968),\n",
       " (('today', 'consider'), 7.280465686098696),\n",
       " (('possibly', 'today'), 7.272730037319089),\n",
       " (('let', 'know'), 7.151783666888264),\n",
       " ((\"'re\", 'launching'), 7.1407121630059756),\n",
       " (('launch', 'major'), 7.139016370814385),\n",
       " (('social', 'network'), 7.126475729342857),\n",
       " (('circles', 'possibly'), 7.11294959328232),\n",
       " (('called', 'circles'), 6.927609762834418),\n",
       " (('gsd', 'amp'), 6.833879350945031),\n",
       " (('open', 'popup'), 6.8238981167045),\n",
       " (('social', 'media'), 6.7874756633856865),\n",
       " (('relief', \"n't\"), 6.734043647229598),\n",
       " (('pop-up', 'shop'), 6.7284627103554815),\n",
       " (('long', 'line'), 6.718075476478887),\n",
       " (('major', 'new'), 6.63431048114926),\n",
       " (('new', 'ubersocial'), 6.627537590827496),\n",
       " (('downtown', 'austin'), 6.5487943916020015),\n",
       " (('q', 'amp'), 6.52902476941661),\n",
       " (('vs', 'android'), 6.476385896073953),\n",
       " (('amp', 'physical'), 6.459483836163532),\n",
       " (('ubersocial', 'iphone'), 6.3288559409101985),\n",
       " (('austin', 'tx'), 6.306460894631641),\n",
       " (('store', 'includes'), 6.305212348434381),\n",
       " (('interfaces', 'new'), 6.3038152582945965),\n",
       " (('new', 'navigation'), 6.272935945410625),\n",
       " (('amp', '80s'), 6.248916850223875),\n",
       " (('opening', 'pop-up'), 6.176675840527819),\n",
       " (('2', 'money'), 6.142384968886015),\n",
       " (('2', 'giveaway'), 6.087343605328051),\n",
       " (('team', 'android'), 6.08664241695902),\n",
       " (('quot', 'mark'), 6.073578685580522),\n",
       " (('social-type', 'quot'), 6.073578685580522),\n",
       " (('speak.', 'quot'), 6.073578685580522),\n",
       " (('new', 'social'), 6.0674785985147),\n",
       " (('updates', 'iphone'), 6.0632383740624025),\n",
       " (('open', 'temporary'), 6.055399130463922),\n",
       " (('h4ckers', 'amp'), 5.98588244439008),\n",
       " (('2.', 'quot'), 5.974043012029606),\n",
       " ((\"'s\", 'rumor'), 5.917895606713987),\n",
       " (('open', 'pop-up'), 5.897898698148278),\n",
       " (('store', 'downtown'), 5.890174849155535),\n",
       " (('austin', 'guide'), 5.86542818681985),\n",
       " (('temporary', 'store'), 5.831758162930214),\n",
       " (('ipad', '2s'), 5.821926548183265),\n",
       " (('ipad', 'interfaces'), 5.821926548183265),\n",
       " (('austin', 'convention'), 5.814802113749883),\n",
       " (('come', 'see'), 5.811253046668812),\n",
       " ((\"'m\", 'going'), 5.803367218687599),\n",
       " (('iphone', 'charger'), 5.762176067038263),\n",
       " (('ipad', '2.'), 5.7223908746323495),\n",
       " (('apple', 'schools'), 5.671388319378895),\n",
       " (('apple', 'opening'), 5.661738149345172),\n",
       " (('see', 'us'), 5.656133980001908),\n",
       " (('opening', 'pop'), 5.634647979990685),\n",
       " (('quot', 'groupon'), 5.633006094194538),\n",
       " (('amp', 'bing'), 5.632245489775379),\n",
       " (('apple', 'heads'), 5.616246765186432),\n",
       " ((\"n't\", 'need'), 5.603459537419454),\n",
       " (('digital', 'amp'), 5.588766853108497),\n",
       " (('ipad', 'dj'), 5.558892142349471),\n",
       " (('mom', 'ipad'), 5.546292105569838),\n",
       " (('austin', 'texas'), 5.543500091932488),\n",
       " (('quot', 'gave'), 5.543063968881741),\n",
       " (('amp', 'congress'), 5.521935344630288),\n",
       " (('ipad', '2'), 5.516300265625002),\n",
       " (('pop', 'store'), 5.48209011051846),\n",
       " (('pop-up', 'store'), 5.465369573627871),\n",
       " (('iphone', 'blackberry'), 5.415817933330343),\n",
       " (('blackberry', 'amp'), 5.411646350261982),\n",
       " (('new', 'blog'), 5.386940574113455),\n",
       " (('free', 'music'), 5.348835846353442),\n",
       " (('gave', 'ipad'), 5.291411831484487),\n",
       " (('temp', 'store'), 5.265683984247744),\n",
       " (('maps', 'mobile'), 5.253911119728869),\n",
       " (('iphone', 'battery'), 5.236903005551296),\n",
       " (('quot', 'rewards'), 5.215597690452949),\n",
       " (('download', 'free'), 5.198383589087957),\n",
       " (('rumor', 'apple'), 5.185961492208651),\n",
       " (('store', 'sold'), 5.167708824684446),\n",
       " (('via', 'twitter'), 5.134954583747394),\n",
       " (('40', 'google'), 5.103168572489734),\n",
       " (('people', 'line'), 5.09227455923055),\n",
       " (('win', 'free'), 5.055671774335259),\n",
       " (('6th', 'amp'), 5.047282989054224),\n",
       " (('iphone', 'case'), 5.015932659284047),\n",
       " (('designing', 'ipad'), 4.978045750100545),\n",
       " (('austin', 'details'), 4.977396618462649),\n",
       " (('google', 'maps'), 4.9612579472170175),\n",
       " (('iphone', 'app'), 4.933996323568987),\n",
       " (('guide', 'iphone'), 4.909017455367534),\n",
       " (('popup', 'store'), 4.897554379521136),\n",
       " (('google', 'connect'), 4.893715206860785),\n",
       " (('google', 'analytics'), 4.878795787025046),\n",
       " (('apple', 'set'), 4.862663099569808),\n",
       " (('ipad', 'design'), 4.821926548183267),\n",
       " (('outside', 'apple'), 4.808891843128828),\n",
       " (('buy', 'ipad'), 4.765343019816898),\n",
       " ((\"'s\", 'marissa'), 4.713662554496377),\n",
       " (('new', 'ipads'), 4.69033271756339),\n",
       " (('google', 'searches'), 4.685316057603837),\n",
       " (('iphone', 'game'), 4.639556780374306),\n",
       " ((\"n't\", 'know'), 4.582040553784548),\n",
       " (('apple', 'sets'), 4.5678837436250355),\n",
       " (('let', \"'s\"), 4.555325527329279),\n",
       " (('link', 'tech_news'), 4.540558816620367),\n",
       " (('cont', 'link'), 4.540558816620365),\n",
       " (('link', '\\x89ã_'), 4.540558816620365),\n",
       " (('new', 'post'), 4.490034067077561),\n",
       " (('2', 'launch'), 4.475765248595724),\n",
       " (('apple', 'store'), 4.432707952381044),\n",
       " (('win', 'ipad'), 4.41982810461192),\n",
       " (('google', 'launch'), 4.400083500560832),\n",
       " (('newtwitter', 'rt'), 4.369918037822197),\n",
       " (('link', 'codes'), 4.3599865709785455),\n",
       " (('\\x89÷_', 'link'), 4.3599865709785455),\n",
       " (('apple', 'open'), 4.346786090193206),\n",
       " (('laptop', 'ipad'), 4.336499721013023),\n",
       " (('iphone', '4'), 4.311982122345803),\n",
       " (('link', 'cnet'), 4.1926355132000594),\n",
       " ((\"n't\", 'get'), 4.145523327095251),\n",
       " (('year', \"'s\"), 4.118592956951117),\n",
       " (('store', '6th'), 4.103578487264729),\n",
       " (('google', 'places'), 4.085246664492473),\n",
       " (('today', 'w/'), 4.063234969878026),\n",
       " (('google', 'hotpot'), 4.062878851464021),\n",
       " (('google', 'bing'), 4.047111535605701),\n",
       " (('apple', 'pop'), 4.040217389235284),\n",
       " (('store', 'austin'), 4.039427331584552),\n",
       " (('others', 'link'), 4.01449000495278),\n",
       " (('twitter', 'amp'), 3.9858824443900804),\n",
       " (('bing', \"'s\"), 3.9386541668807844),\n",
       " (('away', 'ipad'), 3.923806162202478),\n",
       " (('link', 'sxsw\\x89û\\x9d'), 3.921648983975871),\n",
       " (('temp', 'apple'), 3.9213665723872424),\n",
       " (('ipad', 'apps'), 3.9117232185339077),\n",
       " (('\\x89ûï', 'mention'), 3.9104324665156476),\n",
       " (('launching', 'new'), 3.897458382246528),\n",
       " (('conference', 'link'), 3.8884821200406723),\n",
       " (('rt', 'mention'), 3.880956995926404),\n",
       " (('android', 'app'), 3.842653923572936),\n",
       " (('cc', 'mention'), 3.837766627193389),\n",
       " (('report', 'link'), 3.8243517826209583),\n",
       " (('google', 'launching'), 3.8228195813537695),\n",
       " (('ipad', '1'), 3.7980798062288947),\n",
       " (('/via', 'mention'), 3.7877259446937934),\n",
       " (('link', 'via'), 3.7621905234435964),\n",
       " (('shop', 'austin'), 3.7495907009398373),\n",
       " (('apple', 'pop-up'), 3.7431676609059927),\n",
       " (('popup', 'apple'), 3.7407203404872504),\n",
       " (('tweet', 'quot'), 3.723081438496388),\n",
       " (('pic', 'link'), 3.7040575489032435),\n",
       " (('mention', 'interrupt'), 3.7028370471072805),\n",
       " (('google', 'may'), 3.700582814257146),\n",
       " (('action', 'link'), 3.673825347483831),\n",
       " (('mashable', 'link'), 3.6660896987042264),\n",
       " (('ipad2', 'launch'), 3.661755575893906),\n",
       " (('attend', 'sxsw'), 3.59571309069187),\n",
       " (('infektd', 'sxsw'), 3.59571309069187),\n",
       " (('sxsw', 'necro'), 3.59571309069187),\n",
       " (('sxsw', 'zomb'), 3.59571309069187),\n",
       " (('musedchat', 'sxsw'), 3.5957130906918664),\n",
       " (('apple', 'popup'), 3.5938789521579793),\n",
       " (('amp', 'android'), 3.592121604741653),\n",
       " (('via', 'mention'), 3.591273276679317),\n",
       " (('app', 'store'), 3.5884246362058043),\n",
       " (('google', 'tweet'), 3.5827463239632884),\n",
       " (('uberguide', 'sxsw'), 3.5632916129994925),\n",
       " (('sxsw', 'sponsored'), 3.5513189713334157),\n",
       " (('apple', 'tv'), 3.5458574372950356),\n",
       " (('google', 'circles'), 3.5409261482686603),\n",
       " (('pop', 'apple'), 3.533257400515403),\n",
       " (('scheduled', 'sxsw'), 3.525323762800472),\n",
       " (('sxsw', 'zlf'), 3.502603686300386),\n",
       " (('ipad', 'designing'), 3.499998453295902),\n",
       " (('newsapps', 'sxsw'), 3.488797886775359),\n",
       " (('google', 'tv'), 3.4637582877462023),\n",
       " (('store', 'congress'), 3.4572154418794305),\n",
       " (('iphone', 'apps'), 3.433614879818453),\n",
       " (('heads', 'sxsw'), 3.403068012749472),\n",
       " (('showcased', 'sxsw'), 3.3892622132244448),\n",
       " (('core', 'sxsw'), 3.3815882853390207),\n",
       " (('details', 'link'), 3.3800941444271224),\n",
       " (('today', 'link'), 3.325779579393796),\n",
       " (('sxsw', 'action'), 3.2853729700797203),\n",
       " (('android', 'party'), 3.235377796570159),\n",
       " (('sxsw', 'attendees'), 3.2331430113071598),\n",
       " (('mobile', 'app'), 3.213653147804525),\n",
       " (('link', 'technology'), 3.196604415403005),\n",
       " (('mayer', 'google'), 3.1466472091566153),\n",
       " (('artists', 'link'), 3.125521317341523),\n",
       " (('launch', 'new'), 3.1208002574118403),\n",
       " (('pop-up', 'apple'), 3.108452124987739),\n",
       " (('mention', '\\x89÷¼'), 3.0951544698860403),\n",
       " (('sxsw', 'report'), 3.072151134634858),\n",
       " (('temporary', 'apple'), 3.0604306101247936),\n",
       " (('rewards', 'sxsw'), 3.059660190451659),\n",
       " (('sxsw', 'geek'), 3.0551447093291664),\n",
       " (('sxsw', 'conference'), 3.0431720676630896),\n",
       " (('need', 'ipad'), 3.0390246698501997),\n",
       " (('quot', 'think'), 3.0379547758498013),\n",
       " (('sxsw', 'updates'), 3.010750589970712),\n",
       " (('products', 'sxsw'), 2.9790417302433774),\n",
       " (('tapworthy', 'sxsw'), 2.974224713945599),\n",
       " (('google', \"'s\"), 2.9742153521037267),\n",
       " (('google', 'says'), 2.965811433503852),\n",
       " (('link', 'lt'), 2.9555963158992107),\n",
       " (('mayer', \"'s\"), 2.9386541668807844),\n",
       " (('link', 'cc'), 2.912527594007326),\n",
       " (('network', 'circles'), 2.9047148917051864),\n",
       " (('first', 'ipad'), 2.899094408705725),\n",
       " (('apple', 'ipad2'), 2.8989020088614232),\n",
       " (('sxsw', 'trade'), 2.895273372550779),\n",
       " (('google', 'facebook'), 2.8457807297970845),\n",
       " (('tracks', 'sxsw'), 2.807217195885581),\n",
       " (('circles', 'today'), 2.803259365733421),\n",
       " (('tech', 'apple'), 2.7925900307997296),\n",
       " (('sxsw', 'uxdes'), 2.776285336333693),\n",
       " (('iphone', 'android'), 2.7505880927630493),\n",
       " (('mention', 'hey'), 2.7493796330443097),\n",
       " (('sxsw', 'sxswi'), 2.72750296324741),\n",
       " (('mention', 'able'), 2.7028370471072805),\n",
       " (('sxsw', 'sets'), 2.702628294608381),\n",
       " (('news', 'link'), 2.7018397236534284),\n",
       " (('else', 'link'), 2.699256562639423),\n",
       " ((\"'s\", 'pop-up'), 2.683773892795429),\n",
       " (('weekend', 'sxsw'), 2.6697136721356465),\n",
       " (('rumor', 'google'), 2.6664570303525217),\n",
       " (('sxsw', 'interactive'), 2.666102418583268),\n",
       " (('itunes', 'link'), 2.6592033131189865),\n",
       " (('link', 'itunes'), 2.6592033131189865),\n",
       " (('mention', 'saw'), 2.652210974037313),\n",
       " (('sxsw', 'featured'), 2.641516780304997),\n",
       " (('qagb', 'sxsw'), 2.636355075189215),\n",
       " (('gt', 'rt'), 2.6027957938084754),\n",
       " (('attending', 'sxsw'), 2.59571309069187),\n",
       " (('schemas', 'sxsw'), 2.59571309069187),\n",
       " (('sxsw', '2011'), 2.59571309069187),\n",
       " (('google', 'party'), 2.554731947793691),\n",
       " (('event', 'link'), 2.5405588166203685),\n",
       " (('location', 'link'), 2.466558235176592),\n",
       " (('mention', 'awesome'), 2.455744185142507),\n",
       " (('sxsw', 'buy'), 2.4188353286077913),\n",
       " (('gt', 'link'), 2.3813602217711107),\n",
       " (('mention', 'ranking'), 2.3809089522199187),\n",
       " (('ranking', 'sxsw'), 2.3733206693554187),\n",
       " (('line', 'apple'), 2.3724518671177606),\n",
       " (('mention', \"'re\"), 2.3721510287423584),\n",
       " (('ipad', 'app'), 2.3502513337912205),\n",
       " (('2', 'line'), 2.3237388860634773),\n",
       " (('video', 'link'), 2.303519619319516),\n",
       " (('quot', 'pop-up'), 2.2951364554381577),\n",
       " (('daily', 'sxsw'), 2.273784995804508),\n",
       " (('thanks', 'mention'), 2.2662663862787973),\n",
       " (('available', 'mention'), 2.262264455721297),\n",
       " (('search', 'google'), 2.2608182290759267),\n",
       " (('link', 'thanks'), 2.2186307217330032),\n",
       " (('winning', 'sxsw'), 2.1971637142015936),\n",
       " (('going', 'sxsw'), 2.1842868449654063),\n",
       " (('line', 'ipad'), 2.1838527110025474),\n",
       " (('congress', 'link'), 2.1779887372356583),\n",
       " (('sxsw', 'qagb'), 2.1668697918879936),\n",
       " (('link', 'tech'), 2.1522882269043073),\n",
       " (('2', \"'s\"), 2.1455246764165814),\n",
       " (('link', 'rt'), 2.1402388708976616),\n",
       " (('mention', 'best'), 2.1386331065529234),\n",
       " (('pop-up', 'quot'), 2.1252114539958455),\n",
       " (('apple', \"'s\"), 2.112898030018929),\n",
       " (('sxsw', 'oh'), 2.1102862635216297),\n",
       " (('launch', 'social'), 2.1014754639483826),\n",
       " (('shop', 'sxsw'), 2.0741759701123463),\n",
       " (('hey', 'sxsw'), 2.057293175907745),\n",
       " (('circles', 'social'), 2.025924430941206),\n",
       " (('look', 'sxsw'), 2.010750589970712),\n",
       " (('circles', 'quot'), 1.9949217417055216),\n",
       " (('sxsw', 'gsdm'), 1.9790417302433738),\n",
       " (('sxswi', 'rt'), 1.9489258154057296),\n",
       " (('app', 'amp'), 1.9471666372741403),\n",
       " (('year', 'link'), 1.9339012447998911),\n",
       " (('austin', 'sxsw'), 1.9258616923841991),\n",
       " (('app', 'iphone'), 1.9227690681457332),\n",
       " (('sxsw', 'could'), 1.911214916419798),\n",
       " (('sxsw', 'fb'), 1.8878938421851785),\n",
       " (('free', 'ipad'), 1.8870215764051501),\n",
       " (('get', 'ipad'), 1.8570303491391797),\n",
       " (('w/', 'mention'), 1.8455022759729935),\n",
       " (('new', 'ipad'), 1.8430498397490176),\n",
       " (('mention', 'thanks'), 1.825693794892814),\n",
       " (('launch', 'link'), 1.808754927569936),\n",
       " (('launch', 'quot'), 1.7974542803062832),\n",
       " (('panel', 'sxsw'), 1.7960117411777006),\n",
       " (('called', 'quot'), 1.7671914415889347),\n",
       " (('store', 'ipad2'), 1.762954298667463),\n",
       " (('sxsw', 'hey'), 1.7524385943793241),\n",
       " (('android', 'iphone'), 1.7505880927630493),\n",
       " (('sxsw', 'event'), 1.7332166144418046),\n",
       " (('night', 'sxsw'), 1.7212439727757278),\n",
       " (('amp', 'iphone'), 1.686785057883604),\n",
       " (('follow', 'sxsw'), 1.6697136721356465),\n",
       " (('store', 'line'), 1.6671385112536612),\n",
       " (('mention', 'google'), 1.6637372274183413),\n",
       " (('quot', 'circles'), 1.6605027026349646),\n",
       " (('game', 'link'), 1.6601404323730407),\n",
       " (('mobile', 'link'), 1.6555513389102963),\n",
       " (('everyone', 'sxsw'), 1.6288799546270702),\n",
       " (('sxsw', 'session'), 1.6170867414844388),\n",
       " (('amp', 'google'), 1.6089129859447553),\n",
       " (('congress', 'sxsw'), 1.59571309069187),\n",
       " (('event', 'sxsw'), 1.59571309069187),\n",
       " (('time', 'sxsw'), 1.59571309069187),\n",
       " (('new', 'iphone'), 1.5742653201225885),\n",
       " (('tonight', 'sxsw'), 1.5701779985847324),\n",
       " (('mention', 'says'), 1.5427598316213142),\n",
       " (('says', 'mention'), 1.5427598316213142),\n",
       " (('new', 'android'), 1.5306760515749076),\n",
       " (('mention', 'download'), 1.5283393158751437),\n",
       " (('store', 'sxsw'), 1.465181527549646),\n",
       " (('tonight', 'mention'), 1.4142675491663503),\n",
       " (('sxsw', 'want'), 1.4080860875161),\n",
       " (('back', 'sxsw'), 1.3940792295222195),\n",
       " (('sxsw', 'anyone'), 1.3940792295222195),\n",
       " (('link', '\\x89ûï'), 1.3852805911424575),\n",
       " (('itunes', 'sxsw'), 1.3733206693554187),\n",
       " (('sxsw', 'rt'), 1.365774767729068),\n",
       " (('sxsw', \"'re\"), 1.3598248268712005),\n",
       " (('sxsw', 'music'), 1.337915333224224),\n",
       " (('austin', 'apple'), 1.3170387467991524),\n",
       " (('link', 'sxsw'), 1.3167240819117012),\n",
       " (('amp', 'ipad'), 1.29114508561317),\n",
       " (('ipad', 'today'), 1.2852192160693292),\n",
       " (('sxsw', 'check'), 1.2737849958045047),\n",
       " (('quot', 'google'), 1.26364981985909),\n",
       " (('sxsw', 'link'), 1.258523448856515),\n",
       " (('right', 'sxsw'), 1.2517586894745065),\n",
       " (('apps', 'link'), 1.2318061104807363),\n",
       " (('sxsw', 'please'), 1.2222546951644269),\n",
       " (('sxsw', 'tonight'), 1.2222546951644269),\n",
       " (('mention', 'come'), 1.2182764433439637),\n",
       " (('mention', '\\x89ûï'), 1.2174102199370367),\n",
       " (('mention', 'apple'), 1.2081795910243756),\n",
       " (('sxsw', 'download'), 1.1988229381232856),\n",
       " (('around', 'sxsw'), 1.1971637142015936),\n",
       " (('mention', 'going'), 1.1918751278299027),\n",
       " (('ipad2', 'sxsw'), 1.1909585646748866),\n",
       " (('mention', \"'ll\"), 1.1752077214520753),\n",
       " (('coming', 'sxsw'), 1.1627536834157652),\n",
       " (('ipad2', 'rt'), 1.1526221430322714),\n",
       " (('sxsw', \"'m\"), 1.1482541137206503),\n",
       " (('party', 'sxsw'), 1.1432008859943643),\n",
       " (('sxsw', 'video'), 1.13628147205457),\n",
       " (('sxsw', 'tech'), 1.1199796597254732),\n",
       " (('mobile', 'sxsw'), 1.11406130721301),\n",
       " (('sxsw', 'go'), 1.103859994362196),\n",
       " (('sxsw', 'popup'), 1.0969072337204295),\n",
       " (('sxsw', 'ipad2'), 1.0890789506556722),\n",
       " (('check', 'link'), 1.048705720290691),\n",
       " (('mention', 'marissa'), 1.046908025031982),\n",
       " (('app', 'link'), 1.023079912615195),\n",
       " (('sxsw', 'thanks'), 1.0107505899707157),\n",
       " (('mention', 'great'), 0.9992300498875046),\n",
       " (('ipad2', 'link'), 0.9983007668534505),\n",
       " (('sxsw', 'year'), 0.9890555188713961),\n",
       " (('sxsw', 'come'), 0.9712222257840786),\n",
       " (('mention', 'rt'), 0.9522253517783028),\n",
       " (('android', 'link'), 0.9473286999156088),\n",
       " (('mayer', 'sxsw'), 0.9466202525509999),\n",
       " (('sxsw', 'party'), 0.9396674919092298),\n",
       " (('mention', 'check'), 0.935876712643239),\n",
       " (('link', 'ipad2'), 0.924300185409674),\n",
       " (('network', 'quot'), 0.9238315660758403),\n",
       " ((\"'s\", 'new'), 0.9050715663564013),\n",
       " (('line', 'sxsw'), 0.8836386720673737),\n",
       " (('anyone', 'sxsw'), 0.8795060566924597),\n",
       " (('sxsw', 'apple'), 0.8708858626807938),\n",
       " (('mention', 'anyone'), 0.8610991310240124),\n",
       " (('iphone', 'ipad'), 0.8517100172059173),\n",
       " (('store', 'today'), 0.8425055977642231),\n",
       " (('google', 'amp'), 0.8174996077561723),\n",
       " (('bing', 'sxsw'), 0.8091167288010652),\n",
       " (('link', 'sxswi'), 0.7825316069263302),\n",
       " (('sxswi', 'link'), 0.7825316069263302),\n",
       " (('day', 'sxsw'), 0.7592118229747484),\n",
       " (('sxsw', 'w/'), 0.7569939977249298),\n",
       " (('quot', 'new'), 0.7559000636945186),\n",
       " (('sxswi', 'sxsw'), 0.750223039747496),\n",
       " (('twitter', 'sxsw'), 0.7477161841369195),\n",
       " (('today', 'sxsw'), 0.7418155826972352),\n",
       " (('mention', 'amp'), 0.7384024070909945),\n",
       " (('sxsw', 'marissa'), 0.7173916472801238),\n",
       " (('sxsw', \"'ll\"), 0.7081878199502825),\n",
       " (('sxsw', 'via'), 0.6834890507803131),\n",
       " (('link', 'google'), 0.6692294062347912),\n",
       " (('austin', 'link'), 0.6676155529351853),\n",
       " (('sxsw', 'need'), 0.632238966716983),\n",
       " (('mention', 'new'), 0.6075508465577251),\n",
       " (('mention', \"'s\"), 0.5853794655591038),\n",
       " (('2', 'sxsw'), 0.5798881235301891),\n",
       " (('game', 'sxsw'), 0.5777911826946074),\n",
       " (('sxsw', '\\x89ûï'), 0.5659657472978168),\n",
       " (('check', 'mention'), 0.5488535895339908),\n",
       " (('party', 'mention'), 0.546717845189999),\n",
       " (('mention', 'mention'), 0.5435816199579655),\n",
       " (('quot', 'quot'), 0.5414884581421227),\n",
       " (('circles', 'link'), 0.5108114732263118),\n",
       " (('search', 'sxsw'), 0.5082502494415309),\n",
       " (('circles', 'google'), 0.49910597257403566),\n",
       " (('link', 'apple'), 0.47417468697299725),\n",
       " (('mention', 'music'), 0.4657978498064317),\n",
       " (('free', 'sxsw'), 0.43132627279098656),\n",
       " (('mention', 'get'), 0.42981855270086555),\n",
       " (('mention', 'free'), 0.4264236114722877),\n",
       " (('link', 'free'), 0.42508159920042843),\n",
       " (('link', 'android'), 0.4112757996754013),\n",
       " (('store', 'link'), 0.39538047751373995),\n",
       " (('mention', 'party'), 0.3947147517449494),\n",
       " (('sxsw', 'see'), 0.35867389339101763),\n",
       " (('mention', 'see'), 0.3402669677225738),\n",
       " (('amp', 'mention'), 0.3378644775072672),\n",
       " (('sxsw', 'line'), 0.3361508767648793),\n",
       " (('today', 'mention'), 0.31051962432852065),\n",
       " (('sxsw', 'ipad'), 0.25942970282743616),\n",
       " (('new', 'quot'), 0.25339972316533377),\n",
       " (('sxsw', 'get'), 0.252305268394057),\n",
       " (('sxsw', 'google'), 0.2452158436077383),\n",
       " (('see', 'mention'), 0.20276344397263912),\n",
       " (('apps', 'sxsw'), 0.14945686080230658),\n",
       " (('sxsw', \"n't\"), 0.1488267253736879),\n",
       " ((\"'re\", 'sxsw'), 0.11189731342761533),\n",
       " (('know', 'sxsw'), 0.08936042466708116),\n",
       " (('sxsw', 'today'), 0.05900575857793555),\n",
       " (('quot', \"'s\"), 0.05565677758325904),\n",
       " (('mention', 'line'), 0.05269037762598927),\n",
       " (('quot', 'store'), 0.014130220499776414),\n",
       " (('quot', 'mention'), -0.021898258273516547),\n",
       " (('circles', 'sxsw'), -0.0555226294484541),\n",
       " (('quot', 'link'), -0.05864560667656704),\n",
       " (('google', 'social'), -0.10218039480647789),\n",
       " (('google', 'quot'), -0.1196788196924139),\n",
       " (('app', 'sxsw'), -0.12107462153670667),\n",
       " (('ipad', 'store'), -0.13060671298096693),\n",
       " (('circles', 'rt'), -0.14222207265246567),\n",
       " (('sxsw', 'quot'), -0.14788124194024022),\n",
       " (('free', 'link'), -0.15988090152072587),\n",
       " (('mention', 'sxsw'), -0.164779605449354),\n",
       " (('network', 'sxsw'), -0.17552240555908227),\n",
       " ((\"'s\", 'mention'), -0.20516716881194696),\n",
       " (('quot', 'sxsw'), -0.2059841965038096),\n",
       " (('mention', 'quot'), -0.23340236346722776),\n",
       " (('ipad', 'iphone'), -0.2637672002140192),\n",
       " (('iphone', 'sxsw'), -0.2675882363689688),\n",
       " (('free', 'mention'), -0.2897834225271225),\n",
       " (('sxsw', 'mention'), -0.29149254007036873),\n",
       " (('mention', 'launch'), -0.29200124777694114),\n",
       " (('2', 'rt'), -0.30887194206191637),\n",
       " (('sxswi', 'mention'), -0.3352980817794915),\n",
       " (('sxsw', 'pop-up'), -0.3526541408928061),\n",
       " (('link', 'mention'), -0.38014372612996183),\n",
       " (('android', 'sxsw'), -0.3960664025031626),\n",
       " (('sxsw', \"'s\"), -0.4222088173053926),\n",
       " (('2', 'link'), -0.4752661505413158),\n",
       " (('apple', 'quot'), -0.48219028480577464),\n",
       " (('iphone', 'link'), -0.4862412427233487),\n",
       " (('mention', 'link'), -0.4907877898139539),\n",
       " (('link', 'iphone'), -0.5451349317769179),\n",
       " (('line', 'mention'), -0.5753408449870534),\n",
       " (('mention', \"n't\"), -0.592046224765852),\n",
       " (('quot', 'rt'), -0.6121434790044304),\n",
       " (('mention', 'android'), -0.6190910477800848),\n",
       " (('sxsw', 'free'), -0.6192998002789807),\n",
       " (('sxsw', 'amp'), -0.6355080900193144),\n",
       " (('ipad', 'sxsw'), -0.6474608927810799),\n",
       " (('mention', 'austin'), -0.7301223601688243),\n",
       " (('sxsw', 'mobile'), -0.7840590787677755),\n",
       " (('mention', 'ipad'), -0.8260914186995478),\n",
       " (('mention', 'iphone'), -0.838536185066193),\n",
       " (('ipad', 'quot'), -0.8476672030050665),\n",
       " (('apple', 'ipad'), -0.8493196396229656),\n",
       " (('quot', 'apple'), -0.8607019080595038),\n",
       " (('sxsw', 'app'), -0.8759621237001731),\n",
       " (('sxsw', 'austin'), -0.948607425531943),\n",
       " (('sxsw', 'iphone'), -0.9874803171762316),\n",
       " (('google', 'sxsw'), -1.0550171801803074),\n",
       " ((\"'s\", 'sxsw'), -1.1002807224180309),\n",
       " (('ipad', 'rt'), -1.1268300222354846),\n",
       " (('link', 'quot'), -1.129034934567965),\n",
       " (('sxsw', 'android'), -1.2705355204193047),\n",
       " (('link', \"'s\"), -1.3398595676269593),\n",
       " (('launch', 'sxsw'), -1.3584832196950067),\n",
       " (('link', 'new'), -1.4051510278786807),\n",
       " (('link', 'ipad'), -1.5326901654102727),\n",
       " (('link', 'link'), -1.6985806795532348),\n",
       " (('google', 'rt'), -1.8069263775599076),\n",
       " (('apple', 'link'), -1.8087592762985025),\n",
       " (('sxsw', 'new'), -1.8094283724444722),\n",
       " (('apple', 'sxsw'), -1.9056080956720507),\n",
       " (('ipad', 'link'), -2.002175448711494),\n",
       " (('store', 'mention'), -2.0273037927205024),\n",
       " (('mention', 'store'), -2.24969621405695),\n",
       " (('iphone', 'mention'), -2.2859951620374126),\n",
       " (('sxsw', 'store'), -2.5792125918088082),\n",
       " (('sxsw', 'sxsw'), -2.6838497913924577),\n",
       " (('google', 'mention'), -3.0911502747451287)]"
      ]
     },
     "metadata": {},
     "output_type": "display_data"
    }
   ],
   "source": [
    "# neutral pmi\n",
    "display_pmi(concat_neutral)"
   ]
  },
  {
   "cell_type": "code",
   "execution_count": 41,
   "metadata": {},
   "outputs": [
    {
     "data": {
      "text/plain": [
       "[(('belinsky', '911tweets'), 11.514676389302611),\n",
       " (('mark', 'belinsky'), 11.514676389302611),\n",
       " (('holler', 'gram'), 11.225169772107627),\n",
       " (('physical', 'worlds'), 11.211363972582596),\n",
       " (('gon', 'na'), 11.137706930857284),\n",
       " (('convention', 'center'), 10.94506185291489),\n",
       " (('choice', 'awards'), 10.903241677220263),\n",
       " (('includes', 'uberguide'), 10.765738153470329),\n",
       " (('connect', 'digital'), 10.510924254441502),\n",
       " (('song', 'info'), 10.318279176499107),\n",
       " (('looking', 'forward'), 9.967781929414976),\n",
       " (('brain', 'search'), 9.79221036483152),\n",
       " (('911tweets', 'panel'), 9.742086885405683),\n",
       " (('marketing', 'experts'), 9.707321467245007),\n",
       " (('schools', 'marketing'), 9.64020727138647),\n",
       " (('think', 'speak.'), 9.610459927992418),\n",
       " (('giving', 'away'), 9.573093075527932),\n",
       " (('shop', 'core'), 9.449995255799172),\n",
       " (('best', 'andoid'), 9.27097346172075),\n",
       " (('marissa', 'mayer'), 9.130149579679204),\n",
       " (('video', 'streaming'), 9.129245352109091),\n",
       " (('route', 'around'), 9.048581040384304),\n",
       " (('ever', 'heard'), 8.999749658073611),\n",
       " (('even', 'begins'), 8.941121560891352),\n",
       " (('awards', 'thanks'), 8.794337113723813),\n",
       " (('yes', 'gowalla'), 8.777710795136406),\n",
       " (('got', 'ta'), 8.701607816050613),\n",
       " (('go', 'conferences'), 8.629912290658591),\n",
       " (('network', 'called'), 8.59862816763507),\n",
       " (('around', 'traffic'), 8.477424339188175),\n",
       " (('around', 'block'), 8.422976555165802),\n",
       " (('possibly', 'today'), 8.404990809692437),\n",
       " (('worlds', 'mobile'), 8.344565868019382),\n",
       " (('circles', 'possibly'), 8.282655266768387),\n",
       " (('set', 'open'), 8.220481126313995),\n",
       " (('gowalla', 'wins'), 8.216995840661927),\n",
       " (('social', 'network'), 8.203859265862214),\n",
       " (('called', 'circles'), 8.162159974581824),\n",
       " (('7', 'people'), 8.119785022860025),\n",
       " (('gt', 'gt'), 8.095028263592614),\n",
       " (('ca', \"n't\"), 7.928332658183095),\n",
       " (('cool', 'technology'), 7.820779517028292),\n",
       " (('launch', 'major'), 7.775486130021889),\n",
       " (('comes', 'cool'), 7.717886635208345),\n",
       " (('opening', 'temporary'), 7.716269477206028),\n",
       " (('live', 'video'), 7.669813733471793),\n",
       " (('popup', 'shop'), 7.610459927992418),\n",
       " (('technology', 'one'), 7.450382712506453),\n",
       " (('every', 'day'), 7.420116901026558),\n",
       " (('heard', \"n't\"), 7.346476068329759),\n",
       " (('looks', 'like'), 7.292744084391968),\n",
       " (('people', 'work'), 7.207247864110364),\n",
       " (('amp', 'physical'), 7.182142488513078),\n",
       " (('opening', 'temp'), 7.043272128999238),\n",
       " (('open', 'popup'), 6.998615909456609),\n",
       " (('android', 'choice'), 6.974324775281746),\n",
       " (('wins', 'best'), 6.973292913080066),\n",
       " (('pop-up', 'shop'), 6.895617144724351),\n",
       " (('downtown', 'austin'), 6.735990810076277),\n",
       " (('new', 'ubersocial'), 6.733316675777951),\n",
       " (('digital', 'amp'), 6.696715661342836),\n",
       " (('android', 'market'), 6.662927347886553),\n",
       " (('first', 'day'), 6.6544211306061705),\n",
       " ((\"n't\", 'go'), 6.6393726199076575),\n",
       " (('major', 'new'), 6.605561128579577),\n",
       " (('andoid', 'app'), 6.5958131520280165),\n",
       " (('team', 'android'), 6.563391674335639),\n",
       " ((\"n't\", 'wait'), 6.536669667278058),\n",
       " (('austin', 'convention'), 6.522997086742077),\n",
       " (('conferences', 'quot'), 6.367188776980054),\n",
       " (('speak.', 'quot'), 6.367188776980054),\n",
       " (('app', 'song'), 6.332778746194222),\n",
       " (('quot', 'mark'), 6.2416578948961945),\n",
       " (('ubersocial', 'iphone'), 6.124113307969287),\n",
       " (('2', 'years'), 6.077027727911345),\n",
       " (('new', 'social'), 6.045906906085978),\n",
       " (('open', 'pop-up'), 6.008138683575115),\n",
       " (('store', 'includes'), 5.997553828693402),\n",
       " (('2', 'takes'), 5.966603738217694),\n",
       " (('maps', 'mobile'), 5.940175612940049),\n",
       " (('store', 'downtown'), 5.78415019058421),\n",
       " (('opening', 'pop-up'), 5.775260927588835),\n",
       " (('temporary', 'store'), 5.72541311193471),\n",
       " (('iphone', 'charger'), 5.709075808690443),\n",
       " ((\"'s\", 'rumor'), 5.694763435008559),\n",
       " ((\"'s\", 'ever'), 5.639268322416855),\n",
       " (('google', 'analytics'), 5.478319589009576),\n",
       " (('pop-up', 'store'), 5.435811424226291),\n",
       " (('pop', 'store'), 5.381697320026465),\n",
       " (('google', 'doodles'), 5.36284237158964),\n",
       " (('google', 'maps'), 5.330889225354348),\n",
       " (('tweet', 'quot'), 5.303058439560338),\n",
       " (('google', 'connect'), 5.293895017872149),\n",
       " (('temp', 'store'), 5.260588234527196),\n",
       " (('apple', 'schools'), 5.246329334620093),\n",
       " (('begins', 'apple'), 5.2375591249923605),\n",
       " (('ipad', '2s'), 5.139586664075509),\n",
       " (('ipad', 'envy'), 5.117560357745511),\n",
       " (('apple', 'opening'), 5.0417116150116215),\n",
       " (('ipad', '2'), 5.036102365559273),\n",
       " (('40', 'google'), 5.030860612038355),\n",
       " (('apple', 'comes'), 5.026724730655264),\n",
       " (('cont', 'link'), 4.976056319393898),\n",
       " (('rumor', 'apple'), 4.971322287120222),\n",
       " (('google', 'tweet'), 4.802754539507513),\n",
       " (('popup', 'store'), 4.794020434608269),\n",
       " (('apple', 'wins'), 4.698670532971061),\n",
       " (('iphone', '4'), 4.697002976389868),\n",
       " (('2', 'launch'), 4.694524192780889),\n",
       " ((\"'s\", 'marissa'), 4.669672454045729),\n",
       " (('others', 'link'), 4.639021332116327),\n",
       " (('iphone', 'app'), 4.631235206238845),\n",
       " (('app', 'team'), 4.563391674335639),\n",
       " (('iphone', 'case'), 4.510004461588613),\n",
       " (('ipad', 'design'), 4.506602648491409),\n",
       " (('move', 'apple'), 4.445860798147729),\n",
       " (('google', 'launch'), 4.44179371298446),\n",
       " (('users', '2'), 4.367966300599459),\n",
       " (('one', \"'s\"), 4.259826378292011),\n",
       " (('link', 'via'), 4.2189128432900596),\n",
       " (('quot', 'think'), 4.211910551502143),\n",
       " (('apple', 'set'), 4.170226355534302),\n",
       " (('temp', 'apple'), 4.1348210194031),\n",
       " (('apple', 'pop'), 4.133073357116835),\n",
       " (('iphone', 'game'), 4.130372298440969),\n",
       " (('/via', 'mention'), 4.125821961704432),\n",
       " (('cc', 'mention'), 4.125821961704432),\n",
       " (('\\x89ûï', 'mention'), 4.125821961704432),\n",
       " (('google', 'circles'), 4.118916788703551),\n",
       " (('win', 'ipad'), 4.091565149212565),\n",
       " (('rt', 'mention'), 4.075690706015813),\n",
       " (('iphone', 'apps'), 4.0673907179573465),\n",
       " (('hollergram', 'ipad'), 4.053430020325795),\n",
       " (('apple', 'store'), 4.02321478344081),\n",
       " (('google', 'party'), 4.01888797037228),\n",
       " (('experts', 'link'), 3.976056319393896),\n",
       " (('via', 'mention'), 3.8771428488477113),\n",
       " (('away', 'ipad'), 3.795632262858147),\n",
       " (('mayer', 'google'), 3.7844227167352553),\n",
       " (('details', 'link'), 3.7744224582242474),\n",
       " (('apple', 'open'), 3.765202644883477),\n",
       " (('action', 'link'), 3.7222997271481137),\n",
       " (('ipad2', 'launch'), 3.655314163776678),\n",
       " (('store', 'austin'), 3.6358247257480656),\n",
       " (('core', 'sxsw'), 3.624792218999783),\n",
       " (('apple', 'pop-up'), 3.55972023208097),\n",
       " (('uberguide', 'sxsw'), 3.554402891108385),\n",
       " (('popup', 'apple'), 3.5162501260391252),\n",
       " (('android', 'app'), 3.4900184880054184),\n",
       " (('sxsw', 'sponsored'), 3.432147141057385),\n",
       " (('sxsw', 'attendees'), 3.393466672893325),\n",
       " (('marissagoogle', 'sxsw'), 3.383784119495987),\n",
       " (('takes', 'sxsw'), 3.3732534520038193),\n",
       " (('today', 'link'), 3.365330722607659),\n",
       " (('newsapps', 'sxsw'), 3.3617578131659887),\n",
       " (('ipad', 'case'), 3.3481732858869258),\n",
       " (('video', 'link'), 3.3130913066714704),\n",
       " (('sxsw', '2011'), 3.2377690958905347),\n",
       " (('apple', 'popup'), 3.1239327032603654),\n",
       " (('launch', 'link'), 3.080392979208632),\n",
       " (('mention', 'hey'), 3.0785162469260747),\n",
       " (('news', 'link'), 2.976056319393898),\n",
       " (('mention', 'yes'), 2.9738188682593822),\n",
       " (('sxswi', 'rt'), 2.953333927559804),\n",
       " (('sxsw', 'action'), 2.8405209100552185),\n",
       " (('wins', 'sxsw'), 2.8296120108882796),\n",
       " (('got', 'ipad'), 2.8189647666887723),\n",
       " (('circles', 'quot'), 2.818752152284011),\n",
       " (('tapworthy', 'sxsw'), 2.8174372969421775),\n",
       " (('ipad', 'app'), 2.734231718194007),\n",
       " (('launch', 'new'), 2.7333166757779512),\n",
       " (('sxsw', 'sxswi'), 2.6987928004435595),\n",
       " (('need', 'ipad'), 2.6701013807742893),\n",
       " (('line', 'apple'), 2.6603653100538622),\n",
       " (('google', \"'s\"), 2.6288001726302),\n",
       " (('store', 'ipad2'), 2.597623221804767),\n",
       " (('ipad', 'apps'), 2.5804641682896126),\n",
       " (('new', 'iphone'), 2.560630534658582),\n",
       " (('new', 'ipad'), 2.518098287329238),\n",
       " (('app', 'store'), 2.505700732363728),\n",
       " (('temporary', 'apple'), 2.481089286458708),\n",
       " ((\"'s\", 'pop-up'), 2.3632492912919965),\n",
       " (('link', 'rt'), 2.3038234265710784),\n",
       " (('w/', 'mention'), 2.2633254854543665),\n",
       " (('thanks', 'mention'), 2.1839249162680012),\n",
       " (('ready', 'sxsw'), 2.17733324202856),\n",
       " (('day', 'sxsw'), 2.1365057376902996),\n",
       " (('mobile', 'link'), 2.1251997586997042),\n",
       " (('sxsw', 'video'), 2.1138302997224017),\n",
       " (('link', 'sxswi'), 2.1066404292040417),\n",
       " (('quot', 'apple'), 2.0988417222975357),\n",
       " (('2', \"'s\"), 2.0979754988906123),\n",
       " (('austin', 'sxsw'), 2.083331356915213),\n",
       " (('mention', 'even'), 2.0635376834500896),\n",
       " (('love', 'mention'), 2.061691624284716),\n",
       " (('mention', 'love'), 2.061691624284716),\n",
       " (('iphone', 'android'), 2.024577634418371),\n",
       " (('mention', \"'ll\"), 1.9933716656807832),\n",
       " (('quot', 'google'), 1.9708358409661386),\n",
       " (('panel', 'sxsw'), 1.9676799325227918),\n",
       " (('get', 'ipad'), 1.960443132603821),\n",
       " (('time', 'sxsw'), 1.9467203138871447),\n",
       " (('mention', 'check'), 1.8590354210095335),\n",
       " (('amp', 'ipad'), 1.8558927876756215),\n",
       " (('apple', \"'s\"), 1.8187338031048021),\n",
       " (('going', 'sxsw'), 1.8066305419855944),\n",
       " (('cool', 'apple'), 1.7868977159827963),\n",
       " (('thanks', 'sxsw'), 1.6828951735633524),\n",
       " (('new', 'quot'), 1.6826906027079822),\n",
       " (('mention', '\\x89ûï'), 1.6783629847332122),\n",
       " (('mention', 'awesome'), 1.6741259918467435),\n",
       " (('sxsw', 'link'), 1.6471417941904285),\n",
       " (('shop', 'sxsw'), 1.5950448756057298),\n",
       " (('pop-up', 'apple'), 1.5928870960161703),\n",
       " (('mention', \"'re\"), 1.5815014454806224),\n",
       " (('sxsw', 'want'), 1.5741661459298122),\n",
       " (('circles', 'link'), 1.5651232184477912),\n",
       " (('fun', 'sxsw'), 1.5373293777494403),\n",
       " (('apple', 'ipad2'), 1.471856006680671),\n",
       " (('mention', 'got'), 1.4096149277050216),\n",
       " (('store', 'sxsw'), 1.4050445189188991),\n",
       " (('mayer', 'sxsw'), 1.3877530216989307),\n",
       " (('mention', 'google'), 1.3834731708413237),\n",
       " (('sxsw', 'rt'), 1.3675968254558022),\n",
       " (('quot', 'new'), 1.3347672992876767),\n",
       " (('sxsw', 'popup'), 1.2837553011647138),\n",
       " (('ipad2', 'apple'), 1.2494635853442233),\n",
       " (('link', 'great'), 1.199952331320734),\n",
       " (('app', 'iphone'), 1.024577634418371),\n",
       " (('awesome', 'sxsw'), 0.992524003500268),\n",
       " (('sxsw', 'great'), 0.986191754676554),\n",
       " (('austin', 'apple'), 0.9795427939251908),\n",
       " (('sxswi', 'sxsw'), 0.9618272062773521),\n",
       " (('mention', 'new'), 0.9558969602621197),\n",
       " (('sxsw', 'even'), 0.9344767181323981),\n",
       " (('link', 'sxsw'), 0.9148375773940849),\n",
       " (('sxsw', 'via'), 0.8878266248335756),\n",
       " (('mention', 'apple'), 0.872425248487886),\n",
       " (('app', 'link'), 0.8702616553713014),\n",
       " (('ipad2', 'link'), 0.8536596880341705),\n",
       " (('sxsw', 'good'), 0.8333788408112),\n",
       " (('sxsw', 'quot'), 0.8329004143299805),\n",
       " (('sxsw', 'go'), 0.8174372969421775),\n",
       " (('sxsw', 'got'), 0.8016699810838617),\n",
       " (('ipad2', 'sxsw'), 0.7754140820464741),\n",
       " (('sxsw', 'ipad2'), 0.7754140820464741),\n",
       " (('mention', 'rt'), 0.7617113642439435),\n",
       " (('line', 'sxsw'), 0.761294218904645),\n",
       " (('sxsw', 'thanks'), 0.7568957550071289),\n",
       " (('mention', 'great'), 0.7282295968849972),\n",
       " (('sxsw', 'apple'), 0.7139971689353501),\n",
       " (('sxsw', \"'m\"), 0.6737018194807263),\n",
       " (('circles', 'sxsw'), 0.661318095024896),\n",
       " (('quot', 'link'), 0.6416372803233372),\n",
       " (('store', 'link'), 0.6408314018930774),\n",
       " (('link', 'google'), 0.6215235590746104),\n",
       " (('quot', 'rt'), 0.5827463805712085),\n",
       " (('love', 'sxsw'), 0.5606618815800672),\n",
       " (('sxsw', 'amp'), 0.5475492200673209),\n",
       " (('mention', \"'s\"), 0.5379301299446055),\n",
       " (('mention', 'iphone'), 0.48747224823625146),\n",
       " (('sxsw', 'party'), 0.48728869524984475),\n",
       " (('link', 'apple'), 0.4802987686083071),\n",
       " (('mention', 'quot'), 0.4377659680191748),\n",
       " (('sxsw', 'love'), 0.42315835783013256),\n",
       " (('mention', 'amp'), 0.4047227729972498),\n",
       " (('today', 'sxsw'), 0.38957575730574945),\n",
       " (('party', 'sxsw'), 0.38775302169893067),\n",
       " ((\"'s\", 'ipad'), 0.3096200451175335),\n",
       " (('sxsw', 'cool'), 0.3028641241124177),\n",
       " (('mention', 'sxsw'), 0.2936287333735166),\n",
       " (('mention', 'mention'), 0.21629871018125613),\n",
       " (('sxsw', 'google'), 0.18537056109398264),\n",
       " (('cool', 'sxsw'), 0.17733324202855982),\n",
       " (('one', 'sxsw'), 0.13540737826085802),\n",
       " (('2', 'link'), 0.1268812216416677),\n",
       " (('link', 'mention'), 0.1246360224342915),\n",
       " (('free', 'sxsw'), 0.1184395529749942),\n",
       " (('amp', 'mention'), 0.10516249113834064),\n",
       " (('austin', 'link'), 0.09831206944489423),\n",
       " (('sxsw', 'ipad'), 0.06407726452530227),\n",
       " (('app', 'sxsw'), 0.03982971827862869),\n",
       " (('sxsw', 'get'), 0.030611188249245913),\n",
       " (('iphone', 'ipad'), -0.07516353661040398),\n",
       " (('mention', 'ipad'), -0.11636347434454919),\n",
       " (('2', 'sxsw'), -0.14192071856047406),\n",
       " (('ipad', \"'s\"), -0.23094833624517008),\n",
       " (('store', 'ipad'), -0.2500860374476872),\n",
       " (('quot', 'sxsw'), -0.32629818051927373),\n",
       " (('quot', 'mention'), -0.33984161064437757),\n",
       " (('sxsw', 'mention'), -0.37652350844288307),\n",
       " (('iphone', 'link'), -0.46964831613188807),\n",
       " (('link', \"'s\"), -0.5099558983467176),\n",
       " (('sxsw', 'android'), -0.5451327824425292),\n",
       " (('sxsw', 'new'), -0.5451327824425292),\n",
       " (('link', 'iphone'), -0.5951791982157459),\n",
       " (('iphone', 'sxsw'), -0.5985199951895552),\n",
       " (('link', 'ipad'), -0.6017321484395239),\n",
       " (('austin', 'mention'), -0.6144187644946335),\n",
       " (('mention', 'link'), -0.6314383946796198),\n",
       " (('new', 'mention'), -0.6655914164841512),\n",
       " (('apple', 'sxsw'), -0.7366642400742158),\n",
       " (('sxsw', \"'s\"), -0.7970896613211167),\n",
       " (('app', 'mention'), -0.8030949402340859),\n",
       " (('sxsw', 'app'), -0.8346393996375134),\n",
       " ((\"'s\", 'sxsw'), -0.8612199987408324),\n",
       " (('2', 'mention'), -0.9039253816896213),\n",
       " ((\"'s\", 'mention'), -0.9127312790649604),\n",
       " (('ipad', 'sxsw'), -0.9190489169103024),\n",
       " (('sxsw', 'iphone'), -0.9464432986098608),\n",
       " (('google', 'sxsw'), -1.3354616022074595),\n",
       " (('link', 'link'), -1.8136255146825349),\n",
       " (('ipad', 'mention'), -2.259321428186592),\n",
       " (('sxsw', 'sxsw'), -2.690183115245812)]"
      ]
     },
     "metadata": {},
     "output_type": "display_data"
    }
   ],
   "source": [
    "# positive pmi\n",
    "display_pmi(concat_positive)"
   ]
  },
  {
   "cell_type": "code",
   "execution_count": 42,
   "metadata": {},
   "outputs": [
    {
     "data": {
      "text/plain": [
       "[(('fascist', 'company'), 8.811423845854492),\n",
       " (('company', 'america'), 8.770781861357147),\n",
       " (('network', 'called'), 8.693272494136231),\n",
       " (('design', 'headaches'), 8.033816267190938),\n",
       " (('launch', 'major'), 7.896312743441005),\n",
       " (('social', 'network'), 7.787439205310752),\n",
       " (('called', 'circles'), 7.51270024849441),\n",
       " (('news', 'apps'), 7.464795310338804),\n",
       " (('major', 'new'), 7.192514013209998),\n",
       " (('new', 'social'), 6.460710124159569),\n",
       " (('ca', \"n't\"), 6.398227693399816),\n",
       " (('today', 'link'), 5.320748940722099),\n",
       " (('apple', 'store'), 4.9956811383041675),\n",
       " (('ipad', '2'), 4.930438527345631),\n",
       " (('iphone', 'battery'), 4.916358685642763),\n",
       " (('ipad', 'design'), 4.727154928956885),\n",
       " (('ipad', 'news'), 4.7016198368497495),\n",
       " (('google', 'launch'), 4.6612620992336105),\n",
       " (('rt', 'mention'), 4.540659968498282),\n",
       " (('google', 'circles'), 4.480689853591787),\n",
       " (('iphone', 'app'), 4.0538622093926975),\n",
       " (('sxsw', 'rt'), 2.3051398812293122),\n",
       " (('quot', 'apple'), 1.9425011004449946),\n",
       " (('link', 'sxsw'), 1.8443324890000898),\n",
       " (('mention', 'google'), 1.8306748709382887),\n",
       " (('sxsw', 'link'), 1.571313994593675),\n",
       " (('mention', 'apple'), 1.2292242474285615),\n",
       " (('mention', 'quot'), 1.0999412304835943),\n",
       " (('mention', 'rt'), 1.027590386258911),\n",
       " (('mention', 'mention'), 0.6534509181620685),\n",
       " (('sxsw', 'iphone'), 0.6408549278467532),\n",
       " (('sxsw', 'apple'), 0.5592411622930982),\n",
       " (('mention', 'sxsw'), 0.4562208301617332),\n",
       " (('quot', 'mention'), 0.42186932537095956),\n",
       " (('sxsw', 'quot'), 0.3774907254539954),\n",
       " (('sxsw', 'ipad'), 0.35211549760996164),\n",
       " (('sxsw', 'google'), 0.28622266788668327),\n",
       " (('iphone', 'sxsw'), 0.22581742856790754),\n",
       " (('sxsw', 'mention'), 0.12364549107486411),\n",
       " (('quot', 'sxsw'), 0.11445631962020286),\n",
       " (('ipad', 'sxsw'), -0.5738839209462583),\n",
       " (('sxsw', 'sxsw'), -1.7162625955029114)]"
      ]
     },
     "metadata": {},
     "output_type": "display_data"
    }
   ],
   "source": [
    "# negative pmi\n",
    "display_pmi(concat_negative)"
   ]
  },
  {
   "cell_type": "code",
   "execution_count": 43,
   "metadata": {},
   "outputs": [
    {
     "data": {
      "text/plain": [
       "[(('ipad', '2'), 5.322673481130185),\n",
       " (('apple', 'store'), 4.95041797114944),\n",
       " (('rt', 'mention'), 4.175354797241615),\n",
       " (('sxsw', 'link'), 2.108480622519423),\n",
       " (('sxsw', 'rt'), 1.8404455356272624),\n",
       " (('link', 'sxsw'), 1.4804493999063801),\n",
       " (('mention', 'mention'), 1.2184235191335038),\n",
       " (('sxsw', 'mention'), 0.3649721824864436)]"
      ]
     },
     "metadata": {},
     "output_type": "display_data"
    }
   ],
   "source": [
    "display_pmi(concat_ambig)"
   ]
  },
  {
   "cell_type": "markdown",
   "metadata": {},
   "source": [
    "Looking at PMI scores, we can see some trends starting to emerge within our dataset.  Looking at positive tweets, we see combinations such as ('choice', 'awards'), ('league', 'extraordinary'); which contrast some of the combinations showing in the negative labeled tweets such as: ('fascist', 'company'), ('design', 'headaches'), etc. "
   ]
  },
  {
   "cell_type": "markdown",
   "metadata": {},
   "source": [
    "# 3. Data Preparation\n",
    "Leverage information learned during data understanding phase to preprocess dataset and prepare data for modeling. "
   ]
  },
  {
   "cell_type": "code",
   "execution_count": 44,
   "metadata": {},
   "outputs": [],
   "source": [
    "# set seed for reproducibility\n",
    "SEED = 1"
   ]
  },
  {
   "cell_type": "code",
   "execution_count": 45,
   "metadata": {},
   "outputs": [
    {
     "name": "stdout",
     "output_type": "stream",
     "text": [
      "<class 'pandas.core.frame.DataFrame'>\n",
      "RangeIndex: 9093 entries, 0 to 9092\n",
      "Data columns (total 3 columns):\n",
      " #   Column                                              Non-Null Count  Dtype \n",
      "---  ------                                              --------------  ----- \n",
      " 0   tweet_text                                          9092 non-null   object\n",
      " 1   emotion_in_tweet_is_directed_at                     3291 non-null   object\n",
      " 2   is_there_an_emotion_directed_at_a_brand_or_product  9093 non-null   object\n",
      "dtypes: object(3)\n",
      "memory usage: 213.2+ KB\n"
     ]
    }
   ],
   "source": [
    "raw_df.info()"
   ]
  },
  {
   "cell_type": "code",
   "execution_count": 46,
   "metadata": {},
   "outputs": [],
   "source": [
    "# pull in copy of dataset\n",
    "clean_df = raw_df.copy()\n",
    "\n",
    "# relabel columns\n",
    "clean_df.columns = ['text', 'product_brand', 'sentiment']\n",
    "\n",
    "# drop product_brand column, handle missing values and duplicates\n",
    "clean_df = clean_df.drop('product_brand', axis=1)\n",
    "clean_df = clean_df.dropna()\n",
    "clean_df = clean_df.drop_duplicates()\n",
    "\n",
    "# remove ambiguous tweets\n",
    "clean_df = clean_df.loc[clean_df['sentiment'] != \"I can't tell\"]"
   ]
  },
  {
   "cell_type": "code",
   "execution_count": 47,
   "metadata": {},
   "outputs": [],
   "source": [
    "# separate dataset into text and class_labels\n",
    "text = clean_df['text']\n",
    "class_labels = clean_df['sentiment']"
   ]
  },
  {
   "cell_type": "code",
   "execution_count": 48,
   "metadata": {},
   "outputs": [],
   "source": [
    "# split tweets and labels into train and test sets for validation purposes\n",
    "X_train, X_test, y_train, y_test = train_test_split(text, class_labels, stratify=class_labels, random_state=SEED)"
   ]
  },
  {
   "cell_type": "code",
   "execution_count": 49,
   "metadata": {},
   "outputs": [],
   "source": [
    "# update stopwords list per our data understanding findings\n",
    "updated_stopwords = stopwords_list + additional_stopwords"
   ]
  },
  {
   "cell_type": "code",
   "execution_count": 50,
   "metadata": {},
   "outputs": [],
   "source": [
    "def preprocess_tweet(tweet, stopwords_list):\n",
    "    \"\"\"\n",
    "    Function to preprocess a tweet. \n",
    "    Takes: tweet, stopwords list\n",
    "    Returns: processed tweet with stopwords removed and converted to lowercase\n",
    "    \"\"\"\n",
    "    processed = re.sub(\"\\'\", '', tweet) # handle apostrophes\n",
    "    processed = re.sub('\\s+', ' ', processed) # handle excess white space\n",
    "    tokens = nltk.word_tokenize(processed)\n",
    "    stopwords_removed = [token.lower() for token in tokens if token.lower() not in stopwords_list]\n",
    "    return ' '.join(stopwords_removed)"
   ]
  },
  {
   "cell_type": "code",
   "execution_count": 51,
   "metadata": {},
   "outputs": [],
   "source": [
    "# preprocess train and test sets\n",
    "X_train_preprocessed = X_train.apply(lambda x: preprocess_tweet(x, updated_stopwords))\n",
    "X_test_preprocessed = X_test.apply(lambda x: preprocess_tweet(x, updated_stopwords))"
   ]
  },
  {
   "cell_type": "markdown",
   "metadata": {},
   "source": [
    "Now that we have split our data into train and test sets, as well as, preprocessed both train and test sets, we are ready to vectorize our data.  We have chosen to use TF-IDF vectorization for its benefits in classification and finding words that are unique per class label. Try a number of vectorizers to see if there is one that performs better over the other (count vectorized vs. TF-IDF vectorized)."
   ]
  },
  {
   "cell_type": "code",
   "execution_count": 62,
   "metadata": {},
   "outputs": [],
   "source": [
    "# create vectorizers with unigram and bigrams\n",
    "count_vectorizer = CountVectorizer(ngram_range=(1,2), analyzer='word', min_df=5)\n",
    "tfidf_vectorizer = TfidfVectorizer(ngram_range=(1,2), analyzer='word', min_df=5)\n",
    "\n",
    "# fit to data\n",
    "X_train_count = count_vectorizer.fit_transform(X_train_preprocessed)\n",
    "X_test_count = count_vectorizer.transform(X_test_preprocessed)\n",
    "X_train_tfidf = tfidf_vectorizer.fit_transform(X_train_preprocessed)\n",
    "X_test_tfidf = tfidf_vectorizer.transform(X_test_preprocessed)"
   ]
  },
  {
   "cell_type": "markdown",
   "metadata": {},
   "source": [
    "Now that we have vectorized our datasets, we are ready to move on to the modeling stage."
   ]
  },
  {
   "cell_type": "markdown",
   "metadata": {},
   "source": [
    "# 4. Modeling"
   ]
  },
  {
   "cell_type": "markdown",
   "metadata": {},
   "source": [
    "This is a classification task, tasked with classifying the sentiment of tweets based on the text within the tweet. Three primary models will be relied on for classification:\n",
    "1. Random Forests\n",
    "2. Linear SVM\n",
    "3. Neural Networks (Word Embeddings / Sequential)\n",
    "\n",
    "Overfitting will be addressed thru hyperparameter tuning, such as pruning trees used in random forests / XGBoost, in addition to other parameter tuning. \n",
    "\n",
    "This is a multi-class classification problem, with three available class labels (Neutral, Positive, or Negative). As a result, the performance metric we will focus on throughout this process will be accuracy. "
   ]
  },
  {
   "cell_type": "markdown",
   "metadata": {},
   "source": [
    "### Random Forest"
   ]
  },
  {
   "cell_type": "code",
   "execution_count": 63,
   "metadata": {},
   "outputs": [
    {
     "data": {
      "text/plain": [
       "RandomForestClassifier(class_weight='balanced', n_jobs=-1, random_state=1)"
      ]
     },
     "execution_count": 63,
     "metadata": {},
     "output_type": "execute_result"
    }
   ],
   "source": [
    "# instantiate random forest classifiers, with balanced class_weight\n",
    "rf_count = RandomForestClassifier(random_state=SEED, n_jobs=-1, class_weight='balanced')\n",
    "rf_tfidf = RandomForestClassifier(random_state=SEED, n_jobs=-1, class_weight='balanced')\n",
    "\n",
    "# fit to training sets\n",
    "rf_count.fit(X_train_count, y_train)\n",
    "rf_tfidf.fit(X_train_tfidf, y_train)"
   ]
  },
  {
   "cell_type": "code",
   "execution_count": 66,
   "metadata": {},
   "outputs": [
    {
     "name": "stdout",
     "output_type": "stream",
     "text": [
      "Count Vectorized Train Score: 0.9546746447270007\n",
      "Count Vectorized Test Score: 0.6523104531179902\n",
      "TF-IDF Vectorized Train Score: 0.9546746447270007\n",
      "TF-IDF Vectorized Test Score: 0.6742934051144011\n"
     ]
    }
   ],
   "source": [
    "# Count Vectorized\n",
    "count_train_score = rf_count.score(X_train_count, y_train)\n",
    "count_test_score = rf_count.score(X_test_count, y_test)\n",
    "print(f'Count Vectorized Train Score: {count_train_score}')\n",
    "print(f'Count Vectorized Test Score: {count_test_score}')\n",
    "\n",
    "# TF-IDF Vectorized\n",
    "tfidf_train_score = rf_tfidf.score(X_train_tfidf, y_train)\n",
    "tfidf_test_score = rf_tfidf.score(X_test_tfidf, y_test)\n",
    "print(f'TF-IDF Vectorized Train Score: {tfidf_train_score}')\n",
    "print(f'TF-IDF Vectorized Test Score: {tfidf_test_score}')"
   ]
  },
  {
   "cell_type": "markdown",
   "metadata": {},
   "source": [
    "Comparing the two methods of vectorization, we can see that the TF-IDF is producing slightly better results with a testing accuracy of ~67% compared to that in the count vectorized dataset of ~65%.  Both methods show testing accuracy that is slightly better than our \"dummy\" model that could produce ~60% accuracy from guessing neutral for all entries. \n",
    "\n",
    "Additionally, looking at the delta between training and testing scores, we can see that our model is likely overfitting to the training data. Move forward with tuning hyperparameters to try to perform improvement and address overfitting."
   ]
  },
  {
   "cell_type": "code",
   "execution_count": 69,
   "metadata": {},
   "outputs": [],
   "source": [
    "# set grid search parameters\n",
    "random_forest_params = {\n",
    "    'criterion': ['entropy', 'gini'],\n",
    "    'max_depth': [5, 10, 15],\n",
    "    'min_samples_split': [4, 5, 6],\n",
    "    'min_samples_leaf': [3, 4, 5],\n",
    "}"
   ]
  },
  {
   "cell_type": "code",
   "execution_count": 70,
   "metadata": {},
   "outputs": [
    {
     "data": {
      "text/plain": [
       "GridSearchCV(estimator=RandomForestClassifier(class_weight='balanced',\n",
       "                                              n_jobs=-1, random_state=1),\n",
       "             param_grid={'criterion': ['entropy', 'gini'],\n",
       "                         'max_depth': [5, 10, 15],\n",
       "                         'min_samples_leaf': [3, 4, 5],\n",
       "                         'min_samples_split': [4, 5, 6]},\n",
       "             return_train_score=True, scoring='accuracy')"
      ]
     },
     "execution_count": 70,
     "metadata": {},
     "output_type": "execute_result"
    }
   ],
   "source": [
    "# instantiate classifier for grid search\n",
    "rf_classifier = RandomForestClassifier(random_state=SEED, n_jobs=-1, class_weight='balanced')\n",
    "rf_grid_search = GridSearchCV(rf_classifier, \n",
    "                              random_forest_params, \n",
    "                              return_train_score=True,\n",
    "                              scoring='accuracy')\n",
    "\n",
    "# fit to count-vectorized data\n",
    "rf_grid_search.fit(X_train_count, y_train)"
   ]
  },
  {
   "cell_type": "code",
   "execution_count": 75,
   "metadata": {},
   "outputs": [
    {
     "name": "stdout",
     "output_type": "stream",
     "text": [
      "Grid Search Train Accuracy (Count Vect.): 0.5784343056594365\n",
      "Grid Search Test Accuracy (Count Vect.): 0.5346796310147095\n"
     ]
    },
    {
     "data": {
      "text/plain": [
       "{'criterion': 'entropy',\n",
       " 'max_depth': 15,\n",
       " 'min_samples_leaf': 3,\n",
       " 'min_samples_split': 4}"
      ]
     },
     "execution_count": 75,
     "metadata": {},
     "output_type": "execute_result"
    }
   ],
   "source": [
    "# print count-vectorized grid-search results\n",
    "mean_train_score_count = np.mean(rf_grid_search.cv_results_['mean_train_score'])\n",
    "mean_test_score_count = np.mean(rf_grid_search.cv_results_['mean_test_score'])\n",
    "print(f'Grid Search Train Accuracy (Count Vect.): {mean_train_score_count}')\n",
    "print(f'Grid Search Test Accuracy (Count Vect.): {mean_test_score_count}')\n",
    "\n",
    "# display best params\n",
    "rf_grid_search.best_params_"
   ]
  },
  {
   "cell_type": "markdown",
   "metadata": {},
   "source": [
    "Looking at our grid search results, we can see overfitting has largely been addressed from tuning hyperparameters, and from pruning our trees.  While overfitting is better, our test accuracy score is not performing as well, with average testing score of 53%, which is now performing less than our \"dummy\" model that guesses \"neutral\" for every entry, which scores around 60%. "
   ]
  },
  {
   "cell_type": "code",
   "execution_count": 76,
   "metadata": {},
   "outputs": [
    {
     "data": {
      "text/plain": [
       "GridSearchCV(estimator=RandomForestClassifier(class_weight='balanced',\n",
       "                                              n_jobs=-1, random_state=1),\n",
       "             param_grid={'criterion': ['entropy', 'gini'],\n",
       "                         'max_depth': [5, 10, 15],\n",
       "                         'min_samples_leaf': [3, 4, 5],\n",
       "                         'min_samples_split': [4, 5, 6]},\n",
       "             return_train_score=True, scoring='accuracy')"
      ]
     },
     "execution_count": 76,
     "metadata": {},
     "output_type": "execute_result"
    }
   ],
   "source": [
    "# fit to TF-IDF Vectorized dataset\n",
    "rf_grid_search.fit(X_train_tfidf, y_train)"
   ]
  },
  {
   "cell_type": "code",
   "execution_count": 79,
   "metadata": {},
   "outputs": [
    {
     "name": "stdout",
     "output_type": "stream",
     "text": [
      "Grid Search Train Accuracy (TF-IDF): 0.5873431396991605\n",
      "Grid Search Test Accuracy (TF-IDF): 0.532469043463808\n"
     ]
    },
    {
     "data": {
      "text/plain": [
       "{'criterion': 'gini',\n",
       " 'max_depth': 15,\n",
       " 'min_samples_leaf': 3,\n",
       " 'min_samples_split': 4}"
      ]
     },
     "execution_count": 79,
     "metadata": {},
     "output_type": "execute_result"
    }
   ],
   "source": [
    "# print tfidf-vectorized grid search results\n",
    "mean_train_score_tfidf = np.mean(rf_grid_search.cv_results_['mean_train_score']) \n",
    "mean_test_score_tfidf = np.mean(rf_grid_search.cv_results_['mean_test_score'])\n",
    "print(f'Grid Search Train Accuracy (TF-IDF): {mean_train_score_tfidf}')\n",
    "print(f'Grid Search Test Accuracy (TF-IDF): {mean_test_score_tfidf}')\n",
    "\n",
    "# display best params\n",
    "rf_grid_search.best_params_"
   ]
  },
  {
   "cell_type": "code",
   "execution_count": 80,
   "metadata": {},
   "outputs": [
    {
     "data": {
      "text/plain": [
       "RandomForestClassifier(class_weight='balanced', max_depth=15,\n",
       "                       min_samples_leaf=3, min_samples_split=4, n_jobs=-1,\n",
       "                       random_state=1)"
      ]
     },
     "execution_count": 80,
     "metadata": {},
     "output_type": "execute_result"
    }
   ],
   "source": [
    "# fit model to best TF-IDF params\n",
    "best_random_forest = RandomForestClassifier(class_weight='balanced',\n",
    "                                            n_jobs=-1,\n",
    "                                            random_state=SEED,\n",
    "                                            criterion='gini',\n",
    "                                            max_depth=15,\n",
    "                                            min_samples_leaf=3,\n",
    "                                            min_samples_split=4)\n",
    "\n",
    "best_random_forest.fit(X_train_tfidf, y_train)"
   ]
  },
  {
   "cell_type": "markdown",
   "metadata": {},
   "source": [
    "Comparing to the count vectorized data, we now see that results are in line.  Similarly, performance is slightly worse than random guessing from our \"dummy\" model.  Move forward with additional modeling techniques to try and find improved results."
   ]
  },
  {
   "cell_type": "markdown",
   "metadata": {},
   "source": [
    "### Linear SVM"
   ]
  },
  {
   "cell_type": "code",
   "execution_count": 88,
   "metadata": {},
   "outputs": [
    {
     "data": {
      "text/plain": [
       "LinearSVC(class_weight='balanced', max_iter=5000, random_state=1)"
      ]
     },
     "execution_count": 88,
     "metadata": {},
     "output_type": "execute_result"
    }
   ],
   "source": [
    "# create linear SVC\n",
    "svc_count = LinearSVC(random_state=SEED, class_weight='balanced', max_iter=5000)\n",
    "svc_tfidf = LinearSVC(random_state=SEED, class_weight='balanced', max_iter=5000)\n",
    "\n",
    "# fit to training sets\n",
    "svc_count.fit(X_train_count, y_train)\n",
    "svc_tfidf.fit(X_train_tfidf, y_train)"
   ]
  },
  {
   "cell_type": "code",
   "execution_count": 89,
   "metadata": {},
   "outputs": [
    {
     "name": "stdout",
     "output_type": "stream",
     "text": [
      "Count Vectorized Train Score: 0.8954375467464473\n",
      "Count Vectorized Test Score: 0.655002243158367\n",
      "TF-IDF Vectorized Train Score: 0.8587883320867614\n",
      "TF-IDF Vectorized Test Score: 0.6558995065051593\n"
     ]
    }
   ],
   "source": [
    "# Count Vectorized\n",
    "count_train_score = svc_count.score(X_train_count, y_train)\n",
    "count_test_score = svc_count.score(X_test_count, y_test)\n",
    "print(f'Count Vectorized Train Score: {count_train_score}')\n",
    "print(f'Count Vectorized Test Score: {count_test_score}')\n",
    "\n",
    "# TF-IDF Vectorized\n",
    "tfidf_train_score = svc_tfidf.score(X_train_tfidf, y_train)\n",
    "tfidf_test_score = svc_tfidf.score(X_test_tfidf, y_test)\n",
    "print(f'TF-IDF Vectorized Train Score: {tfidf_train_score}')\n",
    "print(f'TF-IDF Vectorized Test Score: {tfidf_test_score}')"
   ]
  },
  {
   "cell_type": "markdown",
   "metadata": {},
   "source": [
    "Looking at baseline linearSVC results, we can see that we are not overfitting as badly to training data as we were with random forest model above. Baseline test scores are inline with each other when comparing Count and TF-IDF vectorized datasets. \n",
    "\n",
    "Try to addres overfitting and improve results with grid search"
   ]
  },
  {
   "cell_type": "code",
   "execution_count": 94,
   "metadata": {},
   "outputs": [],
   "source": [
    "# set params for grid search\n",
    "svc_params = {\n",
    "    'C': [0.01, 0.1, 1, 10]\n",
    "}"
   ]
  },
  {
   "cell_type": "code",
   "execution_count": 95,
   "metadata": {},
   "outputs": [
    {
     "name": "stderr",
     "output_type": "stream",
     "text": [
      "/Users/addingtongraham/opt/anaconda3/envs/keras-env/lib/python3.6/site-packages/sklearn/svm/_base.py:986: ConvergenceWarning: Liblinear failed to converge, increase the number of iterations.\n",
      "  \"the number of iterations.\", ConvergenceWarning)\n",
      "/Users/addingtongraham/opt/anaconda3/envs/keras-env/lib/python3.6/site-packages/sklearn/svm/_base.py:986: ConvergenceWarning: Liblinear failed to converge, increase the number of iterations.\n",
      "  \"the number of iterations.\", ConvergenceWarning)\n",
      "/Users/addingtongraham/opt/anaconda3/envs/keras-env/lib/python3.6/site-packages/sklearn/svm/_base.py:986: ConvergenceWarning: Liblinear failed to converge, increase the number of iterations.\n",
      "  \"the number of iterations.\", ConvergenceWarning)\n",
      "/Users/addingtongraham/opt/anaconda3/envs/keras-env/lib/python3.6/site-packages/sklearn/svm/_base.py:986: ConvergenceWarning: Liblinear failed to converge, increase the number of iterations.\n",
      "  \"the number of iterations.\", ConvergenceWarning)\n",
      "/Users/addingtongraham/opt/anaconda3/envs/keras-env/lib/python3.6/site-packages/sklearn/svm/_base.py:986: ConvergenceWarning: Liblinear failed to converge, increase the number of iterations.\n",
      "  \"the number of iterations.\", ConvergenceWarning)\n"
     ]
    },
    {
     "data": {
      "text/plain": [
       "GridSearchCV(estimator=LinearSVC(class_weight='balanced', max_iter=10000,\n",
       "                                 random_state=1),\n",
       "             param_grid={'C': [0.01, 0.1, 1, 10]}, return_train_score=True,\n",
       "             scoring='accuracy')"
      ]
     },
     "execution_count": 95,
     "metadata": {},
     "output_type": "execute_result"
    }
   ],
   "source": [
    "# grid search \n",
    "svc_classifier = LinearSVC(random_state=SEED, class_weight='balanced', max_iter=10000)\n",
    "svc_grid_search = GridSearchCV(svc_classifier,\n",
    "                               svc_params,\n",
    "                               return_train_score=True,\n",
    "                               scoring='accuracy')\n",
    "\n",
    "# fit to count data\n",
    "svc_grid_search.fit(X_train_count, y_train)"
   ]
  },
  {
   "cell_type": "code",
   "execution_count": 96,
   "metadata": {},
   "outputs": [
    {
     "name": "stdout",
     "output_type": "stream",
     "text": [
      "Grid Search Train Accuracy (Count Vect.): 0.874850411368736\n",
      "Grid Search Test Accuracy (Count Vect.): 0.6465968586387435\n"
     ]
    },
    {
     "data": {
      "text/plain": [
       "{'C': 0.01}"
      ]
     },
     "execution_count": 96,
     "metadata": {},
     "output_type": "execute_result"
    }
   ],
   "source": [
    "# print count-vectorized grid-search results\n",
    "mean_train_score_count = np.mean(svc_grid_search.cv_results_['mean_train_score'])\n",
    "mean_test_score_count = np.mean(svc_grid_search.cv_results_['mean_test_score'])\n",
    "print(f'Grid Search Train Accuracy (Count Vect.): {mean_train_score_count}')\n",
    "print(f'Grid Search Test Accuracy (Count Vect.): {mean_test_score_count}')\n",
    "\n",
    "# display best params\n",
    "svc_grid_search.best_params_"
   ]
  },
  {
   "cell_type": "code",
   "execution_count": 97,
   "metadata": {},
   "outputs": [
    {
     "data": {
      "text/plain": [
       "GridSearchCV(estimator=LinearSVC(class_weight='balanced', max_iter=10000,\n",
       "                                 random_state=1),\n",
       "             param_grid={'C': [0.01, 0.1, 1, 10]}, return_train_score=True,\n",
       "             scoring='accuracy')"
      ]
     },
     "execution_count": 97,
     "metadata": {},
     "output_type": "execute_result"
    }
   ],
   "source": [
    "# failing to converge, try with tfidf vectorized data\n",
    "svc_grid_search.fit(X_train_tfidf, y_train)"
   ]
  },
  {
   "cell_type": "code",
   "execution_count": 98,
   "metadata": {},
   "outputs": [
    {
     "name": "stdout",
     "output_type": "stream",
     "text": [
      "Grid Search Train Accuracy (TF-IDF): 0.8177356020942408\n",
      "Grid Search Test Accuracy (TF-IDF): 0.6457367240089753\n"
     ]
    },
    {
     "data": {
      "text/plain": [
       "{'C': 0.1}"
      ]
     },
     "execution_count": 98,
     "metadata": {},
     "output_type": "execute_result"
    }
   ],
   "source": [
    "# print tfidf-vectorized grid search results\n",
    "mean_train_score_tfidf = np.mean(svc_grid_search.cv_results_['mean_train_score']) \n",
    "mean_test_score_tfidf = np.mean(svc_grid_search.cv_results_['mean_test_score'])\n",
    "print(f'Grid Search Train Accuracy (TF-IDF): {mean_train_score_tfidf}')\n",
    "print(f'Grid Search Test Accuracy (TF-IDF): {mean_test_score_tfidf}')\n",
    "\n",
    "# display best params\n",
    "svc_grid_search.best_params_"
   ]
  },
  {
   "cell_type": "markdown",
   "metadata": {},
   "source": [
    "With LinearSVC, our TF-IDF vectorized data appears to be performing slightly better, with slighty less overfitting to training data.  Additionally, test score results are marginally better than the \"dummy\" model that guess neutral every time. Moving forward, we will stick with TF-IDF Vectorization and try to remvoe some more overfitting that is occurring. "
   ]
  },
  {
   "cell_type": "code",
   "execution_count": 103,
   "metadata": {},
   "outputs": [
    {
     "data": {
      "text/plain": [
       "GridSearchCV(estimator=LinearSVC(class_weight='balanced', max_iter=10000,\n",
       "                                 random_state=1),\n",
       "             param_grid={'C': [0.001, 0.01]}, return_train_score=True,\n",
       "             scoring='accuracy')"
      ]
     },
     "execution_count": 103,
     "metadata": {},
     "output_type": "execute_result"
    }
   ],
   "source": [
    "svc_params = {\n",
    "    'C': [0.001, 0.01]\n",
    "}\n",
    "\n",
    "# grid search \n",
    "svc_classifier = LinearSVC(random_state=SEED, class_weight='balanced', max_iter=10000)\n",
    "svc_grid_search = GridSearchCV(svc_classifier,\n",
    "                               svc_params,\n",
    "                               return_train_score=True,\n",
    "                               scoring='accuracy')\n",
    "\n",
    "# fit to tfidf data\n",
    "svc_grid_search.fit(X_train_tfidf, y_train)"
   ]
  },
  {
   "cell_type": "code",
   "execution_count": 104,
   "metadata": {},
   "outputs": [
    {
     "name": "stdout",
     "output_type": "stream",
     "text": [
      "Grid Search Train Accuracy (TF-IDF): 0.6361817501869858\n",
      "Grid Search Test Accuracy (TF-IDF): 0.6201944652206433\n"
     ]
    },
    {
     "data": {
      "text/plain": [
       "{'C': 0.01}"
      ]
     },
     "execution_count": 104,
     "metadata": {},
     "output_type": "execute_result"
    }
   ],
   "source": [
    "# print tfidf-vectorized grid search results\n",
    "mean_train_score_tfidf = np.mean(svc_grid_search.cv_results_['mean_train_score']) \n",
    "mean_test_score_tfidf = np.mean(svc_grid_search.cv_results_['mean_test_score'])\n",
    "print(f'Grid Search Train Accuracy (TF-IDF): {mean_train_score_tfidf}')\n",
    "print(f'Grid Search Test Accuracy (TF-IDF): {mean_test_score_tfidf}')\n",
    "\n",
    "# display best params\n",
    "svc_grid_search.best_params_"
   ]
  },
  {
   "cell_type": "markdown",
   "metadata": {},
   "source": [
    "Running updated grid search on tf-idf vectorized data, we see some improved results. Looking at our training accuracy score of 63.6%, we are inline with our test accuracy score of 62%.  We are no longer likely overfitting to training data.  While results are not particularly strong, we are still outperforming the \"dummy\" model, which would score closer to 60%. "
   ]
  },
  {
   "cell_type": "code",
   "execution_count": 105,
   "metadata": {},
   "outputs": [
    {
     "data": {
      "text/plain": [
       "LinearSVC(C=0.01, class_weight='balanced', max_iter=10000, random_state=1)"
      ]
     },
     "execution_count": 105,
     "metadata": {},
     "output_type": "execute_result"
    }
   ],
   "source": [
    "# run a best version of the SVC model\n",
    "best_svc = LinearSVC(class_weight='balanced',\n",
    "                     max_iter=10000,\n",
    "                     random_state=SEED,\n",
    "                     C=0.01)\n",
    "\n",
    "# fit to data\n",
    "best_svc.fit(X_train_tfidf, y_train)"
   ]
  },
  {
   "cell_type": "code",
   "execution_count": 106,
   "metadata": {},
   "outputs": [
    {
     "name": "stdout",
     "output_type": "stream",
     "text": [
      "Best Identified SVC Train Accuracy: 0.6797307404637247\n",
      "Best Identified SVC Test Accuracy: 0.655002243158367\n"
     ]
    }
   ],
   "source": [
    "# generate scores\n",
    "print(f'Best Identified SVC Train Accuracy: {best_svc.score(X_train_tfidf, y_train)}')\n",
    "print(f'Best Identified SVC Test Accuracy: {best_svc.score(X_test_tfidf, y_test)}')"
   ]
  },
  {
   "cell_type": "markdown",
   "metadata": {},
   "source": [
    "### Neural Networks"
   ]
  },
  {
   "cell_type": "code",
   "execution_count": null,
   "metadata": {},
   "outputs": [],
   "source": []
  },
  {
   "cell_type": "code",
   "execution_count": null,
   "metadata": {},
   "outputs": [],
   "source": []
  },
  {
   "cell_type": "code",
   "execution_count": null,
   "metadata": {},
   "outputs": [],
   "source": []
  },
  {
   "cell_type": "code",
   "execution_count": null,
   "metadata": {},
   "outputs": [],
   "source": []
  },
  {
   "cell_type": "code",
   "execution_count": null,
   "metadata": {},
   "outputs": [],
   "source": []
  }
 ],
 "metadata": {
  "kernelspec": {
   "display_name": "Python 3",
   "language": "python",
   "name": "python3"
  },
  "language_info": {
   "codemirror_mode": {
    "name": "ipython",
    "version": 3
   },
   "file_extension": ".py",
   "mimetype": "text/x-python",
   "name": "python",
   "nbconvert_exporter": "python",
   "pygments_lexer": "ipython3",
   "version": "3.6.13"
  }
 },
 "nbformat": 4,
 "nbformat_minor": 4
}
